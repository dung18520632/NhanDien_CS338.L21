{
  "nbformat": 4,
  "nbformat_minor": 0,
  "metadata": {
    "colab": {
      "name": "Untitled76.ipynb",
      "provenance": [],
      "collapsed_sections": [],
      "mount_file_id": "https://github.com/dung18520632/NhanDien_CS338.L21/blob/main/Untitled76.ipynb",
      "authorship_tag": "ABX9TyNRtK3bOe+l53vVMJ6Fgkc3",
      "include_colab_link": true
    },
    "kernelspec": {
      "name": "python3",
      "display_name": "Python 3"
    },
    "language_info": {
      "name": "python"
    },
    "accelerator": "GPU"
  },
  "cells": [
    {
      "cell_type": "markdown",
      "metadata": {
        "id": "view-in-github",
        "colab_type": "text"
      },
      "source": [
        "<a href=\"https://colab.research.google.com/github/dung18520632/NhanDien_CS338.L21/blob/main/Untitled76.ipynb\" target=\"_parent\"><img src=\"https://colab.research.google.com/assets/colab-badge.svg\" alt=\"Open In Colab\"/></a>"
      ]
    },
    {
      "cell_type": "code",
      "metadata": {
        "colab": {
          "base_uri": "https://localhost:8080/"
        },
        "id": "CY1Adu4a0FH5",
        "outputId": "13922974-2028-4bb3-ca6b-4e21382a3c0a"
      },
      "source": [
        "!pip install opencv-python==4.4.0.46 -i https://pypi.douban.com/simple"
      ],
      "execution_count": 1,
      "outputs": [
        {
          "output_type": "stream",
          "text": [
            "Looking in indexes: https://pypi.douban.com/simple\n",
            "\u001b[33mWARNING: Retrying (Retry(total=4, connect=None, read=None, redirect=None, status=None)) after connection broken by 'ReadTimeoutError(\"HTTPSConnectionPool(host='pypi.doubanio.com', port=443): Read timed out. (read timeout=15)\")': /simple/opencv-python/\u001b[0m\n",
            "\u001b[33mWARNING: Retrying (Retry(total=3, connect=None, read=None, redirect=None, status=None)) after connection broken by 'ReadTimeoutError(\"HTTPSConnectionPool(host='pypi.doubanio.com', port=443): Read timed out. (read timeout=15)\")': /simple/opencv-python/\u001b[0m\n",
            "\u001b[33mWARNING: Retrying (Retry(total=2, connect=None, read=None, redirect=None, status=None)) after connection broken by 'ReadTimeoutError(\"HTTPSConnectionPool(host='pypi.doubanio.com', port=443): Read timed out. (read timeout=15)\")': /simple/opencv-python/\u001b[0m\n",
            "Collecting opencv-python==4.4.0.46\n",
            "\u001b[?25l  Downloading https://pypi.doubanio.com/packages/1b/2d/62eba161d3d713e1720504de1c25d439b02c85159804d9ecead10be5d87e/opencv_python-4.4.0.46-cp37-cp37m-manylinux2014_x86_64.whl (49.5MB)\n",
            "\u001b[K     |████████████████████████████████| 49.5MB 89kB/s \n",
            "\u001b[?25hRequirement already satisfied: numpy>=1.14.5 in /usr/local/lib/python3.7/dist-packages (from opencv-python==4.4.0.46) (1.19.5)\n",
            "\u001b[31mERROR: albumentations 0.1.12 has requirement imgaug<0.2.7,>=0.2.5, but you'll have imgaug 0.2.9 which is incompatible.\u001b[0m\n",
            "Installing collected packages: opencv-python\n",
            "  Found existing installation: opencv-python 4.1.2.30\n",
            "    Uninstalling opencv-python-4.1.2.30:\n",
            "      Successfully uninstalled opencv-python-4.1.2.30\n",
            "Successfully installed opencv-python-4.4.0.46\n"
          ],
          "name": "stdout"
        }
      ]
    },
    {
      "cell_type": "code",
      "metadata": {
        "colab": {
          "base_uri": "https://localhost:8080/"
        },
        "id": "YnSqBOG1u3hp",
        "outputId": "e4524770-1e08-4eee-b1fd-7d083cc958b3"
      },
      "source": [
        "!pip install flask-ngrok"
      ],
      "execution_count": 2,
      "outputs": [
        {
          "output_type": "stream",
          "text": [
            "Collecting flask-ngrok\n",
            "  Downloading https://files.pythonhosted.org/packages/af/6c/f54cb686ad1129e27d125d182f90f52b32f284e6c8df58c1bae54fa1adbc/flask_ngrok-0.0.25-py3-none-any.whl\n",
            "Requirement already satisfied: requests in /usr/local/lib/python3.7/dist-packages (from flask-ngrok) (2.23.0)\n",
            "Requirement already satisfied: Flask>=0.8 in /usr/local/lib/python3.7/dist-packages (from flask-ngrok) (1.1.4)\n",
            "Requirement already satisfied: certifi>=2017.4.17 in /usr/local/lib/python3.7/dist-packages (from requests->flask-ngrok) (2020.12.5)\n",
            "Requirement already satisfied: chardet<4,>=3.0.2 in /usr/local/lib/python3.7/dist-packages (from requests->flask-ngrok) (3.0.4)\n",
            "Requirement already satisfied: urllib3!=1.25.0,!=1.25.1,<1.26,>=1.21.1 in /usr/local/lib/python3.7/dist-packages (from requests->flask-ngrok) (1.24.3)\n",
            "Requirement already satisfied: idna<3,>=2.5 in /usr/local/lib/python3.7/dist-packages (from requests->flask-ngrok) (2.10)\n",
            "Requirement already satisfied: Werkzeug<2.0,>=0.15 in /usr/local/lib/python3.7/dist-packages (from Flask>=0.8->flask-ngrok) (1.0.1)\n",
            "Requirement already satisfied: click<8.0,>=5.1 in /usr/local/lib/python3.7/dist-packages (from Flask>=0.8->flask-ngrok) (7.1.2)\n",
            "Requirement already satisfied: itsdangerous<2.0,>=0.24 in /usr/local/lib/python3.7/dist-packages (from Flask>=0.8->flask-ngrok) (1.1.0)\n",
            "Requirement already satisfied: Jinja2<3.0,>=2.10.1 in /usr/local/lib/python3.7/dist-packages (from Flask>=0.8->flask-ngrok) (2.11.3)\n",
            "Requirement already satisfied: MarkupSafe>=0.23 in /usr/local/lib/python3.7/dist-packages (from Jinja2<3.0,>=2.10.1->Flask>=0.8->flask-ngrok) (2.0.1)\n",
            "Installing collected packages: flask-ngrok\n",
            "Successfully installed flask-ngrok-0.0.25\n"
          ],
          "name": "stdout"
        }
      ]
    },
    {
      "cell_type": "code",
      "metadata": {
        "id": "yN6Zxp2WzeA0"
      },
      "source": [
        "# import dependencies\n",
        "from IPython.display import display, Javascript, Image\n",
        "from google.colab.output import eval_js\n",
        "from google.colab.patches import cv2_imshow\n",
        "from base64 import b64decode, b64encode\n",
        "import cv2\n",
        "import numpy as np\n",
        "import PIL\n",
        "import io\n",
        "import html\n",
        "import time\n",
        "import matplotlib.pyplot as plt\n",
        "%matplotlib inline"
      ],
      "execution_count": 3,
      "outputs": []
    },
    {
      "cell_type": "code",
      "metadata": {
        "id": "W6OM0PRU0KLp"
      },
      "source": [
        "def load_network_1(config_file, data_file, weights, batch_size=1):\n",
        "    \"\"\"\n",
        "    load model description and weights from config files\n",
        "    args:\n",
        "        config_file (str): path to .cfg model file\n",
        "        data_file (str): path to .data model file\n",
        "        weights (str): path to weights\n",
        "    returns:\n",
        "        network: trained model\n",
        "        class_names\n",
        "        class_colors\n",
        "    \"\"\"\n",
        "    network = load_net_custom(\n",
        "        config_file.encode(\"ascii\"),\n",
        "        weights.encode(\"ascii\"), 0, batch_size)\n",
        "    metadata = load_meta(data_file.encode(\"ascii\"))\n",
        "    class_names = [metadata.names[i].decode(\"ascii\") for i in range(1)]\n",
        "    colors = class_colors(class_names)\n",
        "    return network, class_names, colors"
      ],
      "execution_count": 2,
      "outputs": []
    },
    {
      "cell_type": "code",
      "metadata": {
        "colab": {
          "base_uri": "https://localhost:8080/"
        },
        "id": "5fYbvy930MdD",
        "outputId": "9da8c4ea-6a85-45b9-c553-7b96c8b34e5b"
      },
      "source": [
        "%cd /content/drive/MyDrive/darknet"
      ],
      "execution_count": 4,
      "outputs": [
        {
          "output_type": "stream",
          "text": [
            "/content/drive/MyDrive/darknet\n"
          ],
          "name": "stdout"
        }
      ]
    },
    {
      "cell_type": "code",
      "metadata": {
        "colab": {
          "base_uri": "https://localhost:8080/"
        },
        "id": "3R1J6r8-hr3u",
        "outputId": "bd72e576-0645-40b3-d0c8-61f266997841"
      },
      "source": [
        "!pwd"
      ],
      "execution_count": 6,
      "outputs": [
        {
          "output_type": "stream",
          "text": [
            "/content/drive/MyDrive/darknet\n"
          ],
          "name": "stdout"
        }
      ]
    },
    {
      "cell_type": "code",
      "metadata": {
        "id": "MyNVKRKp0OZw"
      },
      "source": [
        "from darknet import *\n",
        "#608X608\n",
        "# load in our YOLOv4 architecture network\n",
        "network, class_names, class_colors = load_network_1(\"cfg/yolov4.cfg\", \"cfg/coco.data\", \"yolov4.weights\")\n",
        "width = network_width(network)\n",
        "height = network_height(network)"
      ],
      "execution_count": null,
      "outputs": []
    },
    {
      "cell_type": "code",
      "metadata": {
        "id": "v26B_kXw0Pxo"
      },
      "source": [
        "def darknet_helper(img, width, height):\n",
        "  darknet_image = make_image(width, height, 3)\n",
        "  img_rgb = cv2.cvtColor(img, cv2.COLOR_BGR2RGB)\n",
        "  img_resized = cv2.resize(img_rgb, (width, height),\n",
        "                              interpolation=cv2.INTER_LINEAR)\n",
        "\n",
        "  # get image ratios to convert bounding boxes to proper size\n",
        "  img_height, img_width, _ = img.shape\n",
        "  width_ratio = img_width/width\n",
        "  height_ratio = img_height/height\n",
        "\n",
        "  # run model on darknet style image to get detections\n",
        "  copy_image_from_bytes(darknet_image, img_resized.tobytes())\n",
        "  detections = detect_image(network, class_names, darknet_image)\n",
        "  free_image(darknet_image)\n",
        "  return detections, width_ratio, height_ratio"
      ],
      "execution_count": 1,
      "outputs": []
    },
    {
      "cell_type": "code",
      "metadata": {
        "id": "KyFyrZ9V0Vb4"
      },
      "source": [
        "def Detection(detections,image):\n",
        "  for label, confidence, bbox in detections:\n",
        "    left, top, right, bottom = bbox2points(bbox)\n",
        "    left, top, right, bottom = int(left * width_ratio), int(top * height_ratio), int(right * width_ratio), int(bottom * height_ratio)\n",
        "    cv2.rectangle(image, (left, top), (right, bottom), class_colors[label], 2)\n",
        "    cv2.putText(image, \"{} [{:.2f}]\".format(label, float(confidence)),\n",
        "                      (left, top - 5), cv2.FONT_HERSHEY_SIMPLEX, 0.5,\n",
        "                      class_colors[label], 2)\n",
        "  cv2_imshow(image)"
      ],
      "execution_count": null,
      "outputs": []
    },
    {
      "cell_type": "code",
      "metadata": {
        "id": "xyoLSaYm0fzb"
      },
      "source": [
        "image = cv2.imread(\"/content/MOT20_02_raw_frame_100.jpg\")\n",
        "detections, width_ratio, height_ratio = darknet_helper(image, width, height)\n",
        "boxes = [bbox for _,_,bbox in detections]\n",
        "Detection(detections,image)"
      ],
      "execution_count": null,
      "outputs": []
    },
    {
      "cell_type": "code",
      "metadata": {
        "id": "uPJ0aeRu0iv9"
      },
      "source": [
        "original_image_BGR = cv2.imread('/content/MOT20_02_raw_frame_100.jpg')\n",
        "original_image_RGB = cv2.cvtColor(original_image_BGR, cv2.COLOR_BGR2RGB)\n",
        "image_width = original_image_RGB.shape[1]\n",
        "image_height = original_image_RGB.shape[0]\n",
        "\n",
        "original_image_BGR_copy = original_image_BGR.copy()\n",
        "original_image_RGB_copy = original_image_RGB.copy()\n",
        "\n",
        "print('image Shape', original_image_RGB.shape)"
      ],
      "execution_count": null,
      "outputs": []
    },
    {
      "cell_type": "code",
      "metadata": {
        "id": "CNy2PCSx0lKa"
      },
      "source": [
        "src = np.float32([[142., 298.],\n",
        "                           [784., 315.],\n",
        "                           [811., 371.],\n",
        "                           [ 82., 347.]])\n",
        "for point in src:\n",
        "    cv2.circle(original_image_RGB_copy, tuple(point), 8, (255, 0, 0), -1)\n",
        "\n",
        "points = src.reshape((-1,1,2)).astype(np.int32)\n",
        "cv2.polylines(original_image_RGB_copy, [points], True, (0,255,0), thickness=4)\n",
        "plt.figure(figsize=(12, 12))\n",
        "plt.imshow(original_image_RGB_copy)\n",
        "plt.show()\n",
        "dst=np.float32([(0.2,0.82), (0.80, 0.82), (0.80,0.87), (0.2,0.87)])\n",
        "\n",
        "dst_size=(800,1080)\n",
        "dst = dst * np.float32(dst_size)\n",
        "\n",
        "H_matrix = cv2.getPerspectiveTransform(src, dst)\n",
        "print(\"The perspective transform matrix:\")\n",
        "print(H_matrix)"
      ],
      "execution_count": null,
      "outputs": []
    },
    {
      "cell_type": "code",
      "metadata": {
        "id": "O9N0qSVM0npP"
      },
      "source": [
        "pts= np.float32([[[252., 314.],\n",
        "                 [323., 316.],\n",
        "                 [238., 347.]]])\n",
        "# dst = np.array([[252,314],[323,316],[238,347]],np.float32)\n",
        "warped_pt=cv2.perspectiveTransform(pts,H_matrix)[0]"
      ],
      "execution_count": null,
      "outputs": []
    },
    {
      "cell_type": "code",
      "metadata": {
        "id": "L_9rqZNB0pqg"
      },
      "source": [
        "points = pts.reshape((-1,1,2)).astype(np.int32)\n",
        "cv2.polylines(original_image_RGB_copy, [points], True, (0,255,0), thickness=4)\n",
        "\n",
        "plt.figure(figsize=(12, 12))\n",
        "plt.imshow(original_image_RGB_copy)\n",
        "plt.show()"
      ],
      "execution_count": null,
      "outputs": []
    },
    {
      "cell_type": "code",
      "metadata": {
        "id": "xCmGiTIp0tHf"
      },
      "source": [
        "distance_w = np.sqrt((warped_pt[0][0] - warped_pt[1][0]) ** 2 + (warped_pt[0][1] - warped_pt[1][1]) ** 2)\n",
        "distance_h = np.sqrt((warped_pt[0][0] - warped_pt[2][0]) ** 2 + (warped_pt[0][1] - warped_pt[2][1]) ** 2)"
      ],
      "execution_count": null,
      "outputs": []
    },
    {
      "cell_type": "code",
      "metadata": {
        "id": "zFW9w5hd0wTR"
      },
      "source": [
        "warped = cv2.warpPerspective(original_image_RGB_copy, H_matrix, dst_size)\n",
        "plt.figure(figsize=(12, 12))\n",
        "plt.imshow(warped)\n",
        "plt.show()"
      ],
      "execution_count": null,
      "outputs": []
    },
    {
      "cell_type": "code",
      "metadata": {
        "id": "9P9kwPYN6p3e"
      },
      "source": [
        "def Point_transform(H_matrix,boxes):\n",
        "      list_downoids = [[bbox[0],bbox[1]+bbox[3]//2] for bbox in boxes]\n",
        "      list_points_to_detect=np.float32(list_downoids).reshape(-1,1,2)\n",
        "      transformed_point=cv2.perspectiveTransform(list_points_to_detect,H_matrix)\n",
        "      transformed_point_list= list()\n",
        "      for i in range (0,transformed_point.shape[0]):\n",
        "        transformed_point_list.append([transformed_point[i][0][0],transformed_point[i][0][1]])\n",
        "      return np.array(transformed_point_list).astype('int')\n",
        "birds_eye_points=Point_transform(H_matrix,boxes)"
      ],
      "execution_count": null,
      "outputs": []
    },
    {
      "cell_type": "code",
      "metadata": {
        "id": "HVEx71p700Ub"
      },
      "source": [
        "def eucledian_distance_1(point1, point2,distance_w, distance_h):\n",
        "    x1,y1 = point1\n",
        "    x2,y2 = point2\n",
        "    h=abs(y2-y1)\n",
        "    w=abs(x2-x1)\n",
        "    dis_w = float((w/distance_w)*180)\n",
        "    dis_h = float((h/distance_h)*180)\n",
        "    \n",
        "    return int(np.sqrt(((dis_h)**2) + ((dis_w)**2)))"
      ],
      "execution_count": null,
      "outputs": []
    },
    {
      "cell_type": "code",
      "metadata": {
        "id": "1_GZf2-Q02Pw"
      },
      "source": [
        "def get_red_green_boxes_1(distance_allowed,Point_transform,boxes,distance_w,distance_h):\n",
        "    red_boxes = []\n",
        "    green_boxes = []\n",
        "    new_boxes = [tuple(box) + tuple(result) for box, result in zip(boxes, birds_eye_points)]\n",
        "    for i in range(0, len(new_boxes)-1):\n",
        "            for j in range(i+1, len(new_boxes)):\n",
        "                cxi,cyi = new_boxes[i][4:]\n",
        "                cxj,cyj = new_boxes[j][4:]\n",
        "                distance = eucledian_distance_1([cxi,cyi], [cxj,cyj],distance_w, distance_h)\n",
        "                if distance < distance_allowed:\n",
        "                    red_boxes.append(new_boxes[i])\n",
        "                    red_boxes.append(new_boxes[j])\n",
        "    print(len(red_boxes))\n",
        "    green_boxes = list(set(new_boxes) - set(red_boxes))\n",
        "    red_boxes = list(set(red_boxes))\n",
        "\n",
        "    return (green_boxes, red_boxes)"
      ],
      "execution_count": null,
      "outputs": []
    },
    {
      "cell_type": "code",
      "metadata": {
        "id": "x-8d8eVN04n8"
      },
      "source": [
        "min_distance = 120\n",
        "green_box,red_box=get_red_green_boxes_1(min_distance,Point_transform,boxes,distance_w,distance_h)"
      ],
      "execution_count": null,
      "outputs": []
    },
    {
      "cell_type": "code",
      "metadata": {
        "id": "VaDR9Obg09XO"
      },
      "source": [
        "def convertBack(x, y, w, h): \n",
        "    #================================================================\n",
        "    # 2.Purpose : Converts center coordinates to rectangle coordinates\n",
        "    #================================================================  \n",
        "    \"\"\"\n",
        "    :param:\n",
        "    x, y = midpoint of bbox\n",
        "    w, h = width, height of the bbox\n",
        "    \n",
        "    :return:\n",
        "    xmin, ymin, xmax, ymax\n",
        "    \"\"\"\n",
        "    xmin = int(round(x - (w / 2)))\n",
        "    xmax = int(round(x + (w / 2)))\n",
        "    ymin = int(round(y - (h / 2)))\n",
        "    ymax = int(round(y + (h / 2)))\n",
        "    return xmin, ymin, xmax, ymax"
      ],
      "execution_count": null,
      "outputs": []
    },
    {
      "cell_type": "code",
      "metadata": {
        "id": "e7etM2MY1ACA"
      },
      "source": [
        "def get_red_green_box_image(new_box_image,green_box,red_box,width_ratio,height_ratio):\n",
        "    for point in green_box:\n",
        "        xmin, ymin, xmax, ymax = convertBack(point[0], point[1], point[2],point[3])\n",
        "        xmin, ymin, xmax, ymax = int(xmin * width_ratio), int(ymin * height_ratio), int(xmax * width_ratio), int(ymax * height_ratio)\n",
        "        cv2.rectangle(new_box_image,(xmin,ymin),(xmax,ymax),(0, 255, 0), 2)\n",
        "    for point in red_box:\n",
        "        xmin, ymin, xmax, ymax = convertBack(point[0], point[1], point[2],point[3])\n",
        "        xmin, ymin, xmax, ymax = int(xmin * width_ratio), int(ymin * height_ratio), int(xmax * width_ratio), int(ymax * height_ratio)\n",
        "        cv2.rectangle(new_box_image,(xmin,ymin),(xmax,ymax),(0, 0, 255), 2)\n",
        "    return new_box_image"
      ],
      "execution_count": null,
      "outputs": []
    },
    {
      "cell_type": "code",
      "metadata": {
        "id": "0MkAMEYZ1Bhl"
      },
      "source": [
        "box_red_green_image = get_red_green_box_image(original_image_BGR.copy(),green_box,red_box,width_ratio,height_ratio)\n",
        "plt.figure(figsize=(20, 20))\n",
        "plt.imshow(cv2.cvtColor(box_red_green_image, cv2.COLOR_RGB2BGR))\n",
        "plt.show()"
      ],
      "execution_count": null,
      "outputs": []
    },
    {
      "cell_type": "code",
      "metadata": {
        "id": "ottJAkEo1E3C"
      },
      "source": [
        "def get_birds_eye_view_image(green_box, red_box,eye_view_height,eye_view_width):\n",
        "    blank_image = cv2.imread('/content/black_background.png')\n",
        "    \n",
        "    cv2.putText(blank_image, str(len(red_box)), (120,100), cv2.FONT_HERSHEY_SIMPLEX , 2, (0,0,255), 4, cv2.LINE_AA) \n",
        "    cv2.putText(blank_image, str(len(green_box)), (520,100), cv2.FONT_HERSHEY_SIMPLEX , 2, (0,255,0), 4, cv2.LINE_AA)\n",
        "    \n",
        "    for point in green_box:\n",
        "        cv2.circle(blank_image,tuple([point[4],point[5]]),20,(0,255,0),-1)\n",
        "    for point in red_box:\n",
        "        cv2.circle(blank_image,tuple([point[4],point[5]]),20,(0,0,255),-1)\n",
        "    blank_image = cv2.resize(blank_image,(eye_view_width,eye_view_height))\n",
        "    return blank_image"
      ],
      "execution_count": null,
      "outputs": []
    },
    {
      "cell_type": "code",
      "metadata": {
        "id": "h_krZzdn1JKY"
      },
      "source": [
        "birds_eye_view_image = get_birds_eye_view_image(green_box, red_box,eye_view_height=image_height,eye_view_width=image_width//2)"
      ],
      "execution_count": null,
      "outputs": []
    },
    {
      "cell_type": "code",
      "metadata": {
        "id": "0lGKztsE1QAk"
      },
      "source": [
        "combined_image = np.concatenate((birds_eye_view_image,box_red_green_image), axis=1)\n",
        "plt.figure(figsize=(25, 20))\n",
        "plt.imshow(cv2.cvtColor(combined_image, cv2.COLOR_RGB2BGR))\n",
        "plt.show()"
      ],
      "execution_count": null,
      "outputs": []
    },
    {
      "cell_type": "code",
      "metadata": {
        "id": "rfqHV_4gu84R"
      },
      "source": [
        "from flask_ngrok import run_with_ngrok\n",
        "from flask import Flask, render_template, Response\n",
        "import cv2\n",
        "import sys\n",
        "from imutils.video import FPS\n",
        "from imutils.video import FileVideoStream\n",
        "\n",
        "app=Flask(__name__,template_folder=\"/content/templates\")\n",
        "run_with_ngrok(app)\n",
        "\n",
        "@app.route('/')\n",
        "def index():\n",
        "    \"\"\"Video streaming home page.\"\"\"\n",
        "    return render_template('index.html')\n",
        "H_matrix_flask=H_matrix\n",
        "distance_h_flask=distance_h\n",
        "distance_w_flask=distance_w\n",
        "width_flask=width\n",
        "height_flask=height\n",
        "image_height_flask=image_height\n",
        "image_width_flask=image_width\n",
        "video = FileVideoStream('/content/People2_Trim.mp4').start()\n",
        "def gen(H_matrix_flask,distance_w_flask,distance_h_flask,width_flask,height_flask,image_height_flask,image_width_flask):\n",
        "    frame_number = 0\n",
        "    print('%-20s%-26s%-26s%-26s' % ('Processing Frame','|Total Detected Person','|Red Markerd Person','|Green Marked Person'))\n",
        "    \"\"\"Video streaming generator function.\"\"\"\n",
        "    # Read until video is completed\n",
        "    min_distance=120\n",
        "    while video.more():\n",
        "        frame = video.read()\n",
        "        detections, width_ratio, height_ratio = darknet_helper(frame, width_flask, height_flask)\n",
        "        boxes = [bbox for _,_,bbox in detections]\n",
        "        birds_eye_points = Point_transform(H_matrix_flask, boxes)\n",
        "        green_box, red_box = get_red_green_boxes_1(min_distance, birds_eye_points,boxes,distance_w_flask,distance_h_flask)\n",
        "        birds_eye_view_image = get_birds_eye_view_image(green_box, red_box, eye_view_height=image_height_flask,eye_view_width=image_width_flask//2)\n",
        "        box_red_green_image = get_red_green_box_image(frame.copy(), green_box,red_box,width_ratio,height_ratio)\n",
        "\n",
        "        combined_image = np.concatenate((birds_eye_view_image,box_red_green_image), axis=1)\n",
        "          \n",
        "        frame = cv2.imencode('.jpg', combined_image)[1].tobytes()\n",
        "        yield (b'--frame\\r\\n'b'Content-Type: image/jpeg\\r\\n\\r\\n' + frame + b'\\r\\n')\n",
        "        del detections,combined_image,birds_eye_view_image,box_red_green_image\n",
        "        #time.sleep(0.1)\n",
        "        # del detections,combined_image,birds_eye_view_image\n",
        "        key = cv2.waitKey(15)\n",
        "        if key == 27:\n",
        "           break   \n",
        "@app.route('/video_feed')\n",
        "def video_feed():\n",
        "    \"\"\"Video streaming route. Put this in the src attribute of an img tag.\"\"\"\n",
        "    return Response(gen(H_matrix_flask,distance_w_flask,distance_h_flask,width_flask,height_flask,image_height_flask,image_width_flask),\n",
        "                    mimetype='multipart/x-mixed-replace; boundary=frame')\n",
        "\n",
        "app.run()"
      ],
      "execution_count": null,
      "outputs": []
    },
    {
      "cell_type": "code",
      "metadata": {
        "id": "ieLGEUdqYDkM"
      },
      "source": [
        "import sys\n",
        "video = cv2.VideoCapture('/content/People2_Trim.mp4')\n",
        "writer = None\n",
        "frame_number = 0\n",
        "print('%-20s%-26s%-26s%-26s' % ('Processing Frame','|Total Detected Person','|Red Markerd Person','|Green Marked Person'))\n",
        "while True:\n",
        "  \n",
        "  ret,frame = video.read()\n",
        "\n",
        "  if not ret:\n",
        "    break\n",
        "  detections, width_ratio, height_ratio = darknet_helper(frame, width, height)\n",
        "  boxes = [bbox for _,_,bbox in detections]\n",
        "  birds_eye_points = Point_transform(H_matrix, boxes)\n",
        "  green_box, red_box = get_red_green_boxes_1(min_distance, birds_eye_points,boxes,distance_w,distance_h)\n",
        "  birds_eye_view_image = get_birds_eye_view_image(green_box, red_box, eye_view_height=image_height,eye_view_width=image_width//2)\n",
        "  box_red_green_image = get_red_green_box_image(frame.copy(), green_box,red_box,width_ratio,height_ratio)\n",
        "\n",
        "  combined_image = np.concatenate((birds_eye_view_image,box_red_green_image), axis=1)\n",
        "\n",
        "  frame_number += 1\n",
        "  # sys.stdout.write('%-20i|%-25i|%-25i|%-25i\\n' % (frame_number,len(boxes),len(red_box),len(green_box)))\n",
        "\n",
        "  # if frame_number >=20:\n",
        "  #   break\n",
        "\n",
        "  if writer is None:\n",
        "    fourcc = cv2.VideoWriter_fourcc(*\"DIVX\")\n",
        "    writer = cv2.VideoWriter('/content/test.avi', fourcc, 15, (combined_image.shape[1], combined_image.shape[0]), True)\n",
        "\n",
        "  writer.write(combined_image)\n",
        "\n",
        "  del detections,combined_image,birds_eye_view_image\n",
        "\n",
        "print(' ')\n",
        "writer.release()\n",
        "video.release()"
      ],
      "execution_count": null,
      "outputs": []
    },
    {
      "cell_type": "code",
      "metadata": {
        "id": "YNNh1NktX11I"
      },
      "source": [
        ""
      ],
      "execution_count": null,
      "outputs": []
    }
  ]
}