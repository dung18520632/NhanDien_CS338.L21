{
  "nbformat": 4,
  "nbformat_minor": 0,
  "metadata": {
    "colab": {
      "name": "Untitled82.ipynb",
      "provenance": [],
      "mount_file_id": "1-c1eLy3ZXd9vz4Vt8rjuP89emDGLYX_N",
      "authorship_tag": "ABX9TyMqBKVyDmfC8/BnDJ6cObPT",
      "include_colab_link": true
    },
    "kernelspec": {
      "name": "python3",
      "display_name": "Python 3"
    },
    "language_info": {
      "name": "python"
    }
  },
  "cells": [
    {
      "cell_type": "markdown",
      "metadata": {
        "id": "view-in-github",
        "colab_type": "text"
      },
      "source": [
        "<a href=\"https://colab.research.google.com/github/dung18520632/NhanDien_CS338.L21/blob/main/Untitled82.ipynb\" target=\"_parent\"><img src=\"https://colab.research.google.com/assets/colab-badge.svg\" alt=\"Open In Colab\"/></a>"
      ]
    },
    {
      "cell_type": "code",
      "metadata": {
        "id": "3zUv6YeP9M82"
      },
      "source": [
        "!unzip /content/drive/MyDrive/Data.zip"
      ],
      "execution_count": null,
      "outputs": []
    },
    {
      "cell_type": "code",
      "metadata": {
        "id": "NBuHWNiW9aDp"
      },
      "source": [
        "import scipy.io.wavfile\n",
        "import numpy as np\n",
        "import sys\n",
        "import glob \n",
        "import librosa\n",
        "import os\n",
        "import pandas as pd\n",
        "import matplotlib.pyplot as plt\n"
      ],
      "execution_count": 7,
      "outputs": []
    },
    {
      "cell_type": "code",
      "metadata": {
        "id": "UP_1QUV_-AKS"
      },
      "source": [
        "mylist= os.listdir('/content/Data')\n",
        "Anger=[]\n",
        "Happy=[]\n",
        "Neutral=[]\n",
        "Sad=[]\n",
        "for i in mylist:\n",
        "    if i in \"Angry\":\n",
        "        Anger.append(os.listdir('Data/'+i+\"/\"))\n",
        "    elif i in \"Happy\":\n",
        "        Happy.append(os.listdir('Data/'+i+\"/\"))\n",
        "    elif i in \"Neutral\":\n",
        "        Neutral.append(os.listdir('Data/'+i+\"/\"))\n",
        "    else:\n",
        "        Sad.append(os.listdir('Data/'+i+\"/\"))\n",
        "file_emotion = [a + h+n+s for a,h,n,s  in zip(Anger, Happy,Neutral,Sad)]\n",
        "feeling_list=[]\n",
        "#print(file_emotion)\n",
        "for item in file_emotion[0]:\n",
        "    if item[0:1]=='0' :\n",
        "        feeling_list.append('Angry')\n",
        "    elif item[0:1]=='1':\n",
        "        feeling_list.append('Happy')\n",
        "    elif item[0:1]=='3':\n",
        "        feeling_list.append('Neutral')\n",
        "    else:\n",
        "        feeling_list.append('Sad')\n",
        "\n",
        "labels = pd.DataFrame(feeling_list)"
      ],
      "execution_count": 8,
      "outputs": []
    },
    {
      "cell_type": "code",
      "metadata": {
        "colab": {
          "base_uri": "https://localhost:8080/"
        },
        "id": "K7Fq2aTm-Ddg",
        "outputId": "5f2d4ed6-27f3-4837-e690-e3dc53cdac7c"
      },
      "source": [
        "df = pd.DataFrame(columns=['feature'])\n",
        "bookmark=0\n",
        "for index,y in enumerate(file_emotion[0]):\n",
        "    m=\"\"\n",
        "    if y[0:1]=='0' :\n",
        "        m='Angry/'\n",
        "    elif y[0:1]=='1':\n",
        "        m='Happy/'\n",
        "    elif y[0:1]=='3':\n",
        "        m='Neutral/'\n",
        "    else:\n",
        "        m='Sad/'\n",
        "    print('Data/'+m+y)\n",
        "    X, sample_rate = librosa.load('Data/'+m+y, res_type='kaiser_fast',duration=4,sr=22050*2,offset=0.5)\n",
        "    sample_rate = np.array(sample_rate)\n",
        "    mfccs = np.mean(librosa.feature.mfcc(y=X, \n",
        "                                            sr=sample_rate, \n",
        "                                            n_mfcc=13),\n",
        "                        axis=0)\n",
        "    feature = mfccs\n",
        "    #[float(i) for i in feature]\n",
        "    #feature1=feature[:135]\n",
        "    df.loc[bookmark] = [feature]\n",
        "    bookmark=bookmark+1"
      ],
      "execution_count": 70,
      "outputs": [
        {
          "output_type": "stream",
          "text": [
            "Data/Angry/0_70.wav\n"
          ],
          "name": "stdout"
        },
        {
          "output_type": "stream",
          "text": [
            "/usr/local/lib/python3.7/dist-packages/librosa/core/audio.py:165: UserWarning: PySoundFile failed. Trying audioread instead.\n",
            "  warnings.warn(\"PySoundFile failed. Trying audioread instead.\")\n"
          ],
          "name": "stderr"
        },
        {
          "output_type": "stream",
          "text": [
            "Data/Angry/0_59.wav\n"
          ],
          "name": "stdout"
        },
        {
          "output_type": "stream",
          "text": [
            "/usr/local/lib/python3.7/dist-packages/librosa/core/audio.py:165: UserWarning: PySoundFile failed. Trying audioread instead.\n",
            "  warnings.warn(\"PySoundFile failed. Trying audioread instead.\")\n"
          ],
          "name": "stderr"
        },
        {
          "output_type": "stream",
          "text": [
            "Data/Angry/0_75.wav\n"
          ],
          "name": "stdout"
        },
        {
          "output_type": "stream",
          "text": [
            "/usr/local/lib/python3.7/dist-packages/librosa/core/audio.py:165: UserWarning: PySoundFile failed. Trying audioread instead.\n",
            "  warnings.warn(\"PySoundFile failed. Trying audioread instead.\")\n"
          ],
          "name": "stderr"
        },
        {
          "output_type": "stream",
          "text": [
            "Data/Angry/0_71.wav\n"
          ],
          "name": "stdout"
        },
        {
          "output_type": "stream",
          "text": [
            "/usr/local/lib/python3.7/dist-packages/librosa/core/audio.py:165: UserWarning: PySoundFile failed. Trying audioread instead.\n",
            "  warnings.warn(\"PySoundFile failed. Trying audioread instead.\")\n"
          ],
          "name": "stderr"
        },
        {
          "output_type": "stream",
          "text": [
            "Data/Angry/0_98.wav\n"
          ],
          "name": "stdout"
        },
        {
          "output_type": "stream",
          "text": [
            "/usr/local/lib/python3.7/dist-packages/librosa/core/audio.py:165: UserWarning: PySoundFile failed. Trying audioread instead.\n",
            "  warnings.warn(\"PySoundFile failed. Trying audioread instead.\")\n"
          ],
          "name": "stderr"
        },
        {
          "output_type": "stream",
          "text": [
            "Data/Angry/0_35.wav\n"
          ],
          "name": "stdout"
        },
        {
          "output_type": "stream",
          "text": [
            "/usr/local/lib/python3.7/dist-packages/librosa/core/audio.py:165: UserWarning: PySoundFile failed. Trying audioread instead.\n",
            "  warnings.warn(\"PySoundFile failed. Trying audioread instead.\")\n"
          ],
          "name": "stderr"
        },
        {
          "output_type": "stream",
          "text": [
            "Data/Angry/0_45.wav\n"
          ],
          "name": "stdout"
        },
        {
          "output_type": "stream",
          "text": [
            "/usr/local/lib/python3.7/dist-packages/librosa/core/audio.py:165: UserWarning: PySoundFile failed. Trying audioread instead.\n",
            "  warnings.warn(\"PySoundFile failed. Trying audioread instead.\")\n"
          ],
          "name": "stderr"
        },
        {
          "output_type": "stream",
          "text": [
            "Data/Angry/0_56.wav\n"
          ],
          "name": "stdout"
        },
        {
          "output_type": "stream",
          "text": [
            "/usr/local/lib/python3.7/dist-packages/librosa/core/audio.py:165: UserWarning: PySoundFile failed. Trying audioread instead.\n",
            "  warnings.warn(\"PySoundFile failed. Trying audioread instead.\")\n"
          ],
          "name": "stderr"
        },
        {
          "output_type": "stream",
          "text": [
            "Data/Angry/0_52.wav\n"
          ],
          "name": "stdout"
        },
        {
          "output_type": "stream",
          "text": [
            "/usr/local/lib/python3.7/dist-packages/librosa/core/audio.py:165: UserWarning: PySoundFile failed. Trying audioread instead.\n",
            "  warnings.warn(\"PySoundFile failed. Trying audioread instead.\")\n"
          ],
          "name": "stderr"
        },
        {
          "output_type": "stream",
          "text": [
            "Data/Angry/0_95.wav\n"
          ],
          "name": "stdout"
        },
        {
          "output_type": "stream",
          "text": [
            "/usr/local/lib/python3.7/dist-packages/librosa/core/audio.py:165: UserWarning: PySoundFile failed. Trying audioread instead.\n",
            "  warnings.warn(\"PySoundFile failed. Trying audioread instead.\")\n"
          ],
          "name": "stderr"
        },
        {
          "output_type": "stream",
          "text": [
            "Data/Angry/0_13.wav\n",
            "Data/Angry/0_18.wav\n",
            "Data/Angry/0_21.wav\n",
            "Data/Angry/0_34.wav\n"
          ],
          "name": "stdout"
        },
        {
          "output_type": "stream",
          "text": [
            "/usr/local/lib/python3.7/dist-packages/librosa/core/audio.py:165: UserWarning: PySoundFile failed. Trying audioread instead.\n",
            "  warnings.warn(\"PySoundFile failed. Trying audioread instead.\")\n"
          ],
          "name": "stderr"
        },
        {
          "output_type": "stream",
          "text": [
            "Data/Angry/0_50.wav\n"
          ],
          "name": "stdout"
        },
        {
          "output_type": "stream",
          "text": [
            "/usr/local/lib/python3.7/dist-packages/librosa/core/audio.py:165: UserWarning: PySoundFile failed. Trying audioread instead.\n",
            "  warnings.warn(\"PySoundFile failed. Trying audioread instead.\")\n"
          ],
          "name": "stderr"
        },
        {
          "output_type": "stream",
          "text": [
            "Data/Angry/0_28.wav\n"
          ],
          "name": "stdout"
        },
        {
          "output_type": "stream",
          "text": [
            "/usr/local/lib/python3.7/dist-packages/librosa/core/audio.py:165: UserWarning: PySoundFile failed. Trying audioread instead.\n",
            "  warnings.warn(\"PySoundFile failed. Trying audioread instead.\")\n"
          ],
          "name": "stderr"
        },
        {
          "output_type": "stream",
          "text": [
            "Data/Angry/0_94.wav\n"
          ],
          "name": "stdout"
        },
        {
          "output_type": "stream",
          "text": [
            "/usr/local/lib/python3.7/dist-packages/librosa/core/audio.py:165: UserWarning: PySoundFile failed. Trying audioread instead.\n",
            "  warnings.warn(\"PySoundFile failed. Trying audioread instead.\")\n"
          ],
          "name": "stderr"
        },
        {
          "output_type": "stream",
          "text": [
            "Data/Angry/0_78.wav\n"
          ],
          "name": "stdout"
        },
        {
          "output_type": "stream",
          "text": [
            "/usr/local/lib/python3.7/dist-packages/librosa/core/audio.py:165: UserWarning: PySoundFile failed. Trying audioread instead.\n",
            "  warnings.warn(\"PySoundFile failed. Trying audioread instead.\")\n"
          ],
          "name": "stderr"
        },
        {
          "output_type": "stream",
          "text": [
            "Data/Angry/0_9.wav\n",
            "Data/Angry/0_47.wav\n"
          ],
          "name": "stdout"
        },
        {
          "output_type": "stream",
          "text": [
            "/usr/local/lib/python3.7/dist-packages/librosa/core/audio.py:165: UserWarning: PySoundFile failed. Trying audioread instead.\n",
            "  warnings.warn(\"PySoundFile failed. Trying audioread instead.\")\n"
          ],
          "name": "stderr"
        },
        {
          "output_type": "stream",
          "text": [
            "Data/Angry/0_15.wav\n",
            "Data/Angry/0_31.wav\n"
          ],
          "name": "stdout"
        },
        {
          "output_type": "stream",
          "text": [
            "/usr/local/lib/python3.7/dist-packages/librosa/core/audio.py:165: UserWarning: PySoundFile failed. Trying audioread instead.\n",
            "  warnings.warn(\"PySoundFile failed. Trying audioread instead.\")\n"
          ],
          "name": "stderr"
        },
        {
          "output_type": "stream",
          "text": [
            "Data/Angry/0_67.wav\n"
          ],
          "name": "stdout"
        },
        {
          "output_type": "stream",
          "text": [
            "/usr/local/lib/python3.7/dist-packages/librosa/core/audio.py:165: UserWarning: PySoundFile failed. Trying audioread instead.\n",
            "  warnings.warn(\"PySoundFile failed. Trying audioread instead.\")\n"
          ],
          "name": "stderr"
        },
        {
          "output_type": "stream",
          "text": [
            "Data/Angry/0_69.wav\n"
          ],
          "name": "stdout"
        },
        {
          "output_type": "stream",
          "text": [
            "/usr/local/lib/python3.7/dist-packages/librosa/core/audio.py:165: UserWarning: PySoundFile failed. Trying audioread instead.\n",
            "  warnings.warn(\"PySoundFile failed. Trying audioread instead.\")\n"
          ],
          "name": "stderr"
        },
        {
          "output_type": "stream",
          "text": [
            "Data/Angry/0_12.wav\n",
            "Data/Angry/0_16.wav\n",
            "Data/Angry/0_64.wav\n"
          ],
          "name": "stdout"
        },
        {
          "output_type": "stream",
          "text": [
            "/usr/local/lib/python3.7/dist-packages/librosa/core/audio.py:165: UserWarning: PySoundFile failed. Trying audioread instead.\n",
            "  warnings.warn(\"PySoundFile failed. Trying audioread instead.\")\n"
          ],
          "name": "stderr"
        },
        {
          "output_type": "stream",
          "text": [
            "Data/Angry/0_33.wav\n"
          ],
          "name": "stdout"
        },
        {
          "output_type": "stream",
          "text": [
            "/usr/local/lib/python3.7/dist-packages/librosa/core/audio.py:165: UserWarning: PySoundFile failed. Trying audioread instead.\n",
            "  warnings.warn(\"PySoundFile failed. Trying audioread instead.\")\n"
          ],
          "name": "stderr"
        },
        {
          "output_type": "stream",
          "text": [
            "Data/Angry/0_57.wav\n"
          ],
          "name": "stdout"
        },
        {
          "output_type": "stream",
          "text": [
            "/usr/local/lib/python3.7/dist-packages/librosa/core/audio.py:165: UserWarning: PySoundFile failed. Trying audioread instead.\n",
            "  warnings.warn(\"PySoundFile failed. Trying audioread instead.\")\n"
          ],
          "name": "stderr"
        },
        {
          "output_type": "stream",
          "text": [
            "Data/Angry/0_24.wav\n",
            "Data/Angry/0_89.wav\n"
          ],
          "name": "stdout"
        },
        {
          "output_type": "stream",
          "text": [
            "/usr/local/lib/python3.7/dist-packages/librosa/core/audio.py:165: UserWarning: PySoundFile failed. Trying audioread instead.\n",
            "  warnings.warn(\"PySoundFile failed. Trying audioread instead.\")\n"
          ],
          "name": "stderr"
        },
        {
          "output_type": "stream",
          "text": [
            "Data/Angry/0_46.wav\n"
          ],
          "name": "stdout"
        },
        {
          "output_type": "stream",
          "text": [
            "/usr/local/lib/python3.7/dist-packages/librosa/core/audio.py:165: UserWarning: PySoundFile failed. Trying audioread instead.\n",
            "  warnings.warn(\"PySoundFile failed. Trying audioread instead.\")\n"
          ],
          "name": "stderr"
        },
        {
          "output_type": "stream",
          "text": [
            "Data/Angry/0_37.wav\n"
          ],
          "name": "stdout"
        },
        {
          "output_type": "stream",
          "text": [
            "/usr/local/lib/python3.7/dist-packages/librosa/core/audio.py:165: UserWarning: PySoundFile failed. Trying audioread instead.\n",
            "  warnings.warn(\"PySoundFile failed. Trying audioread instead.\")\n"
          ],
          "name": "stderr"
        },
        {
          "output_type": "stream",
          "text": [
            "Data/Angry/0_87.wav\n"
          ],
          "name": "stdout"
        },
        {
          "output_type": "stream",
          "text": [
            "/usr/local/lib/python3.7/dist-packages/librosa/core/audio.py:165: UserWarning: PySoundFile failed. Trying audioread instead.\n",
            "  warnings.warn(\"PySoundFile failed. Trying audioread instead.\")\n"
          ],
          "name": "stderr"
        },
        {
          "output_type": "stream",
          "text": [
            "Data/Angry/0_54.wav\n"
          ],
          "name": "stdout"
        },
        {
          "output_type": "stream",
          "text": [
            "/usr/local/lib/python3.7/dist-packages/librosa/core/audio.py:165: UserWarning: PySoundFile failed. Trying audioread instead.\n",
            "  warnings.warn(\"PySoundFile failed. Trying audioread instead.\")\n"
          ],
          "name": "stderr"
        },
        {
          "output_type": "stream",
          "text": [
            "Data/Angry/0_20.wav\n",
            "Data/Angry/0_96.wav\n"
          ],
          "name": "stdout"
        },
        {
          "output_type": "stream",
          "text": [
            "/usr/local/lib/python3.7/dist-packages/librosa/core/audio.py:165: UserWarning: PySoundFile failed. Trying audioread instead.\n",
            "  warnings.warn(\"PySoundFile failed. Trying audioread instead.\")\n"
          ],
          "name": "stderr"
        },
        {
          "output_type": "stream",
          "text": [
            "Data/Angry/0_86.wav\n"
          ],
          "name": "stdout"
        },
        {
          "output_type": "stream",
          "text": [
            "/usr/local/lib/python3.7/dist-packages/librosa/core/audio.py:165: UserWarning: PySoundFile failed. Trying audioread instead.\n",
            "  warnings.warn(\"PySoundFile failed. Trying audioread instead.\")\n"
          ],
          "name": "stderr"
        },
        {
          "output_type": "stream",
          "text": [
            "Data/Angry/0_73.wav\n"
          ],
          "name": "stdout"
        },
        {
          "output_type": "stream",
          "text": [
            "/usr/local/lib/python3.7/dist-packages/librosa/core/audio.py:165: UserWarning: PySoundFile failed. Trying audioread instead.\n",
            "  warnings.warn(\"PySoundFile failed. Trying audioread instead.\")\n"
          ],
          "name": "stderr"
        },
        {
          "output_type": "stream",
          "text": [
            "Data/Angry/0_3.wav\n",
            "Data/Angry/0_39.wav\n"
          ],
          "name": "stdout"
        },
        {
          "output_type": "stream",
          "text": [
            "/usr/local/lib/python3.7/dist-packages/librosa/core/audio.py:165: UserWarning: PySoundFile failed. Trying audioread instead.\n",
            "  warnings.warn(\"PySoundFile failed. Trying audioread instead.\")\n"
          ],
          "name": "stderr"
        },
        {
          "output_type": "stream",
          "text": [
            "Data/Angry/0_38.wav\n"
          ],
          "name": "stdout"
        },
        {
          "output_type": "stream",
          "text": [
            "/usr/local/lib/python3.7/dist-packages/librosa/core/audio.py:165: UserWarning: PySoundFile failed. Trying audioread instead.\n",
            "  warnings.warn(\"PySoundFile failed. Trying audioread instead.\")\n"
          ],
          "name": "stderr"
        },
        {
          "output_type": "stream",
          "text": [
            "Data/Angry/0_76.wav\n"
          ],
          "name": "stdout"
        },
        {
          "output_type": "stream",
          "text": [
            "/usr/local/lib/python3.7/dist-packages/librosa/core/audio.py:165: UserWarning: PySoundFile failed. Trying audioread instead.\n",
            "  warnings.warn(\"PySoundFile failed. Trying audioread instead.\")\n"
          ],
          "name": "stderr"
        },
        {
          "output_type": "stream",
          "text": [
            "Data/Angry/0_61.wav\n"
          ],
          "name": "stdout"
        },
        {
          "output_type": "stream",
          "text": [
            "/usr/local/lib/python3.7/dist-packages/librosa/core/audio.py:165: UserWarning: PySoundFile failed. Trying audioread instead.\n",
            "  warnings.warn(\"PySoundFile failed. Trying audioread instead.\")\n"
          ],
          "name": "stderr"
        },
        {
          "output_type": "stream",
          "text": [
            "Data/Angry/0_7.wav\n",
            "Data/Angry/0_90.wav\n"
          ],
          "name": "stdout"
        },
        {
          "output_type": "stream",
          "text": [
            "/usr/local/lib/python3.7/dist-packages/librosa/core/audio.py:165: UserWarning: PySoundFile failed. Trying audioread instead.\n",
            "  warnings.warn(\"PySoundFile failed. Trying audioread instead.\")\n"
          ],
          "name": "stderr"
        },
        {
          "output_type": "stream",
          "text": [
            "Data/Angry/0_99.wav\n"
          ],
          "name": "stdout"
        },
        {
          "output_type": "stream",
          "text": [
            "/usr/local/lib/python3.7/dist-packages/librosa/core/audio.py:165: UserWarning: PySoundFile failed. Trying audioread instead.\n",
            "  warnings.warn(\"PySoundFile failed. Trying audioread instead.\")\n"
          ],
          "name": "stderr"
        },
        {
          "output_type": "stream",
          "text": [
            "Data/Angry/0_63.wav\n"
          ],
          "name": "stdout"
        },
        {
          "output_type": "stream",
          "text": [
            "/usr/local/lib/python3.7/dist-packages/librosa/core/audio.py:165: UserWarning: PySoundFile failed. Trying audioread instead.\n",
            "  warnings.warn(\"PySoundFile failed. Trying audioread instead.\")\n"
          ],
          "name": "stderr"
        },
        {
          "output_type": "stream",
          "text": [
            "Data/Angry/0_17.wav\n",
            "Data/Angry/0_42.wav\n"
          ],
          "name": "stdout"
        },
        {
          "output_type": "stream",
          "text": [
            "/usr/local/lib/python3.7/dist-packages/librosa/core/audio.py:165: UserWarning: PySoundFile failed. Trying audioread instead.\n",
            "  warnings.warn(\"PySoundFile failed. Trying audioread instead.\")\n"
          ],
          "name": "stderr"
        },
        {
          "output_type": "stream",
          "text": [
            "Data/Angry/0_36.wav\n"
          ],
          "name": "stdout"
        },
        {
          "output_type": "stream",
          "text": [
            "/usr/local/lib/python3.7/dist-packages/librosa/core/audio.py:165: UserWarning: PySoundFile failed. Trying audioread instead.\n",
            "  warnings.warn(\"PySoundFile failed. Trying audioread instead.\")\n"
          ],
          "name": "stderr"
        },
        {
          "output_type": "stream",
          "text": [
            "Data/Angry/0_5.wav\n",
            "Data/Angry/0_26.wav\n"
          ],
          "name": "stdout"
        },
        {
          "output_type": "stream",
          "text": [
            "/usr/local/lib/python3.7/dist-packages/librosa/core/audio.py:165: UserWarning: PySoundFile failed. Trying audioread instead.\n",
            "  warnings.warn(\"PySoundFile failed. Trying audioread instead.\")\n"
          ],
          "name": "stderr"
        },
        {
          "output_type": "stream",
          "text": [
            "Data/Angry/0_62.wav\n"
          ],
          "name": "stdout"
        },
        {
          "output_type": "stream",
          "text": [
            "/usr/local/lib/python3.7/dist-packages/librosa/core/audio.py:165: UserWarning: PySoundFile failed. Trying audioread instead.\n",
            "  warnings.warn(\"PySoundFile failed. Trying audioread instead.\")\n"
          ],
          "name": "stderr"
        },
        {
          "output_type": "stream",
          "text": [
            "Data/Angry/0_29.wav\n"
          ],
          "name": "stdout"
        },
        {
          "output_type": "stream",
          "text": [
            "/usr/local/lib/python3.7/dist-packages/librosa/core/audio.py:165: UserWarning: PySoundFile failed. Trying audioread instead.\n",
            "  warnings.warn(\"PySoundFile failed. Trying audioread instead.\")\n"
          ],
          "name": "stderr"
        },
        {
          "output_type": "stream",
          "text": [
            "Data/Angry/0_91.wav\n"
          ],
          "name": "stdout"
        },
        {
          "output_type": "stream",
          "text": [
            "/usr/local/lib/python3.7/dist-packages/librosa/core/audio.py:165: UserWarning: PySoundFile failed. Trying audioread instead.\n",
            "  warnings.warn(\"PySoundFile failed. Trying audioread instead.\")\n"
          ],
          "name": "stderr"
        },
        {
          "output_type": "stream",
          "text": [
            "Data/Angry/0_83.wav\n"
          ],
          "name": "stdout"
        },
        {
          "output_type": "stream",
          "text": [
            "/usr/local/lib/python3.7/dist-packages/librosa/core/audio.py:165: UserWarning: PySoundFile failed. Trying audioread instead.\n",
            "  warnings.warn(\"PySoundFile failed. Trying audioread instead.\")\n"
          ],
          "name": "stderr"
        },
        {
          "output_type": "stream",
          "text": [
            "Data/Angry/0_22.wav\n",
            "Data/Angry/0_49.wav\n"
          ],
          "name": "stdout"
        },
        {
          "output_type": "stream",
          "text": [
            "/usr/local/lib/python3.7/dist-packages/librosa/core/audio.py:165: UserWarning: PySoundFile failed. Trying audioread instead.\n",
            "  warnings.warn(\"PySoundFile failed. Trying audioread instead.\")\n"
          ],
          "name": "stderr"
        },
        {
          "output_type": "stream",
          "text": [
            "Data/Angry/0_72.wav\n"
          ],
          "name": "stdout"
        },
        {
          "output_type": "stream",
          "text": [
            "/usr/local/lib/python3.7/dist-packages/librosa/core/audio.py:165: UserWarning: PySoundFile failed. Trying audioread instead.\n",
            "  warnings.warn(\"PySoundFile failed. Trying audioread instead.\")\n"
          ],
          "name": "stderr"
        },
        {
          "output_type": "stream",
          "text": [
            "Data/Angry/0_11.wav\n",
            "Data/Angry/0_2.wav\n",
            "Data/Angry/0_65.wav\n"
          ],
          "name": "stdout"
        },
        {
          "output_type": "stream",
          "text": [
            "/usr/local/lib/python3.7/dist-packages/librosa/core/audio.py:165: UserWarning: PySoundFile failed. Trying audioread instead.\n",
            "  warnings.warn(\"PySoundFile failed. Trying audioread instead.\")\n"
          ],
          "name": "stderr"
        },
        {
          "output_type": "stream",
          "text": [
            "Data/Angry/0_8.wav\n",
            "Data/Angry/0_88.wav\n"
          ],
          "name": "stdout"
        },
        {
          "output_type": "stream",
          "text": [
            "/usr/local/lib/python3.7/dist-packages/librosa/core/audio.py:165: UserWarning: PySoundFile failed. Trying audioread instead.\n",
            "  warnings.warn(\"PySoundFile failed. Trying audioread instead.\")\n"
          ],
          "name": "stderr"
        },
        {
          "output_type": "stream",
          "text": [
            "Data/Angry/0_66.wav\n"
          ],
          "name": "stdout"
        },
        {
          "output_type": "stream",
          "text": [
            "/usr/local/lib/python3.7/dist-packages/librosa/core/audio.py:165: UserWarning: PySoundFile failed. Trying audioread instead.\n",
            "  warnings.warn(\"PySoundFile failed. Trying audioread instead.\")\n"
          ],
          "name": "stderr"
        },
        {
          "output_type": "stream",
          "text": [
            "Data/Angry/0_51.wav\n"
          ],
          "name": "stdout"
        },
        {
          "output_type": "stream",
          "text": [
            "/usr/local/lib/python3.7/dist-packages/librosa/core/audio.py:165: UserWarning: PySoundFile failed. Trying audioread instead.\n",
            "  warnings.warn(\"PySoundFile failed. Trying audioread instead.\")\n"
          ],
          "name": "stderr"
        },
        {
          "output_type": "stream",
          "text": [
            "Data/Angry/0_32.wav\n"
          ],
          "name": "stdout"
        },
        {
          "output_type": "stream",
          "text": [
            "/usr/local/lib/python3.7/dist-packages/librosa/core/audio.py:165: UserWarning: PySoundFile failed. Trying audioread instead.\n",
            "  warnings.warn(\"PySoundFile failed. Trying audioread instead.\")\n"
          ],
          "name": "stderr"
        },
        {
          "output_type": "stream",
          "text": [
            "Data/Angry/0_85.wav\n"
          ],
          "name": "stdout"
        },
        {
          "output_type": "stream",
          "text": [
            "/usr/local/lib/python3.7/dist-packages/librosa/core/audio.py:165: UserWarning: PySoundFile failed. Trying audioread instead.\n",
            "  warnings.warn(\"PySoundFile failed. Trying audioread instead.\")\n"
          ],
          "name": "stderr"
        },
        {
          "output_type": "stream",
          "text": [
            "Data/Angry/0_81.wav\n"
          ],
          "name": "stdout"
        },
        {
          "output_type": "stream",
          "text": [
            "/usr/local/lib/python3.7/dist-packages/librosa/core/audio.py:165: UserWarning: PySoundFile failed. Trying audioread instead.\n",
            "  warnings.warn(\"PySoundFile failed. Trying audioread instead.\")\n"
          ],
          "name": "stderr"
        },
        {
          "output_type": "stream",
          "text": [
            "Data/Angry/0_43.wav\n"
          ],
          "name": "stdout"
        },
        {
          "output_type": "stream",
          "text": [
            "/usr/local/lib/python3.7/dist-packages/librosa/core/audio.py:165: UserWarning: PySoundFile failed. Trying audioread instead.\n",
            "  warnings.warn(\"PySoundFile failed. Trying audioread instead.\")\n"
          ],
          "name": "stderr"
        },
        {
          "output_type": "stream",
          "text": [
            "Data/Angry/0_58.wav\n"
          ],
          "name": "stdout"
        },
        {
          "output_type": "stream",
          "text": [
            "/usr/local/lib/python3.7/dist-packages/librosa/core/audio.py:165: UserWarning: PySoundFile failed. Trying audioread instead.\n",
            "  warnings.warn(\"PySoundFile failed. Trying audioread instead.\")\n"
          ],
          "name": "stderr"
        },
        {
          "output_type": "stream",
          "text": [
            "Data/Angry/0_6.wav\n",
            "Data/Angry/0_68.wav\n"
          ],
          "name": "stdout"
        },
        {
          "output_type": "stream",
          "text": [
            "/usr/local/lib/python3.7/dist-packages/librosa/core/audio.py:165: UserWarning: PySoundFile failed. Trying audioread instead.\n",
            "  warnings.warn(\"PySoundFile failed. Trying audioread instead.\")\n"
          ],
          "name": "stderr"
        },
        {
          "output_type": "stream",
          "text": [
            "Data/Angry/0_93.wav\n"
          ],
          "name": "stdout"
        },
        {
          "output_type": "stream",
          "text": [
            "/usr/local/lib/python3.7/dist-packages/librosa/core/audio.py:165: UserWarning: PySoundFile failed. Trying audioread instead.\n",
            "  warnings.warn(\"PySoundFile failed. Trying audioread instead.\")\n"
          ],
          "name": "stderr"
        },
        {
          "output_type": "stream",
          "text": [
            "Data/Angry/0_27.wav\n"
          ],
          "name": "stdout"
        },
        {
          "output_type": "stream",
          "text": [
            "/usr/local/lib/python3.7/dist-packages/librosa/core/audio.py:165: UserWarning: PySoundFile failed. Trying audioread instead.\n",
            "  warnings.warn(\"PySoundFile failed. Trying audioread instead.\")\n"
          ],
          "name": "stderr"
        },
        {
          "output_type": "stream",
          "text": [
            "Data/Angry/0_97.wav\n"
          ],
          "name": "stdout"
        },
        {
          "output_type": "stream",
          "text": [
            "/usr/local/lib/python3.7/dist-packages/librosa/core/audio.py:165: UserWarning: PySoundFile failed. Trying audioread instead.\n",
            "  warnings.warn(\"PySoundFile failed. Trying audioread instead.\")\n"
          ],
          "name": "stderr"
        },
        {
          "output_type": "stream",
          "text": [
            "Data/Angry/0_82.wav\n"
          ],
          "name": "stdout"
        },
        {
          "output_type": "stream",
          "text": [
            "/usr/local/lib/python3.7/dist-packages/librosa/core/audio.py:165: UserWarning: PySoundFile failed. Trying audioread instead.\n",
            "  warnings.warn(\"PySoundFile failed. Trying audioread instead.\")\n"
          ],
          "name": "stderr"
        },
        {
          "output_type": "stream",
          "text": [
            "Data/Angry/0_74.wav\n"
          ],
          "name": "stdout"
        },
        {
          "output_type": "stream",
          "text": [
            "/usr/local/lib/python3.7/dist-packages/librosa/core/audio.py:165: UserWarning: PySoundFile failed. Trying audioread instead.\n",
            "  warnings.warn(\"PySoundFile failed. Trying audioread instead.\")\n"
          ],
          "name": "stderr"
        },
        {
          "output_type": "stream",
          "text": [
            "Data/Angry/0_40.wav\n"
          ],
          "name": "stdout"
        },
        {
          "output_type": "stream",
          "text": [
            "/usr/local/lib/python3.7/dist-packages/librosa/core/audio.py:165: UserWarning: PySoundFile failed. Trying audioread instead.\n",
            "  warnings.warn(\"PySoundFile failed. Trying audioread instead.\")\n"
          ],
          "name": "stderr"
        },
        {
          "output_type": "stream",
          "text": [
            "Data/Angry/0_41.wav\n"
          ],
          "name": "stdout"
        },
        {
          "output_type": "stream",
          "text": [
            "/usr/local/lib/python3.7/dist-packages/librosa/core/audio.py:165: UserWarning: PySoundFile failed. Trying audioread instead.\n",
            "  warnings.warn(\"PySoundFile failed. Trying audioread instead.\")\n"
          ],
          "name": "stderr"
        },
        {
          "output_type": "stream",
          "text": [
            "Data/Angry/0_23.wav\n",
            "Data/Angry/0_55.wav\n"
          ],
          "name": "stdout"
        },
        {
          "output_type": "stream",
          "text": [
            "/usr/local/lib/python3.7/dist-packages/librosa/core/audio.py:165: UserWarning: PySoundFile failed. Trying audioread instead.\n",
            "  warnings.warn(\"PySoundFile failed. Trying audioread instead.\")\n"
          ],
          "name": "stderr"
        },
        {
          "output_type": "stream",
          "text": [
            "Data/Angry/0_80.wav\n"
          ],
          "name": "stdout"
        },
        {
          "output_type": "stream",
          "text": [
            "/usr/local/lib/python3.7/dist-packages/librosa/core/audio.py:165: UserWarning: PySoundFile failed. Trying audioread instead.\n",
            "  warnings.warn(\"PySoundFile failed. Trying audioread instead.\")\n"
          ],
          "name": "stderr"
        },
        {
          "output_type": "stream",
          "text": [
            "Data/Angry/0_84.wav\n"
          ],
          "name": "stdout"
        },
        {
          "output_type": "stream",
          "text": [
            "/usr/local/lib/python3.7/dist-packages/librosa/core/audio.py:165: UserWarning: PySoundFile failed. Trying audioread instead.\n",
            "  warnings.warn(\"PySoundFile failed. Trying audioread instead.\")\n"
          ],
          "name": "stderr"
        },
        {
          "output_type": "stream",
          "text": [
            "Data/Angry/0_10.wav\n",
            "Data/Angry/0_92.wav\n"
          ],
          "name": "stdout"
        },
        {
          "output_type": "stream",
          "text": [
            "/usr/local/lib/python3.7/dist-packages/librosa/core/audio.py:165: UserWarning: PySoundFile failed. Trying audioread instead.\n",
            "  warnings.warn(\"PySoundFile failed. Trying audioread instead.\")\n"
          ],
          "name": "stderr"
        },
        {
          "output_type": "stream",
          "text": [
            "Data/Angry/0_79.wav\n"
          ],
          "name": "stdout"
        },
        {
          "output_type": "stream",
          "text": [
            "/usr/local/lib/python3.7/dist-packages/librosa/core/audio.py:165: UserWarning: PySoundFile failed. Trying audioread instead.\n",
            "  warnings.warn(\"PySoundFile failed. Trying audioread instead.\")\n"
          ],
          "name": "stderr"
        },
        {
          "output_type": "stream",
          "text": [
            "Data/Angry/0_14.wav\n",
            "Data/Angry/0_100.wav\n"
          ],
          "name": "stdout"
        },
        {
          "output_type": "stream",
          "text": [
            "/usr/local/lib/python3.7/dist-packages/librosa/core/audio.py:165: UserWarning: PySoundFile failed. Trying audioread instead.\n",
            "  warnings.warn(\"PySoundFile failed. Trying audioread instead.\")\n"
          ],
          "name": "stderr"
        },
        {
          "output_type": "stream",
          "text": [
            "Data/Angry/0_77.wav\n"
          ],
          "name": "stdout"
        },
        {
          "output_type": "stream",
          "text": [
            "/usr/local/lib/python3.7/dist-packages/librosa/core/audio.py:165: UserWarning: PySoundFile failed. Trying audioread instead.\n",
            "  warnings.warn(\"PySoundFile failed. Trying audioread instead.\")\n"
          ],
          "name": "stderr"
        },
        {
          "output_type": "stream",
          "text": [
            "Data/Angry/0_25.wav\n",
            "Data/Angry/0_4.wav\n",
            "Data/Angry/0_19.wav\n",
            "Data/Angry/0_48.wav\n"
          ],
          "name": "stdout"
        },
        {
          "output_type": "stream",
          "text": [
            "/usr/local/lib/python3.7/dist-packages/librosa/core/audio.py:165: UserWarning: PySoundFile failed. Trying audioread instead.\n",
            "  warnings.warn(\"PySoundFile failed. Trying audioread instead.\")\n"
          ],
          "name": "stderr"
        },
        {
          "output_type": "stream",
          "text": [
            "Data/Angry/0_53.wav\n"
          ],
          "name": "stdout"
        },
        {
          "output_type": "stream",
          "text": [
            "/usr/local/lib/python3.7/dist-packages/librosa/core/audio.py:165: UserWarning: PySoundFile failed. Trying audioread instead.\n",
            "  warnings.warn(\"PySoundFile failed. Trying audioread instead.\")\n"
          ],
          "name": "stderr"
        },
        {
          "output_type": "stream",
          "text": [
            "Data/Angry/0_60.wav\n"
          ],
          "name": "stdout"
        },
        {
          "output_type": "stream",
          "text": [
            "/usr/local/lib/python3.7/dist-packages/librosa/core/audio.py:165: UserWarning: PySoundFile failed. Trying audioread instead.\n",
            "  warnings.warn(\"PySoundFile failed. Trying audioread instead.\")\n"
          ],
          "name": "stderr"
        },
        {
          "output_type": "stream",
          "text": [
            "Data/Angry/0_44.wav\n"
          ],
          "name": "stdout"
        },
        {
          "output_type": "stream",
          "text": [
            "/usr/local/lib/python3.7/dist-packages/librosa/core/audio.py:165: UserWarning: PySoundFile failed. Trying audioread instead.\n",
            "  warnings.warn(\"PySoundFile failed. Trying audioread instead.\")\n"
          ],
          "name": "stderr"
        },
        {
          "output_type": "stream",
          "text": [
            "Data/Angry/0_30.wav\n"
          ],
          "name": "stdout"
        },
        {
          "output_type": "stream",
          "text": [
            "/usr/local/lib/python3.7/dist-packages/librosa/core/audio.py:165: UserWarning: PySoundFile failed. Trying audioread instead.\n",
            "  warnings.warn(\"PySoundFile failed. Trying audioread instead.\")\n"
          ],
          "name": "stderr"
        },
        {
          "output_type": "stream",
          "text": [
            "Data/Angry/0_1.wav\n",
            "Data/Happy/1_98.wav\n"
          ],
          "name": "stdout"
        },
        {
          "output_type": "stream",
          "text": [
            "/usr/local/lib/python3.7/dist-packages/librosa/core/audio.py:165: UserWarning: PySoundFile failed. Trying audioread instead.\n",
            "  warnings.warn(\"PySoundFile failed. Trying audioread instead.\")\n"
          ],
          "name": "stderr"
        },
        {
          "output_type": "stream",
          "text": [
            "Data/Happy/1_48.wav\n"
          ],
          "name": "stdout"
        },
        {
          "output_type": "stream",
          "text": [
            "/usr/local/lib/python3.7/dist-packages/librosa/core/audio.py:165: UserWarning: PySoundFile failed. Trying audioread instead.\n",
            "  warnings.warn(\"PySoundFile failed. Trying audioread instead.\")\n"
          ],
          "name": "stderr"
        },
        {
          "output_type": "stream",
          "text": [
            "Data/Happy/1_96.wav\n"
          ],
          "name": "stdout"
        },
        {
          "output_type": "stream",
          "text": [
            "/usr/local/lib/python3.7/dist-packages/librosa/core/audio.py:165: UserWarning: PySoundFile failed. Trying audioread instead.\n",
            "  warnings.warn(\"PySoundFile failed. Trying audioread instead.\")\n"
          ],
          "name": "stderr"
        },
        {
          "output_type": "stream",
          "text": [
            "Data/Happy/1_6.wav\n",
            "Data/Happy/1_32.wav\n"
          ],
          "name": "stdout"
        },
        {
          "output_type": "stream",
          "text": [
            "/usr/local/lib/python3.7/dist-packages/librosa/core/audio.py:165: UserWarning: PySoundFile failed. Trying audioread instead.\n",
            "  warnings.warn(\"PySoundFile failed. Trying audioread instead.\")\n"
          ],
          "name": "stderr"
        },
        {
          "output_type": "stream",
          "text": [
            "Data/Happy/1_52.wav\n"
          ],
          "name": "stdout"
        },
        {
          "output_type": "stream",
          "text": [
            "/usr/local/lib/python3.7/dist-packages/librosa/core/audio.py:165: UserWarning: PySoundFile failed. Trying audioread instead.\n",
            "  warnings.warn(\"PySoundFile failed. Trying audioread instead.\")\n"
          ],
          "name": "stderr"
        },
        {
          "output_type": "stream",
          "text": [
            "Data/Happy/1_30.wav\n"
          ],
          "name": "stdout"
        },
        {
          "output_type": "stream",
          "text": [
            "/usr/local/lib/python3.7/dist-packages/librosa/core/audio.py:165: UserWarning: PySoundFile failed. Trying audioread instead.\n",
            "  warnings.warn(\"PySoundFile failed. Trying audioread instead.\")\n"
          ],
          "name": "stderr"
        },
        {
          "output_type": "stream",
          "text": [
            "Data/Happy/1_17.wav\n",
            "Data/Happy/1_24.wav\n",
            "Data/Happy/1_45.wav\n"
          ],
          "name": "stdout"
        },
        {
          "output_type": "stream",
          "text": [
            "/usr/local/lib/python3.7/dist-packages/librosa/core/audio.py:165: UserWarning: PySoundFile failed. Trying audioread instead.\n",
            "  warnings.warn(\"PySoundFile failed. Trying audioread instead.\")\n"
          ],
          "name": "stderr"
        },
        {
          "output_type": "stream",
          "text": [
            "Data/Happy/1_40.wav\n"
          ],
          "name": "stdout"
        },
        {
          "output_type": "stream",
          "text": [
            "/usr/local/lib/python3.7/dist-packages/librosa/core/audio.py:165: UserWarning: PySoundFile failed. Trying audioread instead.\n",
            "  warnings.warn(\"PySoundFile failed. Trying audioread instead.\")\n"
          ],
          "name": "stderr"
        },
        {
          "output_type": "stream",
          "text": [
            "Data/Happy/1_11.wav\n",
            "Data/Happy/1_75.wav\n"
          ],
          "name": "stdout"
        },
        {
          "output_type": "stream",
          "text": [
            "/usr/local/lib/python3.7/dist-packages/librosa/core/audio.py:165: UserWarning: PySoundFile failed. Trying audioread instead.\n",
            "  warnings.warn(\"PySoundFile failed. Trying audioread instead.\")\n"
          ],
          "name": "stderr"
        },
        {
          "output_type": "stream",
          "text": [
            "Data/Happy/1_80.wav\n"
          ],
          "name": "stdout"
        },
        {
          "output_type": "stream",
          "text": [
            "/usr/local/lib/python3.7/dist-packages/librosa/core/audio.py:165: UserWarning: PySoundFile failed. Trying audioread instead.\n",
            "  warnings.warn(\"PySoundFile failed. Trying audioread instead.\")\n"
          ],
          "name": "stderr"
        },
        {
          "output_type": "stream",
          "text": [
            "Data/Happy/1_74.wav\n"
          ],
          "name": "stdout"
        },
        {
          "output_type": "stream",
          "text": [
            "/usr/local/lib/python3.7/dist-packages/librosa/core/audio.py:165: UserWarning: PySoundFile failed. Trying audioread instead.\n",
            "  warnings.warn(\"PySoundFile failed. Trying audioread instead.\")\n"
          ],
          "name": "stderr"
        },
        {
          "output_type": "stream",
          "text": [
            "Data/Happy/1_89.wav\n"
          ],
          "name": "stdout"
        },
        {
          "output_type": "stream",
          "text": [
            "/usr/local/lib/python3.7/dist-packages/librosa/core/audio.py:165: UserWarning: PySoundFile failed. Trying audioread instead.\n",
            "  warnings.warn(\"PySoundFile failed. Trying audioread instead.\")\n"
          ],
          "name": "stderr"
        },
        {
          "output_type": "stream",
          "text": [
            "Data/Happy/1_42.wav\n"
          ],
          "name": "stdout"
        },
        {
          "output_type": "stream",
          "text": [
            "/usr/local/lib/python3.7/dist-packages/librosa/core/audio.py:165: UserWarning: PySoundFile failed. Trying audioread instead.\n",
            "  warnings.warn(\"PySoundFile failed. Trying audioread instead.\")\n"
          ],
          "name": "stderr"
        },
        {
          "output_type": "stream",
          "text": [
            "Data/Happy/1_18.wav\n",
            "Data/Happy/1_76.wav\n"
          ],
          "name": "stdout"
        },
        {
          "output_type": "stream",
          "text": [
            "/usr/local/lib/python3.7/dist-packages/librosa/core/audio.py:165: UserWarning: PySoundFile failed. Trying audioread instead.\n",
            "  warnings.warn(\"PySoundFile failed. Trying audioread instead.\")\n"
          ],
          "name": "stderr"
        },
        {
          "output_type": "stream",
          "text": [
            "Data/Happy/1_77.wav\n"
          ],
          "name": "stdout"
        },
        {
          "output_type": "stream",
          "text": [
            "/usr/local/lib/python3.7/dist-packages/librosa/core/audio.py:165: UserWarning: PySoundFile failed. Trying audioread instead.\n",
            "  warnings.warn(\"PySoundFile failed. Trying audioread instead.\")\n"
          ],
          "name": "stderr"
        },
        {
          "output_type": "stream",
          "text": [
            "Data/Happy/1_78.wav\n"
          ],
          "name": "stdout"
        },
        {
          "output_type": "stream",
          "text": [
            "/usr/local/lib/python3.7/dist-packages/librosa/core/audio.py:165: UserWarning: PySoundFile failed. Trying audioread instead.\n",
            "  warnings.warn(\"PySoundFile failed. Trying audioread instead.\")\n"
          ],
          "name": "stderr"
        },
        {
          "output_type": "stream",
          "text": [
            "Data/Happy/1_51.wav\n"
          ],
          "name": "stdout"
        },
        {
          "output_type": "stream",
          "text": [
            "/usr/local/lib/python3.7/dist-packages/librosa/core/audio.py:165: UserWarning: PySoundFile failed. Trying audioread instead.\n",
            "  warnings.warn(\"PySoundFile failed. Trying audioread instead.\")\n"
          ],
          "name": "stderr"
        },
        {
          "output_type": "stream",
          "text": [
            "Data/Happy/1_100.wav\n"
          ],
          "name": "stdout"
        },
        {
          "output_type": "stream",
          "text": [
            "/usr/local/lib/python3.7/dist-packages/librosa/core/audio.py:165: UserWarning: PySoundFile failed. Trying audioread instead.\n",
            "  warnings.warn(\"PySoundFile failed. Trying audioread instead.\")\n"
          ],
          "name": "stderr"
        },
        {
          "output_type": "stream",
          "text": [
            "Data/Happy/1_2.wav\n",
            "Data/Happy/1_49.wav\n"
          ],
          "name": "stdout"
        },
        {
          "output_type": "stream",
          "text": [
            "/usr/local/lib/python3.7/dist-packages/librosa/core/audio.py:165: UserWarning: PySoundFile failed. Trying audioread instead.\n",
            "  warnings.warn(\"PySoundFile failed. Trying audioread instead.\")\n"
          ],
          "name": "stderr"
        },
        {
          "output_type": "stream",
          "text": [
            "Data/Happy/1_68.wav\n"
          ],
          "name": "stdout"
        },
        {
          "output_type": "stream",
          "text": [
            "/usr/local/lib/python3.7/dist-packages/librosa/core/audio.py:165: UserWarning: PySoundFile failed. Trying audioread instead.\n",
            "  warnings.warn(\"PySoundFile failed. Trying audioread instead.\")\n"
          ],
          "name": "stderr"
        },
        {
          "output_type": "stream",
          "text": [
            "Data/Happy/1_84.wav\n"
          ],
          "name": "stdout"
        },
        {
          "output_type": "stream",
          "text": [
            "/usr/local/lib/python3.7/dist-packages/librosa/core/audio.py:165: UserWarning: PySoundFile failed. Trying audioread instead.\n",
            "  warnings.warn(\"PySoundFile failed. Trying audioread instead.\")\n"
          ],
          "name": "stderr"
        },
        {
          "output_type": "stream",
          "text": [
            "Data/Happy/1_21.wav\n",
            "Data/Happy/1_37.wav\n"
          ],
          "name": "stdout"
        },
        {
          "output_type": "stream",
          "text": [
            "/usr/local/lib/python3.7/dist-packages/librosa/core/audio.py:165: UserWarning: PySoundFile failed. Trying audioread instead.\n",
            "  warnings.warn(\"PySoundFile failed. Trying audioread instead.\")\n"
          ],
          "name": "stderr"
        },
        {
          "output_type": "stream",
          "text": [
            "Data/Happy/1_33.wav\n"
          ],
          "name": "stdout"
        },
        {
          "output_type": "stream",
          "text": [
            "/usr/local/lib/python3.7/dist-packages/librosa/core/audio.py:165: UserWarning: PySoundFile failed. Trying audioread instead.\n",
            "  warnings.warn(\"PySoundFile failed. Trying audioread instead.\")\n"
          ],
          "name": "stderr"
        },
        {
          "output_type": "stream",
          "text": [
            "Data/Happy/1_94.wav\n"
          ],
          "name": "stdout"
        },
        {
          "output_type": "stream",
          "text": [
            "/usr/local/lib/python3.7/dist-packages/librosa/core/audio.py:165: UserWarning: PySoundFile failed. Trying audioread instead.\n",
            "  warnings.warn(\"PySoundFile failed. Trying audioread instead.\")\n"
          ],
          "name": "stderr"
        },
        {
          "output_type": "stream",
          "text": [
            "Data/Happy/1_66.wav\n"
          ],
          "name": "stdout"
        },
        {
          "output_type": "stream",
          "text": [
            "/usr/local/lib/python3.7/dist-packages/librosa/core/audio.py:165: UserWarning: PySoundFile failed. Trying audioread instead.\n",
            "  warnings.warn(\"PySoundFile failed. Trying audioread instead.\")\n"
          ],
          "name": "stderr"
        },
        {
          "output_type": "stream",
          "text": [
            "Data/Happy/1_38.wav\n"
          ],
          "name": "stdout"
        },
        {
          "output_type": "stream",
          "text": [
            "/usr/local/lib/python3.7/dist-packages/librosa/core/audio.py:165: UserWarning: PySoundFile failed. Trying audioread instead.\n",
            "  warnings.warn(\"PySoundFile failed. Trying audioread instead.\")\n"
          ],
          "name": "stderr"
        },
        {
          "output_type": "stream",
          "text": [
            "Data/Happy/1_58.wav\n"
          ],
          "name": "stdout"
        },
        {
          "output_type": "stream",
          "text": [
            "/usr/local/lib/python3.7/dist-packages/librosa/core/audio.py:165: UserWarning: PySoundFile failed. Trying audioread instead.\n",
            "  warnings.warn(\"PySoundFile failed. Trying audioread instead.\")\n"
          ],
          "name": "stderr"
        },
        {
          "output_type": "stream",
          "text": [
            "Data/Happy/1_67.wav\n"
          ],
          "name": "stdout"
        },
        {
          "output_type": "stream",
          "text": [
            "/usr/local/lib/python3.7/dist-packages/librosa/core/audio.py:165: UserWarning: PySoundFile failed. Trying audioread instead.\n",
            "  warnings.warn(\"PySoundFile failed. Trying audioread instead.\")\n"
          ],
          "name": "stderr"
        },
        {
          "output_type": "stream",
          "text": [
            "Data/Happy/1_36.wav\n"
          ],
          "name": "stdout"
        },
        {
          "output_type": "stream",
          "text": [
            "/usr/local/lib/python3.7/dist-packages/librosa/core/audio.py:165: UserWarning: PySoundFile failed. Trying audioread instead.\n",
            "  warnings.warn(\"PySoundFile failed. Trying audioread instead.\")\n"
          ],
          "name": "stderr"
        },
        {
          "output_type": "stream",
          "text": [
            "Data/Happy/1_53.wav\n"
          ],
          "name": "stdout"
        },
        {
          "output_type": "stream",
          "text": [
            "/usr/local/lib/python3.7/dist-packages/librosa/core/audio.py:165: UserWarning: PySoundFile failed. Trying audioread instead.\n",
            "  warnings.warn(\"PySoundFile failed. Trying audioread instead.\")\n"
          ],
          "name": "stderr"
        },
        {
          "output_type": "stream",
          "text": [
            "Data/Happy/1_72.wav\n"
          ],
          "name": "stdout"
        },
        {
          "output_type": "stream",
          "text": [
            "/usr/local/lib/python3.7/dist-packages/librosa/core/audio.py:165: UserWarning: PySoundFile failed. Trying audioread instead.\n",
            "  warnings.warn(\"PySoundFile failed. Trying audioread instead.\")\n"
          ],
          "name": "stderr"
        },
        {
          "output_type": "stream",
          "text": [
            "Data/Happy/1_43.wav\n"
          ],
          "name": "stdout"
        },
        {
          "output_type": "stream",
          "text": [
            "/usr/local/lib/python3.7/dist-packages/librosa/core/audio.py:165: UserWarning: PySoundFile failed. Trying audioread instead.\n",
            "  warnings.warn(\"PySoundFile failed. Trying audioread instead.\")\n"
          ],
          "name": "stderr"
        },
        {
          "output_type": "stream",
          "text": [
            "Data/Happy/1_13.wav\n",
            "Data/Happy/1_12.wav\n",
            "Data/Happy/1_57.wav\n"
          ],
          "name": "stdout"
        },
        {
          "output_type": "stream",
          "text": [
            "/usr/local/lib/python3.7/dist-packages/librosa/core/audio.py:165: UserWarning: PySoundFile failed. Trying audioread instead.\n",
            "  warnings.warn(\"PySoundFile failed. Trying audioread instead.\")\n"
          ],
          "name": "stderr"
        },
        {
          "output_type": "stream",
          "text": [
            "Data/Happy/1_8.wav\n",
            "Data/Happy/1_14.wav\n",
            "Data/Happy/1_90.wav\n"
          ],
          "name": "stdout"
        },
        {
          "output_type": "stream",
          "text": [
            "/usr/local/lib/python3.7/dist-packages/librosa/core/audio.py:165: UserWarning: PySoundFile failed. Trying audioread instead.\n",
            "  warnings.warn(\"PySoundFile failed. Trying audioread instead.\")\n"
          ],
          "name": "stderr"
        },
        {
          "output_type": "stream",
          "text": [
            "Data/Happy/1_65.wav\n"
          ],
          "name": "stdout"
        },
        {
          "output_type": "stream",
          "text": [
            "/usr/local/lib/python3.7/dist-packages/librosa/core/audio.py:165: UserWarning: PySoundFile failed. Trying audioread instead.\n",
            "  warnings.warn(\"PySoundFile failed. Trying audioread instead.\")\n"
          ],
          "name": "stderr"
        },
        {
          "output_type": "stream",
          "text": [
            "Data/Happy/1_60.wav\n"
          ],
          "name": "stdout"
        },
        {
          "output_type": "stream",
          "text": [
            "/usr/local/lib/python3.7/dist-packages/librosa/core/audio.py:165: UserWarning: PySoundFile failed. Trying audioread instead.\n",
            "  warnings.warn(\"PySoundFile failed. Trying audioread instead.\")\n"
          ],
          "name": "stderr"
        },
        {
          "output_type": "stream",
          "text": [
            "Data/Happy/1_34.wav\n"
          ],
          "name": "stdout"
        },
        {
          "output_type": "stream",
          "text": [
            "/usr/local/lib/python3.7/dist-packages/librosa/core/audio.py:165: UserWarning: PySoundFile failed. Trying audioread instead.\n",
            "  warnings.warn(\"PySoundFile failed. Trying audioread instead.\")\n"
          ],
          "name": "stderr"
        },
        {
          "output_type": "stream",
          "text": [
            "Data/Happy/1_82.wav\n"
          ],
          "name": "stdout"
        },
        {
          "output_type": "stream",
          "text": [
            "/usr/local/lib/python3.7/dist-packages/librosa/core/audio.py:165: UserWarning: PySoundFile failed. Trying audioread instead.\n",
            "  warnings.warn(\"PySoundFile failed. Trying audioread instead.\")\n"
          ],
          "name": "stderr"
        },
        {
          "output_type": "stream",
          "text": [
            "Data/Happy/1_64.wav\n"
          ],
          "name": "stdout"
        },
        {
          "output_type": "stream",
          "text": [
            "/usr/local/lib/python3.7/dist-packages/librosa/core/audio.py:165: UserWarning: PySoundFile failed. Trying audioread instead.\n",
            "  warnings.warn(\"PySoundFile failed. Trying audioread instead.\")\n"
          ],
          "name": "stderr"
        },
        {
          "output_type": "stream",
          "text": [
            "Data/Happy/1_55.wav\n"
          ],
          "name": "stdout"
        },
        {
          "output_type": "stream",
          "text": [
            "/usr/local/lib/python3.7/dist-packages/librosa/core/audio.py:165: UserWarning: PySoundFile failed. Trying audioread instead.\n",
            "  warnings.warn(\"PySoundFile failed. Trying audioread instead.\")\n"
          ],
          "name": "stderr"
        },
        {
          "output_type": "stream",
          "text": [
            "Data/Happy/1_70.wav\n"
          ],
          "name": "stdout"
        },
        {
          "output_type": "stream",
          "text": [
            "/usr/local/lib/python3.7/dist-packages/librosa/core/audio.py:165: UserWarning: PySoundFile failed. Trying audioread instead.\n",
            "  warnings.warn(\"PySoundFile failed. Trying audioread instead.\")\n"
          ],
          "name": "stderr"
        },
        {
          "output_type": "stream",
          "text": [
            "Data/Happy/1_62.wav\n"
          ],
          "name": "stdout"
        },
        {
          "output_type": "stream",
          "text": [
            "/usr/local/lib/python3.7/dist-packages/librosa/core/audio.py:165: UserWarning: PySoundFile failed. Trying audioread instead.\n",
            "  warnings.warn(\"PySoundFile failed. Trying audioread instead.\")\n"
          ],
          "name": "stderr"
        },
        {
          "output_type": "stream",
          "text": [
            "Data/Happy/1_20.wav\n",
            "Data/Happy/1_97.wav\n"
          ],
          "name": "stdout"
        },
        {
          "output_type": "stream",
          "text": [
            "/usr/local/lib/python3.7/dist-packages/librosa/core/audio.py:165: UserWarning: PySoundFile failed. Trying audioread instead.\n",
            "  warnings.warn(\"PySoundFile failed. Trying audioread instead.\")\n"
          ],
          "name": "stderr"
        },
        {
          "output_type": "stream",
          "text": [
            "Data/Happy/1_39.wav\n"
          ],
          "name": "stdout"
        },
        {
          "output_type": "stream",
          "text": [
            "/usr/local/lib/python3.7/dist-packages/librosa/core/audio.py:165: UserWarning: PySoundFile failed. Trying audioread instead.\n",
            "  warnings.warn(\"PySoundFile failed. Trying audioread instead.\")\n"
          ],
          "name": "stderr"
        },
        {
          "output_type": "stream",
          "text": [
            "Data/Happy/1_16.wav\n",
            "Data/Happy/1_87.wav\n"
          ],
          "name": "stdout"
        },
        {
          "output_type": "stream",
          "text": [
            "/usr/local/lib/python3.7/dist-packages/librosa/core/audio.py:165: UserWarning: PySoundFile failed. Trying audioread instead.\n",
            "  warnings.warn(\"PySoundFile failed. Trying audioread instead.\")\n"
          ],
          "name": "stderr"
        },
        {
          "output_type": "stream",
          "text": [
            "Data/Happy/1_79.wav\n"
          ],
          "name": "stdout"
        },
        {
          "output_type": "stream",
          "text": [
            "/usr/local/lib/python3.7/dist-packages/librosa/core/audio.py:165: UserWarning: PySoundFile failed. Trying audioread instead.\n",
            "  warnings.warn(\"PySoundFile failed. Trying audioread instead.\")\n"
          ],
          "name": "stderr"
        },
        {
          "output_type": "stream",
          "text": [
            "Data/Happy/1_69.wav\n"
          ],
          "name": "stdout"
        },
        {
          "output_type": "stream",
          "text": [
            "/usr/local/lib/python3.7/dist-packages/librosa/core/audio.py:165: UserWarning: PySoundFile failed. Trying audioread instead.\n",
            "  warnings.warn(\"PySoundFile failed. Trying audioread instead.\")\n"
          ],
          "name": "stderr"
        },
        {
          "output_type": "stream",
          "text": [
            "Data/Happy/1_44.wav\n"
          ],
          "name": "stdout"
        },
        {
          "output_type": "stream",
          "text": [
            "/usr/local/lib/python3.7/dist-packages/librosa/core/audio.py:165: UserWarning: PySoundFile failed. Trying audioread instead.\n",
            "  warnings.warn(\"PySoundFile failed. Trying audioread instead.\")\n"
          ],
          "name": "stderr"
        },
        {
          "output_type": "stream",
          "text": [
            "Data/Happy/1_93.wav\n"
          ],
          "name": "stdout"
        },
        {
          "output_type": "stream",
          "text": [
            "/usr/local/lib/python3.7/dist-packages/librosa/core/audio.py:165: UserWarning: PySoundFile failed. Trying audioread instead.\n",
            "  warnings.warn(\"PySoundFile failed. Trying audioread instead.\")\n"
          ],
          "name": "stderr"
        },
        {
          "output_type": "stream",
          "text": [
            "Data/Happy/1_1.wav\n",
            "Data/Happy/1_23.wav\n",
            "Data/Happy/1_86.wav\n"
          ],
          "name": "stdout"
        },
        {
          "output_type": "stream",
          "text": [
            "/usr/local/lib/python3.7/dist-packages/librosa/core/audio.py:165: UserWarning: PySoundFile failed. Trying audioread instead.\n",
            "  warnings.warn(\"PySoundFile failed. Trying audioread instead.\")\n"
          ],
          "name": "stderr"
        },
        {
          "output_type": "stream",
          "text": [
            "Data/Happy/1_73.wav\n"
          ],
          "name": "stdout"
        },
        {
          "output_type": "stream",
          "text": [
            "/usr/local/lib/python3.7/dist-packages/librosa/core/audio.py:165: UserWarning: PySoundFile failed. Trying audioread instead.\n",
            "  warnings.warn(\"PySoundFile failed. Trying audioread instead.\")\n"
          ],
          "name": "stderr"
        },
        {
          "output_type": "stream",
          "text": [
            "Data/Happy/1_27.wav\n"
          ],
          "name": "stdout"
        },
        {
          "output_type": "stream",
          "text": [
            "/usr/local/lib/python3.7/dist-packages/librosa/core/audio.py:165: UserWarning: PySoundFile failed. Trying audioread instead.\n",
            "  warnings.warn(\"PySoundFile failed. Trying audioread instead.\")\n"
          ],
          "name": "stderr"
        },
        {
          "output_type": "stream",
          "text": [
            "Data/Happy/1_26.wav\n"
          ],
          "name": "stdout"
        },
        {
          "output_type": "stream",
          "text": [
            "/usr/local/lib/python3.7/dist-packages/librosa/core/audio.py:165: UserWarning: PySoundFile failed. Trying audioread instead.\n",
            "  warnings.warn(\"PySoundFile failed. Trying audioread instead.\")\n"
          ],
          "name": "stderr"
        },
        {
          "output_type": "stream",
          "text": [
            "Data/Happy/1_19.wav\n",
            "Data/Happy/1_91.wav\n"
          ],
          "name": "stdout"
        },
        {
          "output_type": "stream",
          "text": [
            "/usr/local/lib/python3.7/dist-packages/librosa/core/audio.py:165: UserWarning: PySoundFile failed. Trying audioread instead.\n",
            "  warnings.warn(\"PySoundFile failed. Trying audioread instead.\")\n"
          ],
          "name": "stderr"
        },
        {
          "output_type": "stream",
          "text": [
            "Data/Happy/1_31.wav\n"
          ],
          "name": "stdout"
        },
        {
          "output_type": "stream",
          "text": [
            "/usr/local/lib/python3.7/dist-packages/librosa/core/audio.py:165: UserWarning: PySoundFile failed. Trying audioread instead.\n",
            "  warnings.warn(\"PySoundFile failed. Trying audioread instead.\")\n"
          ],
          "name": "stderr"
        },
        {
          "output_type": "stream",
          "text": [
            "Data/Happy/1_3.wav\n",
            "Data/Happy/1_15.wav\n",
            "Data/Happy/1_71.wav\n"
          ],
          "name": "stdout"
        },
        {
          "output_type": "stream",
          "text": [
            "/usr/local/lib/python3.7/dist-packages/librosa/core/audio.py:165: UserWarning: PySoundFile failed. Trying audioread instead.\n",
            "  warnings.warn(\"PySoundFile failed. Trying audioread instead.\")\n"
          ],
          "name": "stderr"
        },
        {
          "output_type": "stream",
          "text": [
            "Data/Happy/1_22.wav\n",
            "Data/Happy/1_50.wav\n"
          ],
          "name": "stdout"
        },
        {
          "output_type": "stream",
          "text": [
            "/usr/local/lib/python3.7/dist-packages/librosa/core/audio.py:165: UserWarning: PySoundFile failed. Trying audioread instead.\n",
            "  warnings.warn(\"PySoundFile failed. Trying audioread instead.\")\n"
          ],
          "name": "stderr"
        },
        {
          "output_type": "stream",
          "text": [
            "Data/Happy/1_61.wav\n"
          ],
          "name": "stdout"
        },
        {
          "output_type": "stream",
          "text": [
            "/usr/local/lib/python3.7/dist-packages/librosa/core/audio.py:165: UserWarning: PySoundFile failed. Trying audioread instead.\n",
            "  warnings.warn(\"PySoundFile failed. Trying audioread instead.\")\n"
          ],
          "name": "stderr"
        },
        {
          "output_type": "stream",
          "text": [
            "Data/Happy/1_81.wav\n"
          ],
          "name": "stdout"
        },
        {
          "output_type": "stream",
          "text": [
            "/usr/local/lib/python3.7/dist-packages/librosa/core/audio.py:165: UserWarning: PySoundFile failed. Trying audioread instead.\n",
            "  warnings.warn(\"PySoundFile failed. Trying audioread instead.\")\n"
          ],
          "name": "stderr"
        },
        {
          "output_type": "stream",
          "text": [
            "Data/Happy/1_63.wav\n"
          ],
          "name": "stdout"
        },
        {
          "output_type": "stream",
          "text": [
            "/usr/local/lib/python3.7/dist-packages/librosa/core/audio.py:165: UserWarning: PySoundFile failed. Trying audioread instead.\n",
            "  warnings.warn(\"PySoundFile failed. Trying audioread instead.\")\n"
          ],
          "name": "stderr"
        },
        {
          "output_type": "stream",
          "text": [
            "Data/Happy/1_88.wav\n"
          ],
          "name": "stdout"
        },
        {
          "output_type": "stream",
          "text": [
            "/usr/local/lib/python3.7/dist-packages/librosa/core/audio.py:165: UserWarning: PySoundFile failed. Trying audioread instead.\n",
            "  warnings.warn(\"PySoundFile failed. Trying audioread instead.\")\n"
          ],
          "name": "stderr"
        },
        {
          "output_type": "stream",
          "text": [
            "Data/Happy/1_7.wav\n",
            "Data/Happy/1_83.wav\n"
          ],
          "name": "stdout"
        },
        {
          "output_type": "stream",
          "text": [
            "/usr/local/lib/python3.7/dist-packages/librosa/core/audio.py:165: UserWarning: PySoundFile failed. Trying audioread instead.\n",
            "  warnings.warn(\"PySoundFile failed. Trying audioread instead.\")\n"
          ],
          "name": "stderr"
        },
        {
          "output_type": "stream",
          "text": [
            "Data/Happy/1_99.wav\n"
          ],
          "name": "stdout"
        },
        {
          "output_type": "stream",
          "text": [
            "/usr/local/lib/python3.7/dist-packages/librosa/core/audio.py:165: UserWarning: PySoundFile failed. Trying audioread instead.\n",
            "  warnings.warn(\"PySoundFile failed. Trying audioread instead.\")\n"
          ],
          "name": "stderr"
        },
        {
          "output_type": "stream",
          "text": [
            "Data/Happy/1_10.wav\n",
            "Data/Happy/1_46.wav\n"
          ],
          "name": "stdout"
        },
        {
          "output_type": "stream",
          "text": [
            "/usr/local/lib/python3.7/dist-packages/librosa/core/audio.py:165: UserWarning: PySoundFile failed. Trying audioread instead.\n",
            "  warnings.warn(\"PySoundFile failed. Trying audioread instead.\")\n"
          ],
          "name": "stderr"
        },
        {
          "output_type": "stream",
          "text": [
            "Data/Happy/1_29.wav\n"
          ],
          "name": "stdout"
        },
        {
          "output_type": "stream",
          "text": [
            "/usr/local/lib/python3.7/dist-packages/librosa/core/audio.py:165: UserWarning: PySoundFile failed. Trying audioread instead.\n",
            "  warnings.warn(\"PySoundFile failed. Trying audioread instead.\")\n"
          ],
          "name": "stderr"
        },
        {
          "output_type": "stream",
          "text": [
            "Data/Happy/1_9.wav\n",
            "Data/Happy/1_4.wav\n",
            "Data/Happy/1_85.wav\n"
          ],
          "name": "stdout"
        },
        {
          "output_type": "stream",
          "text": [
            "/usr/local/lib/python3.7/dist-packages/librosa/core/audio.py:165: UserWarning: PySoundFile failed. Trying audioread instead.\n",
            "  warnings.warn(\"PySoundFile failed. Trying audioread instead.\")\n"
          ],
          "name": "stderr"
        },
        {
          "output_type": "stream",
          "text": [
            "Data/Happy/1_47.wav\n"
          ],
          "name": "stdout"
        },
        {
          "output_type": "stream",
          "text": [
            "/usr/local/lib/python3.7/dist-packages/librosa/core/audio.py:165: UserWarning: PySoundFile failed. Trying audioread instead.\n",
            "  warnings.warn(\"PySoundFile failed. Trying audioread instead.\")\n"
          ],
          "name": "stderr"
        },
        {
          "output_type": "stream",
          "text": [
            "Data/Happy/1_56.wav\n"
          ],
          "name": "stdout"
        },
        {
          "output_type": "stream",
          "text": [
            "/usr/local/lib/python3.7/dist-packages/librosa/core/audio.py:165: UserWarning: PySoundFile failed. Trying audioread instead.\n",
            "  warnings.warn(\"PySoundFile failed. Trying audioread instead.\")\n"
          ],
          "name": "stderr"
        },
        {
          "output_type": "stream",
          "text": [
            "Data/Happy/1_28.wav\n"
          ],
          "name": "stdout"
        },
        {
          "output_type": "stream",
          "text": [
            "/usr/local/lib/python3.7/dist-packages/librosa/core/audio.py:165: UserWarning: PySoundFile failed. Trying audioread instead.\n",
            "  warnings.warn(\"PySoundFile failed. Trying audioread instead.\")\n"
          ],
          "name": "stderr"
        },
        {
          "output_type": "stream",
          "text": [
            "Data/Happy/1_92.wav\n"
          ],
          "name": "stdout"
        },
        {
          "output_type": "stream",
          "text": [
            "/usr/local/lib/python3.7/dist-packages/librosa/core/audio.py:165: UserWarning: PySoundFile failed. Trying audioread instead.\n",
            "  warnings.warn(\"PySoundFile failed. Trying audioread instead.\")\n"
          ],
          "name": "stderr"
        },
        {
          "output_type": "stream",
          "text": [
            "Data/Happy/1_5.wav\n",
            "Data/Happy/1_41.wav\n"
          ],
          "name": "stdout"
        },
        {
          "output_type": "stream",
          "text": [
            "/usr/local/lib/python3.7/dist-packages/librosa/core/audio.py:165: UserWarning: PySoundFile failed. Trying audioread instead.\n",
            "  warnings.warn(\"PySoundFile failed. Trying audioread instead.\")\n"
          ],
          "name": "stderr"
        },
        {
          "output_type": "stream",
          "text": [
            "Data/Happy/1_35.wav\n"
          ],
          "name": "stdout"
        },
        {
          "output_type": "stream",
          "text": [
            "/usr/local/lib/python3.7/dist-packages/librosa/core/audio.py:165: UserWarning: PySoundFile failed. Trying audioread instead.\n",
            "  warnings.warn(\"PySoundFile failed. Trying audioread instead.\")\n"
          ],
          "name": "stderr"
        },
        {
          "output_type": "stream",
          "text": [
            "Data/Happy/1_25.wav\n",
            "Data/Happy/1_54.wav\n"
          ],
          "name": "stdout"
        },
        {
          "output_type": "stream",
          "text": [
            "/usr/local/lib/python3.7/dist-packages/librosa/core/audio.py:165: UserWarning: PySoundFile failed. Trying audioread instead.\n",
            "  warnings.warn(\"PySoundFile failed. Trying audioread instead.\")\n"
          ],
          "name": "stderr"
        },
        {
          "output_type": "stream",
          "text": [
            "Data/Happy/1_95.wav\n"
          ],
          "name": "stdout"
        },
        {
          "output_type": "stream",
          "text": [
            "/usr/local/lib/python3.7/dist-packages/librosa/core/audio.py:165: UserWarning: PySoundFile failed. Trying audioread instead.\n",
            "  warnings.warn(\"PySoundFile failed. Trying audioread instead.\")\n"
          ],
          "name": "stderr"
        },
        {
          "output_type": "stream",
          "text": [
            "Data/Happy/1_59.wav\n"
          ],
          "name": "stdout"
        },
        {
          "output_type": "stream",
          "text": [
            "/usr/local/lib/python3.7/dist-packages/librosa/core/audio.py:165: UserWarning: PySoundFile failed. Trying audioread instead.\n",
            "  warnings.warn(\"PySoundFile failed. Trying audioread instead.\")\n"
          ],
          "name": "stderr"
        },
        {
          "output_type": "stream",
          "text": [
            "Data/Neutral/3_50.wav\n",
            "Data/Neutral/3_73.wav\n",
            "Data/Neutral/3_55.wav\n",
            "Data/Neutral/3_82.wav\n",
            "Data/Neutral/3_4.wav\n",
            "Data/Neutral/3_8.wav\n",
            "Data/Neutral/3_98.wav\n",
            "Data/Neutral/3_83.wav\n",
            "Data/Neutral/3_96.wav\n",
            "Data/Neutral/3_31.wav\n",
            "Data/Neutral/3_25.wav\n",
            "Data/Neutral/3_87.wav\n",
            "Data/Neutral/3_52.wav\n",
            "Data/Neutral/3_7.wav\n",
            "Data/Neutral/3_43.wav\n",
            "Data/Neutral/3_33.wav\n",
            "Data/Neutral/3_27.wav\n",
            "Data/Neutral/3_80.wav\n",
            "Data/Neutral/3_20.wav\n",
            "Data/Neutral/3_46.wav\n",
            "Data/Neutral/3_29.wav\n",
            "Data/Neutral/3_34.wav\n",
            "Data/Neutral/3_15.wav\n",
            "Data/Neutral/3_38.wav\n",
            "Data/Neutral/3_6.wav\n",
            "Data/Neutral/3_42.wav\n",
            "Data/Neutral/3_74.wav\n",
            "Data/Neutral/3_53.wav\n",
            "Data/Neutral/3_35.wav\n",
            "Data/Neutral/3_51.wav\n",
            "Data/Neutral/3_63.wav\n",
            "Data/Neutral/3_85.wav\n",
            "Data/Neutral/3_76.wav\n",
            "Data/Neutral/3_94.wav\n",
            "Data/Neutral/3_17.wav\n",
            "Data/Neutral/3_9.wav\n",
            "Data/Neutral/3_28.wav\n",
            "Data/Neutral/3_62.wav\n",
            "Data/Neutral/3_19.wav\n",
            "Data/Neutral/3_91.wav\n",
            "Data/Neutral/3_39.wav\n",
            "Data/Neutral/3_69.wav\n",
            "Data/Neutral/3_11.wav\n",
            "Data/Neutral/3_13.wav\n",
            "Data/Neutral/3_41.wav\n",
            "Data/Neutral/3_92.wav\n",
            "Data/Neutral/3_47.wav\n",
            "Data/Neutral/3_14.wav\n",
            "Data/Neutral/3_67.wav\n",
            "Data/Neutral/3_1.wav\n",
            "Data/Neutral/3_22.wav\n",
            "Data/Neutral/3_56.wav\n",
            "Data/Neutral/3_37.wav\n",
            "Data/Neutral/3_64.wav\n",
            "Data/Neutral/3_84.wav\n",
            "Data/Neutral/3_24.wav\n",
            "Data/Neutral/3_75.wav\n",
            "Data/Neutral/3_5.wav\n",
            "Data/Neutral/3_10.wav\n",
            "Data/Neutral/3_61.wav\n",
            "Data/Neutral/3_86.wav\n",
            "Data/Neutral/3_40.wav\n",
            "Data/Neutral/3_100.wav\n",
            "Data/Neutral/3_58.wav\n",
            "Data/Neutral/3_36.wav\n",
            "Data/Neutral/3_90.wav\n",
            "Data/Neutral/3_77.wav\n",
            "Data/Neutral/3_88.wav\n",
            "Data/Neutral/3_23.wav\n",
            "Data/Neutral/3_89.wav\n",
            "Data/Neutral/3_70.wav\n",
            "Data/Neutral/3_12.wav\n",
            "Data/Neutral/3_71.wav\n",
            "Data/Neutral/3_68.wav\n",
            "Data/Neutral/3_79.wav\n",
            "Data/Neutral/3_57.wav\n",
            "Data/Neutral/3_30.wav\n",
            "Data/Neutral/3_81.wav\n",
            "Data/Neutral/3_18.wav\n",
            "Data/Neutral/3_32.wav\n",
            "Data/Neutral/3_72.wav\n",
            "Data/Neutral/3_44.wav\n",
            "Data/Neutral/3_97.wav\n",
            "Data/Neutral/3_66.wav\n",
            "Data/Neutral/3_78.wav\n",
            "Data/Neutral/3_93.wav\n",
            "Data/Neutral/3_54.wav\n",
            "Data/Neutral/3_99.wav\n",
            "Data/Neutral/3_49.wav\n",
            "Data/Neutral/3_59.wav\n",
            "Data/Neutral/3_3.wav\n",
            "Data/Neutral/3_48.wav\n",
            "Data/Neutral/3_60.wav\n",
            "Data/Neutral/3_26.wav\n",
            "Data/Neutral/3_45.wav\n",
            "Data/Neutral/3_16.wav\n",
            "Data/Neutral/3_21.wav\n",
            "Data/Neutral/3_65.wav\n",
            "Data/Neutral/3_95.wav\n",
            "Data/Neutral/3_2.wav\n",
            "Data/Sad/2_67.wav\n"
          ],
          "name": "stdout"
        },
        {
          "output_type": "stream",
          "text": [
            "/usr/local/lib/python3.7/dist-packages/librosa/core/audio.py:165: UserWarning: PySoundFile failed. Trying audioread instead.\n",
            "  warnings.warn(\"PySoundFile failed. Trying audioread instead.\")\n"
          ],
          "name": "stderr"
        },
        {
          "output_type": "stream",
          "text": [
            "Data/Sad/2_95.wav\n"
          ],
          "name": "stdout"
        },
        {
          "output_type": "stream",
          "text": [
            "/usr/local/lib/python3.7/dist-packages/librosa/core/audio.py:165: UserWarning: PySoundFile failed. Trying audioread instead.\n",
            "  warnings.warn(\"PySoundFile failed. Trying audioread instead.\")\n"
          ],
          "name": "stderr"
        },
        {
          "output_type": "stream",
          "text": [
            "Data/Sad/2_7.wav\n",
            "Data/Sad/2_93.wav\n"
          ],
          "name": "stdout"
        },
        {
          "output_type": "stream",
          "text": [
            "/usr/local/lib/python3.7/dist-packages/librosa/core/audio.py:165: UserWarning: PySoundFile failed. Trying audioread instead.\n",
            "  warnings.warn(\"PySoundFile failed. Trying audioread instead.\")\n"
          ],
          "name": "stderr"
        },
        {
          "output_type": "stream",
          "text": [
            "Data/Sad/2_99.wav\n"
          ],
          "name": "stdout"
        },
        {
          "output_type": "stream",
          "text": [
            "/usr/local/lib/python3.7/dist-packages/librosa/core/audio.py:165: UserWarning: PySoundFile failed. Trying audioread instead.\n",
            "  warnings.warn(\"PySoundFile failed. Trying audioread instead.\")\n"
          ],
          "name": "stderr"
        },
        {
          "output_type": "stream",
          "text": [
            "Data/Sad/2_54.wav\n"
          ],
          "name": "stdout"
        },
        {
          "output_type": "stream",
          "text": [
            "/usr/local/lib/python3.7/dist-packages/librosa/core/audio.py:165: UserWarning: PySoundFile failed. Trying audioread instead.\n",
            "  warnings.warn(\"PySoundFile failed. Trying audioread instead.\")\n"
          ],
          "name": "stderr"
        },
        {
          "output_type": "stream",
          "text": [
            "Data/Sad/2_41.wav\n"
          ],
          "name": "stdout"
        },
        {
          "output_type": "stream",
          "text": [
            "/usr/local/lib/python3.7/dist-packages/librosa/core/audio.py:165: UserWarning: PySoundFile failed. Trying audioread instead.\n",
            "  warnings.warn(\"PySoundFile failed. Trying audioread instead.\")\n"
          ],
          "name": "stderr"
        },
        {
          "output_type": "stream",
          "text": [
            "Data/Sad/2_12.wav\n",
            "Data/Sad/2_9.wav\n",
            "Data/Sad/2_8.wav\n",
            "Data/Sad/2_43.wav\n"
          ],
          "name": "stdout"
        },
        {
          "output_type": "stream",
          "text": [
            "/usr/local/lib/python3.7/dist-packages/librosa/core/audio.py:165: UserWarning: PySoundFile failed. Trying audioread instead.\n",
            "  warnings.warn(\"PySoundFile failed. Trying audioread instead.\")\n"
          ],
          "name": "stderr"
        },
        {
          "output_type": "stream",
          "text": [
            "Data/Sad/2_97.wav\n"
          ],
          "name": "stdout"
        },
        {
          "output_type": "stream",
          "text": [
            "/usr/local/lib/python3.7/dist-packages/librosa/core/audio.py:165: UserWarning: PySoundFile failed. Trying audioread instead.\n",
            "  warnings.warn(\"PySoundFile failed. Trying audioread instead.\")\n"
          ],
          "name": "stderr"
        },
        {
          "output_type": "stream",
          "text": [
            "Data/Sad/2_35.wav\n"
          ],
          "name": "stdout"
        },
        {
          "output_type": "stream",
          "text": [
            "/usr/local/lib/python3.7/dist-packages/librosa/core/audio.py:165: UserWarning: PySoundFile failed. Trying audioread instead.\n",
            "  warnings.warn(\"PySoundFile failed. Trying audioread instead.\")\n"
          ],
          "name": "stderr"
        },
        {
          "output_type": "stream",
          "text": [
            "Data/Sad/2_20.wav\n",
            "Data/Sad/2_84.wav\n"
          ],
          "name": "stdout"
        },
        {
          "output_type": "stream",
          "text": [
            "/usr/local/lib/python3.7/dist-packages/librosa/core/audio.py:165: UserWarning: PySoundFile failed. Trying audioread instead.\n",
            "  warnings.warn(\"PySoundFile failed. Trying audioread instead.\")\n"
          ],
          "name": "stderr"
        },
        {
          "output_type": "stream",
          "text": [
            "Data/Sad/2_1.wav\n",
            "Data/Sad/2_66.wav\n"
          ],
          "name": "stdout"
        },
        {
          "output_type": "stream",
          "text": [
            "/usr/local/lib/python3.7/dist-packages/librosa/core/audio.py:165: UserWarning: PySoundFile failed. Trying audioread instead.\n",
            "  warnings.warn(\"PySoundFile failed. Trying audioread instead.\")\n"
          ],
          "name": "stderr"
        },
        {
          "output_type": "stream",
          "text": [
            "Data/Sad/2_15.wav\n",
            "Data/Sad/2_53.wav\n"
          ],
          "name": "stdout"
        },
        {
          "output_type": "stream",
          "text": [
            "/usr/local/lib/python3.7/dist-packages/librosa/core/audio.py:165: UserWarning: PySoundFile failed. Trying audioread instead.\n",
            "  warnings.warn(\"PySoundFile failed. Trying audioread instead.\")\n"
          ],
          "name": "stderr"
        },
        {
          "output_type": "stream",
          "text": [
            "Data/Sad/2_91.wav\n"
          ],
          "name": "stdout"
        },
        {
          "output_type": "stream",
          "text": [
            "/usr/local/lib/python3.7/dist-packages/librosa/core/audio.py:165: UserWarning: PySoundFile failed. Trying audioread instead.\n",
            "  warnings.warn(\"PySoundFile failed. Trying audioread instead.\")\n"
          ],
          "name": "stderr"
        },
        {
          "output_type": "stream",
          "text": [
            "Data/Sad/2_58.wav\n"
          ],
          "name": "stdout"
        },
        {
          "output_type": "stream",
          "text": [
            "/usr/local/lib/python3.7/dist-packages/librosa/core/audio.py:165: UserWarning: PySoundFile failed. Trying audioread instead.\n",
            "  warnings.warn(\"PySoundFile failed. Trying audioread instead.\")\n"
          ],
          "name": "stderr"
        },
        {
          "output_type": "stream",
          "text": [
            "Data/Sad/2_27.wav\n"
          ],
          "name": "stdout"
        },
        {
          "output_type": "stream",
          "text": [
            "/usr/local/lib/python3.7/dist-packages/librosa/core/audio.py:165: UserWarning: PySoundFile failed. Trying audioread instead.\n",
            "  warnings.warn(\"PySoundFile failed. Trying audioread instead.\")\n"
          ],
          "name": "stderr"
        },
        {
          "output_type": "stream",
          "text": [
            "Data/Sad/2_63.wav\n"
          ],
          "name": "stdout"
        },
        {
          "output_type": "stream",
          "text": [
            "/usr/local/lib/python3.7/dist-packages/librosa/core/audio.py:165: UserWarning: PySoundFile failed. Trying audioread instead.\n",
            "  warnings.warn(\"PySoundFile failed. Trying audioread instead.\")\n"
          ],
          "name": "stderr"
        },
        {
          "output_type": "stream",
          "text": [
            "Data/Sad/2_81.wav\n"
          ],
          "name": "stdout"
        },
        {
          "output_type": "stream",
          "text": [
            "/usr/local/lib/python3.7/dist-packages/librosa/core/audio.py:165: UserWarning: PySoundFile failed. Trying audioread instead.\n",
            "  warnings.warn(\"PySoundFile failed. Trying audioread instead.\")\n"
          ],
          "name": "stderr"
        },
        {
          "output_type": "stream",
          "text": [
            "Data/Sad/2_51.wav\n"
          ],
          "name": "stdout"
        },
        {
          "output_type": "stream",
          "text": [
            "/usr/local/lib/python3.7/dist-packages/librosa/core/audio.py:165: UserWarning: PySoundFile failed. Trying audioread instead.\n",
            "  warnings.warn(\"PySoundFile failed. Trying audioread instead.\")\n"
          ],
          "name": "stderr"
        },
        {
          "output_type": "stream",
          "text": [
            "Data/Sad/2_39.wav\n"
          ],
          "name": "stdout"
        },
        {
          "output_type": "stream",
          "text": [
            "/usr/local/lib/python3.7/dist-packages/librosa/core/audio.py:165: UserWarning: PySoundFile failed. Trying audioread instead.\n",
            "  warnings.warn(\"PySoundFile failed. Trying audioread instead.\")\n"
          ],
          "name": "stderr"
        },
        {
          "output_type": "stream",
          "text": [
            "Data/Sad/2_57.wav\n"
          ],
          "name": "stdout"
        },
        {
          "output_type": "stream",
          "text": [
            "/usr/local/lib/python3.7/dist-packages/librosa/core/audio.py:165: UserWarning: PySoundFile failed. Trying audioread instead.\n",
            "  warnings.warn(\"PySoundFile failed. Trying audioread instead.\")\n"
          ],
          "name": "stderr"
        },
        {
          "output_type": "stream",
          "text": [
            "Data/Sad/2_31.wav\n"
          ],
          "name": "stdout"
        },
        {
          "output_type": "stream",
          "text": [
            "/usr/local/lib/python3.7/dist-packages/librosa/core/audio.py:165: UserWarning: PySoundFile failed. Trying audioread instead.\n",
            "  warnings.warn(\"PySoundFile failed. Trying audioread instead.\")\n"
          ],
          "name": "stderr"
        },
        {
          "output_type": "stream",
          "text": [
            "Data/Sad/2_37.wav\n"
          ],
          "name": "stdout"
        },
        {
          "output_type": "stream",
          "text": [
            "/usr/local/lib/python3.7/dist-packages/librosa/core/audio.py:165: UserWarning: PySoundFile failed. Trying audioread instead.\n",
            "  warnings.warn(\"PySoundFile failed. Trying audioread instead.\")\n"
          ],
          "name": "stderr"
        },
        {
          "output_type": "stream",
          "text": [
            "Data/Sad/2_55.wav\n"
          ],
          "name": "stdout"
        },
        {
          "output_type": "stream",
          "text": [
            "/usr/local/lib/python3.7/dist-packages/librosa/core/audio.py:165: UserWarning: PySoundFile failed. Trying audioread instead.\n",
            "  warnings.warn(\"PySoundFile failed. Trying audioread instead.\")\n"
          ],
          "name": "stderr"
        },
        {
          "output_type": "stream",
          "text": [
            "Data/Sad/2_86.wav\n"
          ],
          "name": "stdout"
        },
        {
          "output_type": "stream",
          "text": [
            "/usr/local/lib/python3.7/dist-packages/librosa/core/audio.py:165: UserWarning: PySoundFile failed. Trying audioread instead.\n",
            "  warnings.warn(\"PySoundFile failed. Trying audioread instead.\")\n"
          ],
          "name": "stderr"
        },
        {
          "output_type": "stream",
          "text": [
            "Data/Sad/2_75.wav\n"
          ],
          "name": "stdout"
        },
        {
          "output_type": "stream",
          "text": [
            "/usr/local/lib/python3.7/dist-packages/librosa/core/audio.py:165: UserWarning: PySoundFile failed. Trying audioread instead.\n",
            "  warnings.warn(\"PySoundFile failed. Trying audioread instead.\")\n"
          ],
          "name": "stderr"
        },
        {
          "output_type": "stream",
          "text": [
            "Data/Sad/2_44.wav\n"
          ],
          "name": "stdout"
        },
        {
          "output_type": "stream",
          "text": [
            "/usr/local/lib/python3.7/dist-packages/librosa/core/audio.py:165: UserWarning: PySoundFile failed. Trying audioread instead.\n",
            "  warnings.warn(\"PySoundFile failed. Trying audioread instead.\")\n"
          ],
          "name": "stderr"
        },
        {
          "output_type": "stream",
          "text": [
            "Data/Sad/2_17.wav\n",
            "Data/Sad/2_60.wav\n"
          ],
          "name": "stdout"
        },
        {
          "output_type": "stream",
          "text": [
            "/usr/local/lib/python3.7/dist-packages/librosa/core/audio.py:165: UserWarning: PySoundFile failed. Trying audioread instead.\n",
            "  warnings.warn(\"PySoundFile failed. Trying audioread instead.\")\n"
          ],
          "name": "stderr"
        },
        {
          "output_type": "stream",
          "text": [
            "Data/Sad/2_10.wav\n",
            "Data/Sad/2_92.wav\n"
          ],
          "name": "stdout"
        },
        {
          "output_type": "stream",
          "text": [
            "/usr/local/lib/python3.7/dist-packages/librosa/core/audio.py:165: UserWarning: PySoundFile failed. Trying audioread instead.\n",
            "  warnings.warn(\"PySoundFile failed. Trying audioread instead.\")\n"
          ],
          "name": "stderr"
        },
        {
          "output_type": "stream",
          "text": [
            "Data/Sad/2_96.wav\n"
          ],
          "name": "stdout"
        },
        {
          "output_type": "stream",
          "text": [
            "/usr/local/lib/python3.7/dist-packages/librosa/core/audio.py:165: UserWarning: PySoundFile failed. Trying audioread instead.\n",
            "  warnings.warn(\"PySoundFile failed. Trying audioread instead.\")\n"
          ],
          "name": "stderr"
        },
        {
          "output_type": "stream",
          "text": [
            "Data/Sad/2_3.wav\n",
            "Data/Sad/2_32.wav\n"
          ],
          "name": "stdout"
        },
        {
          "output_type": "stream",
          "text": [
            "/usr/local/lib/python3.7/dist-packages/librosa/core/audio.py:165: UserWarning: PySoundFile failed. Trying audioread instead.\n",
            "  warnings.warn(\"PySoundFile failed. Trying audioread instead.\")\n"
          ],
          "name": "stderr"
        },
        {
          "output_type": "stream",
          "text": [
            "Data/Sad/2_5.wav\n",
            "Data/Sad/2_69.wav\n"
          ],
          "name": "stdout"
        },
        {
          "output_type": "stream",
          "text": [
            "/usr/local/lib/python3.7/dist-packages/librosa/core/audio.py:165: UserWarning: PySoundFile failed. Trying audioread instead.\n",
            "  warnings.warn(\"PySoundFile failed. Trying audioread instead.\")\n"
          ],
          "name": "stderr"
        },
        {
          "output_type": "stream",
          "text": [
            "Data/Sad/2_98.wav\n"
          ],
          "name": "stdout"
        },
        {
          "output_type": "stream",
          "text": [
            "/usr/local/lib/python3.7/dist-packages/librosa/core/audio.py:165: UserWarning: PySoundFile failed. Trying audioread instead.\n",
            "  warnings.warn(\"PySoundFile failed. Trying audioread instead.\")\n"
          ],
          "name": "stderr"
        },
        {
          "output_type": "stream",
          "text": [
            "Data/Sad/2_77.wav\n"
          ],
          "name": "stdout"
        },
        {
          "output_type": "stream",
          "text": [
            "/usr/local/lib/python3.7/dist-packages/librosa/core/audio.py:165: UserWarning: PySoundFile failed. Trying audioread instead.\n",
            "  warnings.warn(\"PySoundFile failed. Trying audioread instead.\")\n"
          ],
          "name": "stderr"
        },
        {
          "output_type": "stream",
          "text": [
            "Data/Sad/2_83.wav\n"
          ],
          "name": "stdout"
        },
        {
          "output_type": "stream",
          "text": [
            "/usr/local/lib/python3.7/dist-packages/librosa/core/audio.py:165: UserWarning: PySoundFile failed. Trying audioread instead.\n",
            "  warnings.warn(\"PySoundFile failed. Trying audioread instead.\")\n"
          ],
          "name": "stderr"
        },
        {
          "output_type": "stream",
          "text": [
            "Data/Sad/2_42.wav\n"
          ],
          "name": "stdout"
        },
        {
          "output_type": "stream",
          "text": [
            "/usr/local/lib/python3.7/dist-packages/librosa/core/audio.py:165: UserWarning: PySoundFile failed. Trying audioread instead.\n",
            "  warnings.warn(\"PySoundFile failed. Trying audioread instead.\")\n"
          ],
          "name": "stderr"
        },
        {
          "output_type": "stream",
          "text": [
            "Data/Sad/2_40.wav\n"
          ],
          "name": "stdout"
        },
        {
          "output_type": "stream",
          "text": [
            "/usr/local/lib/python3.7/dist-packages/librosa/core/audio.py:165: UserWarning: PySoundFile failed. Trying audioread instead.\n",
            "  warnings.warn(\"PySoundFile failed. Trying audioread instead.\")\n"
          ],
          "name": "stderr"
        },
        {
          "output_type": "stream",
          "text": [
            "Data/Sad/2_34.wav\n"
          ],
          "name": "stdout"
        },
        {
          "output_type": "stream",
          "text": [
            "/usr/local/lib/python3.7/dist-packages/librosa/core/audio.py:165: UserWarning: PySoundFile failed. Trying audioread instead.\n",
            "  warnings.warn(\"PySoundFile failed. Trying audioread instead.\")\n"
          ],
          "name": "stderr"
        },
        {
          "output_type": "stream",
          "text": [
            "Data/Sad/2_72.wav\n"
          ],
          "name": "stdout"
        },
        {
          "output_type": "stream",
          "text": [
            "/usr/local/lib/python3.7/dist-packages/librosa/core/audio.py:165: UserWarning: PySoundFile failed. Trying audioread instead.\n",
            "  warnings.warn(\"PySoundFile failed. Trying audioread instead.\")\n"
          ],
          "name": "stderr"
        },
        {
          "output_type": "stream",
          "text": [
            "Data/Sad/2_30.wav\n"
          ],
          "name": "stdout"
        },
        {
          "output_type": "stream",
          "text": [
            "/usr/local/lib/python3.7/dist-packages/librosa/core/audio.py:165: UserWarning: PySoundFile failed. Trying audioread instead.\n",
            "  warnings.warn(\"PySoundFile failed. Trying audioread instead.\")\n"
          ],
          "name": "stderr"
        },
        {
          "output_type": "stream",
          "text": [
            "Data/Sad/2_11.wav\n",
            "Data/Sad/2_62.wav\n"
          ],
          "name": "stdout"
        },
        {
          "output_type": "stream",
          "text": [
            "/usr/local/lib/python3.7/dist-packages/librosa/core/audio.py:165: UserWarning: PySoundFile failed. Trying audioread instead.\n",
            "  warnings.warn(\"PySoundFile failed. Trying audioread instead.\")\n"
          ],
          "name": "stderr"
        },
        {
          "output_type": "stream",
          "text": [
            "Data/Sad/2_61.wav\n"
          ],
          "name": "stdout"
        },
        {
          "output_type": "stream",
          "text": [
            "/usr/local/lib/python3.7/dist-packages/librosa/core/audio.py:165: UserWarning: PySoundFile failed. Trying audioread instead.\n",
            "  warnings.warn(\"PySoundFile failed. Trying audioread instead.\")\n"
          ],
          "name": "stderr"
        },
        {
          "output_type": "stream",
          "text": [
            "Data/Sad/2_25.wav\n",
            "Data/Sad/2_73.wav\n"
          ],
          "name": "stdout"
        },
        {
          "output_type": "stream",
          "text": [
            "/usr/local/lib/python3.7/dist-packages/librosa/core/audio.py:165: UserWarning: PySoundFile failed. Trying audioread instead.\n",
            "  warnings.warn(\"PySoundFile failed. Trying audioread instead.\")\n"
          ],
          "name": "stderr"
        },
        {
          "output_type": "stream",
          "text": [
            "Data/Sad/2_29.wav\n"
          ],
          "name": "stdout"
        },
        {
          "output_type": "stream",
          "text": [
            "/usr/local/lib/python3.7/dist-packages/librosa/core/audio.py:165: UserWarning: PySoundFile failed. Trying audioread instead.\n",
            "  warnings.warn(\"PySoundFile failed. Trying audioread instead.\")\n"
          ],
          "name": "stderr"
        },
        {
          "output_type": "stream",
          "text": [
            "Data/Sad/2_94.wav\n"
          ],
          "name": "stdout"
        },
        {
          "output_type": "stream",
          "text": [
            "/usr/local/lib/python3.7/dist-packages/librosa/core/audio.py:165: UserWarning: PySoundFile failed. Trying audioread instead.\n",
            "  warnings.warn(\"PySoundFile failed. Trying audioread instead.\")\n"
          ],
          "name": "stderr"
        },
        {
          "output_type": "stream",
          "text": [
            "Data/Sad/2_71.wav\n"
          ],
          "name": "stdout"
        },
        {
          "output_type": "stream",
          "text": [
            "/usr/local/lib/python3.7/dist-packages/librosa/core/audio.py:165: UserWarning: PySoundFile failed. Trying audioread instead.\n",
            "  warnings.warn(\"PySoundFile failed. Trying audioread instead.\")\n"
          ],
          "name": "stderr"
        },
        {
          "output_type": "stream",
          "text": [
            "Data/Sad/2_74.wav\n"
          ],
          "name": "stdout"
        },
        {
          "output_type": "stream",
          "text": [
            "/usr/local/lib/python3.7/dist-packages/librosa/core/audio.py:165: UserWarning: PySoundFile failed. Trying audioread instead.\n",
            "  warnings.warn(\"PySoundFile failed. Trying audioread instead.\")\n"
          ],
          "name": "stderr"
        },
        {
          "output_type": "stream",
          "text": [
            "Data/Sad/2_90.wav\n"
          ],
          "name": "stdout"
        },
        {
          "output_type": "stream",
          "text": [
            "/usr/local/lib/python3.7/dist-packages/librosa/core/audio.py:165: UserWarning: PySoundFile failed. Trying audioread instead.\n",
            "  warnings.warn(\"PySoundFile failed. Trying audioread instead.\")\n"
          ],
          "name": "stderr"
        },
        {
          "output_type": "stream",
          "text": [
            "Data/Sad/2_79.wav\n"
          ],
          "name": "stdout"
        },
        {
          "output_type": "stream",
          "text": [
            "/usr/local/lib/python3.7/dist-packages/librosa/core/audio.py:165: UserWarning: PySoundFile failed. Trying audioread instead.\n",
            "  warnings.warn(\"PySoundFile failed. Trying audioread instead.\")\n"
          ],
          "name": "stderr"
        },
        {
          "output_type": "stream",
          "text": [
            "Data/Sad/2_59.wav\n"
          ],
          "name": "stdout"
        },
        {
          "output_type": "stream",
          "text": [
            "/usr/local/lib/python3.7/dist-packages/librosa/core/audio.py:165: UserWarning: PySoundFile failed. Trying audioread instead.\n",
            "  warnings.warn(\"PySoundFile failed. Trying audioread instead.\")\n"
          ],
          "name": "stderr"
        },
        {
          "output_type": "stream",
          "text": [
            "Data/Sad/2_56.wav\n"
          ],
          "name": "stdout"
        },
        {
          "output_type": "stream",
          "text": [
            "/usr/local/lib/python3.7/dist-packages/librosa/core/audio.py:165: UserWarning: PySoundFile failed. Trying audioread instead.\n",
            "  warnings.warn(\"PySoundFile failed. Trying audioread instead.\")\n"
          ],
          "name": "stderr"
        },
        {
          "output_type": "stream",
          "text": [
            "Data/Sad/2_80.wav\n"
          ],
          "name": "stdout"
        },
        {
          "output_type": "stream",
          "text": [
            "/usr/local/lib/python3.7/dist-packages/librosa/core/audio.py:165: UserWarning: PySoundFile failed. Trying audioread instead.\n",
            "  warnings.warn(\"PySoundFile failed. Trying audioread instead.\")\n"
          ],
          "name": "stderr"
        },
        {
          "output_type": "stream",
          "text": [
            "Data/Sad/2_82.wav\n"
          ],
          "name": "stdout"
        },
        {
          "output_type": "stream",
          "text": [
            "/usr/local/lib/python3.7/dist-packages/librosa/core/audio.py:165: UserWarning: PySoundFile failed. Trying audioread instead.\n",
            "  warnings.warn(\"PySoundFile failed. Trying audioread instead.\")\n"
          ],
          "name": "stderr"
        },
        {
          "output_type": "stream",
          "text": [
            "Data/Sad/2_16.wav\n",
            "Data/Sad/2_70.wav\n"
          ],
          "name": "stdout"
        },
        {
          "output_type": "stream",
          "text": [
            "/usr/local/lib/python3.7/dist-packages/librosa/core/audio.py:165: UserWarning: PySoundFile failed. Trying audioread instead.\n",
            "  warnings.warn(\"PySoundFile failed. Trying audioread instead.\")\n"
          ],
          "name": "stderr"
        },
        {
          "output_type": "stream",
          "text": [
            "Data/Sad/2_64.wav\n"
          ],
          "name": "stdout"
        },
        {
          "output_type": "stream",
          "text": [
            "/usr/local/lib/python3.7/dist-packages/librosa/core/audio.py:165: UserWarning: PySoundFile failed. Trying audioread instead.\n",
            "  warnings.warn(\"PySoundFile failed. Trying audioread instead.\")\n"
          ],
          "name": "stderr"
        },
        {
          "output_type": "stream",
          "text": [
            "Data/Sad/2_50.wav\n"
          ],
          "name": "stdout"
        },
        {
          "output_type": "stream",
          "text": [
            "/usr/local/lib/python3.7/dist-packages/librosa/core/audio.py:165: UserWarning: PySoundFile failed. Trying audioread instead.\n",
            "  warnings.warn(\"PySoundFile failed. Trying audioread instead.\")\n"
          ],
          "name": "stderr"
        },
        {
          "output_type": "stream",
          "text": [
            "Data/Sad/2_89.wav\n"
          ],
          "name": "stdout"
        },
        {
          "output_type": "stream",
          "text": [
            "/usr/local/lib/python3.7/dist-packages/librosa/core/audio.py:165: UserWarning: PySoundFile failed. Trying audioread instead.\n",
            "  warnings.warn(\"PySoundFile failed. Trying audioread instead.\")\n"
          ],
          "name": "stderr"
        },
        {
          "output_type": "stream",
          "text": [
            "Data/Sad/2_78.wav\n"
          ],
          "name": "stdout"
        },
        {
          "output_type": "stream",
          "text": [
            "/usr/local/lib/python3.7/dist-packages/librosa/core/audio.py:165: UserWarning: PySoundFile failed. Trying audioread instead.\n",
            "  warnings.warn(\"PySoundFile failed. Trying audioread instead.\")\n"
          ],
          "name": "stderr"
        },
        {
          "output_type": "stream",
          "text": [
            "Data/Sad/2_26.wav\n"
          ],
          "name": "stdout"
        },
        {
          "output_type": "stream",
          "text": [
            "/usr/local/lib/python3.7/dist-packages/librosa/core/audio.py:165: UserWarning: PySoundFile failed. Trying audioread instead.\n",
            "  warnings.warn(\"PySoundFile failed. Trying audioread instead.\")\n"
          ],
          "name": "stderr"
        },
        {
          "output_type": "stream",
          "text": [
            "Data/Sad/2_23.wav\n",
            "Data/Sad/2_76.wav\n"
          ],
          "name": "stdout"
        },
        {
          "output_type": "stream",
          "text": [
            "/usr/local/lib/python3.7/dist-packages/librosa/core/audio.py:165: UserWarning: PySoundFile failed. Trying audioread instead.\n",
            "  warnings.warn(\"PySoundFile failed. Trying audioread instead.\")\n"
          ],
          "name": "stderr"
        },
        {
          "output_type": "stream",
          "text": [
            "Data/Sad/2_6.wav\n",
            "Data/Sad/2_21.wav\n",
            "Data/Sad/2_85.wav\n"
          ],
          "name": "stdout"
        },
        {
          "output_type": "stream",
          "text": [
            "/usr/local/lib/python3.7/dist-packages/librosa/core/audio.py:165: UserWarning: PySoundFile failed. Trying audioread instead.\n",
            "  warnings.warn(\"PySoundFile failed. Trying audioread instead.\")\n"
          ],
          "name": "stderr"
        },
        {
          "output_type": "stream",
          "text": [
            "Data/Sad/2_65.wav\n"
          ],
          "name": "stdout"
        },
        {
          "output_type": "stream",
          "text": [
            "/usr/local/lib/python3.7/dist-packages/librosa/core/audio.py:165: UserWarning: PySoundFile failed. Trying audioread instead.\n",
            "  warnings.warn(\"PySoundFile failed. Trying audioread instead.\")\n"
          ],
          "name": "stderr"
        },
        {
          "output_type": "stream",
          "text": [
            "Data/Sad/2_14.wav\n",
            "Data/Sad/2_19.wav\n",
            "Data/Sad/2_88.wav\n"
          ],
          "name": "stdout"
        },
        {
          "output_type": "stream",
          "text": [
            "/usr/local/lib/python3.7/dist-packages/librosa/core/audio.py:165: UserWarning: PySoundFile failed. Trying audioread instead.\n",
            "  warnings.warn(\"PySoundFile failed. Trying audioread instead.\")\n"
          ],
          "name": "stderr"
        },
        {
          "output_type": "stream",
          "text": [
            "Data/Sad/2_2.wav\n",
            "Data/Sad/2_13.wav\n",
            "Data/Sad/2_4.wav\n",
            "Data/Sad/2_36.wav\n"
          ],
          "name": "stdout"
        },
        {
          "output_type": "stream",
          "text": [
            "/usr/local/lib/python3.7/dist-packages/librosa/core/audio.py:165: UserWarning: PySoundFile failed. Trying audioread instead.\n",
            "  warnings.warn(\"PySoundFile failed. Trying audioread instead.\")\n"
          ],
          "name": "stderr"
        },
        {
          "output_type": "stream",
          "text": [
            "Data/Sad/2_68.wav\n"
          ],
          "name": "stdout"
        },
        {
          "output_type": "stream",
          "text": [
            "/usr/local/lib/python3.7/dist-packages/librosa/core/audio.py:165: UserWarning: PySoundFile failed. Trying audioread instead.\n",
            "  warnings.warn(\"PySoundFile failed. Trying audioread instead.\")\n"
          ],
          "name": "stderr"
        },
        {
          "output_type": "stream",
          "text": [
            "Data/Sad/2_18.wav\n",
            "Data/Sad/2_52.wav\n"
          ],
          "name": "stdout"
        },
        {
          "output_type": "stream",
          "text": [
            "/usr/local/lib/python3.7/dist-packages/librosa/core/audio.py:165: UserWarning: PySoundFile failed. Trying audioread instead.\n",
            "  warnings.warn(\"PySoundFile failed. Trying audioread instead.\")\n"
          ],
          "name": "stderr"
        },
        {
          "output_type": "stream",
          "text": [
            "Data/Sad/2_38.wav\n"
          ],
          "name": "stdout"
        },
        {
          "output_type": "stream",
          "text": [
            "/usr/local/lib/python3.7/dist-packages/librosa/core/audio.py:165: UserWarning: PySoundFile failed. Trying audioread instead.\n",
            "  warnings.warn(\"PySoundFile failed. Trying audioread instead.\")\n"
          ],
          "name": "stderr"
        },
        {
          "output_type": "stream",
          "text": [
            "Data/Sad/2_47.wav\n"
          ],
          "name": "stdout"
        },
        {
          "output_type": "stream",
          "text": [
            "/usr/local/lib/python3.7/dist-packages/librosa/core/audio.py:165: UserWarning: PySoundFile failed. Trying audioread instead.\n",
            "  warnings.warn(\"PySoundFile failed. Trying audioread instead.\")\n"
          ],
          "name": "stderr"
        },
        {
          "output_type": "stream",
          "text": [
            "Data/Sad/2_45.wav\n"
          ],
          "name": "stdout"
        },
        {
          "output_type": "stream",
          "text": [
            "/usr/local/lib/python3.7/dist-packages/librosa/core/audio.py:165: UserWarning: PySoundFile failed. Trying audioread instead.\n",
            "  warnings.warn(\"PySoundFile failed. Trying audioread instead.\")\n"
          ],
          "name": "stderr"
        },
        {
          "output_type": "stream",
          "text": [
            "Data/Sad/2_48.wav\n"
          ],
          "name": "stdout"
        },
        {
          "output_type": "stream",
          "text": [
            "/usr/local/lib/python3.7/dist-packages/librosa/core/audio.py:165: UserWarning: PySoundFile failed. Trying audioread instead.\n",
            "  warnings.warn(\"PySoundFile failed. Trying audioread instead.\")\n"
          ],
          "name": "stderr"
        },
        {
          "output_type": "stream",
          "text": [
            "Data/Sad/2_49.wav\n"
          ],
          "name": "stdout"
        },
        {
          "output_type": "stream",
          "text": [
            "/usr/local/lib/python3.7/dist-packages/librosa/core/audio.py:165: UserWarning: PySoundFile failed. Trying audioread instead.\n",
            "  warnings.warn(\"PySoundFile failed. Trying audioread instead.\")\n"
          ],
          "name": "stderr"
        },
        {
          "output_type": "stream",
          "text": [
            "Data/Sad/2_33.wav\n"
          ],
          "name": "stdout"
        },
        {
          "output_type": "stream",
          "text": [
            "/usr/local/lib/python3.7/dist-packages/librosa/core/audio.py:165: UserWarning: PySoundFile failed. Trying audioread instead.\n",
            "  warnings.warn(\"PySoundFile failed. Trying audioread instead.\")\n"
          ],
          "name": "stderr"
        },
        {
          "output_type": "stream",
          "text": [
            "Data/Sad/2_46.wav\n"
          ],
          "name": "stdout"
        },
        {
          "output_type": "stream",
          "text": [
            "/usr/local/lib/python3.7/dist-packages/librosa/core/audio.py:165: UserWarning: PySoundFile failed. Trying audioread instead.\n",
            "  warnings.warn(\"PySoundFile failed. Trying audioread instead.\")\n"
          ],
          "name": "stderr"
        },
        {
          "output_type": "stream",
          "text": [
            "Data/Sad/2_100.wav\n"
          ],
          "name": "stdout"
        },
        {
          "output_type": "stream",
          "text": [
            "/usr/local/lib/python3.7/dist-packages/librosa/core/audio.py:165: UserWarning: PySoundFile failed. Trying audioread instead.\n",
            "  warnings.warn(\"PySoundFile failed. Trying audioread instead.\")\n"
          ],
          "name": "stderr"
        },
        {
          "output_type": "stream",
          "text": [
            "Data/Sad/2_28.wav\n"
          ],
          "name": "stdout"
        },
        {
          "output_type": "stream",
          "text": [
            "/usr/local/lib/python3.7/dist-packages/librosa/core/audio.py:165: UserWarning: PySoundFile failed. Trying audioread instead.\n",
            "  warnings.warn(\"PySoundFile failed. Trying audioread instead.\")\n"
          ],
          "name": "stderr"
        },
        {
          "output_type": "stream",
          "text": [
            "Data/Sad/2_22.wav\n",
            "Data/Sad/2_87.wav\n"
          ],
          "name": "stdout"
        },
        {
          "output_type": "stream",
          "text": [
            "/usr/local/lib/python3.7/dist-packages/librosa/core/audio.py:165: UserWarning: PySoundFile failed. Trying audioread instead.\n",
            "  warnings.warn(\"PySoundFile failed. Trying audioread instead.\")\n"
          ],
          "name": "stderr"
        },
        {
          "output_type": "stream",
          "text": [
            "Data/Sad/2_24.wav\n"
          ],
          "name": "stdout"
        }
      ]
    },
    {
      "cell_type": "code",
      "metadata": {
        "id": "WMVpUJ-q-z_t"
      },
      "source": [
        "df3 = pd.DataFrame(df['feature'].values.tolist())"
      ],
      "execution_count": 12,
      "outputs": []
    },
    {
      "cell_type": "code",
      "metadata": {
        "colab": {
          "base_uri": "https://localhost:8080/",
          "height": 437
        },
        "id": "t6iOUQZSKwB7",
        "outputId": "eb993ca0-a771-4bca-97b3-458b210c830b"
      },
      "source": [
        "df3"
      ],
      "execution_count": 48,
      "outputs": [
        {
          "output_type": "execute_result",
          "data": {
            "text/html": [
              "<div>\n",
              "<style scoped>\n",
              "    .dataframe tbody tr th:only-of-type {\n",
              "        vertical-align: middle;\n",
              "    }\n",
              "\n",
              "    .dataframe tbody tr th {\n",
              "        vertical-align: top;\n",
              "    }\n",
              "\n",
              "    .dataframe thead th {\n",
              "        text-align: right;\n",
              "    }\n",
              "</style>\n",
              "<table border=\"1\" class=\"dataframe\">\n",
              "  <thead>\n",
              "    <tr style=\"text-align: right;\">\n",
              "      <th></th>\n",
              "      <th>0</th>\n",
              "      <th>1</th>\n",
              "      <th>2</th>\n",
              "      <th>3</th>\n",
              "      <th>4</th>\n",
              "      <th>5</th>\n",
              "      <th>6</th>\n",
              "      <th>7</th>\n",
              "      <th>8</th>\n",
              "      <th>9</th>\n",
              "      <th>10</th>\n",
              "      <th>11</th>\n",
              "      <th>12</th>\n",
              "      <th>13</th>\n",
              "      <th>14</th>\n",
              "      <th>15</th>\n",
              "      <th>16</th>\n",
              "      <th>17</th>\n",
              "      <th>18</th>\n",
              "      <th>19</th>\n",
              "      <th>20</th>\n",
              "      <th>21</th>\n",
              "      <th>22</th>\n",
              "      <th>23</th>\n",
              "      <th>24</th>\n",
              "      <th>25</th>\n",
              "      <th>26</th>\n",
              "      <th>27</th>\n",
              "      <th>28</th>\n",
              "      <th>29</th>\n",
              "      <th>30</th>\n",
              "      <th>31</th>\n",
              "      <th>32</th>\n",
              "      <th>33</th>\n",
              "      <th>34</th>\n",
              "      <th>35</th>\n",
              "      <th>36</th>\n",
              "      <th>37</th>\n",
              "      <th>38</th>\n",
              "      <th>39</th>\n",
              "      <th>...</th>\n",
              "      <th>176</th>\n",
              "      <th>177</th>\n",
              "      <th>178</th>\n",
              "      <th>179</th>\n",
              "      <th>180</th>\n",
              "      <th>181</th>\n",
              "      <th>182</th>\n",
              "      <th>183</th>\n",
              "      <th>184</th>\n",
              "      <th>185</th>\n",
              "      <th>186</th>\n",
              "      <th>187</th>\n",
              "      <th>188</th>\n",
              "      <th>189</th>\n",
              "      <th>190</th>\n",
              "      <th>191</th>\n",
              "      <th>192</th>\n",
              "      <th>193</th>\n",
              "      <th>194</th>\n",
              "      <th>195</th>\n",
              "      <th>196</th>\n",
              "      <th>197</th>\n",
              "      <th>198</th>\n",
              "      <th>199</th>\n",
              "      <th>200</th>\n",
              "      <th>201</th>\n",
              "      <th>202</th>\n",
              "      <th>203</th>\n",
              "      <th>204</th>\n",
              "      <th>205</th>\n",
              "      <th>206</th>\n",
              "      <th>207</th>\n",
              "      <th>208</th>\n",
              "      <th>209</th>\n",
              "      <th>210</th>\n",
              "      <th>211</th>\n",
              "      <th>212</th>\n",
              "      <th>213</th>\n",
              "      <th>214</th>\n",
              "      <th>215</th>\n",
              "    </tr>\n",
              "  </thead>\n",
              "  <tbody>\n",
              "    <tr>\n",
              "      <th>0</th>\n",
              "      <td>-10.242829</td>\n",
              "      <td>-12.617426</td>\n",
              "      <td>-17.858522</td>\n",
              "      <td>-17.697401</td>\n",
              "      <td>-15.709270</td>\n",
              "      <td>-15.074743</td>\n",
              "      <td>-13.316646</td>\n",
              "      <td>-11.843033</td>\n",
              "      <td>-13.467789</td>\n",
              "      <td>-15.278378</td>\n",
              "      <td>-17.090670</td>\n",
              "      <td>-17.139727</td>\n",
              "      <td>-18.398546</td>\n",
              "      <td>-18.105522</td>\n",
              "      <td>-16.759457</td>\n",
              "      <td>-16.153606</td>\n",
              "      <td>-15.119970</td>\n",
              "      <td>-13.679560</td>\n",
              "      <td>-12.736947</td>\n",
              "      <td>-9.142090</td>\n",
              "      <td>-10.507274</td>\n",
              "      <td>-14.759034</td>\n",
              "      <td>-19.100155</td>\n",
              "      <td>-17.961510</td>\n",
              "      <td>-16.768406</td>\n",
              "      <td>-16.971346</td>\n",
              "      <td>-19.372131</td>\n",
              "      <td>-19.002319</td>\n",
              "      <td>-17.399279</td>\n",
              "      <td>-16.467623</td>\n",
              "      <td>-16.330421</td>\n",
              "      <td>-15.996475</td>\n",
              "      <td>-18.018551</td>\n",
              "      <td>-20.377760</td>\n",
              "      <td>-20.803709</td>\n",
              "      <td>-17.630302</td>\n",
              "      <td>-15.702345</td>\n",
              "      <td>-14.840232</td>\n",
              "      <td>-16.386631</td>\n",
              "      <td>-17.456841</td>\n",
              "      <td>...</td>\n",
              "      <td>-29.114811</td>\n",
              "      <td>-27.213924</td>\n",
              "      <td>-28.526537</td>\n",
              "      <td>-31.975222</td>\n",
              "      <td>-33.545425</td>\n",
              "      <td>-30.784403</td>\n",
              "      <td>-30.119118</td>\n",
              "      <td>-29.593245</td>\n",
              "      <td>-30.869089</td>\n",
              "      <td>-28.520729</td>\n",
              "      <td>-29.475258</td>\n",
              "      <td>-29.656284</td>\n",
              "      <td>-27.579546</td>\n",
              "      <td>-28.197689</td>\n",
              "      <td>-27.105736</td>\n",
              "      <td>-22.164747</td>\n",
              "      <td>-17.251614</td>\n",
              "      <td>-11.771356</td>\n",
              "      <td>-11.813890</td>\n",
              "      <td>-13.981044</td>\n",
              "      <td>-15.908350</td>\n",
              "      <td>-19.296471</td>\n",
              "      <td>-21.082092</td>\n",
              "      <td>-22.874495</td>\n",
              "      <td>-21.886311</td>\n",
              "      <td>-20.701220</td>\n",
              "      <td>-19.394024</td>\n",
              "      <td>-18.694014</td>\n",
              "      <td>-16.279705</td>\n",
              "      <td>-17.673882</td>\n",
              "      <td>-17.493725</td>\n",
              "      <td>-17.035824</td>\n",
              "      <td>-16.555088</td>\n",
              "      <td>-16.478294</td>\n",
              "      <td>-16.496962</td>\n",
              "      <td>-19.131914</td>\n",
              "      <td>-19.310526</td>\n",
              "      <td>-19.979338</td>\n",
              "      <td>-11.764658</td>\n",
              "      <td>-5.545675</td>\n",
              "    </tr>\n",
              "    <tr>\n",
              "      <th>1</th>\n",
              "      <td>-25.535357</td>\n",
              "      <td>-27.289289</td>\n",
              "      <td>-30.718842</td>\n",
              "      <td>-32.091225</td>\n",
              "      <td>-31.001169</td>\n",
              "      <td>-30.684330</td>\n",
              "      <td>-30.114143</td>\n",
              "      <td>-30.829258</td>\n",
              "      <td>-32.391167</td>\n",
              "      <td>-29.404640</td>\n",
              "      <td>-28.820555</td>\n",
              "      <td>-28.803608</td>\n",
              "      <td>-27.236767</td>\n",
              "      <td>-22.793522</td>\n",
              "      <td>-19.876513</td>\n",
              "      <td>-18.980217</td>\n",
              "      <td>-17.873943</td>\n",
              "      <td>-16.966408</td>\n",
              "      <td>-16.991318</td>\n",
              "      <td>-17.131910</td>\n",
              "      <td>-15.500300</td>\n",
              "      <td>-16.139767</td>\n",
              "      <td>-12.616924</td>\n",
              "      <td>-13.463795</td>\n",
              "      <td>-14.322997</td>\n",
              "      <td>-15.861243</td>\n",
              "      <td>-16.156237</td>\n",
              "      <td>-15.379520</td>\n",
              "      <td>-14.870975</td>\n",
              "      <td>-17.436134</td>\n",
              "      <td>-17.249434</td>\n",
              "      <td>-18.748924</td>\n",
              "      <td>-19.564840</td>\n",
              "      <td>-22.452559</td>\n",
              "      <td>-21.147539</td>\n",
              "      <td>-20.521639</td>\n",
              "      <td>-21.598541</td>\n",
              "      <td>-20.897121</td>\n",
              "      <td>-20.128448</td>\n",
              "      <td>-21.171570</td>\n",
              "      <td>...</td>\n",
              "      <td>-38.165890</td>\n",
              "      <td>-37.124840</td>\n",
              "      <td>-36.201511</td>\n",
              "      <td>-37.105896</td>\n",
              "      <td>-37.433678</td>\n",
              "      <td>-38.154575</td>\n",
              "      <td>-36.524620</td>\n",
              "      <td>-36.287930</td>\n",
              "      <td>-36.534019</td>\n",
              "      <td>-35.232944</td>\n",
              "      <td>-33.912529</td>\n",
              "      <td>-33.171471</td>\n",
              "      <td>-31.948271</td>\n",
              "      <td>-32.050797</td>\n",
              "      <td>-32.224068</td>\n",
              "      <td>-34.594913</td>\n",
              "      <td>-32.680519</td>\n",
              "      <td>-29.687256</td>\n",
              "      <td>-29.558428</td>\n",
              "      <td>-29.223372</td>\n",
              "      <td>-31.221998</td>\n",
              "      <td>-31.333780</td>\n",
              "      <td>-28.239635</td>\n",
              "      <td>-26.592976</td>\n",
              "      <td>-25.488512</td>\n",
              "      <td>-24.885618</td>\n",
              "      <td>-23.843555</td>\n",
              "      <td>-20.871887</td>\n",
              "      <td>-20.950069</td>\n",
              "      <td>-20.866316</td>\n",
              "      <td>-19.738882</td>\n",
              "      <td>-20.786522</td>\n",
              "      <td>-19.882616</td>\n",
              "      <td>-19.585258</td>\n",
              "      <td>-18.445412</td>\n",
              "      <td>-17.374420</td>\n",
              "      <td>-19.042086</td>\n",
              "      <td>-17.827234</td>\n",
              "      <td>-14.618964</td>\n",
              "      <td>-10.497977</td>\n",
              "    </tr>\n",
              "    <tr>\n",
              "      <th>2</th>\n",
              "      <td>-1.928406</td>\n",
              "      <td>-1.855620</td>\n",
              "      <td>-2.203659</td>\n",
              "      <td>-1.777735</td>\n",
              "      <td>-3.443797</td>\n",
              "      <td>-4.400910</td>\n",
              "      <td>-4.558938</td>\n",
              "      <td>-2.249003</td>\n",
              "      <td>-0.362050</td>\n",
              "      <td>-1.615511</td>\n",
              "      <td>-2.015850</td>\n",
              "      <td>-2.191663</td>\n",
              "      <td>-1.581378</td>\n",
              "      <td>-3.025991</td>\n",
              "      <td>-4.611562</td>\n",
              "      <td>-4.409635</td>\n",
              "      <td>-4.607491</td>\n",
              "      <td>-3.592398</td>\n",
              "      <td>-3.656293</td>\n",
              "      <td>-5.710714</td>\n",
              "      <td>-4.723919</td>\n",
              "      <td>-4.752924</td>\n",
              "      <td>-4.244796</td>\n",
              "      <td>-2.096331</td>\n",
              "      <td>-3.041289</td>\n",
              "      <td>-4.083590</td>\n",
              "      <td>-6.023306</td>\n",
              "      <td>-6.025675</td>\n",
              "      <td>-4.134553</td>\n",
              "      <td>-3.214624</td>\n",
              "      <td>-5.921738</td>\n",
              "      <td>-4.643127</td>\n",
              "      <td>-4.453395</td>\n",
              "      <td>-5.711237</td>\n",
              "      <td>-4.895679</td>\n",
              "      <td>-5.299958</td>\n",
              "      <td>-6.881368</td>\n",
              "      <td>-7.828221</td>\n",
              "      <td>-8.028169</td>\n",
              "      <td>-7.739830</td>\n",
              "      <td>...</td>\n",
              "      <td>-16.309111</td>\n",
              "      <td>-12.151387</td>\n",
              "      <td>-11.313276</td>\n",
              "      <td>-11.490881</td>\n",
              "      <td>-12.688282</td>\n",
              "      <td>-14.476208</td>\n",
              "      <td>-13.738178</td>\n",
              "      <td>-13.815645</td>\n",
              "      <td>-14.147365</td>\n",
              "      <td>-14.009498</td>\n",
              "      <td>-13.759907</td>\n",
              "      <td>-11.015944</td>\n",
              "      <td>-10.031015</td>\n",
              "      <td>-11.497369</td>\n",
              "      <td>-13.564898</td>\n",
              "      <td>-15.008407</td>\n",
              "      <td>-11.759404</td>\n",
              "      <td>-11.068746</td>\n",
              "      <td>-11.991728</td>\n",
              "      <td>-11.179185</td>\n",
              "      <td>-12.153765</td>\n",
              "      <td>-12.401679</td>\n",
              "      <td>-11.758739</td>\n",
              "      <td>-10.846786</td>\n",
              "      <td>-9.184004</td>\n",
              "      <td>-9.522881</td>\n",
              "      <td>-9.557699</td>\n",
              "      <td>-8.799328</td>\n",
              "      <td>-7.856102</td>\n",
              "      <td>-6.892766</td>\n",
              "      <td>-7.231015</td>\n",
              "      <td>-6.465739</td>\n",
              "      <td>-7.641365</td>\n",
              "      <td>-8.144205</td>\n",
              "      <td>-7.658790</td>\n",
              "      <td>-7.255859</td>\n",
              "      <td>-6.713588</td>\n",
              "      <td>-6.241781</td>\n",
              "      <td>-4.984927</td>\n",
              "      <td>-1.696670</td>\n",
              "    </tr>\n",
              "    <tr>\n",
              "      <th>3</th>\n",
              "      <td>-5.148818</td>\n",
              "      <td>-9.136763</td>\n",
              "      <td>-18.621670</td>\n",
              "      <td>-16.734150</td>\n",
              "      <td>-16.912111</td>\n",
              "      <td>-16.476482</td>\n",
              "      <td>-17.400530</td>\n",
              "      <td>-18.362286</td>\n",
              "      <td>-19.007818</td>\n",
              "      <td>-18.258953</td>\n",
              "      <td>-19.294077</td>\n",
              "      <td>-18.595398</td>\n",
              "      <td>-18.291113</td>\n",
              "      <td>-17.498055</td>\n",
              "      <td>-18.007193</td>\n",
              "      <td>-17.719961</td>\n",
              "      <td>-16.052494</td>\n",
              "      <td>-13.704524</td>\n",
              "      <td>-14.538691</td>\n",
              "      <td>-15.135097</td>\n",
              "      <td>-16.272491</td>\n",
              "      <td>-14.963332</td>\n",
              "      <td>-15.574381</td>\n",
              "      <td>-15.981892</td>\n",
              "      <td>-20.293339</td>\n",
              "      <td>-20.394766</td>\n",
              "      <td>-18.959661</td>\n",
              "      <td>-18.200624</td>\n",
              "      <td>-19.057659</td>\n",
              "      <td>-19.555351</td>\n",
              "      <td>-19.595501</td>\n",
              "      <td>-22.411690</td>\n",
              "      <td>-21.287659</td>\n",
              "      <td>-23.553398</td>\n",
              "      <td>-24.797148</td>\n",
              "      <td>-24.645155</td>\n",
              "      <td>-22.862064</td>\n",
              "      <td>-19.927305</td>\n",
              "      <td>-20.548893</td>\n",
              "      <td>-19.291515</td>\n",
              "      <td>...</td>\n",
              "      <td>-23.924614</td>\n",
              "      <td>-24.972219</td>\n",
              "      <td>-27.937469</td>\n",
              "      <td>-28.878080</td>\n",
              "      <td>-28.223274</td>\n",
              "      <td>-27.742836</td>\n",
              "      <td>-26.435129</td>\n",
              "      <td>-26.071333</td>\n",
              "      <td>-26.422230</td>\n",
              "      <td>-26.853180</td>\n",
              "      <td>-24.778364</td>\n",
              "      <td>-22.512379</td>\n",
              "      <td>-22.553162</td>\n",
              "      <td>-21.555721</td>\n",
              "      <td>-18.950241</td>\n",
              "      <td>-17.618435</td>\n",
              "      <td>-16.593985</td>\n",
              "      <td>-15.653131</td>\n",
              "      <td>-15.918334</td>\n",
              "      <td>-16.991856</td>\n",
              "      <td>-16.974939</td>\n",
              "      <td>-18.906765</td>\n",
              "      <td>-19.716593</td>\n",
              "      <td>-19.110264</td>\n",
              "      <td>-19.840656</td>\n",
              "      <td>-19.922352</td>\n",
              "      <td>-20.409973</td>\n",
              "      <td>-21.013502</td>\n",
              "      <td>-22.094902</td>\n",
              "      <td>-23.718672</td>\n",
              "      <td>-24.372049</td>\n",
              "      <td>-25.332977</td>\n",
              "      <td>-24.550262</td>\n",
              "      <td>-24.230602</td>\n",
              "      <td>-23.954332</td>\n",
              "      <td>-25.146992</td>\n",
              "      <td>-27.228163</td>\n",
              "      <td>-19.439411</td>\n",
              "      <td>-16.333078</td>\n",
              "      <td>NaN</td>\n",
              "    </tr>\n",
              "    <tr>\n",
              "      <th>4</th>\n",
              "      <td>-11.432728</td>\n",
              "      <td>-8.955170</td>\n",
              "      <td>-8.142177</td>\n",
              "      <td>-9.730004</td>\n",
              "      <td>-12.162080</td>\n",
              "      <td>-12.841806</td>\n",
              "      <td>-13.577404</td>\n",
              "      <td>-17.125364</td>\n",
              "      <td>-18.818911</td>\n",
              "      <td>-19.299793</td>\n",
              "      <td>-18.721987</td>\n",
              "      <td>-17.428730</td>\n",
              "      <td>-18.002939</td>\n",
              "      <td>-20.648306</td>\n",
              "      <td>-22.393864</td>\n",
              "      <td>-17.704762</td>\n",
              "      <td>-15.401528</td>\n",
              "      <td>-17.464520</td>\n",
              "      <td>-24.717827</td>\n",
              "      <td>-25.860252</td>\n",
              "      <td>-26.192030</td>\n",
              "      <td>-28.114746</td>\n",
              "      <td>-28.733091</td>\n",
              "      <td>-29.773682</td>\n",
              "      <td>-29.573030</td>\n",
              "      <td>-28.488911</td>\n",
              "      <td>-27.240602</td>\n",
              "      <td>-28.897148</td>\n",
              "      <td>-29.410196</td>\n",
              "      <td>-31.145193</td>\n",
              "      <td>-30.498909</td>\n",
              "      <td>-27.420799</td>\n",
              "      <td>-26.940657</td>\n",
              "      <td>-26.188631</td>\n",
              "      <td>-27.158506</td>\n",
              "      <td>-26.849352</td>\n",
              "      <td>-25.499502</td>\n",
              "      <td>-24.598427</td>\n",
              "      <td>-25.270784</td>\n",
              "      <td>-28.953657</td>\n",
              "      <td>...</td>\n",
              "      <td>-40.713802</td>\n",
              "      <td>-40.931442</td>\n",
              "      <td>-37.390324</td>\n",
              "      <td>-35.673851</td>\n",
              "      <td>-34.777592</td>\n",
              "      <td>-34.694420</td>\n",
              "      <td>-34.347767</td>\n",
              "      <td>-34.246159</td>\n",
              "      <td>-32.150127</td>\n",
              "      <td>-28.962118</td>\n",
              "      <td>-26.164913</td>\n",
              "      <td>-24.795570</td>\n",
              "      <td>-25.608492</td>\n",
              "      <td>-27.294405</td>\n",
              "      <td>-30.560917</td>\n",
              "      <td>-33.329720</td>\n",
              "      <td>-34.548264</td>\n",
              "      <td>-36.354336</td>\n",
              "      <td>-37.481304</td>\n",
              "      <td>-37.275986</td>\n",
              "      <td>-37.467628</td>\n",
              "      <td>-37.812302</td>\n",
              "      <td>-37.931664</td>\n",
              "      <td>-38.910931</td>\n",
              "      <td>-38.833755</td>\n",
              "      <td>-37.273491</td>\n",
              "      <td>-36.264034</td>\n",
              "      <td>-32.204433</td>\n",
              "      <td>-29.452715</td>\n",
              "      <td>-27.095406</td>\n",
              "      <td>-26.633854</td>\n",
              "      <td>-24.692585</td>\n",
              "      <td>-24.981232</td>\n",
              "      <td>-25.567371</td>\n",
              "      <td>-23.176105</td>\n",
              "      <td>-21.382088</td>\n",
              "      <td>-22.727365</td>\n",
              "      <td>-23.830629</td>\n",
              "      <td>-23.896791</td>\n",
              "      <td>-19.960157</td>\n",
              "    </tr>\n",
              "    <tr>\n",
              "      <th>...</th>\n",
              "      <td>...</td>\n",
              "      <td>...</td>\n",
              "      <td>...</td>\n",
              "      <td>...</td>\n",
              "      <td>...</td>\n",
              "      <td>...</td>\n",
              "      <td>...</td>\n",
              "      <td>...</td>\n",
              "      <td>...</td>\n",
              "      <td>...</td>\n",
              "      <td>...</td>\n",
              "      <td>...</td>\n",
              "      <td>...</td>\n",
              "      <td>...</td>\n",
              "      <td>...</td>\n",
              "      <td>...</td>\n",
              "      <td>...</td>\n",
              "      <td>...</td>\n",
              "      <td>...</td>\n",
              "      <td>...</td>\n",
              "      <td>...</td>\n",
              "      <td>...</td>\n",
              "      <td>...</td>\n",
              "      <td>...</td>\n",
              "      <td>...</td>\n",
              "      <td>...</td>\n",
              "      <td>...</td>\n",
              "      <td>...</td>\n",
              "      <td>...</td>\n",
              "      <td>...</td>\n",
              "      <td>...</td>\n",
              "      <td>...</td>\n",
              "      <td>...</td>\n",
              "      <td>...</td>\n",
              "      <td>...</td>\n",
              "      <td>...</td>\n",
              "      <td>...</td>\n",
              "      <td>...</td>\n",
              "      <td>...</td>\n",
              "      <td>...</td>\n",
              "      <td>...</td>\n",
              "      <td>...</td>\n",
              "      <td>...</td>\n",
              "      <td>...</td>\n",
              "      <td>...</td>\n",
              "      <td>...</td>\n",
              "      <td>...</td>\n",
              "      <td>...</td>\n",
              "      <td>...</td>\n",
              "      <td>...</td>\n",
              "      <td>...</td>\n",
              "      <td>...</td>\n",
              "      <td>...</td>\n",
              "      <td>...</td>\n",
              "      <td>...</td>\n",
              "      <td>...</td>\n",
              "      <td>...</td>\n",
              "      <td>...</td>\n",
              "      <td>...</td>\n",
              "      <td>...</td>\n",
              "      <td>...</td>\n",
              "      <td>...</td>\n",
              "      <td>...</td>\n",
              "      <td>...</td>\n",
              "      <td>...</td>\n",
              "      <td>...</td>\n",
              "      <td>...</td>\n",
              "      <td>...</td>\n",
              "      <td>...</td>\n",
              "      <td>...</td>\n",
              "      <td>...</td>\n",
              "      <td>...</td>\n",
              "      <td>...</td>\n",
              "      <td>...</td>\n",
              "      <td>...</td>\n",
              "      <td>...</td>\n",
              "      <td>...</td>\n",
              "      <td>...</td>\n",
              "      <td>...</td>\n",
              "      <td>...</td>\n",
              "      <td>...</td>\n",
              "    </tr>\n",
              "    <tr>\n",
              "      <th>395</th>\n",
              "      <td>-13.752459</td>\n",
              "      <td>-12.231353</td>\n",
              "      <td>-11.592890</td>\n",
              "      <td>-10.890473</td>\n",
              "      <td>-10.952536</td>\n",
              "      <td>-11.958077</td>\n",
              "      <td>-11.042315</td>\n",
              "      <td>-10.290466</td>\n",
              "      <td>-9.962190</td>\n",
              "      <td>-9.945494</td>\n",
              "      <td>-9.728393</td>\n",
              "      <td>-11.437307</td>\n",
              "      <td>-12.054036</td>\n",
              "      <td>-12.158823</td>\n",
              "      <td>-9.781867</td>\n",
              "      <td>-9.243954</td>\n",
              "      <td>-10.591309</td>\n",
              "      <td>-13.287691</td>\n",
              "      <td>-12.888998</td>\n",
              "      <td>-11.553806</td>\n",
              "      <td>-9.781572</td>\n",
              "      <td>-9.823584</td>\n",
              "      <td>-9.144387</td>\n",
              "      <td>-8.672836</td>\n",
              "      <td>-7.737068</td>\n",
              "      <td>-5.982702</td>\n",
              "      <td>-7.462237</td>\n",
              "      <td>-10.204388</td>\n",
              "      <td>-9.042227</td>\n",
              "      <td>-8.173979</td>\n",
              "      <td>-8.237057</td>\n",
              "      <td>-10.282418</td>\n",
              "      <td>-9.735317</td>\n",
              "      <td>-10.179454</td>\n",
              "      <td>-10.588180</td>\n",
              "      <td>-9.564141</td>\n",
              "      <td>-9.829687</td>\n",
              "      <td>-11.667958</td>\n",
              "      <td>-8.529456</td>\n",
              "      <td>-8.763852</td>\n",
              "      <td>...</td>\n",
              "      <td>-20.840942</td>\n",
              "      <td>-18.471432</td>\n",
              "      <td>-16.919497</td>\n",
              "      <td>-17.873831</td>\n",
              "      <td>-18.682426</td>\n",
              "      <td>-18.077848</td>\n",
              "      <td>-17.360041</td>\n",
              "      <td>-17.093899</td>\n",
              "      <td>-14.745620</td>\n",
              "      <td>-15.507442</td>\n",
              "      <td>-16.818569</td>\n",
              "      <td>-17.517281</td>\n",
              "      <td>-16.703259</td>\n",
              "      <td>-16.713482</td>\n",
              "      <td>-18.286180</td>\n",
              "      <td>-21.091459</td>\n",
              "      <td>-21.355835</td>\n",
              "      <td>-19.516901</td>\n",
              "      <td>-20.867521</td>\n",
              "      <td>-21.691332</td>\n",
              "      <td>-21.995516</td>\n",
              "      <td>-20.527905</td>\n",
              "      <td>-18.341497</td>\n",
              "      <td>-17.704563</td>\n",
              "      <td>-17.860483</td>\n",
              "      <td>-17.262856</td>\n",
              "      <td>-15.334688</td>\n",
              "      <td>-13.644257</td>\n",
              "      <td>-15.161295</td>\n",
              "      <td>-17.460722</td>\n",
              "      <td>-16.045164</td>\n",
              "      <td>-15.804677</td>\n",
              "      <td>-17.107708</td>\n",
              "      <td>-19.015795</td>\n",
              "      <td>-20.853426</td>\n",
              "      <td>-16.834980</td>\n",
              "      <td>-14.427651</td>\n",
              "      <td>-14.647676</td>\n",
              "      <td>-11.963128</td>\n",
              "      <td>-9.863195</td>\n",
              "    </tr>\n",
              "    <tr>\n",
              "      <th>396</th>\n",
              "      <td>2.500506</td>\n",
              "      <td>-1.472511</td>\n",
              "      <td>-10.415994</td>\n",
              "      <td>-9.102418</td>\n",
              "      <td>-7.437742</td>\n",
              "      <td>-8.533563</td>\n",
              "      <td>-9.729198</td>\n",
              "      <td>-9.728369</td>\n",
              "      <td>-9.174864</td>\n",
              "      <td>-10.107183</td>\n",
              "      <td>-9.809727</td>\n",
              "      <td>-9.264934</td>\n",
              "      <td>-8.528162</td>\n",
              "      <td>-9.472905</td>\n",
              "      <td>-9.488458</td>\n",
              "      <td>-9.324042</td>\n",
              "      <td>-9.322122</td>\n",
              "      <td>-9.965014</td>\n",
              "      <td>-7.246135</td>\n",
              "      <td>-4.398109</td>\n",
              "      <td>-4.965467</td>\n",
              "      <td>-3.584418</td>\n",
              "      <td>-2.067914</td>\n",
              "      <td>-4.533382</td>\n",
              "      <td>-5.665247</td>\n",
              "      <td>-1.625748</td>\n",
              "      <td>0.234345</td>\n",
              "      <td>0.605799</td>\n",
              "      <td>-0.559842</td>\n",
              "      <td>-2.560336</td>\n",
              "      <td>-4.024837</td>\n",
              "      <td>-6.153205</td>\n",
              "      <td>-5.882186</td>\n",
              "      <td>-4.160412</td>\n",
              "      <td>-4.826590</td>\n",
              "      <td>-6.091993</td>\n",
              "      <td>-6.143519</td>\n",
              "      <td>-7.885007</td>\n",
              "      <td>-8.067313</td>\n",
              "      <td>-8.379814</td>\n",
              "      <td>...</td>\n",
              "      <td>-10.627822</td>\n",
              "      <td>-9.938760</td>\n",
              "      <td>-8.617470</td>\n",
              "      <td>-5.385068</td>\n",
              "      <td>-6.160093</td>\n",
              "      <td>-7.040591</td>\n",
              "      <td>-7.213530</td>\n",
              "      <td>-10.710955</td>\n",
              "      <td>-12.051826</td>\n",
              "      <td>-12.031301</td>\n",
              "      <td>-12.434279</td>\n",
              "      <td>-12.283051</td>\n",
              "      <td>-10.939845</td>\n",
              "      <td>-6.616930</td>\n",
              "      <td>-1.898941</td>\n",
              "      <td>0.442096</td>\n",
              "      <td>-0.423631</td>\n",
              "      <td>-2.751995</td>\n",
              "      <td>-3.220954</td>\n",
              "      <td>-3.953368</td>\n",
              "      <td>-6.116004</td>\n",
              "      <td>-8.087890</td>\n",
              "      <td>-9.732820</td>\n",
              "      <td>-10.379619</td>\n",
              "      <td>-9.521505</td>\n",
              "      <td>-7.683383</td>\n",
              "      <td>-5.621317</td>\n",
              "      <td>-3.961126</td>\n",
              "      <td>-5.309505</td>\n",
              "      <td>-8.247106</td>\n",
              "      <td>-11.375204</td>\n",
              "      <td>-10.470402</td>\n",
              "      <td>-4.006892</td>\n",
              "      <td>-3.621319</td>\n",
              "      <td>-5.266914</td>\n",
              "      <td>-7.342969</td>\n",
              "      <td>-7.224022</td>\n",
              "      <td>-6.468722</td>\n",
              "      <td>-5.534774</td>\n",
              "      <td>-1.711747</td>\n",
              "    </tr>\n",
              "    <tr>\n",
              "      <th>397</th>\n",
              "      <td>-9.334823</td>\n",
              "      <td>-10.141585</td>\n",
              "      <td>-12.753134</td>\n",
              "      <td>-14.764633</td>\n",
              "      <td>-14.097288</td>\n",
              "      <td>-12.699793</td>\n",
              "      <td>-13.547521</td>\n",
              "      <td>-13.110147</td>\n",
              "      <td>-11.917633</td>\n",
              "      <td>-12.776887</td>\n",
              "      <td>-15.421072</td>\n",
              "      <td>-14.993194</td>\n",
              "      <td>-15.352280</td>\n",
              "      <td>-15.037058</td>\n",
              "      <td>-16.598955</td>\n",
              "      <td>-18.664127</td>\n",
              "      <td>-14.707038</td>\n",
              "      <td>-13.836864</td>\n",
              "      <td>-15.403421</td>\n",
              "      <td>-15.977871</td>\n",
              "      <td>-15.266137</td>\n",
              "      <td>-13.638033</td>\n",
              "      <td>-12.994747</td>\n",
              "      <td>-13.512477</td>\n",
              "      <td>-14.488627</td>\n",
              "      <td>-15.994117</td>\n",
              "      <td>-14.219759</td>\n",
              "      <td>-12.139311</td>\n",
              "      <td>-14.570456</td>\n",
              "      <td>-15.810167</td>\n",
              "      <td>-17.408688</td>\n",
              "      <td>-14.960679</td>\n",
              "      <td>-15.616821</td>\n",
              "      <td>-16.037340</td>\n",
              "      <td>-15.143139</td>\n",
              "      <td>-13.578303</td>\n",
              "      <td>-15.163921</td>\n",
              "      <td>-15.765188</td>\n",
              "      <td>-15.249563</td>\n",
              "      <td>-16.314423</td>\n",
              "      <td>...</td>\n",
              "      <td>-15.583617</td>\n",
              "      <td>-15.655354</td>\n",
              "      <td>-16.982077</td>\n",
              "      <td>-17.207552</td>\n",
              "      <td>-17.003384</td>\n",
              "      <td>-17.904436</td>\n",
              "      <td>-17.205704</td>\n",
              "      <td>-16.381807</td>\n",
              "      <td>-17.172060</td>\n",
              "      <td>-18.003836</td>\n",
              "      <td>-14.788485</td>\n",
              "      <td>-14.833742</td>\n",
              "      <td>-13.227253</td>\n",
              "      <td>-14.746850</td>\n",
              "      <td>-18.305210</td>\n",
              "      <td>-19.979586</td>\n",
              "      <td>-17.734745</td>\n",
              "      <td>-17.169714</td>\n",
              "      <td>-18.720251</td>\n",
              "      <td>-20.317036</td>\n",
              "      <td>-19.222710</td>\n",
              "      <td>-20.207561</td>\n",
              "      <td>-19.951069</td>\n",
              "      <td>-17.432222</td>\n",
              "      <td>-16.948530</td>\n",
              "      <td>-20.007969</td>\n",
              "      <td>-19.813324</td>\n",
              "      <td>-19.944010</td>\n",
              "      <td>-17.606117</td>\n",
              "      <td>-16.422138</td>\n",
              "      <td>-16.981174</td>\n",
              "      <td>-19.113667</td>\n",
              "      <td>-17.571766</td>\n",
              "      <td>-16.226675</td>\n",
              "      <td>-15.453965</td>\n",
              "      <td>-15.238664</td>\n",
              "      <td>-16.393053</td>\n",
              "      <td>-17.497211</td>\n",
              "      <td>-17.216526</td>\n",
              "      <td>-17.753590</td>\n",
              "    </tr>\n",
              "    <tr>\n",
              "      <th>398</th>\n",
              "      <td>-25.846119</td>\n",
              "      <td>-25.762051</td>\n",
              "      <td>-25.746067</td>\n",
              "      <td>-27.540436</td>\n",
              "      <td>-27.735710</td>\n",
              "      <td>-28.423738</td>\n",
              "      <td>-29.228140</td>\n",
              "      <td>-28.699467</td>\n",
              "      <td>-28.987928</td>\n",
              "      <td>-27.770842</td>\n",
              "      <td>-24.871683</td>\n",
              "      <td>-23.936035</td>\n",
              "      <td>-25.478794</td>\n",
              "      <td>-25.793427</td>\n",
              "      <td>-24.936951</td>\n",
              "      <td>-24.641733</td>\n",
              "      <td>-25.534376</td>\n",
              "      <td>-25.168720</td>\n",
              "      <td>-25.384075</td>\n",
              "      <td>-24.274595</td>\n",
              "      <td>-24.160238</td>\n",
              "      <td>-24.427204</td>\n",
              "      <td>-25.848061</td>\n",
              "      <td>-27.990120</td>\n",
              "      <td>-25.888954</td>\n",
              "      <td>-25.352587</td>\n",
              "      <td>-23.789936</td>\n",
              "      <td>-22.616488</td>\n",
              "      <td>-20.095144</td>\n",
              "      <td>-18.988945</td>\n",
              "      <td>-19.102711</td>\n",
              "      <td>-17.364613</td>\n",
              "      <td>-16.057207</td>\n",
              "      <td>-17.352821</td>\n",
              "      <td>-20.588930</td>\n",
              "      <td>-20.318930</td>\n",
              "      <td>-21.214708</td>\n",
              "      <td>-20.815523</td>\n",
              "      <td>-21.437073</td>\n",
              "      <td>-21.451979</td>\n",
              "      <td>...</td>\n",
              "      <td>-19.138744</td>\n",
              "      <td>-19.826870</td>\n",
              "      <td>-22.208830</td>\n",
              "      <td>-25.514381</td>\n",
              "      <td>-23.483259</td>\n",
              "      <td>-23.362776</td>\n",
              "      <td>-22.148506</td>\n",
              "      <td>-22.899340</td>\n",
              "      <td>-23.629295</td>\n",
              "      <td>-21.970573</td>\n",
              "      <td>-21.842014</td>\n",
              "      <td>-22.594145</td>\n",
              "      <td>-23.330326</td>\n",
              "      <td>-24.365196</td>\n",
              "      <td>-23.406694</td>\n",
              "      <td>-20.818432</td>\n",
              "      <td>-21.076612</td>\n",
              "      <td>-21.664072</td>\n",
              "      <td>-22.589190</td>\n",
              "      <td>-22.521883</td>\n",
              "      <td>-21.103779</td>\n",
              "      <td>-22.131395</td>\n",
              "      <td>-22.619711</td>\n",
              "      <td>-20.276623</td>\n",
              "      <td>-20.348854</td>\n",
              "      <td>-19.617071</td>\n",
              "      <td>-17.462730</td>\n",
              "      <td>-17.249237</td>\n",
              "      <td>-19.192354</td>\n",
              "      <td>-19.324177</td>\n",
              "      <td>-19.052626</td>\n",
              "      <td>-21.614754</td>\n",
              "      <td>-23.343018</td>\n",
              "      <td>-24.670052</td>\n",
              "      <td>-26.493784</td>\n",
              "      <td>-23.561504</td>\n",
              "      <td>-22.356138</td>\n",
              "      <td>-23.115541</td>\n",
              "      <td>-21.080334</td>\n",
              "      <td>-17.743008</td>\n",
              "    </tr>\n",
              "    <tr>\n",
              "      <th>399</th>\n",
              "      <td>-7.639169</td>\n",
              "      <td>-6.964099</td>\n",
              "      <td>-6.951332</td>\n",
              "      <td>-7.335701</td>\n",
              "      <td>-10.624200</td>\n",
              "      <td>-11.599735</td>\n",
              "      <td>-9.334772</td>\n",
              "      <td>-8.832892</td>\n",
              "      <td>-8.252258</td>\n",
              "      <td>-8.082430</td>\n",
              "      <td>-8.993857</td>\n",
              "      <td>-10.277529</td>\n",
              "      <td>-9.320109</td>\n",
              "      <td>-7.971010</td>\n",
              "      <td>-9.633355</td>\n",
              "      <td>-11.606490</td>\n",
              "      <td>-11.829001</td>\n",
              "      <td>-10.843642</td>\n",
              "      <td>-11.375497</td>\n",
              "      <td>-12.038578</td>\n",
              "      <td>-10.584861</td>\n",
              "      <td>-8.487014</td>\n",
              "      <td>-7.842339</td>\n",
              "      <td>-9.481269</td>\n",
              "      <td>-9.945995</td>\n",
              "      <td>-11.271759</td>\n",
              "      <td>-8.283537</td>\n",
              "      <td>-7.930867</td>\n",
              "      <td>-9.133099</td>\n",
              "      <td>-9.276124</td>\n",
              "      <td>-9.288303</td>\n",
              "      <td>-8.764874</td>\n",
              "      <td>-6.804520</td>\n",
              "      <td>-6.124310</td>\n",
              "      <td>-8.881949</td>\n",
              "      <td>-9.677608</td>\n",
              "      <td>-9.941301</td>\n",
              "      <td>-10.769199</td>\n",
              "      <td>-12.252461</td>\n",
              "      <td>-12.781915</td>\n",
              "      <td>...</td>\n",
              "      <td>-12.559828</td>\n",
              "      <td>-14.133355</td>\n",
              "      <td>-13.602301</td>\n",
              "      <td>-14.129162</td>\n",
              "      <td>-13.097446</td>\n",
              "      <td>-12.464900</td>\n",
              "      <td>-11.047068</td>\n",
              "      <td>-10.206400</td>\n",
              "      <td>-10.581665</td>\n",
              "      <td>-9.895150</td>\n",
              "      <td>-11.558135</td>\n",
              "      <td>-9.395757</td>\n",
              "      <td>-8.109221</td>\n",
              "      <td>-10.080408</td>\n",
              "      <td>-11.982700</td>\n",
              "      <td>-12.511425</td>\n",
              "      <td>-10.808517</td>\n",
              "      <td>-11.404555</td>\n",
              "      <td>-11.309594</td>\n",
              "      <td>-11.915956</td>\n",
              "      <td>-12.545444</td>\n",
              "      <td>-12.985931</td>\n",
              "      <td>-12.511562</td>\n",
              "      <td>-14.236139</td>\n",
              "      <td>-13.090377</td>\n",
              "      <td>-10.973002</td>\n",
              "      <td>-12.449632</td>\n",
              "      <td>-12.199483</td>\n",
              "      <td>-11.768662</td>\n",
              "      <td>-12.985819</td>\n",
              "      <td>-11.792821</td>\n",
              "      <td>-11.130107</td>\n",
              "      <td>-12.373800</td>\n",
              "      <td>-12.632390</td>\n",
              "      <td>-12.308579</td>\n",
              "      <td>-12.214033</td>\n",
              "      <td>-13.401598</td>\n",
              "      <td>-17.930681</td>\n",
              "      <td>-19.336250</td>\n",
              "      <td>-19.122286</td>\n",
              "    </tr>\n",
              "  </tbody>\n",
              "</table>\n",
              "<p>400 rows × 216 columns</p>\n",
              "</div>"
            ],
            "text/plain": [
              "           0          1          2    ...        213        214        215\n",
              "0   -10.242829 -12.617426 -17.858522  ... -19.979338 -11.764658  -5.545675\n",
              "1   -25.535357 -27.289289 -30.718842  ... -17.827234 -14.618964 -10.497977\n",
              "2    -1.928406  -1.855620  -2.203659  ...  -6.241781  -4.984927  -1.696670\n",
              "3    -5.148818  -9.136763 -18.621670  ... -19.439411 -16.333078        NaN\n",
              "4   -11.432728  -8.955170  -8.142177  ... -23.830629 -23.896791 -19.960157\n",
              "..         ...        ...        ...  ...        ...        ...        ...\n",
              "395 -13.752459 -12.231353 -11.592890  ... -14.647676 -11.963128  -9.863195\n",
              "396   2.500506  -1.472511 -10.415994  ...  -6.468722  -5.534774  -1.711747\n",
              "397  -9.334823 -10.141585 -12.753134  ... -17.497211 -17.216526 -17.753590\n",
              "398 -25.846119 -25.762051 -25.746067  ... -23.115541 -21.080334 -17.743008\n",
              "399  -7.639169  -6.964099  -6.951332  ... -17.930681 -19.336250 -19.122286\n",
              "\n",
              "[400 rows x 216 columns]"
            ]
          },
          "metadata": {
            "tags": []
          },
          "execution_count": 48
        }
      ]
    },
    {
      "cell_type": "code",
      "metadata": {
        "id": "EkktkRYK-4fn"
      },
      "source": [
        "newdf = pd.concat([df3,labels], axis=1)"
      ],
      "execution_count": 13,
      "outputs": []
    },
    {
      "cell_type": "code",
      "metadata": {
        "id": "WbIMRRq1-6LS"
      },
      "source": [
        "rnewdf = newdf.rename(index=str, columns={\"0\": \"label\"})"
      ],
      "execution_count": 14,
      "outputs": []
    },
    {
      "cell_type": "code",
      "metadata": {
        "colab": {
          "base_uri": "https://localhost:8080/",
          "height": 282
        },
        "id": "ZkC0dHSY-7ga",
        "outputId": "bd716279-58bb-4f49-98a0-3da01ec225ce"
      },
      "source": [
        "rnewdf[:6]"
      ],
      "execution_count": 46,
      "outputs": [
        {
          "output_type": "execute_result",
          "data": {
            "text/html": [
              "<div>\n",
              "<style scoped>\n",
              "    .dataframe tbody tr th:only-of-type {\n",
              "        vertical-align: middle;\n",
              "    }\n",
              "\n",
              "    .dataframe tbody tr th {\n",
              "        vertical-align: top;\n",
              "    }\n",
              "\n",
              "    .dataframe thead th {\n",
              "        text-align: right;\n",
              "    }\n",
              "</style>\n",
              "<table border=\"1\" class=\"dataframe\">\n",
              "  <thead>\n",
              "    <tr style=\"text-align: right;\">\n",
              "      <th></th>\n",
              "      <th>0</th>\n",
              "      <th>1</th>\n",
              "      <th>2</th>\n",
              "      <th>3</th>\n",
              "      <th>4</th>\n",
              "      <th>5</th>\n",
              "      <th>6</th>\n",
              "      <th>7</th>\n",
              "      <th>8</th>\n",
              "      <th>9</th>\n",
              "      <th>10</th>\n",
              "      <th>11</th>\n",
              "      <th>12</th>\n",
              "      <th>13</th>\n",
              "      <th>14</th>\n",
              "      <th>15</th>\n",
              "      <th>16</th>\n",
              "      <th>17</th>\n",
              "      <th>18</th>\n",
              "      <th>19</th>\n",
              "      <th>20</th>\n",
              "      <th>21</th>\n",
              "      <th>22</th>\n",
              "      <th>23</th>\n",
              "      <th>24</th>\n",
              "      <th>25</th>\n",
              "      <th>26</th>\n",
              "      <th>27</th>\n",
              "      <th>28</th>\n",
              "      <th>29</th>\n",
              "      <th>30</th>\n",
              "      <th>31</th>\n",
              "      <th>32</th>\n",
              "      <th>33</th>\n",
              "      <th>34</th>\n",
              "      <th>35</th>\n",
              "      <th>36</th>\n",
              "      <th>37</th>\n",
              "      <th>38</th>\n",
              "      <th>39</th>\n",
              "      <th>...</th>\n",
              "      <th>177</th>\n",
              "      <th>178</th>\n",
              "      <th>179</th>\n",
              "      <th>180</th>\n",
              "      <th>181</th>\n",
              "      <th>182</th>\n",
              "      <th>183</th>\n",
              "      <th>184</th>\n",
              "      <th>185</th>\n",
              "      <th>186</th>\n",
              "      <th>187</th>\n",
              "      <th>188</th>\n",
              "      <th>189</th>\n",
              "      <th>190</th>\n",
              "      <th>191</th>\n",
              "      <th>192</th>\n",
              "      <th>193</th>\n",
              "      <th>194</th>\n",
              "      <th>195</th>\n",
              "      <th>196</th>\n",
              "      <th>197</th>\n",
              "      <th>198</th>\n",
              "      <th>199</th>\n",
              "      <th>200</th>\n",
              "      <th>201</th>\n",
              "      <th>202</th>\n",
              "      <th>203</th>\n",
              "      <th>204</th>\n",
              "      <th>205</th>\n",
              "      <th>206</th>\n",
              "      <th>207</th>\n",
              "      <th>208</th>\n",
              "      <th>209</th>\n",
              "      <th>210</th>\n",
              "      <th>211</th>\n",
              "      <th>212</th>\n",
              "      <th>213</th>\n",
              "      <th>214</th>\n",
              "      <th>215</th>\n",
              "      <th>0</th>\n",
              "    </tr>\n",
              "  </thead>\n",
              "  <tbody>\n",
              "    <tr>\n",
              "      <th>329</th>\n",
              "      <td>-6.955677</td>\n",
              "      <td>-7.891202</td>\n",
              "      <td>-8.494406</td>\n",
              "      <td>-7.535131</td>\n",
              "      <td>-8.275479</td>\n",
              "      <td>-9.923759</td>\n",
              "      <td>-10.934296</td>\n",
              "      <td>-10.803219</td>\n",
              "      <td>-8.623272</td>\n",
              "      <td>-7.054743</td>\n",
              "      <td>-7.357567</td>\n",
              "      <td>-7.580455</td>\n",
              "      <td>-7.721697</td>\n",
              "      <td>-6.885444</td>\n",
              "      <td>-7.662989</td>\n",
              "      <td>-8.627166</td>\n",
              "      <td>-9.098404</td>\n",
              "      <td>-9.468337</td>\n",
              "      <td>-9.543685</td>\n",
              "      <td>-9.008438</td>\n",
              "      <td>-9.642507</td>\n",
              "      <td>-8.085581</td>\n",
              "      <td>-7.358839</td>\n",
              "      <td>-7.514416</td>\n",
              "      <td>-8.915444</td>\n",
              "      <td>-8.645466</td>\n",
              "      <td>-9.482112</td>\n",
              "      <td>-7.713835</td>\n",
              "      <td>-8.795096</td>\n",
              "      <td>-9.685750</td>\n",
              "      <td>-8.370797</td>\n",
              "      <td>-6.347509</td>\n",
              "      <td>-6.384320</td>\n",
              "      <td>-7.204827</td>\n",
              "      <td>-7.810737</td>\n",
              "      <td>-7.393354</td>\n",
              "      <td>-8.637422</td>\n",
              "      <td>-10.231421</td>\n",
              "      <td>-10.061451</td>\n",
              "      <td>-9.940733</td>\n",
              "      <td>...</td>\n",
              "      <td>-9.682737</td>\n",
              "      <td>-8.029919</td>\n",
              "      <td>-8.396083</td>\n",
              "      <td>-9.377351</td>\n",
              "      <td>-10.496326</td>\n",
              "      <td>-10.614172</td>\n",
              "      <td>-9.834454</td>\n",
              "      <td>-9.093746</td>\n",
              "      <td>-7.645881</td>\n",
              "      <td>-8.962844</td>\n",
              "      <td>-10.873628</td>\n",
              "      <td>-13.972071</td>\n",
              "      <td>-14.301091</td>\n",
              "      <td>-11.526689</td>\n",
              "      <td>-10.206870</td>\n",
              "      <td>-9.831933</td>\n",
              "      <td>-7.348737</td>\n",
              "      <td>-6.649900</td>\n",
              "      <td>-8.957335</td>\n",
              "      <td>-6.225667</td>\n",
              "      <td>-5.176761</td>\n",
              "      <td>-5.612801</td>\n",
              "      <td>-4.469873</td>\n",
              "      <td>-3.915761</td>\n",
              "      <td>-4.052786</td>\n",
              "      <td>-4.138599</td>\n",
              "      <td>-4.332354</td>\n",
              "      <td>-4.808650</td>\n",
              "      <td>-6.178698</td>\n",
              "      <td>-6.441819</td>\n",
              "      <td>-8.543794</td>\n",
              "      <td>-10.539110</td>\n",
              "      <td>-9.642411</td>\n",
              "      <td>-8.794345</td>\n",
              "      <td>-8.659803</td>\n",
              "      <td>-8.446558</td>\n",
              "      <td>-8.839730</td>\n",
              "      <td>-6.319079</td>\n",
              "      <td>-5.190259</td>\n",
              "      <td>Sad</td>\n",
              "    </tr>\n",
              "    <tr>\n",
              "      <th>379</th>\n",
              "      <td>-10.580231</td>\n",
              "      <td>-9.681224</td>\n",
              "      <td>-9.916993</td>\n",
              "      <td>-10.398582</td>\n",
              "      <td>-10.329622</td>\n",
              "      <td>-10.741261</td>\n",
              "      <td>-14.514874</td>\n",
              "      <td>-16.254408</td>\n",
              "      <td>-17.191261</td>\n",
              "      <td>-16.514576</td>\n",
              "      <td>-15.179427</td>\n",
              "      <td>-13.620056</td>\n",
              "      <td>-14.100279</td>\n",
              "      <td>-13.487223</td>\n",
              "      <td>-12.665295</td>\n",
              "      <td>-14.197229</td>\n",
              "      <td>-14.177473</td>\n",
              "      <td>-14.357091</td>\n",
              "      <td>-16.441219</td>\n",
              "      <td>-16.284569</td>\n",
              "      <td>-11.869884</td>\n",
              "      <td>-9.389621</td>\n",
              "      <td>-8.368306</td>\n",
              "      <td>-7.654357</td>\n",
              "      <td>-6.134633</td>\n",
              "      <td>-5.024354</td>\n",
              "      <td>-5.659089</td>\n",
              "      <td>-8.924208</td>\n",
              "      <td>-8.172611</td>\n",
              "      <td>-5.643627</td>\n",
              "      <td>-3.670625</td>\n",
              "      <td>-3.671127</td>\n",
              "      <td>-6.349568</td>\n",
              "      <td>-8.473587</td>\n",
              "      <td>-6.942811</td>\n",
              "      <td>-8.245191</td>\n",
              "      <td>-7.288473</td>\n",
              "      <td>-7.356338</td>\n",
              "      <td>-8.719624</td>\n",
              "      <td>-8.376801</td>\n",
              "      <td>...</td>\n",
              "      <td>-8.893950</td>\n",
              "      <td>-8.767558</td>\n",
              "      <td>-9.455558</td>\n",
              "      <td>-8.542538</td>\n",
              "      <td>-8.147978</td>\n",
              "      <td>-9.479355</td>\n",
              "      <td>-9.522287</td>\n",
              "      <td>-8.907645</td>\n",
              "      <td>-10.562323</td>\n",
              "      <td>-10.088518</td>\n",
              "      <td>-8.906984</td>\n",
              "      <td>-10.135428</td>\n",
              "      <td>-10.955797</td>\n",
              "      <td>-13.192605</td>\n",
              "      <td>-13.634740</td>\n",
              "      <td>-14.022314</td>\n",
              "      <td>-13.650445</td>\n",
              "      <td>-13.844471</td>\n",
              "      <td>-11.885964</td>\n",
              "      <td>-10.403661</td>\n",
              "      <td>-10.572763</td>\n",
              "      <td>-10.658213</td>\n",
              "      <td>-11.170415</td>\n",
              "      <td>-13.742004</td>\n",
              "      <td>-14.717747</td>\n",
              "      <td>-12.905500</td>\n",
              "      <td>-9.940811</td>\n",
              "      <td>-10.641665</td>\n",
              "      <td>-13.752182</td>\n",
              "      <td>-11.956434</td>\n",
              "      <td>-10.538330</td>\n",
              "      <td>-9.589828</td>\n",
              "      <td>-10.319768</td>\n",
              "      <td>-14.361454</td>\n",
              "      <td>-15.344970</td>\n",
              "      <td>-15.765208</td>\n",
              "      <td>-14.196074</td>\n",
              "      <td>-13.610409</td>\n",
              "      <td>-10.392053</td>\n",
              "      <td>Sad</td>\n",
              "    </tr>\n",
              "    <tr>\n",
              "      <th>38</th>\n",
              "      <td>-3.158261</td>\n",
              "      <td>-3.026058</td>\n",
              "      <td>-6.257804</td>\n",
              "      <td>-4.523790</td>\n",
              "      <td>-5.600027</td>\n",
              "      <td>-8.696778</td>\n",
              "      <td>-9.517302</td>\n",
              "      <td>-7.798670</td>\n",
              "      <td>-8.443727</td>\n",
              "      <td>-8.411579</td>\n",
              "      <td>-9.809196</td>\n",
              "      <td>-10.117479</td>\n",
              "      <td>-8.305954</td>\n",
              "      <td>-8.650184</td>\n",
              "      <td>-8.070659</td>\n",
              "      <td>-8.720264</td>\n",
              "      <td>-9.542347</td>\n",
              "      <td>-10.302932</td>\n",
              "      <td>-9.818231</td>\n",
              "      <td>-10.146902</td>\n",
              "      <td>-10.166448</td>\n",
              "      <td>-10.393875</td>\n",
              "      <td>-10.362411</td>\n",
              "      <td>-11.633036</td>\n",
              "      <td>-11.877366</td>\n",
              "      <td>-11.976816</td>\n",
              "      <td>-12.239879</td>\n",
              "      <td>-11.143920</td>\n",
              "      <td>-11.948278</td>\n",
              "      <td>-13.971089</td>\n",
              "      <td>-13.064734</td>\n",
              "      <td>-12.556834</td>\n",
              "      <td>-13.246527</td>\n",
              "      <td>-11.753071</td>\n",
              "      <td>-12.244105</td>\n",
              "      <td>-11.728713</td>\n",
              "      <td>-12.287611</td>\n",
              "      <td>-12.031204</td>\n",
              "      <td>-10.967691</td>\n",
              "      <td>-8.306184</td>\n",
              "      <td>...</td>\n",
              "      <td>-7.937041</td>\n",
              "      <td>-8.558932</td>\n",
              "      <td>-6.907777</td>\n",
              "      <td>-5.975733</td>\n",
              "      <td>-6.435414</td>\n",
              "      <td>-6.858005</td>\n",
              "      <td>-7.803387</td>\n",
              "      <td>-7.398989</td>\n",
              "      <td>-8.536465</td>\n",
              "      <td>-8.022794</td>\n",
              "      <td>-7.421104</td>\n",
              "      <td>-7.721162</td>\n",
              "      <td>-7.909449</td>\n",
              "      <td>-5.223778</td>\n",
              "      <td>-4.775610</td>\n",
              "      <td>-5.869926</td>\n",
              "      <td>-6.411216</td>\n",
              "      <td>-7.046728</td>\n",
              "      <td>-7.291892</td>\n",
              "      <td>-6.095611</td>\n",
              "      <td>-6.568892</td>\n",
              "      <td>-7.291423</td>\n",
              "      <td>-6.928551</td>\n",
              "      <td>-8.598313</td>\n",
              "      <td>-9.363802</td>\n",
              "      <td>-10.687643</td>\n",
              "      <td>-10.052926</td>\n",
              "      <td>-10.732912</td>\n",
              "      <td>-10.763189</td>\n",
              "      <td>-10.014899</td>\n",
              "      <td>-8.355243</td>\n",
              "      <td>-8.090166</td>\n",
              "      <td>-8.690153</td>\n",
              "      <td>-10.009110</td>\n",
              "      <td>-8.622483</td>\n",
              "      <td>-8.738614</td>\n",
              "      <td>-9.964726</td>\n",
              "      <td>-10.325613</td>\n",
              "      <td>-10.928432</td>\n",
              "      <td>Angry</td>\n",
              "    </tr>\n",
              "    <tr>\n",
              "      <th>123</th>\n",
              "      <td>-18.026028</td>\n",
              "      <td>-21.260529</td>\n",
              "      <td>-26.961008</td>\n",
              "      <td>-28.365816</td>\n",
              "      <td>-27.745476</td>\n",
              "      <td>-26.146528</td>\n",
              "      <td>-25.725863</td>\n",
              "      <td>-26.670109</td>\n",
              "      <td>-28.021168</td>\n",
              "      <td>-27.955372</td>\n",
              "      <td>-27.916119</td>\n",
              "      <td>-26.510326</td>\n",
              "      <td>-26.411570</td>\n",
              "      <td>-26.866751</td>\n",
              "      <td>-26.487108</td>\n",
              "      <td>-28.462231</td>\n",
              "      <td>-28.407829</td>\n",
              "      <td>-27.062773</td>\n",
              "      <td>-27.903978</td>\n",
              "      <td>-29.503826</td>\n",
              "      <td>-29.030458</td>\n",
              "      <td>-29.087212</td>\n",
              "      <td>-29.971018</td>\n",
              "      <td>-30.236357</td>\n",
              "      <td>-29.519524</td>\n",
              "      <td>-30.133320</td>\n",
              "      <td>-29.834934</td>\n",
              "      <td>-29.859734</td>\n",
              "      <td>-32.048634</td>\n",
              "      <td>-29.056061</td>\n",
              "      <td>-26.990465</td>\n",
              "      <td>-27.851381</td>\n",
              "      <td>-28.061340</td>\n",
              "      <td>-29.623629</td>\n",
              "      <td>-29.721344</td>\n",
              "      <td>-30.464231</td>\n",
              "      <td>-30.003071</td>\n",
              "      <td>-28.856586</td>\n",
              "      <td>-30.914188</td>\n",
              "      <td>-30.233295</td>\n",
              "      <td>...</td>\n",
              "      <td>-29.067270</td>\n",
              "      <td>-30.749390</td>\n",
              "      <td>-33.031860</td>\n",
              "      <td>-33.418552</td>\n",
              "      <td>-33.350868</td>\n",
              "      <td>-34.251469</td>\n",
              "      <td>-32.719894</td>\n",
              "      <td>-31.443869</td>\n",
              "      <td>-31.461033</td>\n",
              "      <td>-30.965820</td>\n",
              "      <td>-30.812014</td>\n",
              "      <td>-29.240877</td>\n",
              "      <td>-30.281982</td>\n",
              "      <td>-33.343433</td>\n",
              "      <td>-34.385643</td>\n",
              "      <td>-30.602955</td>\n",
              "      <td>-30.308361</td>\n",
              "      <td>-33.064602</td>\n",
              "      <td>-32.729717</td>\n",
              "      <td>-31.909107</td>\n",
              "      <td>-30.632000</td>\n",
              "      <td>-30.006804</td>\n",
              "      <td>-29.608356</td>\n",
              "      <td>-28.255674</td>\n",
              "      <td>-27.923931</td>\n",
              "      <td>-26.555155</td>\n",
              "      <td>-27.476849</td>\n",
              "      <td>-28.342594</td>\n",
              "      <td>-30.315115</td>\n",
              "      <td>-30.280924</td>\n",
              "      <td>-28.872700</td>\n",
              "      <td>-28.598848</td>\n",
              "      <td>-30.387648</td>\n",
              "      <td>-29.747896</td>\n",
              "      <td>-31.392719</td>\n",
              "      <td>-33.593079</td>\n",
              "      <td>-30.226494</td>\n",
              "      <td>-29.308952</td>\n",
              "      <td>-25.405796</td>\n",
              "      <td>Happy</td>\n",
              "    </tr>\n",
              "    <tr>\n",
              "      <th>257</th>\n",
              "      <td>-3.348706</td>\n",
              "      <td>-5.997772</td>\n",
              "      <td>-10.977880</td>\n",
              "      <td>-10.646827</td>\n",
              "      <td>-10.813127</td>\n",
              "      <td>-10.836961</td>\n",
              "      <td>-9.744047</td>\n",
              "      <td>-10.223768</td>\n",
              "      <td>-14.642358</td>\n",
              "      <td>-18.536852</td>\n",
              "      <td>-19.017420</td>\n",
              "      <td>-12.738820</td>\n",
              "      <td>-6.262784</td>\n",
              "      <td>-4.563046</td>\n",
              "      <td>-6.423366</td>\n",
              "      <td>-9.082846</td>\n",
              "      <td>-10.032818</td>\n",
              "      <td>-10.808070</td>\n",
              "      <td>-11.201823</td>\n",
              "      <td>-11.015490</td>\n",
              "      <td>-11.850747</td>\n",
              "      <td>-13.349067</td>\n",
              "      <td>-15.736869</td>\n",
              "      <td>-17.288704</td>\n",
              "      <td>-18.258659</td>\n",
              "      <td>-18.696590</td>\n",
              "      <td>-18.460356</td>\n",
              "      <td>-18.707195</td>\n",
              "      <td>-21.413267</td>\n",
              "      <td>-23.439766</td>\n",
              "      <td>-10.698724</td>\n",
              "      <td>-3.646288</td>\n",
              "      <td>-5.296541</td>\n",
              "      <td>-9.351563</td>\n",
              "      <td>-9.977875</td>\n",
              "      <td>-10.974680</td>\n",
              "      <td>-10.850081</td>\n",
              "      <td>-10.181227</td>\n",
              "      <td>-10.596058</td>\n",
              "      <td>-10.754451</td>\n",
              "      <td>...</td>\n",
              "      <td>-10.333605</td>\n",
              "      <td>-10.967564</td>\n",
              "      <td>-10.876007</td>\n",
              "      <td>-10.868729</td>\n",
              "      <td>-13.043882</td>\n",
              "      <td>-14.355635</td>\n",
              "      <td>-15.037835</td>\n",
              "      <td>-15.502270</td>\n",
              "      <td>-16.163361</td>\n",
              "      <td>-16.385588</td>\n",
              "      <td>-15.675910</td>\n",
              "      <td>-17.437103</td>\n",
              "      <td>-19.211555</td>\n",
              "      <td>-17.304882</td>\n",
              "      <td>-14.879148</td>\n",
              "      <td>-14.364429</td>\n",
              "      <td>-13.927651</td>\n",
              "      <td>-11.849794</td>\n",
              "      <td>-10.792721</td>\n",
              "      <td>-9.772459</td>\n",
              "      <td>-10.476076</td>\n",
              "      <td>-10.868586</td>\n",
              "      <td>-11.614732</td>\n",
              "      <td>-11.220020</td>\n",
              "      <td>-11.857273</td>\n",
              "      <td>-13.945022</td>\n",
              "      <td>-14.853222</td>\n",
              "      <td>-14.363935</td>\n",
              "      <td>-14.495442</td>\n",
              "      <td>-14.547797</td>\n",
              "      <td>-14.552543</td>\n",
              "      <td>-15.490362</td>\n",
              "      <td>-14.465563</td>\n",
              "      <td>-14.416871</td>\n",
              "      <td>-14.030066</td>\n",
              "      <td>-12.470778</td>\n",
              "      <td>-9.977194</td>\n",
              "      <td>-9.142715</td>\n",
              "      <td>-7.246282</td>\n",
              "      <td>Neutral</td>\n",
              "    </tr>\n",
              "    <tr>\n",
              "      <th>85</th>\n",
              "      <td>-28.009792</td>\n",
              "      <td>-26.030663</td>\n",
              "      <td>-26.481588</td>\n",
              "      <td>-27.035667</td>\n",
              "      <td>-25.770947</td>\n",
              "      <td>-26.641325</td>\n",
              "      <td>-25.592165</td>\n",
              "      <td>-25.982279</td>\n",
              "      <td>-25.740395</td>\n",
              "      <td>-24.934214</td>\n",
              "      <td>-25.551924</td>\n",
              "      <td>-25.063944</td>\n",
              "      <td>-24.459389</td>\n",
              "      <td>-24.629009</td>\n",
              "      <td>-23.848667</td>\n",
              "      <td>-25.488935</td>\n",
              "      <td>-24.689363</td>\n",
              "      <td>-24.562706</td>\n",
              "      <td>-25.215322</td>\n",
              "      <td>-24.115772</td>\n",
              "      <td>-25.587881</td>\n",
              "      <td>-24.554708</td>\n",
              "      <td>-25.063854</td>\n",
              "      <td>-25.081905</td>\n",
              "      <td>-24.665773</td>\n",
              "      <td>-24.665701</td>\n",
              "      <td>-24.060486</td>\n",
              "      <td>-25.181149</td>\n",
              "      <td>-23.957031</td>\n",
              "      <td>-23.653931</td>\n",
              "      <td>-23.832640</td>\n",
              "      <td>-22.900831</td>\n",
              "      <td>-24.061171</td>\n",
              "      <td>-23.130894</td>\n",
              "      <td>-21.325916</td>\n",
              "      <td>-21.065319</td>\n",
              "      <td>-20.547695</td>\n",
              "      <td>-20.961618</td>\n",
              "      <td>-21.971212</td>\n",
              "      <td>-21.496391</td>\n",
              "      <td>...</td>\n",
              "      <td>-22.367550</td>\n",
              "      <td>-21.599287</td>\n",
              "      <td>-22.887289</td>\n",
              "      <td>-23.414988</td>\n",
              "      <td>-23.126183</td>\n",
              "      <td>-23.995291</td>\n",
              "      <td>-23.209410</td>\n",
              "      <td>-23.357910</td>\n",
              "      <td>-23.893476</td>\n",
              "      <td>-23.794767</td>\n",
              "      <td>-24.059263</td>\n",
              "      <td>-24.032543</td>\n",
              "      <td>-24.490925</td>\n",
              "      <td>-23.702269</td>\n",
              "      <td>-23.674147</td>\n",
              "      <td>-23.600180</td>\n",
              "      <td>-22.967903</td>\n",
              "      <td>-23.421537</td>\n",
              "      <td>-22.320589</td>\n",
              "      <td>-23.106586</td>\n",
              "      <td>-20.899122</td>\n",
              "      <td>-21.528500</td>\n",
              "      <td>-22.596907</td>\n",
              "      <td>-22.851259</td>\n",
              "      <td>-24.438581</td>\n",
              "      <td>-24.066212</td>\n",
              "      <td>-25.198843</td>\n",
              "      <td>-24.348804</td>\n",
              "      <td>-25.362816</td>\n",
              "      <td>-25.183590</td>\n",
              "      <td>-24.032930</td>\n",
              "      <td>-25.791588</td>\n",
              "      <td>-25.252110</td>\n",
              "      <td>-26.050865</td>\n",
              "      <td>-25.363445</td>\n",
              "      <td>-25.015085</td>\n",
              "      <td>-25.622654</td>\n",
              "      <td>-24.445761</td>\n",
              "      <td>-26.007301</td>\n",
              "      <td>Angry</td>\n",
              "    </tr>\n",
              "  </tbody>\n",
              "</table>\n",
              "<p>6 rows × 217 columns</p>\n",
              "</div>"
            ],
            "text/plain": [
              "           0          1          2    ...        214        215      0  \n",
              "329  -6.955677  -7.891202  -8.494406  ...  -6.319079  -5.190259      Sad\n",
              "379 -10.580231  -9.681224  -9.916993  ... -13.610409 -10.392053      Sad\n",
              "38   -3.158261  -3.026058  -6.257804  ... -10.325613 -10.928432    Angry\n",
              "123 -18.026028 -21.260529 -26.961008  ... -29.308952 -25.405796    Happy\n",
              "257  -3.348706  -5.997772 -10.977880  ...  -9.142715  -7.246282  Neutral\n",
              "85  -28.009792 -26.030663 -26.481588  ... -24.445761 -26.007301    Angry\n",
              "\n",
              "[6 rows x 217 columns]"
            ]
          },
          "metadata": {
            "tags": []
          },
          "execution_count": 46
        }
      ]
    },
    {
      "cell_type": "code",
      "metadata": {
        "colab": {
          "base_uri": "https://localhost:8080/",
          "height": 437
        },
        "id": "8fV5oPH--9Hb",
        "outputId": "e9ca3fa4-5325-42c2-a47f-6d966d2add29"
      },
      "source": [
        "from sklearn.utils import shuffle\n",
        "rnewdf = shuffle(newdf)\n",
        "rnewdf[:400]"
      ],
      "execution_count": 45,
      "outputs": [
        {
          "output_type": "execute_result",
          "data": {
            "text/html": [
              "<div>\n",
              "<style scoped>\n",
              "    .dataframe tbody tr th:only-of-type {\n",
              "        vertical-align: middle;\n",
              "    }\n",
              "\n",
              "    .dataframe tbody tr th {\n",
              "        vertical-align: top;\n",
              "    }\n",
              "\n",
              "    .dataframe thead th {\n",
              "        text-align: right;\n",
              "    }\n",
              "</style>\n",
              "<table border=\"1\" class=\"dataframe\">\n",
              "  <thead>\n",
              "    <tr style=\"text-align: right;\">\n",
              "      <th></th>\n",
              "      <th>0</th>\n",
              "      <th>1</th>\n",
              "      <th>2</th>\n",
              "      <th>3</th>\n",
              "      <th>4</th>\n",
              "      <th>5</th>\n",
              "      <th>6</th>\n",
              "      <th>7</th>\n",
              "      <th>8</th>\n",
              "      <th>9</th>\n",
              "      <th>10</th>\n",
              "      <th>11</th>\n",
              "      <th>12</th>\n",
              "      <th>13</th>\n",
              "      <th>14</th>\n",
              "      <th>15</th>\n",
              "      <th>16</th>\n",
              "      <th>17</th>\n",
              "      <th>18</th>\n",
              "      <th>19</th>\n",
              "      <th>20</th>\n",
              "      <th>21</th>\n",
              "      <th>22</th>\n",
              "      <th>23</th>\n",
              "      <th>24</th>\n",
              "      <th>25</th>\n",
              "      <th>26</th>\n",
              "      <th>27</th>\n",
              "      <th>28</th>\n",
              "      <th>29</th>\n",
              "      <th>30</th>\n",
              "      <th>31</th>\n",
              "      <th>32</th>\n",
              "      <th>33</th>\n",
              "      <th>34</th>\n",
              "      <th>35</th>\n",
              "      <th>36</th>\n",
              "      <th>37</th>\n",
              "      <th>38</th>\n",
              "      <th>39</th>\n",
              "      <th>...</th>\n",
              "      <th>177</th>\n",
              "      <th>178</th>\n",
              "      <th>179</th>\n",
              "      <th>180</th>\n",
              "      <th>181</th>\n",
              "      <th>182</th>\n",
              "      <th>183</th>\n",
              "      <th>184</th>\n",
              "      <th>185</th>\n",
              "      <th>186</th>\n",
              "      <th>187</th>\n",
              "      <th>188</th>\n",
              "      <th>189</th>\n",
              "      <th>190</th>\n",
              "      <th>191</th>\n",
              "      <th>192</th>\n",
              "      <th>193</th>\n",
              "      <th>194</th>\n",
              "      <th>195</th>\n",
              "      <th>196</th>\n",
              "      <th>197</th>\n",
              "      <th>198</th>\n",
              "      <th>199</th>\n",
              "      <th>200</th>\n",
              "      <th>201</th>\n",
              "      <th>202</th>\n",
              "      <th>203</th>\n",
              "      <th>204</th>\n",
              "      <th>205</th>\n",
              "      <th>206</th>\n",
              "      <th>207</th>\n",
              "      <th>208</th>\n",
              "      <th>209</th>\n",
              "      <th>210</th>\n",
              "      <th>211</th>\n",
              "      <th>212</th>\n",
              "      <th>213</th>\n",
              "      <th>214</th>\n",
              "      <th>215</th>\n",
              "      <th>0</th>\n",
              "    </tr>\n",
              "  </thead>\n",
              "  <tbody>\n",
              "    <tr>\n",
              "      <th>329</th>\n",
              "      <td>-6.955677</td>\n",
              "      <td>-7.891202</td>\n",
              "      <td>-8.494406</td>\n",
              "      <td>-7.535131</td>\n",
              "      <td>-8.275479</td>\n",
              "      <td>-9.923759</td>\n",
              "      <td>-10.934296</td>\n",
              "      <td>-10.803219</td>\n",
              "      <td>-8.623272</td>\n",
              "      <td>-7.054743</td>\n",
              "      <td>-7.357567</td>\n",
              "      <td>-7.580455</td>\n",
              "      <td>-7.721697</td>\n",
              "      <td>-6.885444</td>\n",
              "      <td>-7.662989</td>\n",
              "      <td>-8.627166</td>\n",
              "      <td>-9.098404</td>\n",
              "      <td>-9.468337</td>\n",
              "      <td>-9.543685</td>\n",
              "      <td>-9.008438</td>\n",
              "      <td>-9.642507</td>\n",
              "      <td>-8.085581</td>\n",
              "      <td>-7.358839</td>\n",
              "      <td>-7.514416</td>\n",
              "      <td>-8.915444</td>\n",
              "      <td>-8.645466</td>\n",
              "      <td>-9.482112</td>\n",
              "      <td>-7.713835</td>\n",
              "      <td>-8.795096</td>\n",
              "      <td>-9.685750</td>\n",
              "      <td>-8.370797</td>\n",
              "      <td>-6.347509</td>\n",
              "      <td>-6.384320</td>\n",
              "      <td>-7.204827</td>\n",
              "      <td>-7.810737</td>\n",
              "      <td>-7.393354</td>\n",
              "      <td>-8.637422</td>\n",
              "      <td>-10.231421</td>\n",
              "      <td>-10.061451</td>\n",
              "      <td>-9.940733</td>\n",
              "      <td>...</td>\n",
              "      <td>-9.682737</td>\n",
              "      <td>-8.029919</td>\n",
              "      <td>-8.396083</td>\n",
              "      <td>-9.377351</td>\n",
              "      <td>-10.496326</td>\n",
              "      <td>-10.614172</td>\n",
              "      <td>-9.834454</td>\n",
              "      <td>-9.093746</td>\n",
              "      <td>-7.645881</td>\n",
              "      <td>-8.962844</td>\n",
              "      <td>-10.873628</td>\n",
              "      <td>-13.972071</td>\n",
              "      <td>-14.301091</td>\n",
              "      <td>-11.526689</td>\n",
              "      <td>-10.206870</td>\n",
              "      <td>-9.831933</td>\n",
              "      <td>-7.348737</td>\n",
              "      <td>-6.649900</td>\n",
              "      <td>-8.957335</td>\n",
              "      <td>-6.225667</td>\n",
              "      <td>-5.176761</td>\n",
              "      <td>-5.612801</td>\n",
              "      <td>-4.469873</td>\n",
              "      <td>-3.915761</td>\n",
              "      <td>-4.052786</td>\n",
              "      <td>-4.138599</td>\n",
              "      <td>-4.332354</td>\n",
              "      <td>-4.808650</td>\n",
              "      <td>-6.178698</td>\n",
              "      <td>-6.441819</td>\n",
              "      <td>-8.543794</td>\n",
              "      <td>-10.539110</td>\n",
              "      <td>-9.642411</td>\n",
              "      <td>-8.794345</td>\n",
              "      <td>-8.659803</td>\n",
              "      <td>-8.446558</td>\n",
              "      <td>-8.839730</td>\n",
              "      <td>-6.319079</td>\n",
              "      <td>-5.190259</td>\n",
              "      <td>Sad</td>\n",
              "    </tr>\n",
              "    <tr>\n",
              "      <th>379</th>\n",
              "      <td>-10.580231</td>\n",
              "      <td>-9.681224</td>\n",
              "      <td>-9.916993</td>\n",
              "      <td>-10.398582</td>\n",
              "      <td>-10.329622</td>\n",
              "      <td>-10.741261</td>\n",
              "      <td>-14.514874</td>\n",
              "      <td>-16.254408</td>\n",
              "      <td>-17.191261</td>\n",
              "      <td>-16.514576</td>\n",
              "      <td>-15.179427</td>\n",
              "      <td>-13.620056</td>\n",
              "      <td>-14.100279</td>\n",
              "      <td>-13.487223</td>\n",
              "      <td>-12.665295</td>\n",
              "      <td>-14.197229</td>\n",
              "      <td>-14.177473</td>\n",
              "      <td>-14.357091</td>\n",
              "      <td>-16.441219</td>\n",
              "      <td>-16.284569</td>\n",
              "      <td>-11.869884</td>\n",
              "      <td>-9.389621</td>\n",
              "      <td>-8.368306</td>\n",
              "      <td>-7.654357</td>\n",
              "      <td>-6.134633</td>\n",
              "      <td>-5.024354</td>\n",
              "      <td>-5.659089</td>\n",
              "      <td>-8.924208</td>\n",
              "      <td>-8.172611</td>\n",
              "      <td>-5.643627</td>\n",
              "      <td>-3.670625</td>\n",
              "      <td>-3.671127</td>\n",
              "      <td>-6.349568</td>\n",
              "      <td>-8.473587</td>\n",
              "      <td>-6.942811</td>\n",
              "      <td>-8.245191</td>\n",
              "      <td>-7.288473</td>\n",
              "      <td>-7.356338</td>\n",
              "      <td>-8.719624</td>\n",
              "      <td>-8.376801</td>\n",
              "      <td>...</td>\n",
              "      <td>-8.893950</td>\n",
              "      <td>-8.767558</td>\n",
              "      <td>-9.455558</td>\n",
              "      <td>-8.542538</td>\n",
              "      <td>-8.147978</td>\n",
              "      <td>-9.479355</td>\n",
              "      <td>-9.522287</td>\n",
              "      <td>-8.907645</td>\n",
              "      <td>-10.562323</td>\n",
              "      <td>-10.088518</td>\n",
              "      <td>-8.906984</td>\n",
              "      <td>-10.135428</td>\n",
              "      <td>-10.955797</td>\n",
              "      <td>-13.192605</td>\n",
              "      <td>-13.634740</td>\n",
              "      <td>-14.022314</td>\n",
              "      <td>-13.650445</td>\n",
              "      <td>-13.844471</td>\n",
              "      <td>-11.885964</td>\n",
              "      <td>-10.403661</td>\n",
              "      <td>-10.572763</td>\n",
              "      <td>-10.658213</td>\n",
              "      <td>-11.170415</td>\n",
              "      <td>-13.742004</td>\n",
              "      <td>-14.717747</td>\n",
              "      <td>-12.905500</td>\n",
              "      <td>-9.940811</td>\n",
              "      <td>-10.641665</td>\n",
              "      <td>-13.752182</td>\n",
              "      <td>-11.956434</td>\n",
              "      <td>-10.538330</td>\n",
              "      <td>-9.589828</td>\n",
              "      <td>-10.319768</td>\n",
              "      <td>-14.361454</td>\n",
              "      <td>-15.344970</td>\n",
              "      <td>-15.765208</td>\n",
              "      <td>-14.196074</td>\n",
              "      <td>-13.610409</td>\n",
              "      <td>-10.392053</td>\n",
              "      <td>Sad</td>\n",
              "    </tr>\n",
              "    <tr>\n",
              "      <th>38</th>\n",
              "      <td>-3.158261</td>\n",
              "      <td>-3.026058</td>\n",
              "      <td>-6.257804</td>\n",
              "      <td>-4.523790</td>\n",
              "      <td>-5.600027</td>\n",
              "      <td>-8.696778</td>\n",
              "      <td>-9.517302</td>\n",
              "      <td>-7.798670</td>\n",
              "      <td>-8.443727</td>\n",
              "      <td>-8.411579</td>\n",
              "      <td>-9.809196</td>\n",
              "      <td>-10.117479</td>\n",
              "      <td>-8.305954</td>\n",
              "      <td>-8.650184</td>\n",
              "      <td>-8.070659</td>\n",
              "      <td>-8.720264</td>\n",
              "      <td>-9.542347</td>\n",
              "      <td>-10.302932</td>\n",
              "      <td>-9.818231</td>\n",
              "      <td>-10.146902</td>\n",
              "      <td>-10.166448</td>\n",
              "      <td>-10.393875</td>\n",
              "      <td>-10.362411</td>\n",
              "      <td>-11.633036</td>\n",
              "      <td>-11.877366</td>\n",
              "      <td>-11.976816</td>\n",
              "      <td>-12.239879</td>\n",
              "      <td>-11.143920</td>\n",
              "      <td>-11.948278</td>\n",
              "      <td>-13.971089</td>\n",
              "      <td>-13.064734</td>\n",
              "      <td>-12.556834</td>\n",
              "      <td>-13.246527</td>\n",
              "      <td>-11.753071</td>\n",
              "      <td>-12.244105</td>\n",
              "      <td>-11.728713</td>\n",
              "      <td>-12.287611</td>\n",
              "      <td>-12.031204</td>\n",
              "      <td>-10.967691</td>\n",
              "      <td>-8.306184</td>\n",
              "      <td>...</td>\n",
              "      <td>-7.937041</td>\n",
              "      <td>-8.558932</td>\n",
              "      <td>-6.907777</td>\n",
              "      <td>-5.975733</td>\n",
              "      <td>-6.435414</td>\n",
              "      <td>-6.858005</td>\n",
              "      <td>-7.803387</td>\n",
              "      <td>-7.398989</td>\n",
              "      <td>-8.536465</td>\n",
              "      <td>-8.022794</td>\n",
              "      <td>-7.421104</td>\n",
              "      <td>-7.721162</td>\n",
              "      <td>-7.909449</td>\n",
              "      <td>-5.223778</td>\n",
              "      <td>-4.775610</td>\n",
              "      <td>-5.869926</td>\n",
              "      <td>-6.411216</td>\n",
              "      <td>-7.046728</td>\n",
              "      <td>-7.291892</td>\n",
              "      <td>-6.095611</td>\n",
              "      <td>-6.568892</td>\n",
              "      <td>-7.291423</td>\n",
              "      <td>-6.928551</td>\n",
              "      <td>-8.598313</td>\n",
              "      <td>-9.363802</td>\n",
              "      <td>-10.687643</td>\n",
              "      <td>-10.052926</td>\n",
              "      <td>-10.732912</td>\n",
              "      <td>-10.763189</td>\n",
              "      <td>-10.014899</td>\n",
              "      <td>-8.355243</td>\n",
              "      <td>-8.090166</td>\n",
              "      <td>-8.690153</td>\n",
              "      <td>-10.009110</td>\n",
              "      <td>-8.622483</td>\n",
              "      <td>-8.738614</td>\n",
              "      <td>-9.964726</td>\n",
              "      <td>-10.325613</td>\n",
              "      <td>-10.928432</td>\n",
              "      <td>Angry</td>\n",
              "    </tr>\n",
              "    <tr>\n",
              "      <th>123</th>\n",
              "      <td>-18.026028</td>\n",
              "      <td>-21.260529</td>\n",
              "      <td>-26.961008</td>\n",
              "      <td>-28.365816</td>\n",
              "      <td>-27.745476</td>\n",
              "      <td>-26.146528</td>\n",
              "      <td>-25.725863</td>\n",
              "      <td>-26.670109</td>\n",
              "      <td>-28.021168</td>\n",
              "      <td>-27.955372</td>\n",
              "      <td>-27.916119</td>\n",
              "      <td>-26.510326</td>\n",
              "      <td>-26.411570</td>\n",
              "      <td>-26.866751</td>\n",
              "      <td>-26.487108</td>\n",
              "      <td>-28.462231</td>\n",
              "      <td>-28.407829</td>\n",
              "      <td>-27.062773</td>\n",
              "      <td>-27.903978</td>\n",
              "      <td>-29.503826</td>\n",
              "      <td>-29.030458</td>\n",
              "      <td>-29.087212</td>\n",
              "      <td>-29.971018</td>\n",
              "      <td>-30.236357</td>\n",
              "      <td>-29.519524</td>\n",
              "      <td>-30.133320</td>\n",
              "      <td>-29.834934</td>\n",
              "      <td>-29.859734</td>\n",
              "      <td>-32.048634</td>\n",
              "      <td>-29.056061</td>\n",
              "      <td>-26.990465</td>\n",
              "      <td>-27.851381</td>\n",
              "      <td>-28.061340</td>\n",
              "      <td>-29.623629</td>\n",
              "      <td>-29.721344</td>\n",
              "      <td>-30.464231</td>\n",
              "      <td>-30.003071</td>\n",
              "      <td>-28.856586</td>\n",
              "      <td>-30.914188</td>\n",
              "      <td>-30.233295</td>\n",
              "      <td>...</td>\n",
              "      <td>-29.067270</td>\n",
              "      <td>-30.749390</td>\n",
              "      <td>-33.031860</td>\n",
              "      <td>-33.418552</td>\n",
              "      <td>-33.350868</td>\n",
              "      <td>-34.251469</td>\n",
              "      <td>-32.719894</td>\n",
              "      <td>-31.443869</td>\n",
              "      <td>-31.461033</td>\n",
              "      <td>-30.965820</td>\n",
              "      <td>-30.812014</td>\n",
              "      <td>-29.240877</td>\n",
              "      <td>-30.281982</td>\n",
              "      <td>-33.343433</td>\n",
              "      <td>-34.385643</td>\n",
              "      <td>-30.602955</td>\n",
              "      <td>-30.308361</td>\n",
              "      <td>-33.064602</td>\n",
              "      <td>-32.729717</td>\n",
              "      <td>-31.909107</td>\n",
              "      <td>-30.632000</td>\n",
              "      <td>-30.006804</td>\n",
              "      <td>-29.608356</td>\n",
              "      <td>-28.255674</td>\n",
              "      <td>-27.923931</td>\n",
              "      <td>-26.555155</td>\n",
              "      <td>-27.476849</td>\n",
              "      <td>-28.342594</td>\n",
              "      <td>-30.315115</td>\n",
              "      <td>-30.280924</td>\n",
              "      <td>-28.872700</td>\n",
              "      <td>-28.598848</td>\n",
              "      <td>-30.387648</td>\n",
              "      <td>-29.747896</td>\n",
              "      <td>-31.392719</td>\n",
              "      <td>-33.593079</td>\n",
              "      <td>-30.226494</td>\n",
              "      <td>-29.308952</td>\n",
              "      <td>-25.405796</td>\n",
              "      <td>Happy</td>\n",
              "    </tr>\n",
              "    <tr>\n",
              "      <th>257</th>\n",
              "      <td>-3.348706</td>\n",
              "      <td>-5.997772</td>\n",
              "      <td>-10.977880</td>\n",
              "      <td>-10.646827</td>\n",
              "      <td>-10.813127</td>\n",
              "      <td>-10.836961</td>\n",
              "      <td>-9.744047</td>\n",
              "      <td>-10.223768</td>\n",
              "      <td>-14.642358</td>\n",
              "      <td>-18.536852</td>\n",
              "      <td>-19.017420</td>\n",
              "      <td>-12.738820</td>\n",
              "      <td>-6.262784</td>\n",
              "      <td>-4.563046</td>\n",
              "      <td>-6.423366</td>\n",
              "      <td>-9.082846</td>\n",
              "      <td>-10.032818</td>\n",
              "      <td>-10.808070</td>\n",
              "      <td>-11.201823</td>\n",
              "      <td>-11.015490</td>\n",
              "      <td>-11.850747</td>\n",
              "      <td>-13.349067</td>\n",
              "      <td>-15.736869</td>\n",
              "      <td>-17.288704</td>\n",
              "      <td>-18.258659</td>\n",
              "      <td>-18.696590</td>\n",
              "      <td>-18.460356</td>\n",
              "      <td>-18.707195</td>\n",
              "      <td>-21.413267</td>\n",
              "      <td>-23.439766</td>\n",
              "      <td>-10.698724</td>\n",
              "      <td>-3.646288</td>\n",
              "      <td>-5.296541</td>\n",
              "      <td>-9.351563</td>\n",
              "      <td>-9.977875</td>\n",
              "      <td>-10.974680</td>\n",
              "      <td>-10.850081</td>\n",
              "      <td>-10.181227</td>\n",
              "      <td>-10.596058</td>\n",
              "      <td>-10.754451</td>\n",
              "      <td>...</td>\n",
              "      <td>-10.333605</td>\n",
              "      <td>-10.967564</td>\n",
              "      <td>-10.876007</td>\n",
              "      <td>-10.868729</td>\n",
              "      <td>-13.043882</td>\n",
              "      <td>-14.355635</td>\n",
              "      <td>-15.037835</td>\n",
              "      <td>-15.502270</td>\n",
              "      <td>-16.163361</td>\n",
              "      <td>-16.385588</td>\n",
              "      <td>-15.675910</td>\n",
              "      <td>-17.437103</td>\n",
              "      <td>-19.211555</td>\n",
              "      <td>-17.304882</td>\n",
              "      <td>-14.879148</td>\n",
              "      <td>-14.364429</td>\n",
              "      <td>-13.927651</td>\n",
              "      <td>-11.849794</td>\n",
              "      <td>-10.792721</td>\n",
              "      <td>-9.772459</td>\n",
              "      <td>-10.476076</td>\n",
              "      <td>-10.868586</td>\n",
              "      <td>-11.614732</td>\n",
              "      <td>-11.220020</td>\n",
              "      <td>-11.857273</td>\n",
              "      <td>-13.945022</td>\n",
              "      <td>-14.853222</td>\n",
              "      <td>-14.363935</td>\n",
              "      <td>-14.495442</td>\n",
              "      <td>-14.547797</td>\n",
              "      <td>-14.552543</td>\n",
              "      <td>-15.490362</td>\n",
              "      <td>-14.465563</td>\n",
              "      <td>-14.416871</td>\n",
              "      <td>-14.030066</td>\n",
              "      <td>-12.470778</td>\n",
              "      <td>-9.977194</td>\n",
              "      <td>-9.142715</td>\n",
              "      <td>-7.246282</td>\n",
              "      <td>Neutral</td>\n",
              "    </tr>\n",
              "    <tr>\n",
              "      <th>...</th>\n",
              "      <td>...</td>\n",
              "      <td>...</td>\n",
              "      <td>...</td>\n",
              "      <td>...</td>\n",
              "      <td>...</td>\n",
              "      <td>...</td>\n",
              "      <td>...</td>\n",
              "      <td>...</td>\n",
              "      <td>...</td>\n",
              "      <td>...</td>\n",
              "      <td>...</td>\n",
              "      <td>...</td>\n",
              "      <td>...</td>\n",
              "      <td>...</td>\n",
              "      <td>...</td>\n",
              "      <td>...</td>\n",
              "      <td>...</td>\n",
              "      <td>...</td>\n",
              "      <td>...</td>\n",
              "      <td>...</td>\n",
              "      <td>...</td>\n",
              "      <td>...</td>\n",
              "      <td>...</td>\n",
              "      <td>...</td>\n",
              "      <td>...</td>\n",
              "      <td>...</td>\n",
              "      <td>...</td>\n",
              "      <td>...</td>\n",
              "      <td>...</td>\n",
              "      <td>...</td>\n",
              "      <td>...</td>\n",
              "      <td>...</td>\n",
              "      <td>...</td>\n",
              "      <td>...</td>\n",
              "      <td>...</td>\n",
              "      <td>...</td>\n",
              "      <td>...</td>\n",
              "      <td>...</td>\n",
              "      <td>...</td>\n",
              "      <td>...</td>\n",
              "      <td>...</td>\n",
              "      <td>...</td>\n",
              "      <td>...</td>\n",
              "      <td>...</td>\n",
              "      <td>...</td>\n",
              "      <td>...</td>\n",
              "      <td>...</td>\n",
              "      <td>...</td>\n",
              "      <td>...</td>\n",
              "      <td>...</td>\n",
              "      <td>...</td>\n",
              "      <td>...</td>\n",
              "      <td>...</td>\n",
              "      <td>...</td>\n",
              "      <td>...</td>\n",
              "      <td>...</td>\n",
              "      <td>...</td>\n",
              "      <td>...</td>\n",
              "      <td>...</td>\n",
              "      <td>...</td>\n",
              "      <td>...</td>\n",
              "      <td>...</td>\n",
              "      <td>...</td>\n",
              "      <td>...</td>\n",
              "      <td>...</td>\n",
              "      <td>...</td>\n",
              "      <td>...</td>\n",
              "      <td>...</td>\n",
              "      <td>...</td>\n",
              "      <td>...</td>\n",
              "      <td>...</td>\n",
              "      <td>...</td>\n",
              "      <td>...</td>\n",
              "      <td>...</td>\n",
              "      <td>...</td>\n",
              "      <td>...</td>\n",
              "      <td>...</td>\n",
              "      <td>...</td>\n",
              "      <td>...</td>\n",
              "      <td>...</td>\n",
              "      <td>...</td>\n",
              "    </tr>\n",
              "    <tr>\n",
              "      <th>214</th>\n",
              "      <td>-31.310238</td>\n",
              "      <td>-30.479525</td>\n",
              "      <td>-30.336630</td>\n",
              "      <td>-32.069950</td>\n",
              "      <td>-33.021603</td>\n",
              "      <td>-33.085678</td>\n",
              "      <td>-31.362556</td>\n",
              "      <td>-30.532398</td>\n",
              "      <td>-30.205435</td>\n",
              "      <td>-31.930878</td>\n",
              "      <td>-31.633615</td>\n",
              "      <td>-32.131607</td>\n",
              "      <td>-32.624699</td>\n",
              "      <td>-32.342659</td>\n",
              "      <td>-31.465162</td>\n",
              "      <td>-31.713581</td>\n",
              "      <td>-31.555149</td>\n",
              "      <td>-33.445007</td>\n",
              "      <td>-34.515812</td>\n",
              "      <td>-32.101074</td>\n",
              "      <td>-31.450808</td>\n",
              "      <td>-31.449350</td>\n",
              "      <td>-33.728615</td>\n",
              "      <td>-31.404600</td>\n",
              "      <td>-26.215179</td>\n",
              "      <td>-27.059883</td>\n",
              "      <td>-29.636848</td>\n",
              "      <td>-29.128838</td>\n",
              "      <td>-31.178467</td>\n",
              "      <td>-32.046322</td>\n",
              "      <td>-33.258366</td>\n",
              "      <td>-32.954781</td>\n",
              "      <td>-31.173405</td>\n",
              "      <td>-34.756760</td>\n",
              "      <td>-36.040901</td>\n",
              "      <td>-33.776127</td>\n",
              "      <td>-31.685383</td>\n",
              "      <td>-31.096121</td>\n",
              "      <td>-20.034473</td>\n",
              "      <td>-7.152357</td>\n",
              "      <td>...</td>\n",
              "      <td>-4.098487</td>\n",
              "      <td>-3.291490</td>\n",
              "      <td>-2.671432</td>\n",
              "      <td>-3.029819</td>\n",
              "      <td>-3.210633</td>\n",
              "      <td>-3.707470</td>\n",
              "      <td>-4.411838</td>\n",
              "      <td>-6.199793</td>\n",
              "      <td>-5.371205</td>\n",
              "      <td>-8.235946</td>\n",
              "      <td>-10.060847</td>\n",
              "      <td>-12.743508</td>\n",
              "      <td>-11.279237</td>\n",
              "      <td>-9.892536</td>\n",
              "      <td>-9.979719</td>\n",
              "      <td>-9.800165</td>\n",
              "      <td>-9.446871</td>\n",
              "      <td>-9.749825</td>\n",
              "      <td>-9.283225</td>\n",
              "      <td>-6.700292</td>\n",
              "      <td>-4.248906</td>\n",
              "      <td>-4.746979</td>\n",
              "      <td>-7.123227</td>\n",
              "      <td>-8.452592</td>\n",
              "      <td>-9.138363</td>\n",
              "      <td>-10.857461</td>\n",
              "      <td>-9.664519</td>\n",
              "      <td>-11.096671</td>\n",
              "      <td>-12.050485</td>\n",
              "      <td>-13.284754</td>\n",
              "      <td>-13.616001</td>\n",
              "      <td>-13.980579</td>\n",
              "      <td>-13.389027</td>\n",
              "      <td>-10.972579</td>\n",
              "      <td>-9.138533</td>\n",
              "      <td>-9.997681</td>\n",
              "      <td>-8.881487</td>\n",
              "      <td>-5.280828</td>\n",
              "      <td>-2.749186</td>\n",
              "      <td>Neutral</td>\n",
              "    </tr>\n",
              "    <tr>\n",
              "      <th>380</th>\n",
              "      <td>-26.074373</td>\n",
              "      <td>-26.447498</td>\n",
              "      <td>-25.818951</td>\n",
              "      <td>-26.213875</td>\n",
              "      <td>-26.887522</td>\n",
              "      <td>-27.311626</td>\n",
              "      <td>-27.395182</td>\n",
              "      <td>-28.480680</td>\n",
              "      <td>-27.746593</td>\n",
              "      <td>-27.634157</td>\n",
              "      <td>-26.816256</td>\n",
              "      <td>-24.275906</td>\n",
              "      <td>-24.307085</td>\n",
              "      <td>-22.517601</td>\n",
              "      <td>-19.928753</td>\n",
              "      <td>-19.712633</td>\n",
              "      <td>-20.698408</td>\n",
              "      <td>-21.242632</td>\n",
              "      <td>-23.057915</td>\n",
              "      <td>-24.293621</td>\n",
              "      <td>-25.501934</td>\n",
              "      <td>-23.943621</td>\n",
              "      <td>-22.580578</td>\n",
              "      <td>-23.242577</td>\n",
              "      <td>-24.734388</td>\n",
              "      <td>-25.023710</td>\n",
              "      <td>-24.962891</td>\n",
              "      <td>-25.573835</td>\n",
              "      <td>-26.316212</td>\n",
              "      <td>-26.867380</td>\n",
              "      <td>-26.950642</td>\n",
              "      <td>-25.066084</td>\n",
              "      <td>-25.853342</td>\n",
              "      <td>-26.038774</td>\n",
              "      <td>-24.199791</td>\n",
              "      <td>-24.753611</td>\n",
              "      <td>-27.054504</td>\n",
              "      <td>-26.658947</td>\n",
              "      <td>-25.992754</td>\n",
              "      <td>-26.521904</td>\n",
              "      <td>...</td>\n",
              "      <td>-40.521278</td>\n",
              "      <td>-41.126835</td>\n",
              "      <td>-41.207321</td>\n",
              "      <td>-41.599342</td>\n",
              "      <td>-41.557838</td>\n",
              "      <td>-42.005508</td>\n",
              "      <td>-41.285446</td>\n",
              "      <td>-41.709892</td>\n",
              "      <td>-40.831772</td>\n",
              "      <td>-40.337307</td>\n",
              "      <td>-42.159809</td>\n",
              "      <td>-44.859734</td>\n",
              "      <td>-42.956882</td>\n",
              "      <td>-42.062069</td>\n",
              "      <td>-44.299721</td>\n",
              "      <td>-42.691738</td>\n",
              "      <td>-40.378792</td>\n",
              "      <td>-40.382332</td>\n",
              "      <td>-42.508099</td>\n",
              "      <td>-41.017830</td>\n",
              "      <td>-40.639114</td>\n",
              "      <td>-42.866096</td>\n",
              "      <td>-44.118000</td>\n",
              "      <td>-43.026463</td>\n",
              "      <td>-41.262032</td>\n",
              "      <td>-40.697037</td>\n",
              "      <td>-40.604816</td>\n",
              "      <td>-39.473618</td>\n",
              "      <td>-41.092693</td>\n",
              "      <td>-40.643082</td>\n",
              "      <td>-40.352791</td>\n",
              "      <td>-39.775337</td>\n",
              "      <td>-41.821690</td>\n",
              "      <td>-43.773338</td>\n",
              "      <td>-42.138550</td>\n",
              "      <td>-41.333557</td>\n",
              "      <td>-43.423576</td>\n",
              "      <td>-43.476303</td>\n",
              "      <td>-41.531456</td>\n",
              "      <td>Sad</td>\n",
              "    </tr>\n",
              "    <tr>\n",
              "      <th>177</th>\n",
              "      <td>-0.557944</td>\n",
              "      <td>-1.678516</td>\n",
              "      <td>-1.252613</td>\n",
              "      <td>-2.498025</td>\n",
              "      <td>-4.293326</td>\n",
              "      <td>-4.250607</td>\n",
              "      <td>-3.928120</td>\n",
              "      <td>-4.562641</td>\n",
              "      <td>-2.655329</td>\n",
              "      <td>-2.567681</td>\n",
              "      <td>-2.459557</td>\n",
              "      <td>-1.018589</td>\n",
              "      <td>-0.908828</td>\n",
              "      <td>-1.379139</td>\n",
              "      <td>-3.415315</td>\n",
              "      <td>-4.509626</td>\n",
              "      <td>-5.492955</td>\n",
              "      <td>-5.652595</td>\n",
              "      <td>-5.406585</td>\n",
              "      <td>-4.623776</td>\n",
              "      <td>-3.923420</td>\n",
              "      <td>-4.599461</td>\n",
              "      <td>-4.226512</td>\n",
              "      <td>-4.316004</td>\n",
              "      <td>-3.556928</td>\n",
              "      <td>-3.867916</td>\n",
              "      <td>-5.174530</td>\n",
              "      <td>-3.305358</td>\n",
              "      <td>-3.206762</td>\n",
              "      <td>-4.424610</td>\n",
              "      <td>-5.626815</td>\n",
              "      <td>-5.293096</td>\n",
              "      <td>-5.334550</td>\n",
              "      <td>-5.524289</td>\n",
              "      <td>-6.186859</td>\n",
              "      <td>-4.631377</td>\n",
              "      <td>-5.555705</td>\n",
              "      <td>-7.903064</td>\n",
              "      <td>-6.622180</td>\n",
              "      <td>-7.519419</td>\n",
              "      <td>...</td>\n",
              "      <td>-3.248152</td>\n",
              "      <td>-2.859406</td>\n",
              "      <td>-3.815159</td>\n",
              "      <td>-5.235505</td>\n",
              "      <td>-4.738019</td>\n",
              "      <td>-3.921830</td>\n",
              "      <td>-4.830853</td>\n",
              "      <td>-5.749661</td>\n",
              "      <td>-4.417025</td>\n",
              "      <td>-4.957060</td>\n",
              "      <td>-4.778409</td>\n",
              "      <td>-3.097313</td>\n",
              "      <td>-3.677742</td>\n",
              "      <td>-1.316468</td>\n",
              "      <td>-0.256922</td>\n",
              "      <td>-1.595767</td>\n",
              "      <td>-2.413067</td>\n",
              "      <td>-3.551441</td>\n",
              "      <td>-2.243740</td>\n",
              "      <td>-2.105198</td>\n",
              "      <td>-2.637715</td>\n",
              "      <td>-6.130078</td>\n",
              "      <td>-6.247929</td>\n",
              "      <td>-7.183842</td>\n",
              "      <td>-7.085175</td>\n",
              "      <td>-5.215719</td>\n",
              "      <td>-6.981996</td>\n",
              "      <td>-5.814569</td>\n",
              "      <td>-4.585446</td>\n",
              "      <td>-6.053896</td>\n",
              "      <td>-3.560139</td>\n",
              "      <td>-3.501460</td>\n",
              "      <td>-1.872090</td>\n",
              "      <td>-1.065684</td>\n",
              "      <td>0.479028</td>\n",
              "      <td>0.286774</td>\n",
              "      <td>-0.915910</td>\n",
              "      <td>-0.466612</td>\n",
              "      <td>0.636185</td>\n",
              "      <td>Happy</td>\n",
              "    </tr>\n",
              "    <tr>\n",
              "      <th>220</th>\n",
              "      <td>-26.009356</td>\n",
              "      <td>-24.465376</td>\n",
              "      <td>-26.975344</td>\n",
              "      <td>-26.284685</td>\n",
              "      <td>-24.043831</td>\n",
              "      <td>-21.291431</td>\n",
              "      <td>-15.591290</td>\n",
              "      <td>-12.770483</td>\n",
              "      <td>-11.366954</td>\n",
              "      <td>-10.545669</td>\n",
              "      <td>-10.767925</td>\n",
              "      <td>-9.681870</td>\n",
              "      <td>-8.918281</td>\n",
              "      <td>-8.194251</td>\n",
              "      <td>-8.191260</td>\n",
              "      <td>-8.776870</td>\n",
              "      <td>-8.064851</td>\n",
              "      <td>-8.970490</td>\n",
              "      <td>-8.528949</td>\n",
              "      <td>-5.987987</td>\n",
              "      <td>-7.366847</td>\n",
              "      <td>-14.737104</td>\n",
              "      <td>-20.855591</td>\n",
              "      <td>-22.949341</td>\n",
              "      <td>-24.439604</td>\n",
              "      <td>-24.530525</td>\n",
              "      <td>-18.620487</td>\n",
              "      <td>-14.140501</td>\n",
              "      <td>-9.332665</td>\n",
              "      <td>-8.937425</td>\n",
              "      <td>-9.728925</td>\n",
              "      <td>-9.250685</td>\n",
              "      <td>-8.555961</td>\n",
              "      <td>-7.464076</td>\n",
              "      <td>-9.724570</td>\n",
              "      <td>-13.618429</td>\n",
              "      <td>-12.570845</td>\n",
              "      <td>-13.136809</td>\n",
              "      <td>-13.349583</td>\n",
              "      <td>-12.271611</td>\n",
              "      <td>...</td>\n",
              "      <td>-11.327037</td>\n",
              "      <td>-10.955374</td>\n",
              "      <td>-10.686660</td>\n",
              "      <td>-11.709623</td>\n",
              "      <td>-12.036696</td>\n",
              "      <td>-12.063389</td>\n",
              "      <td>-12.642127</td>\n",
              "      <td>-11.943715</td>\n",
              "      <td>-10.533388</td>\n",
              "      <td>-10.039180</td>\n",
              "      <td>-9.136803</td>\n",
              "      <td>-8.535988</td>\n",
              "      <td>-8.839253</td>\n",
              "      <td>-9.602635</td>\n",
              "      <td>-10.008236</td>\n",
              "      <td>-10.673063</td>\n",
              "      <td>-10.132787</td>\n",
              "      <td>-11.125190</td>\n",
              "      <td>-12.325031</td>\n",
              "      <td>-14.751114</td>\n",
              "      <td>-19.151869</td>\n",
              "      <td>-21.566896</td>\n",
              "      <td>-17.845707</td>\n",
              "      <td>-13.552466</td>\n",
              "      <td>-7.679942</td>\n",
              "      <td>-7.412678</td>\n",
              "      <td>-8.320308</td>\n",
              "      <td>-8.425970</td>\n",
              "      <td>-8.642715</td>\n",
              "      <td>-9.792576</td>\n",
              "      <td>-12.932405</td>\n",
              "      <td>-13.917496</td>\n",
              "      <td>-13.499186</td>\n",
              "      <td>-13.519381</td>\n",
              "      <td>-13.228731</td>\n",
              "      <td>-13.144123</td>\n",
              "      <td>-12.904360</td>\n",
              "      <td>-10.358145</td>\n",
              "      <td>-6.054932</td>\n",
              "      <td>Neutral</td>\n",
              "    </tr>\n",
              "    <tr>\n",
              "      <th>335</th>\n",
              "      <td>-3.480813</td>\n",
              "      <td>-6.410982</td>\n",
              "      <td>-13.287701</td>\n",
              "      <td>-13.329612</td>\n",
              "      <td>-14.849621</td>\n",
              "      <td>-13.370428</td>\n",
              "      <td>-12.455435</td>\n",
              "      <td>-12.834762</td>\n",
              "      <td>-13.470091</td>\n",
              "      <td>-13.571935</td>\n",
              "      <td>-12.748702</td>\n",
              "      <td>-12.396540</td>\n",
              "      <td>-13.581741</td>\n",
              "      <td>-14.616383</td>\n",
              "      <td>-14.943786</td>\n",
              "      <td>-15.728756</td>\n",
              "      <td>-14.071532</td>\n",
              "      <td>-15.252954</td>\n",
              "      <td>-16.833792</td>\n",
              "      <td>-17.792980</td>\n",
              "      <td>-19.164455</td>\n",
              "      <td>-20.050751</td>\n",
              "      <td>-18.777060</td>\n",
              "      <td>-18.060888</td>\n",
              "      <td>-17.851948</td>\n",
              "      <td>-16.333736</td>\n",
              "      <td>-16.021288</td>\n",
              "      <td>-16.225140</td>\n",
              "      <td>-16.271797</td>\n",
              "      <td>-16.475040</td>\n",
              "      <td>-13.551291</td>\n",
              "      <td>-13.236049</td>\n",
              "      <td>-13.847228</td>\n",
              "      <td>-13.564953</td>\n",
              "      <td>-12.531938</td>\n",
              "      <td>-12.736315</td>\n",
              "      <td>-11.781938</td>\n",
              "      <td>-10.251079</td>\n",
              "      <td>-11.079906</td>\n",
              "      <td>-14.098232</td>\n",
              "      <td>...</td>\n",
              "      <td>-24.656157</td>\n",
              "      <td>-27.246592</td>\n",
              "      <td>-26.215681</td>\n",
              "      <td>-24.737623</td>\n",
              "      <td>-25.384031</td>\n",
              "      <td>-25.574877</td>\n",
              "      <td>-26.330244</td>\n",
              "      <td>-27.466591</td>\n",
              "      <td>-27.367912</td>\n",
              "      <td>-27.178356</td>\n",
              "      <td>-24.652407</td>\n",
              "      <td>-24.267174</td>\n",
              "      <td>-25.658766</td>\n",
              "      <td>-26.078602</td>\n",
              "      <td>-27.053957</td>\n",
              "      <td>-25.237282</td>\n",
              "      <td>-23.322449</td>\n",
              "      <td>-24.264433</td>\n",
              "      <td>-24.107166</td>\n",
              "      <td>-23.600706</td>\n",
              "      <td>-24.144661</td>\n",
              "      <td>-26.016035</td>\n",
              "      <td>-24.549906</td>\n",
              "      <td>-24.254946</td>\n",
              "      <td>-22.550718</td>\n",
              "      <td>-18.190197</td>\n",
              "      <td>-15.939805</td>\n",
              "      <td>-15.500193</td>\n",
              "      <td>-16.265642</td>\n",
              "      <td>-14.544188</td>\n",
              "      <td>-14.068569</td>\n",
              "      <td>-11.851480</td>\n",
              "      <td>-11.572068</td>\n",
              "      <td>-12.959902</td>\n",
              "      <td>-14.691764</td>\n",
              "      <td>-16.396719</td>\n",
              "      <td>-17.163368</td>\n",
              "      <td>-18.856615</td>\n",
              "      <td>-20.054029</td>\n",
              "      <td>Sad</td>\n",
              "    </tr>\n",
              "  </tbody>\n",
              "</table>\n",
              "<p>400 rows × 217 columns</p>\n",
              "</div>"
            ],
            "text/plain": [
              "           0          1          2    ...        214        215      0  \n",
              "329  -6.955677  -7.891202  -8.494406  ...  -6.319079  -5.190259      Sad\n",
              "379 -10.580231  -9.681224  -9.916993  ... -13.610409 -10.392053      Sad\n",
              "38   -3.158261  -3.026058  -6.257804  ... -10.325613 -10.928432    Angry\n",
              "123 -18.026028 -21.260529 -26.961008  ... -29.308952 -25.405796    Happy\n",
              "257  -3.348706  -5.997772 -10.977880  ...  -9.142715  -7.246282  Neutral\n",
              "..         ...        ...        ...  ...        ...        ...      ...\n",
              "214 -31.310238 -30.479525 -30.336630  ...  -5.280828  -2.749186  Neutral\n",
              "380 -26.074373 -26.447498 -25.818951  ... -43.476303 -41.531456      Sad\n",
              "177  -0.557944  -1.678516  -1.252613  ...  -0.466612   0.636185    Happy\n",
              "220 -26.009356 -24.465376 -26.975344  ... -10.358145  -6.054932  Neutral\n",
              "335  -3.480813  -6.410982 -13.287701  ... -18.856615 -20.054029      Sad\n",
              "\n",
              "[400 rows x 217 columns]"
            ]
          },
          "metadata": {
            "tags": []
          },
          "execution_count": 45
        }
      ]
    },
    {
      "cell_type": "code",
      "metadata": {
        "id": "3Mi6VB_i_Az0"
      },
      "source": [
        "rnewdf=rnewdf.fillna(0)"
      ],
      "execution_count": 17,
      "outputs": []
    },
    {
      "cell_type": "code",
      "metadata": {
        "id": "u7faKa8H_a7m"
      },
      "source": [
        "newdf1 = np.random.rand(len(rnewdf)) < 0.8\n",
        "train = rnewdf[newdf1]\n",
        "test = rnewdf[~newdf1]"
      ],
      "execution_count": 18,
      "outputs": []
    },
    {
      "cell_type": "code",
      "metadata": {
        "id": "RpljWjkU_eK9"
      },
      "source": [
        "trainfeatures = train.iloc[:, :-1]"
      ],
      "execution_count": 20,
      "outputs": []
    },
    {
      "cell_type": "code",
      "metadata": {
        "id": "9f-WSzt3_gjx"
      },
      "source": [
        "trainlabel = train.iloc[:, -1:]"
      ],
      "execution_count": 21,
      "outputs": []
    },
    {
      "cell_type": "code",
      "metadata": {
        "id": "TZal-4wr_iG8"
      },
      "source": [
        "testfeatures = test.iloc[:, :-1]"
      ],
      "execution_count": 22,
      "outputs": []
    },
    {
      "cell_type": "code",
      "metadata": {
        "id": "GpObcbEA_jSY"
      },
      "source": [
        "testlabel = test.iloc[:, -1:]"
      ],
      "execution_count": 23,
      "outputs": []
    },
    {
      "cell_type": "code",
      "metadata": {
        "colab": {
          "base_uri": "https://localhost:8080/"
        },
        "id": "FfueCKK8_kgF",
        "outputId": "17427fb4-faa0-4eff-c68f-1d2fef0deb8d"
      },
      "source": [
        "from keras.utils import np_utils\n",
        "from sklearn.preprocessing import LabelEncoder\n",
        "\n",
        "X_train = np.array(trainfeatures)\n",
        "y_train = np.array(trainlabel)\n",
        "X_test = np.array(testfeatures)\n",
        "y_test = np.array(testlabel)\n",
        "\n",
        "lb = LabelEncoder()\n",
        "\n",
        "y_train = np_utils.to_categorical(lb.fit_transform(y_train))\n",
        "y_test = np_utils.to_categorical(lb.fit_transform(y_test))"
      ],
      "execution_count": 24,
      "outputs": [
        {
          "output_type": "stream",
          "text": [
            "/usr/local/lib/python3.7/dist-packages/sklearn/preprocessing/_label.py:251: DataConversionWarning: A column-vector y was passed when a 1d array was expected. Please change the shape of y to (n_samples, ), for example using ravel().\n",
            "  y = column_or_1d(y, warn=True)\n"
          ],
          "name": "stderr"
        }
      ]
    },
    {
      "cell_type": "code",
      "metadata": {
        "colab": {
          "base_uri": "https://localhost:8080/"
        },
        "id": "Lb1hYiip_ly0",
        "outputId": "d5431318-6abd-4fee-935b-f80385794cee"
      },
      "source": [
        "\n",
        "y_train"
      ],
      "execution_count": 25,
      "outputs": [
        {
          "output_type": "execute_result",
          "data": {
            "text/plain": [
              "array([[0., 0., 1., 0.],\n",
              "       [0., 0., 1., 0.],\n",
              "       [0., 1., 0., 0.],\n",
              "       ...,\n",
              "       [0., 0., 1., 0.],\n",
              "       [0., 0., 1., 0.],\n",
              "       [0., 1., 0., 0.]], dtype=float32)"
            ]
          },
          "metadata": {
            "tags": []
          },
          "execution_count": 25
        }
      ]
    },
    {
      "cell_type": "code",
      "metadata": {
        "colab": {
          "base_uri": "https://localhost:8080/"
        },
        "id": "WPTuxG9c_n2x",
        "outputId": "71f70256-e319-49bc-b3ec-462d600ba1be"
      },
      "source": [
        "X_train.shape"
      ],
      "execution_count": 26,
      "outputs": [
        {
          "output_type": "execute_result",
          "data": {
            "text/plain": [
              "(325, 216)"
            ]
          },
          "metadata": {
            "tags": []
          },
          "execution_count": 26
        }
      ]
    },
    {
      "cell_type": "code",
      "metadata": {
        "id": "kJtAJVZi_qF1"
      },
      "source": [
        "x_traincnn =np.expand_dims(X_train, axis=2)\n",
        "x_testcnn= np.expand_dims(X_test, axis=2)"
      ],
      "execution_count": 27,
      "outputs": []
    },
    {
      "cell_type": "code",
      "metadata": {
        "id": "eQLfYClMAI5q"
      },
      "source": [
        "\n",
        "import librosa\n",
        "import librosa.display\n",
        "import numpy as np\n",
        "import matplotlib.pyplot as plt\n",
        "import tensorflow as tf\n",
        "from matplotlib.pyplot import specgram\n",
        "import keras\n",
        "from keras.preprocessing import sequence\n",
        "from keras.models import Sequential\n",
        "from keras.layers import Dense, Embedding\n",
        "from keras.layers import LSTM\n",
        "from keras.preprocessing.text import Tokenizer\n",
        "from keras.preprocessing.sequence import pad_sequences\n",
        "from keras.layers import Input, Flatten, Dropout, Activation\n",
        "from keras.layers import Conv1D, MaxPooling1D, AveragePooling1D\n",
        "from keras.models import Model\n",
        "from keras.callbacks import ModelCheckpoint\n",
        "from sklearn.metrics import confusion_matrix"
      ],
      "execution_count": 31,
      "outputs": []
    },
    {
      "cell_type": "code",
      "metadata": {
        "colab": {
          "base_uri": "https://localhost:8080/"
        },
        "id": "d24vBFEF_rrx",
        "outputId": "0e4cd0eb-3679-4b7a-f3b1-4796f375c66d"
      },
      "source": [
        "from keras.models import Sequential\n",
        "model = Sequential()\n",
        "\n",
        "model.add(Conv1D(256, 5,padding='same',\n",
        "                 input_shape=(216,1)))\n",
        "model.add(Activation('relu'))\n",
        "model.add(Conv1D(128, 5,padding='same'))\n",
        "model.add(Activation('relu'))\n",
        "model.add(Dropout(0.1))\n",
        "model.add(MaxPooling1D(pool_size=(8)))\n",
        "model.add(Conv1D(128, 5,padding='same',))\n",
        "model.add(Activation('relu'))\n",
        "#model.add(Conv1D(128, 5,padding='same',))\n",
        "#model.add(Activation('relu'))\n",
        "#model.add(Conv1D(128, 5,padding='same',))\n",
        "#model.add(Activation('relu'))\n",
        "#model.add(Dropout(0.2))\n",
        "model.add(Conv1D(128, 5,padding='same',))\n",
        "model.add(Activation('relu'))\n",
        "model.add(Flatten())\n",
        "model.add(Dense(4))\n",
        "model.add(Activation('softmax'))\n",
        "opt = keras.optimizers.RMSprop(lr=0.00001, decay=1e-6)"
      ],
      "execution_count": 51,
      "outputs": [
        {
          "output_type": "stream",
          "text": [
            "/usr/local/lib/python3.7/dist-packages/tensorflow/python/keras/optimizer_v2/optimizer_v2.py:375: UserWarning: The `lr` argument is deprecated, use `learning_rate` instead.\n",
            "  \"The `lr` argument is deprecated, use `learning_rate` instead.\")\n"
          ],
          "name": "stderr"
        }
      ]
    },
    {
      "cell_type": "code",
      "metadata": {
        "colab": {
          "base_uri": "https://localhost:8080/"
        },
        "id": "VXw41iA2JdwF",
        "outputId": "2d59dce2-5415-4a09-f6f6-6205e4655100"
      },
      "source": [
        "model.summary()"
      ],
      "execution_count": 52,
      "outputs": [
        {
          "output_type": "stream",
          "text": [
            "Model: \"sequential_3\"\n",
            "_________________________________________________________________\n",
            "Layer (type)                 Output Shape              Param #   \n",
            "=================================================================\n",
            "conv1d_8 (Conv1D)            (None, 216, 256)          1536      \n",
            "_________________________________________________________________\n",
            "activation_10 (Activation)   (None, 216, 256)          0         \n",
            "_________________________________________________________________\n",
            "conv1d_9 (Conv1D)            (None, 216, 128)          163968    \n",
            "_________________________________________________________________\n",
            "activation_11 (Activation)   (None, 216, 128)          0         \n",
            "_________________________________________________________________\n",
            "dropout_2 (Dropout)          (None, 216, 128)          0         \n",
            "_________________________________________________________________\n",
            "max_pooling1d_2 (MaxPooling1 (None, 27, 128)           0         \n",
            "_________________________________________________________________\n",
            "conv1d_10 (Conv1D)           (None, 27, 128)           82048     \n",
            "_________________________________________________________________\n",
            "activation_12 (Activation)   (None, 27, 128)           0         \n",
            "_________________________________________________________________\n",
            "conv1d_11 (Conv1D)           (None, 27, 128)           82048     \n",
            "_________________________________________________________________\n",
            "activation_13 (Activation)   (None, 27, 128)           0         \n",
            "_________________________________________________________________\n",
            "flatten_2 (Flatten)          (None, 3456)              0         \n",
            "_________________________________________________________________\n",
            "dense_2 (Dense)              (None, 4)                 13828     \n",
            "_________________________________________________________________\n",
            "activation_14 (Activation)   (None, 4)                 0         \n",
            "=================================================================\n",
            "Total params: 343,428\n",
            "Trainable params: 343,428\n",
            "Non-trainable params: 0\n",
            "_________________________________________________________________\n"
          ],
          "name": "stdout"
        }
      ]
    },
    {
      "cell_type": "code",
      "metadata": {
        "id": "zkRO_Tjz_805"
      },
      "source": [
        "model.compile(loss='categorical_crossentropy', optimizer=opt,metrics=['accuracy'])"
      ],
      "execution_count": 53,
      "outputs": []
    },
    {
      "cell_type": "code",
      "metadata": {
        "colab": {
          "base_uri": "https://localhost:8080/"
        },
        "id": "L_ybpUc4AXuY",
        "outputId": "5108dc2a-f3cc-477e-d9f7-2d91fb067874"
      },
      "source": [
        "cnnhistory=model.fit(x_traincnn, y_train, batch_size=16, epochs=100, validation_data=(x_testcnn, y_test))"
      ],
      "execution_count": 54,
      "outputs": [
        {
          "output_type": "stream",
          "text": [
            "Epoch 1/100\n",
            "21/21 [==============================] - 4s 138ms/step - loss: 1.6439 - accuracy: 0.2743 - val_loss: 1.4093 - val_accuracy: 0.2267\n",
            "Epoch 2/100\n",
            "21/21 [==============================] - 2s 113ms/step - loss: 1.3532 - accuracy: 0.3405 - val_loss: 1.3817 - val_accuracy: 0.2933\n",
            "Epoch 3/100\n",
            "21/21 [==============================] - 2s 111ms/step - loss: 1.3263 - accuracy: 0.3137 - val_loss: 1.3344 - val_accuracy: 0.3067\n",
            "Epoch 4/100\n",
            "21/21 [==============================] - 2s 112ms/step - loss: 1.3180 - accuracy: 0.3457 - val_loss: 1.3285 - val_accuracy: 0.3867\n",
            "Epoch 5/100\n",
            "21/21 [==============================] - 2s 112ms/step - loss: 1.3200 - accuracy: 0.3592 - val_loss: 1.3316 - val_accuracy: 0.4400\n",
            "Epoch 6/100\n",
            "21/21 [==============================] - 2s 112ms/step - loss: 1.3115 - accuracy: 0.3920 - val_loss: 1.3327 - val_accuracy: 0.3867\n",
            "Epoch 7/100\n",
            "21/21 [==============================] - 2s 112ms/step - loss: 1.2844 - accuracy: 0.4166 - val_loss: 1.3219 - val_accuracy: 0.3333\n",
            "Epoch 8/100\n",
            "21/21 [==============================] - 2s 112ms/step - loss: 1.2577 - accuracy: 0.4274 - val_loss: 1.3039 - val_accuracy: 0.4133\n",
            "Epoch 9/100\n",
            "21/21 [==============================] - 2s 114ms/step - loss: 1.2624 - accuracy: 0.4196 - val_loss: 1.3195 - val_accuracy: 0.4133\n",
            "Epoch 10/100\n",
            "21/21 [==============================] - 2s 112ms/step - loss: 1.2264 - accuracy: 0.4269 - val_loss: 1.2894 - val_accuracy: 0.4400\n",
            "Epoch 11/100\n",
            "21/21 [==============================] - 2s 112ms/step - loss: 1.2135 - accuracy: 0.4713 - val_loss: 1.2865 - val_accuracy: 0.4533\n",
            "Epoch 12/100\n",
            "21/21 [==============================] - 2s 111ms/step - loss: 1.2345 - accuracy: 0.4525 - val_loss: 1.2507 - val_accuracy: 0.4800\n",
            "Epoch 13/100\n",
            "21/21 [==============================] - 2s 110ms/step - loss: 1.2184 - accuracy: 0.4938 - val_loss: 1.2548 - val_accuracy: 0.4533\n",
            "Epoch 14/100\n",
            "21/21 [==============================] - 2s 113ms/step - loss: 1.2469 - accuracy: 0.3931 - val_loss: 1.2932 - val_accuracy: 0.4533\n",
            "Epoch 15/100\n",
            "21/21 [==============================] - 2s 112ms/step - loss: 1.2329 - accuracy: 0.4467 - val_loss: 1.2931 - val_accuracy: 0.4133\n",
            "Epoch 16/100\n",
            "21/21 [==============================] - 2s 112ms/step - loss: 1.2017 - accuracy: 0.4313 - val_loss: 1.2354 - val_accuracy: 0.4933\n",
            "Epoch 17/100\n",
            "21/21 [==============================] - 2s 111ms/step - loss: 1.1987 - accuracy: 0.4525 - val_loss: 1.2547 - val_accuracy: 0.4133\n",
            "Epoch 18/100\n",
            "21/21 [==============================] - 2s 112ms/step - loss: 1.1856 - accuracy: 0.4379 - val_loss: 1.2590 - val_accuracy: 0.4400\n",
            "Epoch 19/100\n",
            "21/21 [==============================] - 2s 111ms/step - loss: 1.1530 - accuracy: 0.4935 - val_loss: 1.1960 - val_accuracy: 0.4800\n",
            "Epoch 20/100\n",
            "21/21 [==============================] - 2s 112ms/step - loss: 1.1554 - accuracy: 0.5087 - val_loss: 1.2488 - val_accuracy: 0.4133\n",
            "Epoch 21/100\n",
            "21/21 [==============================] - 2s 111ms/step - loss: 1.1458 - accuracy: 0.5073 - val_loss: 1.2128 - val_accuracy: 0.4667\n",
            "Epoch 22/100\n",
            "21/21 [==============================] - 2s 110ms/step - loss: 1.1446 - accuracy: 0.4913 - val_loss: 1.2062 - val_accuracy: 0.4800\n",
            "Epoch 23/100\n",
            "21/21 [==============================] - 2s 111ms/step - loss: 1.1405 - accuracy: 0.4721 - val_loss: 1.1787 - val_accuracy: 0.4533\n",
            "Epoch 24/100\n",
            "21/21 [==============================] - 2s 112ms/step - loss: 1.1702 - accuracy: 0.4508 - val_loss: 1.2361 - val_accuracy: 0.4400\n",
            "Epoch 25/100\n",
            "21/21 [==============================] - 2s 111ms/step - loss: 1.1278 - accuracy: 0.4832 - val_loss: 1.1764 - val_accuracy: 0.4800\n",
            "Epoch 26/100\n",
            "21/21 [==============================] - 2s 111ms/step - loss: 1.1288 - accuracy: 0.4801 - val_loss: 1.2068 - val_accuracy: 0.4400\n",
            "Epoch 27/100\n",
            "21/21 [==============================] - 2s 110ms/step - loss: 1.0948 - accuracy: 0.4899 - val_loss: 1.1716 - val_accuracy: 0.4800\n",
            "Epoch 28/100\n",
            "21/21 [==============================] - 2s 111ms/step - loss: 1.1272 - accuracy: 0.4761 - val_loss: 1.2307 - val_accuracy: 0.4000\n",
            "Epoch 29/100\n",
            "21/21 [==============================] - 2s 111ms/step - loss: 1.1046 - accuracy: 0.4730 - val_loss: 1.2255 - val_accuracy: 0.3867\n",
            "Epoch 30/100\n",
            "21/21 [==============================] - 2s 110ms/step - loss: 1.1123 - accuracy: 0.4971 - val_loss: 1.1430 - val_accuracy: 0.5067\n",
            "Epoch 31/100\n",
            "21/21 [==============================] - 2s 111ms/step - loss: 1.0761 - accuracy: 0.5206 - val_loss: 1.1552 - val_accuracy: 0.4800\n",
            "Epoch 32/100\n",
            "21/21 [==============================] - 2s 110ms/step - loss: 1.0754 - accuracy: 0.4938 - val_loss: 1.1669 - val_accuracy: 0.4533\n",
            "Epoch 33/100\n",
            "21/21 [==============================] - 2s 112ms/step - loss: 1.0904 - accuracy: 0.4842 - val_loss: 1.1404 - val_accuracy: 0.4400\n",
            "Epoch 34/100\n",
            "21/21 [==============================] - 2s 111ms/step - loss: 1.0920 - accuracy: 0.4504 - val_loss: 1.1444 - val_accuracy: 0.4533\n",
            "Epoch 35/100\n",
            "21/21 [==============================] - 2s 112ms/step - loss: 1.1111 - accuracy: 0.4645 - val_loss: 1.1512 - val_accuracy: 0.4533\n",
            "Epoch 36/100\n",
            "21/21 [==============================] - 2s 112ms/step - loss: 1.0728 - accuracy: 0.4883 - val_loss: 1.1886 - val_accuracy: 0.4267\n",
            "Epoch 37/100\n",
            "21/21 [==============================] - 2s 111ms/step - loss: 1.0856 - accuracy: 0.4663 - val_loss: 1.1350 - val_accuracy: 0.4533\n",
            "Epoch 38/100\n",
            "21/21 [==============================] - 2s 109ms/step - loss: 1.0724 - accuracy: 0.5132 - val_loss: 1.1426 - val_accuracy: 0.4667\n",
            "Epoch 39/100\n",
            "21/21 [==============================] - 2s 112ms/step - loss: 1.0211 - accuracy: 0.5009 - val_loss: 1.1248 - val_accuracy: 0.4533\n",
            "Epoch 40/100\n",
            "21/21 [==============================] - 2s 111ms/step - loss: 1.0408 - accuracy: 0.5158 - val_loss: 1.1196 - val_accuracy: 0.4667\n",
            "Epoch 41/100\n",
            "21/21 [==============================] - 2s 112ms/step - loss: 1.0427 - accuracy: 0.5181 - val_loss: 1.1316 - val_accuracy: 0.4533\n",
            "Epoch 42/100\n",
            "21/21 [==============================] - 2s 111ms/step - loss: 1.0413 - accuracy: 0.5110 - val_loss: 1.1212 - val_accuracy: 0.4267\n",
            "Epoch 43/100\n",
            "21/21 [==============================] - 2s 110ms/step - loss: 1.0262 - accuracy: 0.5402 - val_loss: 1.1373 - val_accuracy: 0.4800\n",
            "Epoch 44/100\n",
            "21/21 [==============================] - 2s 110ms/step - loss: 1.0292 - accuracy: 0.4827 - val_loss: 1.0991 - val_accuracy: 0.4267\n",
            "Epoch 45/100\n",
            "21/21 [==============================] - 2s 110ms/step - loss: 1.0573 - accuracy: 0.4878 - val_loss: 1.1136 - val_accuracy: 0.4800\n",
            "Epoch 46/100\n",
            "21/21 [==============================] - 2s 112ms/step - loss: 1.0216 - accuracy: 0.5030 - val_loss: 1.1080 - val_accuracy: 0.4400\n",
            "Epoch 47/100\n",
            "21/21 [==============================] - 2s 110ms/step - loss: 1.0307 - accuracy: 0.4796 - val_loss: 1.0983 - val_accuracy: 0.4133\n",
            "Epoch 48/100\n",
            "21/21 [==============================] - 2s 111ms/step - loss: 1.0335 - accuracy: 0.5191 - val_loss: 1.1094 - val_accuracy: 0.4533\n",
            "Epoch 49/100\n",
            "21/21 [==============================] - 2s 111ms/step - loss: 1.0188 - accuracy: 0.5510 - val_loss: 1.0973 - val_accuracy: 0.4400\n",
            "Epoch 50/100\n",
            "21/21 [==============================] - 2s 112ms/step - loss: 0.9910 - accuracy: 0.5308 - val_loss: 1.0846 - val_accuracy: 0.4400\n",
            "Epoch 51/100\n",
            "21/21 [==============================] - 2s 111ms/step - loss: 1.0144 - accuracy: 0.5149 - val_loss: 1.1063 - val_accuracy: 0.4400\n",
            "Epoch 52/100\n",
            "21/21 [==============================] - 2s 113ms/step - loss: 1.0322 - accuracy: 0.5243 - val_loss: 1.1310 - val_accuracy: 0.4400\n",
            "Epoch 53/100\n",
            "21/21 [==============================] - 2s 112ms/step - loss: 1.0312 - accuracy: 0.5290 - val_loss: 1.1163 - val_accuracy: 0.4533\n",
            "Epoch 54/100\n",
            "21/21 [==============================] - 2s 112ms/step - loss: 0.9983 - accuracy: 0.5426 - val_loss: 1.1193 - val_accuracy: 0.4533\n",
            "Epoch 55/100\n",
            "21/21 [==============================] - 2s 112ms/step - loss: 1.0105 - accuracy: 0.5218 - val_loss: 1.1521 - val_accuracy: 0.4533\n",
            "Epoch 56/100\n",
            "21/21 [==============================] - 2s 112ms/step - loss: 0.9587 - accuracy: 0.5611 - val_loss: 1.0968 - val_accuracy: 0.4400\n",
            "Epoch 57/100\n",
            "21/21 [==============================] - 2s 111ms/step - loss: 0.9696 - accuracy: 0.5438 - val_loss: 1.0819 - val_accuracy: 0.4800\n",
            "Epoch 58/100\n",
            "21/21 [==============================] - 2s 111ms/step - loss: 0.9750 - accuracy: 0.5695 - val_loss: 1.1209 - val_accuracy: 0.4400\n",
            "Epoch 59/100\n",
            "21/21 [==============================] - 2s 114ms/step - loss: 1.0094 - accuracy: 0.5358 - val_loss: 1.1204 - val_accuracy: 0.4533\n",
            "Epoch 60/100\n",
            "21/21 [==============================] - 2s 113ms/step - loss: 0.9513 - accuracy: 0.5811 - val_loss: 1.0591 - val_accuracy: 0.4533\n",
            "Epoch 61/100\n",
            "21/21 [==============================] - 2s 113ms/step - loss: 0.9537 - accuracy: 0.5856 - val_loss: 1.0761 - val_accuracy: 0.4533\n",
            "Epoch 62/100\n",
            "21/21 [==============================] - 2s 113ms/step - loss: 0.9698 - accuracy: 0.5948 - val_loss: 1.0679 - val_accuracy: 0.4533\n",
            "Epoch 63/100\n",
            "21/21 [==============================] - 2s 111ms/step - loss: 0.9696 - accuracy: 0.5316 - val_loss: 1.0451 - val_accuracy: 0.4800\n",
            "Epoch 64/100\n",
            "21/21 [==============================] - 2s 112ms/step - loss: 0.9300 - accuracy: 0.5942 - val_loss: 1.0740 - val_accuracy: 0.4933\n",
            "Epoch 65/100\n",
            "21/21 [==============================] - 2s 111ms/step - loss: 0.9169 - accuracy: 0.5803 - val_loss: 1.0445 - val_accuracy: 0.4667\n",
            "Epoch 66/100\n",
            "21/21 [==============================] - 2s 111ms/step - loss: 0.9584 - accuracy: 0.5576 - val_loss: 1.0713 - val_accuracy: 0.4533\n",
            "Epoch 67/100\n",
            "21/21 [==============================] - 2s 112ms/step - loss: 0.9535 - accuracy: 0.5535 - val_loss: 1.1091 - val_accuracy: 0.4667\n",
            "Epoch 68/100\n",
            "21/21 [==============================] - 2s 113ms/step - loss: 0.9037 - accuracy: 0.6237 - val_loss: 1.0981 - val_accuracy: 0.4400\n",
            "Epoch 69/100\n",
            "21/21 [==============================] - 2s 112ms/step - loss: 0.9478 - accuracy: 0.5734 - val_loss: 1.0886 - val_accuracy: 0.4533\n",
            "Epoch 70/100\n",
            "21/21 [==============================] - 2s 111ms/step - loss: 0.8621 - accuracy: 0.6146 - val_loss: 1.1603 - val_accuracy: 0.4667\n",
            "Epoch 71/100\n",
            "21/21 [==============================] - 2s 112ms/step - loss: 0.9694 - accuracy: 0.5490 - val_loss: 1.0927 - val_accuracy: 0.4400\n",
            "Epoch 72/100\n",
            "21/21 [==============================] - 2s 112ms/step - loss: 0.9363 - accuracy: 0.5754 - val_loss: 1.0800 - val_accuracy: 0.4667\n",
            "Epoch 73/100\n",
            "21/21 [==============================] - 2s 113ms/step - loss: 0.9431 - accuracy: 0.5659 - val_loss: 1.0856 - val_accuracy: 0.4533\n",
            "Epoch 74/100\n",
            "21/21 [==============================] - 2s 113ms/step - loss: 0.9404 - accuracy: 0.5962 - val_loss: 1.0474 - val_accuracy: 0.4933\n",
            "Epoch 75/100\n",
            "21/21 [==============================] - 2s 113ms/step - loss: 0.9012 - accuracy: 0.6514 - val_loss: 1.0692 - val_accuracy: 0.4667\n",
            "Epoch 76/100\n",
            "21/21 [==============================] - 2s 114ms/step - loss: 0.9487 - accuracy: 0.5645 - val_loss: 1.0839 - val_accuracy: 0.4533\n",
            "Epoch 77/100\n",
            "21/21 [==============================] - 2s 114ms/step - loss: 0.9084 - accuracy: 0.6007 - val_loss: 1.0775 - val_accuracy: 0.4667\n",
            "Epoch 78/100\n",
            "21/21 [==============================] - 2s 113ms/step - loss: 0.9641 - accuracy: 0.5572 - val_loss: 1.1544 - val_accuracy: 0.4133\n",
            "Epoch 79/100\n",
            "21/21 [==============================] - 2s 113ms/step - loss: 0.9333 - accuracy: 0.5967 - val_loss: 1.0503 - val_accuracy: 0.4933\n",
            "Epoch 80/100\n",
            "21/21 [==============================] - 2s 112ms/step - loss: 0.9608 - accuracy: 0.5502 - val_loss: 1.0462 - val_accuracy: 0.4800\n",
            "Epoch 81/100\n",
            "21/21 [==============================] - 2s 112ms/step - loss: 0.8977 - accuracy: 0.6329 - val_loss: 1.0624 - val_accuracy: 0.4800\n",
            "Epoch 82/100\n",
            "21/21 [==============================] - 2s 111ms/step - loss: 0.8645 - accuracy: 0.6142 - val_loss: 1.0617 - val_accuracy: 0.4667\n",
            "Epoch 83/100\n",
            "21/21 [==============================] - 2s 111ms/step - loss: 0.9400 - accuracy: 0.6003 - val_loss: 1.0650 - val_accuracy: 0.4533\n",
            "Epoch 84/100\n",
            "21/21 [==============================] - 2s 112ms/step - loss: 0.8897 - accuracy: 0.6414 - val_loss: 1.0195 - val_accuracy: 0.5333\n",
            "Epoch 85/100\n",
            "21/21 [==============================] - 2s 112ms/step - loss: 0.9181 - accuracy: 0.5823 - val_loss: 1.0408 - val_accuracy: 0.4800\n",
            "Epoch 86/100\n",
            "21/21 [==============================] - 2s 114ms/step - loss: 0.9361 - accuracy: 0.5660 - val_loss: 1.0364 - val_accuracy: 0.4667\n",
            "Epoch 87/100\n",
            "21/21 [==============================] - 2s 113ms/step - loss: 0.9132 - accuracy: 0.6100 - val_loss: 1.0664 - val_accuracy: 0.4000\n",
            "Epoch 88/100\n",
            "21/21 [==============================] - 2s 112ms/step - loss: 0.8466 - accuracy: 0.6422 - val_loss: 1.0229 - val_accuracy: 0.4800\n",
            "Epoch 89/100\n",
            "21/21 [==============================] - 2s 112ms/step - loss: 0.8765 - accuracy: 0.6297 - val_loss: 1.0340 - val_accuracy: 0.4933\n",
            "Epoch 90/100\n",
            "21/21 [==============================] - 2s 111ms/step - loss: 0.8529 - accuracy: 0.6088 - val_loss: 1.0543 - val_accuracy: 0.4267\n",
            "Epoch 91/100\n",
            "21/21 [==============================] - 2s 112ms/step - loss: 0.8784 - accuracy: 0.6381 - val_loss: 1.0106 - val_accuracy: 0.4933\n",
            "Epoch 92/100\n",
            "21/21 [==============================] - 2s 112ms/step - loss: 0.8938 - accuracy: 0.6262 - val_loss: 1.0520 - val_accuracy: 0.4667\n",
            "Epoch 93/100\n",
            "21/21 [==============================] - 2s 112ms/step - loss: 0.8753 - accuracy: 0.6192 - val_loss: 1.0455 - val_accuracy: 0.4667\n",
            "Epoch 94/100\n",
            "21/21 [==============================] - 2s 112ms/step - loss: 0.9388 - accuracy: 0.5880 - val_loss: 1.1041 - val_accuracy: 0.4400\n",
            "Epoch 95/100\n",
            "21/21 [==============================] - 2s 112ms/step - loss: 0.8933 - accuracy: 0.5996 - val_loss: 1.1132 - val_accuracy: 0.4533\n",
            "Epoch 96/100\n",
            "21/21 [==============================] - 2s 113ms/step - loss: 0.8816 - accuracy: 0.6285 - val_loss: 1.0194 - val_accuracy: 0.4933\n",
            "Epoch 97/100\n",
            "21/21 [==============================] - 2s 113ms/step - loss: 0.8892 - accuracy: 0.6650 - val_loss: 1.0342 - val_accuracy: 0.4933\n",
            "Epoch 98/100\n",
            "21/21 [==============================] - 2s 112ms/step - loss: 0.8866 - accuracy: 0.6198 - val_loss: 1.0303 - val_accuracy: 0.4800\n",
            "Epoch 99/100\n",
            "21/21 [==============================] - 2s 112ms/step - loss: 0.8383 - accuracy: 0.6663 - val_loss: 1.0584 - val_accuracy: 0.4667\n",
            "Epoch 100/100\n",
            "21/21 [==============================] - 2s 113ms/step - loss: 0.8794 - accuracy: 0.6343 - val_loss: 1.0348 - val_accuracy: 0.4800\n"
          ],
          "name": "stdout"
        }
      ]
    },
    {
      "cell_type": "code",
      "metadata": {
        "colab": {
          "base_uri": "https://localhost:8080/",
          "height": 295
        },
        "id": "rxgWuGBsAZGx",
        "outputId": "5f4d1fe5-70c5-4079-f87f-192334c0a8f7"
      },
      "source": [
        "plt.plot(cnnhistory.history['loss'])\n",
        "plt.plot(cnnhistory.history['val_loss'])\n",
        "plt.title('model loss')\n",
        "plt.ylabel('loss')\n",
        "plt.xlabel('epoch')\n",
        "plt.legend(['train', 'test'], loc='upper left')\n",
        "plt.show()"
      ],
      "execution_count": 55,
      "outputs": [
        {
          "output_type": "display_data",
          "data": {
            "image/png": "[encoded data removed]",
            "text/plain": [
              "<Figure size 432x288 with 1 Axes>"
            ]
          },
          "metadata": {
            "tags": [],
            "needs_background": "light"
          }
        }
      ]
    },
    {
      "cell_type": "code",
      "metadata": {
        "colab": {
          "base_uri": "https://localhost:8080/"
        },
        "id": "7YCUBRf4Eo_W",
        "outputId": "b20a8cd1-62a2-42a8-bbe7-b88da3650927"
      },
      "source": [
        "model_name = 'Emotion_Voice_Detection_Model.h5'\n",
        "save_dir = os.path.join(os.getcwd(), 'saved_models')\n",
        "# Save model and weights\n",
        "if not os.path.isdir(save_dir):\n",
        "    os.makedirs(save_dir)\n",
        "model_path = os.path.join(save_dir, model_name)\n",
        "model.save(model_path)\n",
        "print('Saved trained model at %s ' % model_path)"
      ],
      "execution_count": 56,
      "outputs": [
        {
          "output_type": "stream",
          "text": [
            "Saved trained model at /content/saved_models/Emotion_Voice_Detection_Model.h5 \n"
          ],
          "name": "stdout"
        }
      ]
    },
    {
      "cell_type": "code",
      "metadata": {
        "id": "sac3SB1dOYzI"
      },
      "source": [
        "import json\n",
        "model_json = model.to_json()\n",
        "with open(\"model.json\", \"w\") as json_file:\n",
        "    json_file.write(model_json)"
      ],
      "execution_count": 57,
      "outputs": []
    },
    {
      "cell_type": "code",
      "metadata": {
        "colab": {
          "base_uri": "https://localhost:8080/"
        },
        "id": "HkII046tOdDM",
        "outputId": "16d90f65-a530-437f-ace0-3e8123c3a547"
      },
      "source": [
        "\n",
        "# loading json and creating model\n",
        "from keras.models import model_from_json\n",
        "json_file = open('model.json', 'r')\n",
        "loaded_model_json = json_file.read()\n",
        "json_file.close()\n",
        "loaded_model = model_from_json(loaded_model_json)\n",
        "# load weights into new model\n",
        "loaded_model.load_weights(\"saved_models/Emotion_Voice_Detection_Model.h5\")\n",
        "print(\"Loaded model from disk\")\n",
        " \n",
        "# evaluate loaded model on test data\n",
        "loaded_model.compile(loss='categorical_crossentropy', optimizer=opt, metrics=['accuracy'])\n",
        "score = loaded_model.evaluate(x_testcnn, y_test, verbose=0)\n",
        "print(\"%s: %.2f%%\" % (loaded_model.metrics_names[1], score[1]*100))"
      ],
      "execution_count": 58,
      "outputs": [
        {
          "output_type": "stream",
          "text": [
            "Loaded model from disk\n",
            "accuracy: 48.00%\n"
          ],
          "name": "stdout"
        }
      ]
    },
    {
      "cell_type": "code",
      "metadata": {
        "colab": {
          "base_uri": "https://localhost:8080/"
        },
        "id": "VPU_IIssOeZW",
        "outputId": "13dc66ea-f425-41de-92c7-241341005c41"
      },
      "source": [
        "preds = loaded_model.predict(x_testcnn, \n",
        "                         batch_size=32, \n",
        "                         verbose=1)"
      ],
      "execution_count": 59,
      "outputs": [
        {
          "output_type": "stream",
          "text": [
            "3/3 [==============================] - 1s 40ms/step\n"
          ],
          "name": "stdout"
        }
      ]
    },
    {
      "cell_type": "code",
      "metadata": {
        "id": "mW8LjGeHOg6x"
      },
      "source": [
        "preds1=preds.argmax(axis=1)"
      ],
      "execution_count": 60,
      "outputs": []
    },
    {
      "cell_type": "code",
      "metadata": {
        "id": "6dSa_hYjOi6d"
      },
      "source": [
        "abc = preds1.astype(int).flatten()"
      ],
      "execution_count": 61,
      "outputs": []
    },
    {
      "cell_type": "code",
      "metadata": {
        "id": "Lu4KqAZmOlp_"
      },
      "source": [
        "predictions = (lb.inverse_transform((abc)))"
      ],
      "execution_count": 62,
      "outputs": []
    },
    {
      "cell_type": "code",
      "metadata": {
        "id": "fS654FdIOmmy"
      },
      "source": [
        "preddf = pd.DataFrame({'predictedvalues': predictions})"
      ],
      "execution_count": 63,
      "outputs": []
    },
    {
      "cell_type": "code",
      "metadata": {
        "colab": {
          "base_uri": "https://localhost:8080/",
          "height": 417
        },
        "id": "7L7HyE8hOn5g",
        "outputId": "cbee992a-3d09-4658-f808-8d5dbba42785"
      },
      "source": [
        "preddf"
      ],
      "execution_count": 64,
      "outputs": [
        {
          "output_type": "execute_result",
          "data": {
            "text/html": [
              "<div>\n",
              "<style scoped>\n",
              "    .dataframe tbody tr th:only-of-type {\n",
              "        vertical-align: middle;\n",
              "    }\n",
              "\n",
              "    .dataframe tbody tr th {\n",
              "        vertical-align: top;\n",
              "    }\n",
              "\n",
              "    .dataframe thead th {\n",
              "        text-align: right;\n",
              "    }\n",
              "</style>\n",
              "<table border=\"1\" class=\"dataframe\">\n",
              "  <thead>\n",
              "    <tr style=\"text-align: right;\">\n",
              "      <th></th>\n",
              "      <th>predictedvalues</th>\n",
              "    </tr>\n",
              "  </thead>\n",
              "  <tbody>\n",
              "    <tr>\n",
              "      <th>0</th>\n",
              "      <td>Angry</td>\n",
              "    </tr>\n",
              "    <tr>\n",
              "      <th>1</th>\n",
              "      <td>Neutral</td>\n",
              "    </tr>\n",
              "    <tr>\n",
              "      <th>2</th>\n",
              "      <td>Neutral</td>\n",
              "    </tr>\n",
              "    <tr>\n",
              "      <th>3</th>\n",
              "      <td>Neutral</td>\n",
              "    </tr>\n",
              "    <tr>\n",
              "      <th>4</th>\n",
              "      <td>Neutral</td>\n",
              "    </tr>\n",
              "    <tr>\n",
              "      <th>...</th>\n",
              "      <td>...</td>\n",
              "    </tr>\n",
              "    <tr>\n",
              "      <th>70</th>\n",
              "      <td>Neutral</td>\n",
              "    </tr>\n",
              "    <tr>\n",
              "      <th>71</th>\n",
              "      <td>Angry</td>\n",
              "    </tr>\n",
              "    <tr>\n",
              "      <th>72</th>\n",
              "      <td>Neutral</td>\n",
              "    </tr>\n",
              "    <tr>\n",
              "      <th>73</th>\n",
              "      <td>Happy</td>\n",
              "    </tr>\n",
              "    <tr>\n",
              "      <th>74</th>\n",
              "      <td>Angry</td>\n",
              "    </tr>\n",
              "  </tbody>\n",
              "</table>\n",
              "<p>75 rows × 1 columns</p>\n",
              "</div>"
            ],
            "text/plain": [
              "   predictedvalues\n",
              "0            Angry\n",
              "1          Neutral\n",
              "2          Neutral\n",
              "3          Neutral\n",
              "4          Neutral\n",
              "..             ...\n",
              "70         Neutral\n",
              "71           Angry\n",
              "72         Neutral\n",
              "73           Happy\n",
              "74           Angry\n",
              "\n",
              "[75 rows x 1 columns]"
            ]
          },
          "metadata": {
            "tags": []
          },
          "execution_count": 64
        }
      ]
    },
    {
      "cell_type": "code",
      "metadata": {
        "id": "B6LjySVVOow6"
      },
      "source": [
        "actual=y_test.argmax(axis=1)\n",
        "abc123 = actual.astype(int).flatten()\n",
        "actualvalues = (lb.inverse_transform((abc123)))"
      ],
      "execution_count": 65,
      "outputs": []
    },
    {
      "cell_type": "code",
      "metadata": {
        "colab": {
          "base_uri": "https://localhost:8080/",
          "height": 357
        },
        "id": "q2zXPHZZOuV9",
        "outputId": "8a3c9996-2192-46cd-f05e-2bdf0aef5d09"
      },
      "source": [
        "actualdf = pd.DataFrame({'actualvalues': actualvalues})\n",
        "actualdf[:10]"
      ],
      "execution_count": 66,
      "outputs": [
        {
          "output_type": "execute_result",
          "data": {
            "text/html": [
              "<div>\n",
              "<style scoped>\n",
              "    .dataframe tbody tr th:only-of-type {\n",
              "        vertical-align: middle;\n",
              "    }\n",
              "\n",
              "    .dataframe tbody tr th {\n",
              "        vertical-align: top;\n",
              "    }\n",
              "\n",
              "    .dataframe thead th {\n",
              "        text-align: right;\n",
              "    }\n",
              "</style>\n",
              "<table border=\"1\" class=\"dataframe\">\n",
              "  <thead>\n",
              "    <tr style=\"text-align: right;\">\n",
              "      <th></th>\n",
              "      <th>actualvalues</th>\n",
              "    </tr>\n",
              "  </thead>\n",
              "  <tbody>\n",
              "    <tr>\n",
              "      <th>0</th>\n",
              "      <td>Angry</td>\n",
              "    </tr>\n",
              "    <tr>\n",
              "      <th>1</th>\n",
              "      <td>Neutral</td>\n",
              "    </tr>\n",
              "    <tr>\n",
              "      <th>2</th>\n",
              "      <td>Neutral</td>\n",
              "    </tr>\n",
              "    <tr>\n",
              "      <th>3</th>\n",
              "      <td>Neutral</td>\n",
              "    </tr>\n",
              "    <tr>\n",
              "      <th>4</th>\n",
              "      <td>Sad</td>\n",
              "    </tr>\n",
              "    <tr>\n",
              "      <th>5</th>\n",
              "      <td>Angry</td>\n",
              "    </tr>\n",
              "    <tr>\n",
              "      <th>6</th>\n",
              "      <td>Angry</td>\n",
              "    </tr>\n",
              "    <tr>\n",
              "      <th>7</th>\n",
              "      <td>Happy</td>\n",
              "    </tr>\n",
              "    <tr>\n",
              "      <th>8</th>\n",
              "      <td>Neutral</td>\n",
              "    </tr>\n",
              "    <tr>\n",
              "      <th>9</th>\n",
              "      <td>Neutral</td>\n",
              "    </tr>\n",
              "  </tbody>\n",
              "</table>\n",
              "</div>"
            ],
            "text/plain": [
              "  actualvalues\n",
              "0        Angry\n",
              "1      Neutral\n",
              "2      Neutral\n",
              "3      Neutral\n",
              "4          Sad\n",
              "5        Angry\n",
              "6        Angry\n",
              "7        Happy\n",
              "8      Neutral\n",
              "9      Neutral"
            ]
          },
          "metadata": {
            "tags": []
          },
          "execution_count": 66
        }
      ]
    },
    {
      "cell_type": "code",
      "metadata": {
        "id": "m0NRY0U7OvYo"
      },
      "source": [
        "finaldf = actualdf.join(preddf)"
      ],
      "execution_count": 67,
      "outputs": []
    },
    {
      "cell_type": "code",
      "metadata": {
        "colab": {
          "base_uri": "https://localhost:8080/",
          "height": 417
        },
        "id": "W7m_M3UNOwli",
        "outputId": "1a2e3c54-b1bc-4cb9-f290-0c9dc8cc9aac"
      },
      "source": [
        "finaldf\n"
      ],
      "execution_count": 69,
      "outputs": [
        {
          "output_type": "execute_result",
          "data": {
            "text/html": [
              "<div>\n",
              "<style scoped>\n",
              "    .dataframe tbody tr th:only-of-type {\n",
              "        vertical-align: middle;\n",
              "    }\n",
              "\n",
              "    .dataframe tbody tr th {\n",
              "        vertical-align: top;\n",
              "    }\n",
              "\n",
              "    .dataframe thead th {\n",
              "        text-align: right;\n",
              "    }\n",
              "</style>\n",
              "<table border=\"1\" class=\"dataframe\">\n",
              "  <thead>\n",
              "    <tr style=\"text-align: right;\">\n",
              "      <th></th>\n",
              "      <th>actualvalues</th>\n",
              "      <th>predictedvalues</th>\n",
              "    </tr>\n",
              "  </thead>\n",
              "  <tbody>\n",
              "    <tr>\n",
              "      <th>0</th>\n",
              "      <td>Angry</td>\n",
              "      <td>Angry</td>\n",
              "    </tr>\n",
              "    <tr>\n",
              "      <th>1</th>\n",
              "      <td>Neutral</td>\n",
              "      <td>Neutral</td>\n",
              "    </tr>\n",
              "    <tr>\n",
              "      <th>2</th>\n",
              "      <td>Neutral</td>\n",
              "      <td>Neutral</td>\n",
              "    </tr>\n",
              "    <tr>\n",
              "      <th>3</th>\n",
              "      <td>Neutral</td>\n",
              "      <td>Neutral</td>\n",
              "    </tr>\n",
              "    <tr>\n",
              "      <th>4</th>\n",
              "      <td>Sad</td>\n",
              "      <td>Neutral</td>\n",
              "    </tr>\n",
              "    <tr>\n",
              "      <th>...</th>\n",
              "      <td>...</td>\n",
              "      <td>...</td>\n",
              "    </tr>\n",
              "    <tr>\n",
              "      <th>70</th>\n",
              "      <td>Neutral</td>\n",
              "      <td>Neutral</td>\n",
              "    </tr>\n",
              "    <tr>\n",
              "      <th>71</th>\n",
              "      <td>Sad</td>\n",
              "      <td>Angry</td>\n",
              "    </tr>\n",
              "    <tr>\n",
              "      <th>72</th>\n",
              "      <td>Neutral</td>\n",
              "      <td>Neutral</td>\n",
              "    </tr>\n",
              "    <tr>\n",
              "      <th>73</th>\n",
              "      <td>Happy</td>\n",
              "      <td>Happy</td>\n",
              "    </tr>\n",
              "    <tr>\n",
              "      <th>74</th>\n",
              "      <td>Angry</td>\n",
              "      <td>Angry</td>\n",
              "    </tr>\n",
              "  </tbody>\n",
              "</table>\n",
              "<p>75 rows × 2 columns</p>\n",
              "</div>"
            ],
            "text/plain": [
              "   actualvalues predictedvalues\n",
              "0         Angry           Angry\n",
              "1       Neutral         Neutral\n",
              "2       Neutral         Neutral\n",
              "3       Neutral         Neutral\n",
              "4           Sad         Neutral\n",
              "..          ...             ...\n",
              "70      Neutral         Neutral\n",
              "71          Sad           Angry\n",
              "72      Neutral         Neutral\n",
              "73        Happy           Happy\n",
              "74        Angry           Angry\n",
              "\n",
              "[75 rows x 2 columns]"
            ]
          },
          "metadata": {
            "tags": []
          },
          "execution_count": 69
        }
      ]
    },
    {
      "cell_type": "code",
      "metadata": {
        "id": "TZzWQBKgOxfI"
      },
      "source": [
        ""
      ],
      "execution_count": null,
      "outputs": []
    }
  ]
}