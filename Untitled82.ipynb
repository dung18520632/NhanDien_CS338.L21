{
  "nbformat": 4,
  "nbformat_minor": 0,
  "metadata": {
    "colab": {
      "name": "Untitled82.ipynb",
      "provenance": [],
      "mount_file_id": "https://github.com/dung18520632/NhanDien_CS338.L21/blob/main/Untitled82.ipynb",
      "authorship_tag": "ABX9TyM1sptlW/8Gy444E3pGDeTB",
      "include_colab_link": true
    },
    "kernelspec": {
      "name": "python3",
      "display_name": "Python 3"
    },
    "language_info": {
      "name": "python"
    }
  },
  "cells": [
    {
      "cell_type": "markdown",
      "metadata": {
        "id": "view-in-github",
        "colab_type": "text"
      },
      "source": [
        "<a href=\"https://colab.research.google.com/github/dung18520632/NhanDien_CS338.L21/blob/main/Untitled82.ipynb\" target=\"_parent\"><img src=\"https://colab.research.google.com/assets/colab-badge.svg\" alt=\"Open In Colab\"/></a>"
      ]
    },
    {
      "cell_type": "code",
      "metadata": {
        "id": "3zUv6YeP9M82"
      },
      "source": [
        "!unzip /content/drive/MyDrive/Data.zip"
      ],
      "execution_count": null,
      "outputs": []
    },
    {
      "cell_type": "code",
      "metadata": {
        "id": "NBuHWNiW9aDp"
      },
      "source": [
        "import scipy.io.wavfile\n",
        "import numpy as np\n",
        "import sys\n",
        "import glob \n",
        "import librosa\n",
        "import os\n",
        "import pandas as pd\n",
        "import matplotlib.pyplot as plt\n"
      ],
      "execution_count": 2,
      "outputs": []
    },
    {
      "cell_type": "code",
      "metadata": {
        "id": "UP_1QUV_-AKS"
      },
      "source": [
        "mylist= os.listdir('/content/Data')\n",
        "Anger=[]\n",
        "Happy=[]\n",
        "Neutral=[]\n",
        "Sad=[]\n",
        "for i in mylist:\n",
        "    if i in \"Angry\":\n",
        "        Anger.append(os.listdir('Data/'+i+\"/\"))\n",
        "    elif i in \"Happy\":\n",
        "        Happy.append(os.listdir('Data/'+i+\"/\"))\n",
        "    elif i in \"Neutral\":\n",
        "        Neutral.append(os.listdir('Data/'+i+\"/\"))\n",
        "    else:\n",
        "        Sad.append(os.listdir('Data/'+i+\"/\"))\n",
        "file_emotion = [a+h+n+s for a,h,n,s  in zip(Anger, Happy,Neutral,Sad)]\n",
        "feeling_list=[]\n",
        "#print(file_emotion)\n",
        "for item in file_emotion[0]:\n",
        "    if item[0:1]=='0' :\n",
        "        feeling_list.append('Angry')\n",
        "    elif item[0:1]=='1':\n",
        "        feeling_list.append('Happy')\n",
        "    elif item[0:1]=='3':\n",
        "        feeling_list.append('Neutral')\n",
        "    else:\n",
        "        feeling_list.append('Sad')\n",
        "\n",
        "labels = pd.DataFrame(feeling_list)"
      ],
      "execution_count": 3,
      "outputs": []
    },
    {
      "cell_type": "code",
      "metadata": {
        "colab": {
          "base_uri": "https://localhost:8080/"
        },
        "id": "K7Fq2aTm-Ddg",
        "outputId": "0aea3bab-f20a-4346-af01-d28ae03c1902"
      },
      "source": [
        "df = pd.DataFrame(columns=['feature'])\n",
        "bookmark=0\n",
        "for index,y in enumerate(file_emotion[0]):\n",
        "    m=\"\"\n",
        "    if y[0:1]=='0' :\n",
        "        m='Angry/'\n",
        "    elif y[0:1]=='1':\n",
        "        m='Happy/'\n",
        "    elif y[0:1]=='3':\n",
        "        m='Neutral/'\n",
        "    else:\n",
        "        m='Sad/'\n",
        "    print('Data/'+m+y)\n",
        "    X, sample_rate = librosa.load('Data/'+m+y, res_type='kaiser_fast',sr=22050*2,offset=0.5,duration=3)\n",
        "    sample_rate = np.array(sample_rate)\n",
        "    mfccs = np.mean(librosa.feature.mfcc(y=X, \n",
        "                                            sr=sample_rate, \n",
        "                                            n_mfcc=13),\n",
        "                        axis=0)\n",
        "    feature = mfccs\n",
        "    #[float(i) for i in feature]\n",
        "    #feature1=feature[:135]\n",
        "    df.loc[bookmark] = [feature]\n",
        "    bookmark=bookmark+1"
      ],
      "execution_count": 66,
      "outputs": [
        {
          "output_type": "stream",
          "text": [
            "Data/Angry/0_70.wav\n"
          ],
          "name": "stdout"
        },
        {
          "output_type": "stream",
          "text": [
            "/usr/local/lib/python3.7/dist-packages/librosa/core/audio.py:165: UserWarning: PySoundFile failed. Trying audioread instead.\n",
            "  warnings.warn(\"PySoundFile failed. Trying audioread instead.\")\n"
          ],
          "name": "stderr"
        },
        {
          "output_type": "stream",
          "text": [
            "Data/Angry/0_59.wav\n"
          ],
          "name": "stdout"
        },
        {
          "output_type": "stream",
          "text": [
            "/usr/local/lib/python3.7/dist-packages/librosa/core/audio.py:165: UserWarning: PySoundFile failed. Trying audioread instead.\n",
            "  warnings.warn(\"PySoundFile failed. Trying audioread instead.\")\n"
          ],
          "name": "stderr"
        },
        {
          "output_type": "stream",
          "text": [
            "Data/Angry/0_75.wav\n"
          ],
          "name": "stdout"
        },
        {
          "output_type": "stream",
          "text": [
            "/usr/local/lib/python3.7/dist-packages/librosa/core/audio.py:165: UserWarning: PySoundFile failed. Trying audioread instead.\n",
            "  warnings.warn(\"PySoundFile failed. Trying audioread instead.\")\n"
          ],
          "name": "stderr"
        },
        {
          "output_type": "stream",
          "text": [
            "Data/Angry/0_71.wav\n"
          ],
          "name": "stdout"
        },
        {
          "output_type": "stream",
          "text": [
            "/usr/local/lib/python3.7/dist-packages/librosa/core/audio.py:165: UserWarning: PySoundFile failed. Trying audioread instead.\n",
            "  warnings.warn(\"PySoundFile failed. Trying audioread instead.\")\n"
          ],
          "name": "stderr"
        },
        {
          "output_type": "stream",
          "text": [
            "Data/Angry/0_98.wav\n"
          ],
          "name": "stdout"
        },
        {
          "output_type": "stream",
          "text": [
            "/usr/local/lib/python3.7/dist-packages/librosa/core/audio.py:165: UserWarning: PySoundFile failed. Trying audioread instead.\n",
            "  warnings.warn(\"PySoundFile failed. Trying audioread instead.\")\n"
          ],
          "name": "stderr"
        },
        {
          "output_type": "stream",
          "text": [
            "Data/Angry/0_35.wav\n"
          ],
          "name": "stdout"
        },
        {
          "output_type": "stream",
          "text": [
            "/usr/local/lib/python3.7/dist-packages/librosa/core/audio.py:165: UserWarning: PySoundFile failed. Trying audioread instead.\n",
            "  warnings.warn(\"PySoundFile failed. Trying audioread instead.\")\n"
          ],
          "name": "stderr"
        },
        {
          "output_type": "stream",
          "text": [
            "Data/Angry/0_45.wav\n"
          ],
          "name": "stdout"
        },
        {
          "output_type": "stream",
          "text": [
            "/usr/local/lib/python3.7/dist-packages/librosa/core/audio.py:165: UserWarning: PySoundFile failed. Trying audioread instead.\n",
            "  warnings.warn(\"PySoundFile failed. Trying audioread instead.\")\n"
          ],
          "name": "stderr"
        },
        {
          "output_type": "stream",
          "text": [
            "Data/Angry/0_56.wav\n"
          ],
          "name": "stdout"
        },
        {
          "output_type": "stream",
          "text": [
            "/usr/local/lib/python3.7/dist-packages/librosa/core/audio.py:165: UserWarning: PySoundFile failed. Trying audioread instead.\n",
            "  warnings.warn(\"PySoundFile failed. Trying audioread instead.\")\n"
          ],
          "name": "stderr"
        },
        {
          "output_type": "stream",
          "text": [
            "Data/Angry/0_52.wav\n"
          ],
          "name": "stdout"
        },
        {
          "output_type": "stream",
          "text": [
            "/usr/local/lib/python3.7/dist-packages/librosa/core/audio.py:165: UserWarning: PySoundFile failed. Trying audioread instead.\n",
            "  warnings.warn(\"PySoundFile failed. Trying audioread instead.\")\n"
          ],
          "name": "stderr"
        },
        {
          "output_type": "stream",
          "text": [
            "Data/Angry/0_95.wav\n"
          ],
          "name": "stdout"
        },
        {
          "output_type": "stream",
          "text": [
            "/usr/local/lib/python3.7/dist-packages/librosa/core/audio.py:165: UserWarning: PySoundFile failed. Trying audioread instead.\n",
            "  warnings.warn(\"PySoundFile failed. Trying audioread instead.\")\n"
          ],
          "name": "stderr"
        },
        {
          "output_type": "stream",
          "text": [
            "Data/Angry/0_13.wav\n",
            "Data/Angry/0_18.wav\n",
            "Data/Angry/0_21.wav\n",
            "Data/Angry/0_34.wav\n"
          ],
          "name": "stdout"
        },
        {
          "output_type": "stream",
          "text": [
            "/usr/local/lib/python3.7/dist-packages/librosa/core/audio.py:165: UserWarning: PySoundFile failed. Trying audioread instead.\n",
            "  warnings.warn(\"PySoundFile failed. Trying audioread instead.\")\n"
          ],
          "name": "stderr"
        },
        {
          "output_type": "stream",
          "text": [
            "Data/Angry/0_50.wav\n"
          ],
          "name": "stdout"
        },
        {
          "output_type": "stream",
          "text": [
            "/usr/local/lib/python3.7/dist-packages/librosa/core/audio.py:165: UserWarning: PySoundFile failed. Trying audioread instead.\n",
            "  warnings.warn(\"PySoundFile failed. Trying audioread instead.\")\n"
          ],
          "name": "stderr"
        },
        {
          "output_type": "stream",
          "text": [
            "Data/Angry/0_28.wav\n"
          ],
          "name": "stdout"
        },
        {
          "output_type": "stream",
          "text": [
            "/usr/local/lib/python3.7/dist-packages/librosa/core/audio.py:165: UserWarning: PySoundFile failed. Trying audioread instead.\n",
            "  warnings.warn(\"PySoundFile failed. Trying audioread instead.\")\n"
          ],
          "name": "stderr"
        },
        {
          "output_type": "stream",
          "text": [
            "Data/Angry/0_94.wav\n"
          ],
          "name": "stdout"
        },
        {
          "output_type": "stream",
          "text": [
            "/usr/local/lib/python3.7/dist-packages/librosa/core/audio.py:165: UserWarning: PySoundFile failed. Trying audioread instead.\n",
            "  warnings.warn(\"PySoundFile failed. Trying audioread instead.\")\n"
          ],
          "name": "stderr"
        },
        {
          "output_type": "stream",
          "text": [
            "Data/Angry/0_78.wav\n"
          ],
          "name": "stdout"
        },
        {
          "output_type": "stream",
          "text": [
            "/usr/local/lib/python3.7/dist-packages/librosa/core/audio.py:165: UserWarning: PySoundFile failed. Trying audioread instead.\n",
            "  warnings.warn(\"PySoundFile failed. Trying audioread instead.\")\n"
          ],
          "name": "stderr"
        },
        {
          "output_type": "stream",
          "text": [
            "Data/Angry/0_9.wav\n",
            "Data/Angry/0_47.wav\n"
          ],
          "name": "stdout"
        },
        {
          "output_type": "stream",
          "text": [
            "/usr/local/lib/python3.7/dist-packages/librosa/core/audio.py:165: UserWarning: PySoundFile failed. Trying audioread instead.\n",
            "  warnings.warn(\"PySoundFile failed. Trying audioread instead.\")\n"
          ],
          "name": "stderr"
        },
        {
          "output_type": "stream",
          "text": [
            "Data/Angry/0_15.wav\n",
            "Data/Angry/0_31.wav\n"
          ],
          "name": "stdout"
        },
        {
          "output_type": "stream",
          "text": [
            "/usr/local/lib/python3.7/dist-packages/librosa/core/audio.py:165: UserWarning: PySoundFile failed. Trying audioread instead.\n",
            "  warnings.warn(\"PySoundFile failed. Trying audioread instead.\")\n"
          ],
          "name": "stderr"
        },
        {
          "output_type": "stream",
          "text": [
            "Data/Angry/0_67.wav\n"
          ],
          "name": "stdout"
        },
        {
          "output_type": "stream",
          "text": [
            "/usr/local/lib/python3.7/dist-packages/librosa/core/audio.py:165: UserWarning: PySoundFile failed. Trying audioread instead.\n",
            "  warnings.warn(\"PySoundFile failed. Trying audioread instead.\")\n"
          ],
          "name": "stderr"
        },
        {
          "output_type": "stream",
          "text": [
            "Data/Angry/0_69.wav\n"
          ],
          "name": "stdout"
        },
        {
          "output_type": "stream",
          "text": [
            "/usr/local/lib/python3.7/dist-packages/librosa/core/audio.py:165: UserWarning: PySoundFile failed. Trying audioread instead.\n",
            "  warnings.warn(\"PySoundFile failed. Trying audioread instead.\")\n"
          ],
          "name": "stderr"
        },
        {
          "output_type": "stream",
          "text": [
            "Data/Angry/0_12.wav\n",
            "Data/Angry/0_16.wav\n",
            "Data/Angry/0_64.wav\n"
          ],
          "name": "stdout"
        },
        {
          "output_type": "stream",
          "text": [
            "/usr/local/lib/python3.7/dist-packages/librosa/core/audio.py:165: UserWarning: PySoundFile failed. Trying audioread instead.\n",
            "  warnings.warn(\"PySoundFile failed. Trying audioread instead.\")\n"
          ],
          "name": "stderr"
        },
        {
          "output_type": "stream",
          "text": [
            "Data/Angry/0_33.wav\n"
          ],
          "name": "stdout"
        },
        {
          "output_type": "stream",
          "text": [
            "/usr/local/lib/python3.7/dist-packages/librosa/core/audio.py:165: UserWarning: PySoundFile failed. Trying audioread instead.\n",
            "  warnings.warn(\"PySoundFile failed. Trying audioread instead.\")\n"
          ],
          "name": "stderr"
        },
        {
          "output_type": "stream",
          "text": [
            "Data/Angry/0_57.wav\n"
          ],
          "name": "stdout"
        },
        {
          "output_type": "stream",
          "text": [
            "/usr/local/lib/python3.7/dist-packages/librosa/core/audio.py:165: UserWarning: PySoundFile failed. Trying audioread instead.\n",
            "  warnings.warn(\"PySoundFile failed. Trying audioread instead.\")\n"
          ],
          "name": "stderr"
        },
        {
          "output_type": "stream",
          "text": [
            "Data/Angry/0_24.wav\n",
            "Data/Angry/0_89.wav\n"
          ],
          "name": "stdout"
        },
        {
          "output_type": "stream",
          "text": [
            "/usr/local/lib/python3.7/dist-packages/librosa/core/audio.py:165: UserWarning: PySoundFile failed. Trying audioread instead.\n",
            "  warnings.warn(\"PySoundFile failed. Trying audioread instead.\")\n"
          ],
          "name": "stderr"
        },
        {
          "output_type": "stream",
          "text": [
            "Data/Angry/0_46.wav\n"
          ],
          "name": "stdout"
        },
        {
          "output_type": "stream",
          "text": [
            "/usr/local/lib/python3.7/dist-packages/librosa/core/audio.py:165: UserWarning: PySoundFile failed. Trying audioread instead.\n",
            "  warnings.warn(\"PySoundFile failed. Trying audioread instead.\")\n"
          ],
          "name": "stderr"
        },
        {
          "output_type": "stream",
          "text": [
            "Data/Angry/0_37.wav\n"
          ],
          "name": "stdout"
        },
        {
          "output_type": "stream",
          "text": [
            "/usr/local/lib/python3.7/dist-packages/librosa/core/audio.py:165: UserWarning: PySoundFile failed. Trying audioread instead.\n",
            "  warnings.warn(\"PySoundFile failed. Trying audioread instead.\")\n"
          ],
          "name": "stderr"
        },
        {
          "output_type": "stream",
          "text": [
            "Data/Angry/0_87.wav\n"
          ],
          "name": "stdout"
        },
        {
          "output_type": "stream",
          "text": [
            "/usr/local/lib/python3.7/dist-packages/librosa/core/audio.py:165: UserWarning: PySoundFile failed. Trying audioread instead.\n",
            "  warnings.warn(\"PySoundFile failed. Trying audioread instead.\")\n"
          ],
          "name": "stderr"
        },
        {
          "output_type": "stream",
          "text": [
            "Data/Angry/0_54.wav\n"
          ],
          "name": "stdout"
        },
        {
          "output_type": "stream",
          "text": [
            "/usr/local/lib/python3.7/dist-packages/librosa/core/audio.py:165: UserWarning: PySoundFile failed. Trying audioread instead.\n",
            "  warnings.warn(\"PySoundFile failed. Trying audioread instead.\")\n"
          ],
          "name": "stderr"
        },
        {
          "output_type": "stream",
          "text": [
            "Data/Angry/0_20.wav\n",
            "Data/Angry/0_96.wav\n"
          ],
          "name": "stdout"
        },
        {
          "output_type": "stream",
          "text": [
            "/usr/local/lib/python3.7/dist-packages/librosa/core/audio.py:165: UserWarning: PySoundFile failed. Trying audioread instead.\n",
            "  warnings.warn(\"PySoundFile failed. Trying audioread instead.\")\n"
          ],
          "name": "stderr"
        },
        {
          "output_type": "stream",
          "text": [
            "Data/Angry/0_86.wav\n"
          ],
          "name": "stdout"
        },
        {
          "output_type": "stream",
          "text": [
            "/usr/local/lib/python3.7/dist-packages/librosa/core/audio.py:165: UserWarning: PySoundFile failed. Trying audioread instead.\n",
            "  warnings.warn(\"PySoundFile failed. Trying audioread instead.\")\n"
          ],
          "name": "stderr"
        },
        {
          "output_type": "stream",
          "text": [
            "Data/Angry/0_73.wav\n"
          ],
          "name": "stdout"
        },
        {
          "output_type": "stream",
          "text": [
            "/usr/local/lib/python3.7/dist-packages/librosa/core/audio.py:165: UserWarning: PySoundFile failed. Trying audioread instead.\n",
            "  warnings.warn(\"PySoundFile failed. Trying audioread instead.\")\n"
          ],
          "name": "stderr"
        },
        {
          "output_type": "stream",
          "text": [
            "Data/Angry/0_3.wav\n",
            "Data/Angry/0_39.wav\n"
          ],
          "name": "stdout"
        },
        {
          "output_type": "stream",
          "text": [
            "/usr/local/lib/python3.7/dist-packages/librosa/core/audio.py:165: UserWarning: PySoundFile failed. Trying audioread instead.\n",
            "  warnings.warn(\"PySoundFile failed. Trying audioread instead.\")\n"
          ],
          "name": "stderr"
        },
        {
          "output_type": "stream",
          "text": [
            "Data/Angry/0_38.wav\n"
          ],
          "name": "stdout"
        },
        {
          "output_type": "stream",
          "text": [
            "/usr/local/lib/python3.7/dist-packages/librosa/core/audio.py:165: UserWarning: PySoundFile failed. Trying audioread instead.\n",
            "  warnings.warn(\"PySoundFile failed. Trying audioread instead.\")\n"
          ],
          "name": "stderr"
        },
        {
          "output_type": "stream",
          "text": [
            "Data/Angry/0_76.wav\n"
          ],
          "name": "stdout"
        },
        {
          "output_type": "stream",
          "text": [
            "/usr/local/lib/python3.7/dist-packages/librosa/core/audio.py:165: UserWarning: PySoundFile failed. Trying audioread instead.\n",
            "  warnings.warn(\"PySoundFile failed. Trying audioread instead.\")\n"
          ],
          "name": "stderr"
        },
        {
          "output_type": "stream",
          "text": [
            "Data/Angry/0_61.wav\n"
          ],
          "name": "stdout"
        },
        {
          "output_type": "stream",
          "text": [
            "/usr/local/lib/python3.7/dist-packages/librosa/core/audio.py:165: UserWarning: PySoundFile failed. Trying audioread instead.\n",
            "  warnings.warn(\"PySoundFile failed. Trying audioread instead.\")\n"
          ],
          "name": "stderr"
        },
        {
          "output_type": "stream",
          "text": [
            "Data/Angry/0_7.wav\n",
            "Data/Angry/0_90.wav\n"
          ],
          "name": "stdout"
        },
        {
          "output_type": "stream",
          "text": [
            "/usr/local/lib/python3.7/dist-packages/librosa/core/audio.py:165: UserWarning: PySoundFile failed. Trying audioread instead.\n",
            "  warnings.warn(\"PySoundFile failed. Trying audioread instead.\")\n"
          ],
          "name": "stderr"
        },
        {
          "output_type": "stream",
          "text": [
            "Data/Angry/0_99.wav\n"
          ],
          "name": "stdout"
        },
        {
          "output_type": "stream",
          "text": [
            "/usr/local/lib/python3.7/dist-packages/librosa/core/audio.py:165: UserWarning: PySoundFile failed. Trying audioread instead.\n",
            "  warnings.warn(\"PySoundFile failed. Trying audioread instead.\")\n"
          ],
          "name": "stderr"
        },
        {
          "output_type": "stream",
          "text": [
            "Data/Angry/0_63.wav\n"
          ],
          "name": "stdout"
        },
        {
          "output_type": "stream",
          "text": [
            "/usr/local/lib/python3.7/dist-packages/librosa/core/audio.py:165: UserWarning: PySoundFile failed. Trying audioread instead.\n",
            "  warnings.warn(\"PySoundFile failed. Trying audioread instead.\")\n"
          ],
          "name": "stderr"
        },
        {
          "output_type": "stream",
          "text": [
            "Data/Angry/0_17.wav\n",
            "Data/Angry/0_42.wav\n"
          ],
          "name": "stdout"
        },
        {
          "output_type": "stream",
          "text": [
            "/usr/local/lib/python3.7/dist-packages/librosa/core/audio.py:165: UserWarning: PySoundFile failed. Trying audioread instead.\n",
            "  warnings.warn(\"PySoundFile failed. Trying audioread instead.\")\n"
          ],
          "name": "stderr"
        },
        {
          "output_type": "stream",
          "text": [
            "Data/Angry/0_36.wav\n"
          ],
          "name": "stdout"
        },
        {
          "output_type": "stream",
          "text": [
            "/usr/local/lib/python3.7/dist-packages/librosa/core/audio.py:165: UserWarning: PySoundFile failed. Trying audioread instead.\n",
            "  warnings.warn(\"PySoundFile failed. Trying audioread instead.\")\n"
          ],
          "name": "stderr"
        },
        {
          "output_type": "stream",
          "text": [
            "Data/Angry/0_5.wav\n",
            "Data/Angry/0_26.wav\n"
          ],
          "name": "stdout"
        },
        {
          "output_type": "stream",
          "text": [
            "/usr/local/lib/python3.7/dist-packages/librosa/core/audio.py:165: UserWarning: PySoundFile failed. Trying audioread instead.\n",
            "  warnings.warn(\"PySoundFile failed. Trying audioread instead.\")\n"
          ],
          "name": "stderr"
        },
        {
          "output_type": "stream",
          "text": [
            "Data/Angry/0_62.wav\n"
          ],
          "name": "stdout"
        },
        {
          "output_type": "stream",
          "text": [
            "/usr/local/lib/python3.7/dist-packages/librosa/core/audio.py:165: UserWarning: PySoundFile failed. Trying audioread instead.\n",
            "  warnings.warn(\"PySoundFile failed. Trying audioread instead.\")\n"
          ],
          "name": "stderr"
        },
        {
          "output_type": "stream",
          "text": [
            "Data/Angry/0_29.wav\n"
          ],
          "name": "stdout"
        },
        {
          "output_type": "stream",
          "text": [
            "/usr/local/lib/python3.7/dist-packages/librosa/core/audio.py:165: UserWarning: PySoundFile failed. Trying audioread instead.\n",
            "  warnings.warn(\"PySoundFile failed. Trying audioread instead.\")\n"
          ],
          "name": "stderr"
        },
        {
          "output_type": "stream",
          "text": [
            "Data/Angry/0_91.wav\n"
          ],
          "name": "stdout"
        },
        {
          "output_type": "stream",
          "text": [
            "/usr/local/lib/python3.7/dist-packages/librosa/core/audio.py:165: UserWarning: PySoundFile failed. Trying audioread instead.\n",
            "  warnings.warn(\"PySoundFile failed. Trying audioread instead.\")\n"
          ],
          "name": "stderr"
        },
        {
          "output_type": "stream",
          "text": [
            "Data/Angry/0_83.wav\n"
          ],
          "name": "stdout"
        },
        {
          "output_type": "stream",
          "text": [
            "/usr/local/lib/python3.7/dist-packages/librosa/core/audio.py:165: UserWarning: PySoundFile failed. Trying audioread instead.\n",
            "  warnings.warn(\"PySoundFile failed. Trying audioread instead.\")\n"
          ],
          "name": "stderr"
        },
        {
          "output_type": "stream",
          "text": [
            "Data/Angry/0_22.wav\n",
            "Data/Angry/0_49.wav\n"
          ],
          "name": "stdout"
        },
        {
          "output_type": "stream",
          "text": [
            "/usr/local/lib/python3.7/dist-packages/librosa/core/audio.py:165: UserWarning: PySoundFile failed. Trying audioread instead.\n",
            "  warnings.warn(\"PySoundFile failed. Trying audioread instead.\")\n"
          ],
          "name": "stderr"
        },
        {
          "output_type": "stream",
          "text": [
            "Data/Angry/0_72.wav\n"
          ],
          "name": "stdout"
        },
        {
          "output_type": "stream",
          "text": [
            "/usr/local/lib/python3.7/dist-packages/librosa/core/audio.py:165: UserWarning: PySoundFile failed. Trying audioread instead.\n",
            "  warnings.warn(\"PySoundFile failed. Trying audioread instead.\")\n"
          ],
          "name": "stderr"
        },
        {
          "output_type": "stream",
          "text": [
            "Data/Angry/0_11.wav\n",
            "Data/Angry/0_2.wav\n",
            "Data/Angry/0_65.wav\n"
          ],
          "name": "stdout"
        },
        {
          "output_type": "stream",
          "text": [
            "/usr/local/lib/python3.7/dist-packages/librosa/core/audio.py:165: UserWarning: PySoundFile failed. Trying audioread instead.\n",
            "  warnings.warn(\"PySoundFile failed. Trying audioread instead.\")\n"
          ],
          "name": "stderr"
        },
        {
          "output_type": "stream",
          "text": [
            "Data/Angry/0_8.wav\n",
            "Data/Angry/0_88.wav\n"
          ],
          "name": "stdout"
        },
        {
          "output_type": "stream",
          "text": [
            "/usr/local/lib/python3.7/dist-packages/librosa/core/audio.py:165: UserWarning: PySoundFile failed. Trying audioread instead.\n",
            "  warnings.warn(\"PySoundFile failed. Trying audioread instead.\")\n"
          ],
          "name": "stderr"
        },
        {
          "output_type": "stream",
          "text": [
            "Data/Angry/0_66.wav\n"
          ],
          "name": "stdout"
        },
        {
          "output_type": "stream",
          "text": [
            "/usr/local/lib/python3.7/dist-packages/librosa/core/audio.py:165: UserWarning: PySoundFile failed. Trying audioread instead.\n",
            "  warnings.warn(\"PySoundFile failed. Trying audioread instead.\")\n"
          ],
          "name": "stderr"
        },
        {
          "output_type": "stream",
          "text": [
            "Data/Angry/0_51.wav\n"
          ],
          "name": "stdout"
        },
        {
          "output_type": "stream",
          "text": [
            "/usr/local/lib/python3.7/dist-packages/librosa/core/audio.py:165: UserWarning: PySoundFile failed. Trying audioread instead.\n",
            "  warnings.warn(\"PySoundFile failed. Trying audioread instead.\")\n"
          ],
          "name": "stderr"
        },
        {
          "output_type": "stream",
          "text": [
            "Data/Angry/0_32.wav\n"
          ],
          "name": "stdout"
        },
        {
          "output_type": "stream",
          "text": [
            "/usr/local/lib/python3.7/dist-packages/librosa/core/audio.py:165: UserWarning: PySoundFile failed. Trying audioread instead.\n",
            "  warnings.warn(\"PySoundFile failed. Trying audioread instead.\")\n"
          ],
          "name": "stderr"
        },
        {
          "output_type": "stream",
          "text": [
            "Data/Angry/0_85.wav\n"
          ],
          "name": "stdout"
        },
        {
          "output_type": "stream",
          "text": [
            "/usr/local/lib/python3.7/dist-packages/librosa/core/audio.py:165: UserWarning: PySoundFile failed. Trying audioread instead.\n",
            "  warnings.warn(\"PySoundFile failed. Trying audioread instead.\")\n"
          ],
          "name": "stderr"
        },
        {
          "output_type": "stream",
          "text": [
            "Data/Angry/0_81.wav\n"
          ],
          "name": "stdout"
        },
        {
          "output_type": "stream",
          "text": [
            "/usr/local/lib/python3.7/dist-packages/librosa/core/audio.py:165: UserWarning: PySoundFile failed. Trying audioread instead.\n",
            "  warnings.warn(\"PySoundFile failed. Trying audioread instead.\")\n"
          ],
          "name": "stderr"
        },
        {
          "output_type": "stream",
          "text": [
            "Data/Angry/0_43.wav\n"
          ],
          "name": "stdout"
        },
        {
          "output_type": "stream",
          "text": [
            "/usr/local/lib/python3.7/dist-packages/librosa/core/audio.py:165: UserWarning: PySoundFile failed. Trying audioread instead.\n",
            "  warnings.warn(\"PySoundFile failed. Trying audioread instead.\")\n"
          ],
          "name": "stderr"
        },
        {
          "output_type": "stream",
          "text": [
            "Data/Angry/0_58.wav\n"
          ],
          "name": "stdout"
        },
        {
          "output_type": "stream",
          "text": [
            "/usr/local/lib/python3.7/dist-packages/librosa/core/audio.py:165: UserWarning: PySoundFile failed. Trying audioread instead.\n",
            "  warnings.warn(\"PySoundFile failed. Trying audioread instead.\")\n"
          ],
          "name": "stderr"
        },
        {
          "output_type": "stream",
          "text": [
            "Data/Angry/0_6.wav\n",
            "Data/Angry/0_68.wav\n"
          ],
          "name": "stdout"
        },
        {
          "output_type": "stream",
          "text": [
            "/usr/local/lib/python3.7/dist-packages/librosa/core/audio.py:165: UserWarning: PySoundFile failed. Trying audioread instead.\n",
            "  warnings.warn(\"PySoundFile failed. Trying audioread instead.\")\n"
          ],
          "name": "stderr"
        },
        {
          "output_type": "stream",
          "text": [
            "Data/Angry/0_93.wav\n"
          ],
          "name": "stdout"
        },
        {
          "output_type": "stream",
          "text": [
            "/usr/local/lib/python3.7/dist-packages/librosa/core/audio.py:165: UserWarning: PySoundFile failed. Trying audioread instead.\n",
            "  warnings.warn(\"PySoundFile failed. Trying audioread instead.\")\n"
          ],
          "name": "stderr"
        },
        {
          "output_type": "stream",
          "text": [
            "Data/Angry/0_27.wav\n"
          ],
          "name": "stdout"
        },
        {
          "output_type": "stream",
          "text": [
            "/usr/local/lib/python3.7/dist-packages/librosa/core/audio.py:165: UserWarning: PySoundFile failed. Trying audioread instead.\n",
            "  warnings.warn(\"PySoundFile failed. Trying audioread instead.\")\n"
          ],
          "name": "stderr"
        },
        {
          "output_type": "stream",
          "text": [
            "Data/Angry/0_97.wav\n"
          ],
          "name": "stdout"
        },
        {
          "output_type": "stream",
          "text": [
            "/usr/local/lib/python3.7/dist-packages/librosa/core/audio.py:165: UserWarning: PySoundFile failed. Trying audioread instead.\n",
            "  warnings.warn(\"PySoundFile failed. Trying audioread instead.\")\n"
          ],
          "name": "stderr"
        },
        {
          "output_type": "stream",
          "text": [
            "Data/Angry/0_82.wav\n"
          ],
          "name": "stdout"
        },
        {
          "output_type": "stream",
          "text": [
            "/usr/local/lib/python3.7/dist-packages/librosa/core/audio.py:165: UserWarning: PySoundFile failed. Trying audioread instead.\n",
            "  warnings.warn(\"PySoundFile failed. Trying audioread instead.\")\n"
          ],
          "name": "stderr"
        },
        {
          "output_type": "stream",
          "text": [
            "Data/Angry/0_74.wav\n"
          ],
          "name": "stdout"
        },
        {
          "output_type": "stream",
          "text": [
            "/usr/local/lib/python3.7/dist-packages/librosa/core/audio.py:165: UserWarning: PySoundFile failed. Trying audioread instead.\n",
            "  warnings.warn(\"PySoundFile failed. Trying audioread instead.\")\n"
          ],
          "name": "stderr"
        },
        {
          "output_type": "stream",
          "text": [
            "Data/Angry/0_40.wav\n"
          ],
          "name": "stdout"
        },
        {
          "output_type": "stream",
          "text": [
            "/usr/local/lib/python3.7/dist-packages/librosa/core/audio.py:165: UserWarning: PySoundFile failed. Trying audioread instead.\n",
            "  warnings.warn(\"PySoundFile failed. Trying audioread instead.\")\n"
          ],
          "name": "stderr"
        },
        {
          "output_type": "stream",
          "text": [
            "Data/Angry/0_41.wav\n"
          ],
          "name": "stdout"
        },
        {
          "output_type": "stream",
          "text": [
            "/usr/local/lib/python3.7/dist-packages/librosa/core/audio.py:165: UserWarning: PySoundFile failed. Trying audioread instead.\n",
            "  warnings.warn(\"PySoundFile failed. Trying audioread instead.\")\n"
          ],
          "name": "stderr"
        },
        {
          "output_type": "stream",
          "text": [
            "Data/Angry/0_23.wav\n",
            "Data/Angry/0_55.wav\n"
          ],
          "name": "stdout"
        },
        {
          "output_type": "stream",
          "text": [
            "/usr/local/lib/python3.7/dist-packages/librosa/core/audio.py:165: UserWarning: PySoundFile failed. Trying audioread instead.\n",
            "  warnings.warn(\"PySoundFile failed. Trying audioread instead.\")\n"
          ],
          "name": "stderr"
        },
        {
          "output_type": "stream",
          "text": [
            "Data/Angry/0_80.wav\n"
          ],
          "name": "stdout"
        },
        {
          "output_type": "stream",
          "text": [
            "/usr/local/lib/python3.7/dist-packages/librosa/core/audio.py:165: UserWarning: PySoundFile failed. Trying audioread instead.\n",
            "  warnings.warn(\"PySoundFile failed. Trying audioread instead.\")\n"
          ],
          "name": "stderr"
        },
        {
          "output_type": "stream",
          "text": [
            "Data/Angry/0_84.wav\n"
          ],
          "name": "stdout"
        },
        {
          "output_type": "stream",
          "text": [
            "/usr/local/lib/python3.7/dist-packages/librosa/core/audio.py:165: UserWarning: PySoundFile failed. Trying audioread instead.\n",
            "  warnings.warn(\"PySoundFile failed. Trying audioread instead.\")\n"
          ],
          "name": "stderr"
        },
        {
          "output_type": "stream",
          "text": [
            "Data/Angry/0_10.wav\n",
            "Data/Angry/0_92.wav\n"
          ],
          "name": "stdout"
        },
        {
          "output_type": "stream",
          "text": [
            "/usr/local/lib/python3.7/dist-packages/librosa/core/audio.py:165: UserWarning: PySoundFile failed. Trying audioread instead.\n",
            "  warnings.warn(\"PySoundFile failed. Trying audioread instead.\")\n"
          ],
          "name": "stderr"
        },
        {
          "output_type": "stream",
          "text": [
            "Data/Angry/0_79.wav\n"
          ],
          "name": "stdout"
        },
        {
          "output_type": "stream",
          "text": [
            "/usr/local/lib/python3.7/dist-packages/librosa/core/audio.py:165: UserWarning: PySoundFile failed. Trying audioread instead.\n",
            "  warnings.warn(\"PySoundFile failed. Trying audioread instead.\")\n"
          ],
          "name": "stderr"
        },
        {
          "output_type": "stream",
          "text": [
            "Data/Angry/0_14.wav\n",
            "Data/Angry/0_100.wav\n"
          ],
          "name": "stdout"
        },
        {
          "output_type": "stream",
          "text": [
            "/usr/local/lib/python3.7/dist-packages/librosa/core/audio.py:165: UserWarning: PySoundFile failed. Trying audioread instead.\n",
            "  warnings.warn(\"PySoundFile failed. Trying audioread instead.\")\n"
          ],
          "name": "stderr"
        },
        {
          "output_type": "stream",
          "text": [
            "Data/Angry/0_77.wav\n"
          ],
          "name": "stdout"
        },
        {
          "output_type": "stream",
          "text": [
            "/usr/local/lib/python3.7/dist-packages/librosa/core/audio.py:165: UserWarning: PySoundFile failed. Trying audioread instead.\n",
            "  warnings.warn(\"PySoundFile failed. Trying audioread instead.\")\n"
          ],
          "name": "stderr"
        },
        {
          "output_type": "stream",
          "text": [
            "Data/Angry/0_25.wav\n",
            "Data/Angry/0_4.wav\n",
            "Data/Angry/0_19.wav\n",
            "Data/Angry/0_48.wav\n"
          ],
          "name": "stdout"
        },
        {
          "output_type": "stream",
          "text": [
            "/usr/local/lib/python3.7/dist-packages/librosa/core/audio.py:165: UserWarning: PySoundFile failed. Trying audioread instead.\n",
            "  warnings.warn(\"PySoundFile failed. Trying audioread instead.\")\n"
          ],
          "name": "stderr"
        },
        {
          "output_type": "stream",
          "text": [
            "Data/Angry/0_53.wav\n"
          ],
          "name": "stdout"
        },
        {
          "output_type": "stream",
          "text": [
            "/usr/local/lib/python3.7/dist-packages/librosa/core/audio.py:165: UserWarning: PySoundFile failed. Trying audioread instead.\n",
            "  warnings.warn(\"PySoundFile failed. Trying audioread instead.\")\n"
          ],
          "name": "stderr"
        },
        {
          "output_type": "stream",
          "text": [
            "Data/Angry/0_60.wav\n"
          ],
          "name": "stdout"
        },
        {
          "output_type": "stream",
          "text": [
            "/usr/local/lib/python3.7/dist-packages/librosa/core/audio.py:165: UserWarning: PySoundFile failed. Trying audioread instead.\n",
            "  warnings.warn(\"PySoundFile failed. Trying audioread instead.\")\n"
          ],
          "name": "stderr"
        },
        {
          "output_type": "stream",
          "text": [
            "Data/Angry/0_44.wav\n"
          ],
          "name": "stdout"
        },
        {
          "output_type": "stream",
          "text": [
            "/usr/local/lib/python3.7/dist-packages/librosa/core/audio.py:165: UserWarning: PySoundFile failed. Trying audioread instead.\n",
            "  warnings.warn(\"PySoundFile failed. Trying audioread instead.\")\n"
          ],
          "name": "stderr"
        },
        {
          "output_type": "stream",
          "text": [
            "Data/Angry/0_30.wav\n"
          ],
          "name": "stdout"
        },
        {
          "output_type": "stream",
          "text": [
            "/usr/local/lib/python3.7/dist-packages/librosa/core/audio.py:165: UserWarning: PySoundFile failed. Trying audioread instead.\n",
            "  warnings.warn(\"PySoundFile failed. Trying audioread instead.\")\n"
          ],
          "name": "stderr"
        },
        {
          "output_type": "stream",
          "text": [
            "Data/Angry/0_1.wav\n",
            "Data/Happy/1_98.wav\n"
          ],
          "name": "stdout"
        },
        {
          "output_type": "stream",
          "text": [
            "/usr/local/lib/python3.7/dist-packages/librosa/core/audio.py:165: UserWarning: PySoundFile failed. Trying audioread instead.\n",
            "  warnings.warn(\"PySoundFile failed. Trying audioread instead.\")\n"
          ],
          "name": "stderr"
        },
        {
          "output_type": "stream",
          "text": [
            "Data/Happy/1_48.wav\n"
          ],
          "name": "stdout"
        },
        {
          "output_type": "stream",
          "text": [
            "/usr/local/lib/python3.7/dist-packages/librosa/core/audio.py:165: UserWarning: PySoundFile failed. Trying audioread instead.\n",
            "  warnings.warn(\"PySoundFile failed. Trying audioread instead.\")\n"
          ],
          "name": "stderr"
        },
        {
          "output_type": "stream",
          "text": [
            "Data/Happy/1_96.wav\n"
          ],
          "name": "stdout"
        },
        {
          "output_type": "stream",
          "text": [
            "/usr/local/lib/python3.7/dist-packages/librosa/core/audio.py:165: UserWarning: PySoundFile failed. Trying audioread instead.\n",
            "  warnings.warn(\"PySoundFile failed. Trying audioread instead.\")\n"
          ],
          "name": "stderr"
        },
        {
          "output_type": "stream",
          "text": [
            "Data/Happy/1_6.wav\n",
            "Data/Happy/1_32.wav\n"
          ],
          "name": "stdout"
        },
        {
          "output_type": "stream",
          "text": [
            "/usr/local/lib/python3.7/dist-packages/librosa/core/audio.py:165: UserWarning: PySoundFile failed. Trying audioread instead.\n",
            "  warnings.warn(\"PySoundFile failed. Trying audioread instead.\")\n"
          ],
          "name": "stderr"
        },
        {
          "output_type": "stream",
          "text": [
            "Data/Happy/1_52.wav\n"
          ],
          "name": "stdout"
        },
        {
          "output_type": "stream",
          "text": [
            "/usr/local/lib/python3.7/dist-packages/librosa/core/audio.py:165: UserWarning: PySoundFile failed. Trying audioread instead.\n",
            "  warnings.warn(\"PySoundFile failed. Trying audioread instead.\")\n"
          ],
          "name": "stderr"
        },
        {
          "output_type": "stream",
          "text": [
            "Data/Happy/1_30.wav\n"
          ],
          "name": "stdout"
        },
        {
          "output_type": "stream",
          "text": [
            "/usr/local/lib/python3.7/dist-packages/librosa/core/audio.py:165: UserWarning: PySoundFile failed. Trying audioread instead.\n",
            "  warnings.warn(\"PySoundFile failed. Trying audioread instead.\")\n"
          ],
          "name": "stderr"
        },
        {
          "output_type": "stream",
          "text": [
            "Data/Happy/1_17.wav\n",
            "Data/Happy/1_24.wav\n",
            "Data/Happy/1_45.wav\n"
          ],
          "name": "stdout"
        },
        {
          "output_type": "stream",
          "text": [
            "/usr/local/lib/python3.7/dist-packages/librosa/core/audio.py:165: UserWarning: PySoundFile failed. Trying audioread instead.\n",
            "  warnings.warn(\"PySoundFile failed. Trying audioread instead.\")\n"
          ],
          "name": "stderr"
        },
        {
          "output_type": "stream",
          "text": [
            "Data/Happy/1_40.wav\n"
          ],
          "name": "stdout"
        },
        {
          "output_type": "stream",
          "text": [
            "/usr/local/lib/python3.7/dist-packages/librosa/core/audio.py:165: UserWarning: PySoundFile failed. Trying audioread instead.\n",
            "  warnings.warn(\"PySoundFile failed. Trying audioread instead.\")\n"
          ],
          "name": "stderr"
        },
        {
          "output_type": "stream",
          "text": [
            "Data/Happy/1_11.wav\n",
            "Data/Happy/1_75.wav\n"
          ],
          "name": "stdout"
        },
        {
          "output_type": "stream",
          "text": [
            "/usr/local/lib/python3.7/dist-packages/librosa/core/audio.py:165: UserWarning: PySoundFile failed. Trying audioread instead.\n",
            "  warnings.warn(\"PySoundFile failed. Trying audioread instead.\")\n"
          ],
          "name": "stderr"
        },
        {
          "output_type": "stream",
          "text": [
            "Data/Happy/1_80.wav\n"
          ],
          "name": "stdout"
        },
        {
          "output_type": "stream",
          "text": [
            "/usr/local/lib/python3.7/dist-packages/librosa/core/audio.py:165: UserWarning: PySoundFile failed. Trying audioread instead.\n",
            "  warnings.warn(\"PySoundFile failed. Trying audioread instead.\")\n"
          ],
          "name": "stderr"
        },
        {
          "output_type": "stream",
          "text": [
            "Data/Happy/1_74.wav\n"
          ],
          "name": "stdout"
        },
        {
          "output_type": "stream",
          "text": [
            "/usr/local/lib/python3.7/dist-packages/librosa/core/audio.py:165: UserWarning: PySoundFile failed. Trying audioread instead.\n",
            "  warnings.warn(\"PySoundFile failed. Trying audioread instead.\")\n"
          ],
          "name": "stderr"
        },
        {
          "output_type": "stream",
          "text": [
            "Data/Happy/1_89.wav\n"
          ],
          "name": "stdout"
        },
        {
          "output_type": "stream",
          "text": [
            "/usr/local/lib/python3.7/dist-packages/librosa/core/audio.py:165: UserWarning: PySoundFile failed. Trying audioread instead.\n",
            "  warnings.warn(\"PySoundFile failed. Trying audioread instead.\")\n"
          ],
          "name": "stderr"
        },
        {
          "output_type": "stream",
          "text": [
            "Data/Happy/1_42.wav\n"
          ],
          "name": "stdout"
        },
        {
          "output_type": "stream",
          "text": [
            "/usr/local/lib/python3.7/dist-packages/librosa/core/audio.py:165: UserWarning: PySoundFile failed. Trying audioread instead.\n",
            "  warnings.warn(\"PySoundFile failed. Trying audioread instead.\")\n"
          ],
          "name": "stderr"
        },
        {
          "output_type": "stream",
          "text": [
            "Data/Happy/1_18.wav\n",
            "Data/Happy/1_76.wav\n"
          ],
          "name": "stdout"
        },
        {
          "output_type": "stream",
          "text": [
            "/usr/local/lib/python3.7/dist-packages/librosa/core/audio.py:165: UserWarning: PySoundFile failed. Trying audioread instead.\n",
            "  warnings.warn(\"PySoundFile failed. Trying audioread instead.\")\n"
          ],
          "name": "stderr"
        },
        {
          "output_type": "stream",
          "text": [
            "Data/Happy/1_77.wav\n"
          ],
          "name": "stdout"
        },
        {
          "output_type": "stream",
          "text": [
            "/usr/local/lib/python3.7/dist-packages/librosa/core/audio.py:165: UserWarning: PySoundFile failed. Trying audioread instead.\n",
            "  warnings.warn(\"PySoundFile failed. Trying audioread instead.\")\n"
          ],
          "name": "stderr"
        },
        {
          "output_type": "stream",
          "text": [
            "Data/Happy/1_78.wav\n"
          ],
          "name": "stdout"
        },
        {
          "output_type": "stream",
          "text": [
            "/usr/local/lib/python3.7/dist-packages/librosa/core/audio.py:165: UserWarning: PySoundFile failed. Trying audioread instead.\n",
            "  warnings.warn(\"PySoundFile failed. Trying audioread instead.\")\n"
          ],
          "name": "stderr"
        },
        {
          "output_type": "stream",
          "text": [
            "Data/Happy/1_51.wav\n"
          ],
          "name": "stdout"
        },
        {
          "output_type": "stream",
          "text": [
            "/usr/local/lib/python3.7/dist-packages/librosa/core/audio.py:165: UserWarning: PySoundFile failed. Trying audioread instead.\n",
            "  warnings.warn(\"PySoundFile failed. Trying audioread instead.\")\n"
          ],
          "name": "stderr"
        },
        {
          "output_type": "stream",
          "text": [
            "Data/Happy/1_100.wav\n"
          ],
          "name": "stdout"
        },
        {
          "output_type": "stream",
          "text": [
            "/usr/local/lib/python3.7/dist-packages/librosa/core/audio.py:165: UserWarning: PySoundFile failed. Trying audioread instead.\n",
            "  warnings.warn(\"PySoundFile failed. Trying audioread instead.\")\n"
          ],
          "name": "stderr"
        },
        {
          "output_type": "stream",
          "text": [
            "Data/Happy/1_2.wav\n",
            "Data/Happy/1_49.wav\n"
          ],
          "name": "stdout"
        },
        {
          "output_type": "stream",
          "text": [
            "/usr/local/lib/python3.7/dist-packages/librosa/core/audio.py:165: UserWarning: PySoundFile failed. Trying audioread instead.\n",
            "  warnings.warn(\"PySoundFile failed. Trying audioread instead.\")\n"
          ],
          "name": "stderr"
        },
        {
          "output_type": "stream",
          "text": [
            "Data/Happy/1_68.wav\n"
          ],
          "name": "stdout"
        },
        {
          "output_type": "stream",
          "text": [
            "/usr/local/lib/python3.7/dist-packages/librosa/core/audio.py:165: UserWarning: PySoundFile failed. Trying audioread instead.\n",
            "  warnings.warn(\"PySoundFile failed. Trying audioread instead.\")\n"
          ],
          "name": "stderr"
        },
        {
          "output_type": "stream",
          "text": [
            "Data/Happy/1_84.wav\n"
          ],
          "name": "stdout"
        },
        {
          "output_type": "stream",
          "text": [
            "/usr/local/lib/python3.7/dist-packages/librosa/core/audio.py:165: UserWarning: PySoundFile failed. Trying audioread instead.\n",
            "  warnings.warn(\"PySoundFile failed. Trying audioread instead.\")\n"
          ],
          "name": "stderr"
        },
        {
          "output_type": "stream",
          "text": [
            "Data/Happy/1_21.wav\n",
            "Data/Happy/1_37.wav\n"
          ],
          "name": "stdout"
        },
        {
          "output_type": "stream",
          "text": [
            "/usr/local/lib/python3.7/dist-packages/librosa/core/audio.py:165: UserWarning: PySoundFile failed. Trying audioread instead.\n",
            "  warnings.warn(\"PySoundFile failed. Trying audioread instead.\")\n"
          ],
          "name": "stderr"
        },
        {
          "output_type": "stream",
          "text": [
            "Data/Happy/1_33.wav\n"
          ],
          "name": "stdout"
        },
        {
          "output_type": "stream",
          "text": [
            "/usr/local/lib/python3.7/dist-packages/librosa/core/audio.py:165: UserWarning: PySoundFile failed. Trying audioread instead.\n",
            "  warnings.warn(\"PySoundFile failed. Trying audioread instead.\")\n"
          ],
          "name": "stderr"
        },
        {
          "output_type": "stream",
          "text": [
            "Data/Happy/1_94.wav\n"
          ],
          "name": "stdout"
        },
        {
          "output_type": "stream",
          "text": [
            "/usr/local/lib/python3.7/dist-packages/librosa/core/audio.py:165: UserWarning: PySoundFile failed. Trying audioread instead.\n",
            "  warnings.warn(\"PySoundFile failed. Trying audioread instead.\")\n"
          ],
          "name": "stderr"
        },
        {
          "output_type": "stream",
          "text": [
            "Data/Happy/1_66.wav\n"
          ],
          "name": "stdout"
        },
        {
          "output_type": "stream",
          "text": [
            "/usr/local/lib/python3.7/dist-packages/librosa/core/audio.py:165: UserWarning: PySoundFile failed. Trying audioread instead.\n",
            "  warnings.warn(\"PySoundFile failed. Trying audioread instead.\")\n"
          ],
          "name": "stderr"
        },
        {
          "output_type": "stream",
          "text": [
            "Data/Happy/1_38.wav\n"
          ],
          "name": "stdout"
        },
        {
          "output_type": "stream",
          "text": [
            "/usr/local/lib/python3.7/dist-packages/librosa/core/audio.py:165: UserWarning: PySoundFile failed. Trying audioread instead.\n",
            "  warnings.warn(\"PySoundFile failed. Trying audioread instead.\")\n"
          ],
          "name": "stderr"
        },
        {
          "output_type": "stream",
          "text": [
            "Data/Happy/1_58.wav\n"
          ],
          "name": "stdout"
        },
        {
          "output_type": "stream",
          "text": [
            "/usr/local/lib/python3.7/dist-packages/librosa/core/audio.py:165: UserWarning: PySoundFile failed. Trying audioread instead.\n",
            "  warnings.warn(\"PySoundFile failed. Trying audioread instead.\")\n"
          ],
          "name": "stderr"
        },
        {
          "output_type": "stream",
          "text": [
            "Data/Happy/1_67.wav\n"
          ],
          "name": "stdout"
        },
        {
          "output_type": "stream",
          "text": [
            "/usr/local/lib/python3.7/dist-packages/librosa/core/audio.py:165: UserWarning: PySoundFile failed. Trying audioread instead.\n",
            "  warnings.warn(\"PySoundFile failed. Trying audioread instead.\")\n"
          ],
          "name": "stderr"
        },
        {
          "output_type": "stream",
          "text": [
            "Data/Happy/1_36.wav\n"
          ],
          "name": "stdout"
        },
        {
          "output_type": "stream",
          "text": [
            "/usr/local/lib/python3.7/dist-packages/librosa/core/audio.py:165: UserWarning: PySoundFile failed. Trying audioread instead.\n",
            "  warnings.warn(\"PySoundFile failed. Trying audioread instead.\")\n"
          ],
          "name": "stderr"
        },
        {
          "output_type": "stream",
          "text": [
            "Data/Happy/1_53.wav\n"
          ],
          "name": "stdout"
        },
        {
          "output_type": "stream",
          "text": [
            "/usr/local/lib/python3.7/dist-packages/librosa/core/audio.py:165: UserWarning: PySoundFile failed. Trying audioread instead.\n",
            "  warnings.warn(\"PySoundFile failed. Trying audioread instead.\")\n"
          ],
          "name": "stderr"
        },
        {
          "output_type": "stream",
          "text": [
            "Data/Happy/1_72.wav\n"
          ],
          "name": "stdout"
        },
        {
          "output_type": "stream",
          "text": [
            "/usr/local/lib/python3.7/dist-packages/librosa/core/audio.py:165: UserWarning: PySoundFile failed. Trying audioread instead.\n",
            "  warnings.warn(\"PySoundFile failed. Trying audioread instead.\")\n"
          ],
          "name": "stderr"
        },
        {
          "output_type": "stream",
          "text": [
            "Data/Happy/1_43.wav\n"
          ],
          "name": "stdout"
        },
        {
          "output_type": "stream",
          "text": [
            "/usr/local/lib/python3.7/dist-packages/librosa/core/audio.py:165: UserWarning: PySoundFile failed. Trying audioread instead.\n",
            "  warnings.warn(\"PySoundFile failed. Trying audioread instead.\")\n"
          ],
          "name": "stderr"
        },
        {
          "output_type": "stream",
          "text": [
            "Data/Happy/1_13.wav\n",
            "Data/Happy/1_12.wav\n",
            "Data/Happy/1_57.wav\n"
          ],
          "name": "stdout"
        },
        {
          "output_type": "stream",
          "text": [
            "/usr/local/lib/python3.7/dist-packages/librosa/core/audio.py:165: UserWarning: PySoundFile failed. Trying audioread instead.\n",
            "  warnings.warn(\"PySoundFile failed. Trying audioread instead.\")\n"
          ],
          "name": "stderr"
        },
        {
          "output_type": "stream",
          "text": [
            "Data/Happy/1_8.wav\n",
            "Data/Happy/1_14.wav\n",
            "Data/Happy/1_90.wav\n"
          ],
          "name": "stdout"
        },
        {
          "output_type": "stream",
          "text": [
            "/usr/local/lib/python3.7/dist-packages/librosa/core/audio.py:165: UserWarning: PySoundFile failed. Trying audioread instead.\n",
            "  warnings.warn(\"PySoundFile failed. Trying audioread instead.\")\n"
          ],
          "name": "stderr"
        },
        {
          "output_type": "stream",
          "text": [
            "Data/Happy/1_65.wav\n"
          ],
          "name": "stdout"
        },
        {
          "output_type": "stream",
          "text": [
            "/usr/local/lib/python3.7/dist-packages/librosa/core/audio.py:165: UserWarning: PySoundFile failed. Trying audioread instead.\n",
            "  warnings.warn(\"PySoundFile failed. Trying audioread instead.\")\n"
          ],
          "name": "stderr"
        },
        {
          "output_type": "stream",
          "text": [
            "Data/Happy/1_60.wav\n"
          ],
          "name": "stdout"
        },
        {
          "output_type": "stream",
          "text": [
            "/usr/local/lib/python3.7/dist-packages/librosa/core/audio.py:165: UserWarning: PySoundFile failed. Trying audioread instead.\n",
            "  warnings.warn(\"PySoundFile failed. Trying audioread instead.\")\n"
          ],
          "name": "stderr"
        },
        {
          "output_type": "stream",
          "text": [
            "Data/Happy/1_34.wav\n"
          ],
          "name": "stdout"
        },
        {
          "output_type": "stream",
          "text": [
            "/usr/local/lib/python3.7/dist-packages/librosa/core/audio.py:165: UserWarning: PySoundFile failed. Trying audioread instead.\n",
            "  warnings.warn(\"PySoundFile failed. Trying audioread instead.\")\n"
          ],
          "name": "stderr"
        },
        {
          "output_type": "stream",
          "text": [
            "Data/Happy/1_82.wav\n"
          ],
          "name": "stdout"
        },
        {
          "output_type": "stream",
          "text": [
            "/usr/local/lib/python3.7/dist-packages/librosa/core/audio.py:165: UserWarning: PySoundFile failed. Trying audioread instead.\n",
            "  warnings.warn(\"PySoundFile failed. Trying audioread instead.\")\n"
          ],
          "name": "stderr"
        },
        {
          "output_type": "stream",
          "text": [
            "Data/Happy/1_64.wav\n"
          ],
          "name": "stdout"
        },
        {
          "output_type": "stream",
          "text": [
            "/usr/local/lib/python3.7/dist-packages/librosa/core/audio.py:165: UserWarning: PySoundFile failed. Trying audioread instead.\n",
            "  warnings.warn(\"PySoundFile failed. Trying audioread instead.\")\n"
          ],
          "name": "stderr"
        },
        {
          "output_type": "stream",
          "text": [
            "Data/Happy/1_55.wav\n"
          ],
          "name": "stdout"
        },
        {
          "output_type": "stream",
          "text": [
            "/usr/local/lib/python3.7/dist-packages/librosa/core/audio.py:165: UserWarning: PySoundFile failed. Trying audioread instead.\n",
            "  warnings.warn(\"PySoundFile failed. Trying audioread instead.\")\n"
          ],
          "name": "stderr"
        },
        {
          "output_type": "stream",
          "text": [
            "Data/Happy/1_70.wav\n"
          ],
          "name": "stdout"
        },
        {
          "output_type": "stream",
          "text": [
            "/usr/local/lib/python3.7/dist-packages/librosa/core/audio.py:165: UserWarning: PySoundFile failed. Trying audioread instead.\n",
            "  warnings.warn(\"PySoundFile failed. Trying audioread instead.\")\n"
          ],
          "name": "stderr"
        },
        {
          "output_type": "stream",
          "text": [
            "Data/Happy/1_62.wav\n"
          ],
          "name": "stdout"
        },
        {
          "output_type": "stream",
          "text": [
            "/usr/local/lib/python3.7/dist-packages/librosa/core/audio.py:165: UserWarning: PySoundFile failed. Trying audioread instead.\n",
            "  warnings.warn(\"PySoundFile failed. Trying audioread instead.\")\n"
          ],
          "name": "stderr"
        },
        {
          "output_type": "stream",
          "text": [
            "Data/Happy/1_20.wav\n",
            "Data/Happy/1_97.wav\n"
          ],
          "name": "stdout"
        },
        {
          "output_type": "stream",
          "text": [
            "/usr/local/lib/python3.7/dist-packages/librosa/core/audio.py:165: UserWarning: PySoundFile failed. Trying audioread instead.\n",
            "  warnings.warn(\"PySoundFile failed. Trying audioread instead.\")\n"
          ],
          "name": "stderr"
        },
        {
          "output_type": "stream",
          "text": [
            "Data/Happy/1_39.wav\n"
          ],
          "name": "stdout"
        },
        {
          "output_type": "stream",
          "text": [
            "/usr/local/lib/python3.7/dist-packages/librosa/core/audio.py:165: UserWarning: PySoundFile failed. Trying audioread instead.\n",
            "  warnings.warn(\"PySoundFile failed. Trying audioread instead.\")\n"
          ],
          "name": "stderr"
        },
        {
          "output_type": "stream",
          "text": [
            "Data/Happy/1_16.wav\n",
            "Data/Happy/1_87.wav\n"
          ],
          "name": "stdout"
        },
        {
          "output_type": "stream",
          "text": [
            "/usr/local/lib/python3.7/dist-packages/librosa/core/audio.py:165: UserWarning: PySoundFile failed. Trying audioread instead.\n",
            "  warnings.warn(\"PySoundFile failed. Trying audioread instead.\")\n"
          ],
          "name": "stderr"
        },
        {
          "output_type": "stream",
          "text": [
            "Data/Happy/1_79.wav\n"
          ],
          "name": "stdout"
        },
        {
          "output_type": "stream",
          "text": [
            "/usr/local/lib/python3.7/dist-packages/librosa/core/audio.py:165: UserWarning: PySoundFile failed. Trying audioread instead.\n",
            "  warnings.warn(\"PySoundFile failed. Trying audioread instead.\")\n"
          ],
          "name": "stderr"
        },
        {
          "output_type": "stream",
          "text": [
            "Data/Happy/1_69.wav\n"
          ],
          "name": "stdout"
        },
        {
          "output_type": "stream",
          "text": [
            "/usr/local/lib/python3.7/dist-packages/librosa/core/audio.py:165: UserWarning: PySoundFile failed. Trying audioread instead.\n",
            "  warnings.warn(\"PySoundFile failed. Trying audioread instead.\")\n"
          ],
          "name": "stderr"
        },
        {
          "output_type": "stream",
          "text": [
            "Data/Happy/1_44.wav\n"
          ],
          "name": "stdout"
        },
        {
          "output_type": "stream",
          "text": [
            "/usr/local/lib/python3.7/dist-packages/librosa/core/audio.py:165: UserWarning: PySoundFile failed. Trying audioread instead.\n",
            "  warnings.warn(\"PySoundFile failed. Trying audioread instead.\")\n"
          ],
          "name": "stderr"
        },
        {
          "output_type": "stream",
          "text": [
            "Data/Happy/1_93.wav\n"
          ],
          "name": "stdout"
        },
        {
          "output_type": "stream",
          "text": [
            "/usr/local/lib/python3.7/dist-packages/librosa/core/audio.py:165: UserWarning: PySoundFile failed. Trying audioread instead.\n",
            "  warnings.warn(\"PySoundFile failed. Trying audioread instead.\")\n"
          ],
          "name": "stderr"
        },
        {
          "output_type": "stream",
          "text": [
            "Data/Happy/1_1.wav\n",
            "Data/Happy/1_23.wav\n",
            "Data/Happy/1_86.wav\n"
          ],
          "name": "stdout"
        },
        {
          "output_type": "stream",
          "text": [
            "/usr/local/lib/python3.7/dist-packages/librosa/core/audio.py:165: UserWarning: PySoundFile failed. Trying audioread instead.\n",
            "  warnings.warn(\"PySoundFile failed. Trying audioread instead.\")\n"
          ],
          "name": "stderr"
        },
        {
          "output_type": "stream",
          "text": [
            "Data/Happy/1_73.wav\n"
          ],
          "name": "stdout"
        },
        {
          "output_type": "stream",
          "text": [
            "/usr/local/lib/python3.7/dist-packages/librosa/core/audio.py:165: UserWarning: PySoundFile failed. Trying audioread instead.\n",
            "  warnings.warn(\"PySoundFile failed. Trying audioread instead.\")\n"
          ],
          "name": "stderr"
        },
        {
          "output_type": "stream",
          "text": [
            "Data/Happy/1_27.wav\n"
          ],
          "name": "stdout"
        },
        {
          "output_type": "stream",
          "text": [
            "/usr/local/lib/python3.7/dist-packages/librosa/core/audio.py:165: UserWarning: PySoundFile failed. Trying audioread instead.\n",
            "  warnings.warn(\"PySoundFile failed. Trying audioread instead.\")\n"
          ],
          "name": "stderr"
        },
        {
          "output_type": "stream",
          "text": [
            "Data/Happy/1_26.wav\n"
          ],
          "name": "stdout"
        },
        {
          "output_type": "stream",
          "text": [
            "/usr/local/lib/python3.7/dist-packages/librosa/core/audio.py:165: UserWarning: PySoundFile failed. Trying audioread instead.\n",
            "  warnings.warn(\"PySoundFile failed. Trying audioread instead.\")\n"
          ],
          "name": "stderr"
        },
        {
          "output_type": "stream",
          "text": [
            "Data/Happy/1_19.wav\n",
            "Data/Happy/1_91.wav\n"
          ],
          "name": "stdout"
        },
        {
          "output_type": "stream",
          "text": [
            "/usr/local/lib/python3.7/dist-packages/librosa/core/audio.py:165: UserWarning: PySoundFile failed. Trying audioread instead.\n",
            "  warnings.warn(\"PySoundFile failed. Trying audioread instead.\")\n"
          ],
          "name": "stderr"
        },
        {
          "output_type": "stream",
          "text": [
            "Data/Happy/1_31.wav\n"
          ],
          "name": "stdout"
        },
        {
          "output_type": "stream",
          "text": [
            "/usr/local/lib/python3.7/dist-packages/librosa/core/audio.py:165: UserWarning: PySoundFile failed. Trying audioread instead.\n",
            "  warnings.warn(\"PySoundFile failed. Trying audioread instead.\")\n"
          ],
          "name": "stderr"
        },
        {
          "output_type": "stream",
          "text": [
            "Data/Happy/1_3.wav\n",
            "Data/Happy/1_15.wav\n",
            "Data/Happy/1_71.wav\n"
          ],
          "name": "stdout"
        },
        {
          "output_type": "stream",
          "text": [
            "/usr/local/lib/python3.7/dist-packages/librosa/core/audio.py:165: UserWarning: PySoundFile failed. Trying audioread instead.\n",
            "  warnings.warn(\"PySoundFile failed. Trying audioread instead.\")\n"
          ],
          "name": "stderr"
        },
        {
          "output_type": "stream",
          "text": [
            "Data/Happy/1_22.wav\n",
            "Data/Happy/1_50.wav\n"
          ],
          "name": "stdout"
        },
        {
          "output_type": "stream",
          "text": [
            "/usr/local/lib/python3.7/dist-packages/librosa/core/audio.py:165: UserWarning: PySoundFile failed. Trying audioread instead.\n",
            "  warnings.warn(\"PySoundFile failed. Trying audioread instead.\")\n"
          ],
          "name": "stderr"
        },
        {
          "output_type": "stream",
          "text": [
            "Data/Happy/1_61.wav\n"
          ],
          "name": "stdout"
        },
        {
          "output_type": "stream",
          "text": [
            "/usr/local/lib/python3.7/dist-packages/librosa/core/audio.py:165: UserWarning: PySoundFile failed. Trying audioread instead.\n",
            "  warnings.warn(\"PySoundFile failed. Trying audioread instead.\")\n"
          ],
          "name": "stderr"
        },
        {
          "output_type": "stream",
          "text": [
            "Data/Happy/1_81.wav\n"
          ],
          "name": "stdout"
        },
        {
          "output_type": "stream",
          "text": [
            "/usr/local/lib/python3.7/dist-packages/librosa/core/audio.py:165: UserWarning: PySoundFile failed. Trying audioread instead.\n",
            "  warnings.warn(\"PySoundFile failed. Trying audioread instead.\")\n"
          ],
          "name": "stderr"
        },
        {
          "output_type": "stream",
          "text": [
            "Data/Happy/1_63.wav\n"
          ],
          "name": "stdout"
        },
        {
          "output_type": "stream",
          "text": [
            "/usr/local/lib/python3.7/dist-packages/librosa/core/audio.py:165: UserWarning: PySoundFile failed. Trying audioread instead.\n",
            "  warnings.warn(\"PySoundFile failed. Trying audioread instead.\")\n"
          ],
          "name": "stderr"
        },
        {
          "output_type": "stream",
          "text": [
            "Data/Happy/1_88.wav\n"
          ],
          "name": "stdout"
        },
        {
          "output_type": "stream",
          "text": [
            "/usr/local/lib/python3.7/dist-packages/librosa/core/audio.py:165: UserWarning: PySoundFile failed. Trying audioread instead.\n",
            "  warnings.warn(\"PySoundFile failed. Trying audioread instead.\")\n"
          ],
          "name": "stderr"
        },
        {
          "output_type": "stream",
          "text": [
            "Data/Happy/1_7.wav\n",
            "Data/Happy/1_83.wav\n"
          ],
          "name": "stdout"
        },
        {
          "output_type": "stream",
          "text": [
            "/usr/local/lib/python3.7/dist-packages/librosa/core/audio.py:165: UserWarning: PySoundFile failed. Trying audioread instead.\n",
            "  warnings.warn(\"PySoundFile failed. Trying audioread instead.\")\n"
          ],
          "name": "stderr"
        },
        {
          "output_type": "stream",
          "text": [
            "Data/Happy/1_99.wav\n"
          ],
          "name": "stdout"
        },
        {
          "output_type": "stream",
          "text": [
            "/usr/local/lib/python3.7/dist-packages/librosa/core/audio.py:165: UserWarning: PySoundFile failed. Trying audioread instead.\n",
            "  warnings.warn(\"PySoundFile failed. Trying audioread instead.\")\n"
          ],
          "name": "stderr"
        },
        {
          "output_type": "stream",
          "text": [
            "Data/Happy/1_10.wav\n",
            "Data/Happy/1_46.wav\n"
          ],
          "name": "stdout"
        },
        {
          "output_type": "stream",
          "text": [
            "/usr/local/lib/python3.7/dist-packages/librosa/core/audio.py:165: UserWarning: PySoundFile failed. Trying audioread instead.\n",
            "  warnings.warn(\"PySoundFile failed. Trying audioread instead.\")\n"
          ],
          "name": "stderr"
        },
        {
          "output_type": "stream",
          "text": [
            "Data/Happy/1_29.wav\n"
          ],
          "name": "stdout"
        },
        {
          "output_type": "stream",
          "text": [
            "/usr/local/lib/python3.7/dist-packages/librosa/core/audio.py:165: UserWarning: PySoundFile failed. Trying audioread instead.\n",
            "  warnings.warn(\"PySoundFile failed. Trying audioread instead.\")\n"
          ],
          "name": "stderr"
        },
        {
          "output_type": "stream",
          "text": [
            "Data/Happy/1_9.wav\n",
            "Data/Happy/1_4.wav\n",
            "Data/Happy/1_85.wav\n"
          ],
          "name": "stdout"
        },
        {
          "output_type": "stream",
          "text": [
            "/usr/local/lib/python3.7/dist-packages/librosa/core/audio.py:165: UserWarning: PySoundFile failed. Trying audioread instead.\n",
            "  warnings.warn(\"PySoundFile failed. Trying audioread instead.\")\n"
          ],
          "name": "stderr"
        },
        {
          "output_type": "stream",
          "text": [
            "Data/Happy/1_47.wav\n"
          ],
          "name": "stdout"
        },
        {
          "output_type": "stream",
          "text": [
            "/usr/local/lib/python3.7/dist-packages/librosa/core/audio.py:165: UserWarning: PySoundFile failed. Trying audioread instead.\n",
            "  warnings.warn(\"PySoundFile failed. Trying audioread instead.\")\n"
          ],
          "name": "stderr"
        },
        {
          "output_type": "stream",
          "text": [
            "Data/Happy/1_56.wav\n"
          ],
          "name": "stdout"
        },
        {
          "output_type": "stream",
          "text": [
            "/usr/local/lib/python3.7/dist-packages/librosa/core/audio.py:165: UserWarning: PySoundFile failed. Trying audioread instead.\n",
            "  warnings.warn(\"PySoundFile failed. Trying audioread instead.\")\n"
          ],
          "name": "stderr"
        },
        {
          "output_type": "stream",
          "text": [
            "Data/Happy/1_28.wav\n"
          ],
          "name": "stdout"
        },
        {
          "output_type": "stream",
          "text": [
            "/usr/local/lib/python3.7/dist-packages/librosa/core/audio.py:165: UserWarning: PySoundFile failed. Trying audioread instead.\n",
            "  warnings.warn(\"PySoundFile failed. Trying audioread instead.\")\n"
          ],
          "name": "stderr"
        },
        {
          "output_type": "stream",
          "text": [
            "Data/Happy/1_92.wav\n"
          ],
          "name": "stdout"
        },
        {
          "output_type": "stream",
          "text": [
            "/usr/local/lib/python3.7/dist-packages/librosa/core/audio.py:165: UserWarning: PySoundFile failed. Trying audioread instead.\n",
            "  warnings.warn(\"PySoundFile failed. Trying audioread instead.\")\n"
          ],
          "name": "stderr"
        },
        {
          "output_type": "stream",
          "text": [
            "Data/Happy/1_5.wav\n",
            "Data/Happy/1_41.wav\n"
          ],
          "name": "stdout"
        },
        {
          "output_type": "stream",
          "text": [
            "/usr/local/lib/python3.7/dist-packages/librosa/core/audio.py:165: UserWarning: PySoundFile failed. Trying audioread instead.\n",
            "  warnings.warn(\"PySoundFile failed. Trying audioread instead.\")\n"
          ],
          "name": "stderr"
        },
        {
          "output_type": "stream",
          "text": [
            "Data/Happy/1_35.wav\n"
          ],
          "name": "stdout"
        },
        {
          "output_type": "stream",
          "text": [
            "/usr/local/lib/python3.7/dist-packages/librosa/core/audio.py:165: UserWarning: PySoundFile failed. Trying audioread instead.\n",
            "  warnings.warn(\"PySoundFile failed. Trying audioread instead.\")\n"
          ],
          "name": "stderr"
        },
        {
          "output_type": "stream",
          "text": [
            "Data/Happy/1_25.wav\n",
            "Data/Happy/1_54.wav\n"
          ],
          "name": "stdout"
        },
        {
          "output_type": "stream",
          "text": [
            "/usr/local/lib/python3.7/dist-packages/librosa/core/audio.py:165: UserWarning: PySoundFile failed. Trying audioread instead.\n",
            "  warnings.warn(\"PySoundFile failed. Trying audioread instead.\")\n"
          ],
          "name": "stderr"
        },
        {
          "output_type": "stream",
          "text": [
            "Data/Happy/1_95.wav\n"
          ],
          "name": "stdout"
        },
        {
          "output_type": "stream",
          "text": [
            "/usr/local/lib/python3.7/dist-packages/librosa/core/audio.py:165: UserWarning: PySoundFile failed. Trying audioread instead.\n",
            "  warnings.warn(\"PySoundFile failed. Trying audioread instead.\")\n"
          ],
          "name": "stderr"
        },
        {
          "output_type": "stream",
          "text": [
            "Data/Happy/1_59.wav\n"
          ],
          "name": "stdout"
        },
        {
          "output_type": "stream",
          "text": [
            "/usr/local/lib/python3.7/dist-packages/librosa/core/audio.py:165: UserWarning: PySoundFile failed. Trying audioread instead.\n",
            "  warnings.warn(\"PySoundFile failed. Trying audioread instead.\")\n"
          ],
          "name": "stderr"
        },
        {
          "output_type": "stream",
          "text": [
            "Data/Neutral/3_50.wav\n",
            "Data/Neutral/3_73.wav\n",
            "Data/Neutral/3_55.wav\n",
            "Data/Neutral/3_82.wav\n",
            "Data/Neutral/3_4.wav\n",
            "Data/Neutral/3_8.wav\n",
            "Data/Neutral/3_98.wav\n",
            "Data/Neutral/3_83.wav\n",
            "Data/Neutral/3_96.wav\n",
            "Data/Neutral/3_31.wav\n",
            "Data/Neutral/3_25.wav\n",
            "Data/Neutral/3_87.wav\n",
            "Data/Neutral/3_52.wav\n",
            "Data/Neutral/3_7.wav\n",
            "Data/Neutral/3_43.wav\n",
            "Data/Neutral/3_33.wav\n",
            "Data/Neutral/3_27.wav\n",
            "Data/Neutral/3_80.wav\n",
            "Data/Neutral/3_20.wav\n",
            "Data/Neutral/3_46.wav\n",
            "Data/Neutral/3_29.wav\n",
            "Data/Neutral/3_34.wav\n",
            "Data/Neutral/3_15.wav\n",
            "Data/Neutral/3_38.wav\n",
            "Data/Neutral/3_6.wav\n",
            "Data/Neutral/3_42.wav\n",
            "Data/Neutral/3_74.wav\n",
            "Data/Neutral/3_53.wav\n",
            "Data/Neutral/3_35.wav\n",
            "Data/Neutral/3_51.wav\n",
            "Data/Neutral/3_63.wav\n",
            "Data/Neutral/3_85.wav\n",
            "Data/Neutral/3_76.wav\n",
            "Data/Neutral/3_94.wav\n",
            "Data/Neutral/3_17.wav\n",
            "Data/Neutral/3_9.wav\n",
            "Data/Neutral/3_28.wav\n",
            "Data/Neutral/3_62.wav\n",
            "Data/Neutral/3_19.wav\n",
            "Data/Neutral/3_91.wav\n",
            "Data/Neutral/3_39.wav\n",
            "Data/Neutral/3_69.wav\n",
            "Data/Neutral/3_11.wav\n",
            "Data/Neutral/3_13.wav\n",
            "Data/Neutral/3_41.wav\n",
            "Data/Neutral/3_92.wav\n",
            "Data/Neutral/3_47.wav\n",
            "Data/Neutral/3_14.wav\n",
            "Data/Neutral/3_67.wav\n",
            "Data/Neutral/3_1.wav\n",
            "Data/Neutral/3_22.wav\n",
            "Data/Neutral/3_56.wav\n",
            "Data/Neutral/3_37.wav\n",
            "Data/Neutral/3_64.wav\n",
            "Data/Neutral/3_84.wav\n",
            "Data/Neutral/3_24.wav\n",
            "Data/Neutral/3_75.wav\n",
            "Data/Neutral/3_5.wav\n",
            "Data/Neutral/3_10.wav\n",
            "Data/Neutral/3_61.wav\n",
            "Data/Neutral/3_86.wav\n",
            "Data/Neutral/3_40.wav\n",
            "Data/Neutral/3_100.wav\n",
            "Data/Neutral/3_58.wav\n",
            "Data/Neutral/3_36.wav\n",
            "Data/Neutral/3_90.wav\n",
            "Data/Neutral/3_77.wav\n",
            "Data/Neutral/3_88.wav\n",
            "Data/Neutral/3_23.wav\n",
            "Data/Neutral/3_89.wav\n",
            "Data/Neutral/3_70.wav\n",
            "Data/Neutral/3_12.wav\n",
            "Data/Neutral/3_71.wav\n",
            "Data/Neutral/3_68.wav\n",
            "Data/Neutral/3_79.wav\n",
            "Data/Neutral/3_57.wav\n",
            "Data/Neutral/3_30.wav\n",
            "Data/Neutral/3_81.wav\n",
            "Data/Neutral/3_18.wav\n",
            "Data/Neutral/3_32.wav\n",
            "Data/Neutral/3_72.wav\n",
            "Data/Neutral/3_44.wav\n",
            "Data/Neutral/3_97.wav\n",
            "Data/Neutral/3_66.wav\n",
            "Data/Neutral/3_78.wav\n",
            "Data/Neutral/3_93.wav\n",
            "Data/Neutral/3_54.wav\n",
            "Data/Neutral/3_99.wav\n",
            "Data/Neutral/3_49.wav\n",
            "Data/Neutral/3_59.wav\n",
            "Data/Neutral/3_3.wav\n",
            "Data/Neutral/3_48.wav\n",
            "Data/Neutral/3_60.wav\n",
            "Data/Neutral/3_26.wav\n",
            "Data/Neutral/3_45.wav\n",
            "Data/Neutral/3_16.wav\n",
            "Data/Neutral/3_21.wav\n",
            "Data/Neutral/3_65.wav\n",
            "Data/Neutral/3_95.wav\n",
            "Data/Neutral/3_2.wav\n",
            "Data/Sad/2_67.wav\n"
          ],
          "name": "stdout"
        },
        {
          "output_type": "stream",
          "text": [
            "/usr/local/lib/python3.7/dist-packages/librosa/core/audio.py:165: UserWarning: PySoundFile failed. Trying audioread instead.\n",
            "  warnings.warn(\"PySoundFile failed. Trying audioread instead.\")\n"
          ],
          "name": "stderr"
        },
        {
          "output_type": "stream",
          "text": [
            "Data/Sad/2_95.wav\n"
          ],
          "name": "stdout"
        },
        {
          "output_type": "stream",
          "text": [
            "/usr/local/lib/python3.7/dist-packages/librosa/core/audio.py:165: UserWarning: PySoundFile failed. Trying audioread instead.\n",
            "  warnings.warn(\"PySoundFile failed. Trying audioread instead.\")\n"
          ],
          "name": "stderr"
        },
        {
          "output_type": "stream",
          "text": [
            "Data/Sad/2_7.wav\n",
            "Data/Sad/2_93.wav\n"
          ],
          "name": "stdout"
        },
        {
          "output_type": "stream",
          "text": [
            "/usr/local/lib/python3.7/dist-packages/librosa/core/audio.py:165: UserWarning: PySoundFile failed. Trying audioread instead.\n",
            "  warnings.warn(\"PySoundFile failed. Trying audioread instead.\")\n"
          ],
          "name": "stderr"
        },
        {
          "output_type": "stream",
          "text": [
            "Data/Sad/2_99.wav\n"
          ],
          "name": "stdout"
        },
        {
          "output_type": "stream",
          "text": [
            "/usr/local/lib/python3.7/dist-packages/librosa/core/audio.py:165: UserWarning: PySoundFile failed. Trying audioread instead.\n",
            "  warnings.warn(\"PySoundFile failed. Trying audioread instead.\")\n"
          ],
          "name": "stderr"
        },
        {
          "output_type": "stream",
          "text": [
            "Data/Sad/2_54.wav\n"
          ],
          "name": "stdout"
        },
        {
          "output_type": "stream",
          "text": [
            "/usr/local/lib/python3.7/dist-packages/librosa/core/audio.py:165: UserWarning: PySoundFile failed. Trying audioread instead.\n",
            "  warnings.warn(\"PySoundFile failed. Trying audioread instead.\")\n"
          ],
          "name": "stderr"
        },
        {
          "output_type": "stream",
          "text": [
            "Data/Sad/2_41.wav\n"
          ],
          "name": "stdout"
        },
        {
          "output_type": "stream",
          "text": [
            "/usr/local/lib/python3.7/dist-packages/librosa/core/audio.py:165: UserWarning: PySoundFile failed. Trying audioread instead.\n",
            "  warnings.warn(\"PySoundFile failed. Trying audioread instead.\")\n"
          ],
          "name": "stderr"
        },
        {
          "output_type": "stream",
          "text": [
            "Data/Sad/2_12.wav\n",
            "Data/Sad/2_9.wav\n",
            "Data/Sad/2_8.wav\n",
            "Data/Sad/2_43.wav\n"
          ],
          "name": "stdout"
        },
        {
          "output_type": "stream",
          "text": [
            "/usr/local/lib/python3.7/dist-packages/librosa/core/audio.py:165: UserWarning: PySoundFile failed. Trying audioread instead.\n",
            "  warnings.warn(\"PySoundFile failed. Trying audioread instead.\")\n"
          ],
          "name": "stderr"
        },
        {
          "output_type": "stream",
          "text": [
            "Data/Sad/2_97.wav\n"
          ],
          "name": "stdout"
        },
        {
          "output_type": "stream",
          "text": [
            "/usr/local/lib/python3.7/dist-packages/librosa/core/audio.py:165: UserWarning: PySoundFile failed. Trying audioread instead.\n",
            "  warnings.warn(\"PySoundFile failed. Trying audioread instead.\")\n"
          ],
          "name": "stderr"
        },
        {
          "output_type": "stream",
          "text": [
            "Data/Sad/2_35.wav\n"
          ],
          "name": "stdout"
        },
        {
          "output_type": "stream",
          "text": [
            "/usr/local/lib/python3.7/dist-packages/librosa/core/audio.py:165: UserWarning: PySoundFile failed. Trying audioread instead.\n",
            "  warnings.warn(\"PySoundFile failed. Trying audioread instead.\")\n"
          ],
          "name": "stderr"
        },
        {
          "output_type": "stream",
          "text": [
            "Data/Sad/2_20.wav\n",
            "Data/Sad/2_84.wav\n"
          ],
          "name": "stdout"
        },
        {
          "output_type": "stream",
          "text": [
            "/usr/local/lib/python3.7/dist-packages/librosa/core/audio.py:165: UserWarning: PySoundFile failed. Trying audioread instead.\n",
            "  warnings.warn(\"PySoundFile failed. Trying audioread instead.\")\n"
          ],
          "name": "stderr"
        },
        {
          "output_type": "stream",
          "text": [
            "Data/Sad/2_1.wav\n",
            "Data/Sad/2_66.wav\n"
          ],
          "name": "stdout"
        },
        {
          "output_type": "stream",
          "text": [
            "/usr/local/lib/python3.7/dist-packages/librosa/core/audio.py:165: UserWarning: PySoundFile failed. Trying audioread instead.\n",
            "  warnings.warn(\"PySoundFile failed. Trying audioread instead.\")\n"
          ],
          "name": "stderr"
        },
        {
          "output_type": "stream",
          "text": [
            "Data/Sad/2_15.wav\n",
            "Data/Sad/2_53.wav\n"
          ],
          "name": "stdout"
        },
        {
          "output_type": "stream",
          "text": [
            "/usr/local/lib/python3.7/dist-packages/librosa/core/audio.py:165: UserWarning: PySoundFile failed. Trying audioread instead.\n",
            "  warnings.warn(\"PySoundFile failed. Trying audioread instead.\")\n"
          ],
          "name": "stderr"
        },
        {
          "output_type": "stream",
          "text": [
            "Data/Sad/2_91.wav\n"
          ],
          "name": "stdout"
        },
        {
          "output_type": "stream",
          "text": [
            "/usr/local/lib/python3.7/dist-packages/librosa/core/audio.py:165: UserWarning: PySoundFile failed. Trying audioread instead.\n",
            "  warnings.warn(\"PySoundFile failed. Trying audioread instead.\")\n"
          ],
          "name": "stderr"
        },
        {
          "output_type": "stream",
          "text": [
            "Data/Sad/2_58.wav\n"
          ],
          "name": "stdout"
        },
        {
          "output_type": "stream",
          "text": [
            "/usr/local/lib/python3.7/dist-packages/librosa/core/audio.py:165: UserWarning: PySoundFile failed. Trying audioread instead.\n",
            "  warnings.warn(\"PySoundFile failed. Trying audioread instead.\")\n"
          ],
          "name": "stderr"
        },
        {
          "output_type": "stream",
          "text": [
            "Data/Sad/2_27.wav\n"
          ],
          "name": "stdout"
        },
        {
          "output_type": "stream",
          "text": [
            "/usr/local/lib/python3.7/dist-packages/librosa/core/audio.py:165: UserWarning: PySoundFile failed. Trying audioread instead.\n",
            "  warnings.warn(\"PySoundFile failed. Trying audioread instead.\")\n"
          ],
          "name": "stderr"
        },
        {
          "output_type": "stream",
          "text": [
            "Data/Sad/2_63.wav\n"
          ],
          "name": "stdout"
        },
        {
          "output_type": "stream",
          "text": [
            "/usr/local/lib/python3.7/dist-packages/librosa/core/audio.py:165: UserWarning: PySoundFile failed. Trying audioread instead.\n",
            "  warnings.warn(\"PySoundFile failed. Trying audioread instead.\")\n"
          ],
          "name": "stderr"
        },
        {
          "output_type": "stream",
          "text": [
            "Data/Sad/2_81.wav\n"
          ],
          "name": "stdout"
        },
        {
          "output_type": "stream",
          "text": [
            "/usr/local/lib/python3.7/dist-packages/librosa/core/audio.py:165: UserWarning: PySoundFile failed. Trying audioread instead.\n",
            "  warnings.warn(\"PySoundFile failed. Trying audioread instead.\")\n"
          ],
          "name": "stderr"
        },
        {
          "output_type": "stream",
          "text": [
            "Data/Sad/2_51.wav\n"
          ],
          "name": "stdout"
        },
        {
          "output_type": "stream",
          "text": [
            "/usr/local/lib/python3.7/dist-packages/librosa/core/audio.py:165: UserWarning: PySoundFile failed. Trying audioread instead.\n",
            "  warnings.warn(\"PySoundFile failed. Trying audioread instead.\")\n"
          ],
          "name": "stderr"
        },
        {
          "output_type": "stream",
          "text": [
            "Data/Sad/2_39.wav\n"
          ],
          "name": "stdout"
        },
        {
          "output_type": "stream",
          "text": [
            "/usr/local/lib/python3.7/dist-packages/librosa/core/audio.py:165: UserWarning: PySoundFile failed. Trying audioread instead.\n",
            "  warnings.warn(\"PySoundFile failed. Trying audioread instead.\")\n"
          ],
          "name": "stderr"
        },
        {
          "output_type": "stream",
          "text": [
            "Data/Sad/2_57.wav\n"
          ],
          "name": "stdout"
        },
        {
          "output_type": "stream",
          "text": [
            "/usr/local/lib/python3.7/dist-packages/librosa/core/audio.py:165: UserWarning: PySoundFile failed. Trying audioread instead.\n",
            "  warnings.warn(\"PySoundFile failed. Trying audioread instead.\")\n"
          ],
          "name": "stderr"
        },
        {
          "output_type": "stream",
          "text": [
            "Data/Sad/2_31.wav\n"
          ],
          "name": "stdout"
        },
        {
          "output_type": "stream",
          "text": [
            "/usr/local/lib/python3.7/dist-packages/librosa/core/audio.py:165: UserWarning: PySoundFile failed. Trying audioread instead.\n",
            "  warnings.warn(\"PySoundFile failed. Trying audioread instead.\")\n"
          ],
          "name": "stderr"
        },
        {
          "output_type": "stream",
          "text": [
            "Data/Sad/2_37.wav\n"
          ],
          "name": "stdout"
        },
        {
          "output_type": "stream",
          "text": [
            "/usr/local/lib/python3.7/dist-packages/librosa/core/audio.py:165: UserWarning: PySoundFile failed. Trying audioread instead.\n",
            "  warnings.warn(\"PySoundFile failed. Trying audioread instead.\")\n"
          ],
          "name": "stderr"
        },
        {
          "output_type": "stream",
          "text": [
            "Data/Sad/2_55.wav\n"
          ],
          "name": "stdout"
        },
        {
          "output_type": "stream",
          "text": [
            "/usr/local/lib/python3.7/dist-packages/librosa/core/audio.py:165: UserWarning: PySoundFile failed. Trying audioread instead.\n",
            "  warnings.warn(\"PySoundFile failed. Trying audioread instead.\")\n"
          ],
          "name": "stderr"
        },
        {
          "output_type": "stream",
          "text": [
            "Data/Sad/2_86.wav\n"
          ],
          "name": "stdout"
        },
        {
          "output_type": "stream",
          "text": [
            "/usr/local/lib/python3.7/dist-packages/librosa/core/audio.py:165: UserWarning: PySoundFile failed. Trying audioread instead.\n",
            "  warnings.warn(\"PySoundFile failed. Trying audioread instead.\")\n"
          ],
          "name": "stderr"
        },
        {
          "output_type": "stream",
          "text": [
            "Data/Sad/2_75.wav\n"
          ],
          "name": "stdout"
        },
        {
          "output_type": "stream",
          "text": [
            "/usr/local/lib/python3.7/dist-packages/librosa/core/audio.py:165: UserWarning: PySoundFile failed. Trying audioread instead.\n",
            "  warnings.warn(\"PySoundFile failed. Trying audioread instead.\")\n"
          ],
          "name": "stderr"
        },
        {
          "output_type": "stream",
          "text": [
            "Data/Sad/2_44.wav\n"
          ],
          "name": "stdout"
        },
        {
          "output_type": "stream",
          "text": [
            "/usr/local/lib/python3.7/dist-packages/librosa/core/audio.py:165: UserWarning: PySoundFile failed. Trying audioread instead.\n",
            "  warnings.warn(\"PySoundFile failed. Trying audioread instead.\")\n"
          ],
          "name": "stderr"
        },
        {
          "output_type": "stream",
          "text": [
            "Data/Sad/2_17.wav\n",
            "Data/Sad/2_60.wav\n"
          ],
          "name": "stdout"
        },
        {
          "output_type": "stream",
          "text": [
            "/usr/local/lib/python3.7/dist-packages/librosa/core/audio.py:165: UserWarning: PySoundFile failed. Trying audioread instead.\n",
            "  warnings.warn(\"PySoundFile failed. Trying audioread instead.\")\n"
          ],
          "name": "stderr"
        },
        {
          "output_type": "stream",
          "text": [
            "Data/Sad/2_10.wav\n",
            "Data/Sad/2_92.wav\n"
          ],
          "name": "stdout"
        },
        {
          "output_type": "stream",
          "text": [
            "/usr/local/lib/python3.7/dist-packages/librosa/core/audio.py:165: UserWarning: PySoundFile failed. Trying audioread instead.\n",
            "  warnings.warn(\"PySoundFile failed. Trying audioread instead.\")\n"
          ],
          "name": "stderr"
        },
        {
          "output_type": "stream",
          "text": [
            "Data/Sad/2_96.wav\n"
          ],
          "name": "stdout"
        },
        {
          "output_type": "stream",
          "text": [
            "/usr/local/lib/python3.7/dist-packages/librosa/core/audio.py:165: UserWarning: PySoundFile failed. Trying audioread instead.\n",
            "  warnings.warn(\"PySoundFile failed. Trying audioread instead.\")\n"
          ],
          "name": "stderr"
        },
        {
          "output_type": "stream",
          "text": [
            "Data/Sad/2_3.wav\n",
            "Data/Sad/2_32.wav\n"
          ],
          "name": "stdout"
        },
        {
          "output_type": "stream",
          "text": [
            "/usr/local/lib/python3.7/dist-packages/librosa/core/audio.py:165: UserWarning: PySoundFile failed. Trying audioread instead.\n",
            "  warnings.warn(\"PySoundFile failed. Trying audioread instead.\")\n"
          ],
          "name": "stderr"
        },
        {
          "output_type": "stream",
          "text": [
            "Data/Sad/2_5.wav\n",
            "Data/Sad/2_69.wav\n"
          ],
          "name": "stdout"
        },
        {
          "output_type": "stream",
          "text": [
            "/usr/local/lib/python3.7/dist-packages/librosa/core/audio.py:165: UserWarning: PySoundFile failed. Trying audioread instead.\n",
            "  warnings.warn(\"PySoundFile failed. Trying audioread instead.\")\n"
          ],
          "name": "stderr"
        },
        {
          "output_type": "stream",
          "text": [
            "Data/Sad/2_98.wav\n"
          ],
          "name": "stdout"
        },
        {
          "output_type": "stream",
          "text": [
            "/usr/local/lib/python3.7/dist-packages/librosa/core/audio.py:165: UserWarning: PySoundFile failed. Trying audioread instead.\n",
            "  warnings.warn(\"PySoundFile failed. Trying audioread instead.\")\n"
          ],
          "name": "stderr"
        },
        {
          "output_type": "stream",
          "text": [
            "Data/Sad/2_77.wav\n"
          ],
          "name": "stdout"
        },
        {
          "output_type": "stream",
          "text": [
            "/usr/local/lib/python3.7/dist-packages/librosa/core/audio.py:165: UserWarning: PySoundFile failed. Trying audioread instead.\n",
            "  warnings.warn(\"PySoundFile failed. Trying audioread instead.\")\n"
          ],
          "name": "stderr"
        },
        {
          "output_type": "stream",
          "text": [
            "Data/Sad/2_83.wav\n"
          ],
          "name": "stdout"
        },
        {
          "output_type": "stream",
          "text": [
            "/usr/local/lib/python3.7/dist-packages/librosa/core/audio.py:165: UserWarning: PySoundFile failed. Trying audioread instead.\n",
            "  warnings.warn(\"PySoundFile failed. Trying audioread instead.\")\n"
          ],
          "name": "stderr"
        },
        {
          "output_type": "stream",
          "text": [
            "Data/Sad/2_42.wav\n"
          ],
          "name": "stdout"
        },
        {
          "output_type": "stream",
          "text": [
            "/usr/local/lib/python3.7/dist-packages/librosa/core/audio.py:165: UserWarning: PySoundFile failed. Trying audioread instead.\n",
            "  warnings.warn(\"PySoundFile failed. Trying audioread instead.\")\n"
          ],
          "name": "stderr"
        },
        {
          "output_type": "stream",
          "text": [
            "Data/Sad/2_40.wav\n"
          ],
          "name": "stdout"
        },
        {
          "output_type": "stream",
          "text": [
            "/usr/local/lib/python3.7/dist-packages/librosa/core/audio.py:165: UserWarning: PySoundFile failed. Trying audioread instead.\n",
            "  warnings.warn(\"PySoundFile failed. Trying audioread instead.\")\n"
          ],
          "name": "stderr"
        },
        {
          "output_type": "stream",
          "text": [
            "Data/Sad/2_34.wav\n"
          ],
          "name": "stdout"
        },
        {
          "output_type": "stream",
          "text": [
            "/usr/local/lib/python3.7/dist-packages/librosa/core/audio.py:165: UserWarning: PySoundFile failed. Trying audioread instead.\n",
            "  warnings.warn(\"PySoundFile failed. Trying audioread instead.\")\n"
          ],
          "name": "stderr"
        },
        {
          "output_type": "stream",
          "text": [
            "Data/Sad/2_72.wav\n"
          ],
          "name": "stdout"
        },
        {
          "output_type": "stream",
          "text": [
            "/usr/local/lib/python3.7/dist-packages/librosa/core/audio.py:165: UserWarning: PySoundFile failed. Trying audioread instead.\n",
            "  warnings.warn(\"PySoundFile failed. Trying audioread instead.\")\n"
          ],
          "name": "stderr"
        },
        {
          "output_type": "stream",
          "text": [
            "Data/Sad/2_30.wav\n"
          ],
          "name": "stdout"
        },
        {
          "output_type": "stream",
          "text": [
            "/usr/local/lib/python3.7/dist-packages/librosa/core/audio.py:165: UserWarning: PySoundFile failed. Trying audioread instead.\n",
            "  warnings.warn(\"PySoundFile failed. Trying audioread instead.\")\n"
          ],
          "name": "stderr"
        },
        {
          "output_type": "stream",
          "text": [
            "Data/Sad/2_11.wav\n",
            "Data/Sad/2_62.wav\n"
          ],
          "name": "stdout"
        },
        {
          "output_type": "stream",
          "text": [
            "/usr/local/lib/python3.7/dist-packages/librosa/core/audio.py:165: UserWarning: PySoundFile failed. Trying audioread instead.\n",
            "  warnings.warn(\"PySoundFile failed. Trying audioread instead.\")\n"
          ],
          "name": "stderr"
        },
        {
          "output_type": "stream",
          "text": [
            "Data/Sad/2_61.wav\n"
          ],
          "name": "stdout"
        },
        {
          "output_type": "stream",
          "text": [
            "/usr/local/lib/python3.7/dist-packages/librosa/core/audio.py:165: UserWarning: PySoundFile failed. Trying audioread instead.\n",
            "  warnings.warn(\"PySoundFile failed. Trying audioread instead.\")\n"
          ],
          "name": "stderr"
        },
        {
          "output_type": "stream",
          "text": [
            "Data/Sad/2_25.wav\n",
            "Data/Sad/2_73.wav\n"
          ],
          "name": "stdout"
        },
        {
          "output_type": "stream",
          "text": [
            "/usr/local/lib/python3.7/dist-packages/librosa/core/audio.py:165: UserWarning: PySoundFile failed. Trying audioread instead.\n",
            "  warnings.warn(\"PySoundFile failed. Trying audioread instead.\")\n"
          ],
          "name": "stderr"
        },
        {
          "output_type": "stream",
          "text": [
            "Data/Sad/2_29.wav\n"
          ],
          "name": "stdout"
        },
        {
          "output_type": "stream",
          "text": [
            "/usr/local/lib/python3.7/dist-packages/librosa/core/audio.py:165: UserWarning: PySoundFile failed. Trying audioread instead.\n",
            "  warnings.warn(\"PySoundFile failed. Trying audioread instead.\")\n"
          ],
          "name": "stderr"
        },
        {
          "output_type": "stream",
          "text": [
            "Data/Sad/2_94.wav\n"
          ],
          "name": "stdout"
        },
        {
          "output_type": "stream",
          "text": [
            "/usr/local/lib/python3.7/dist-packages/librosa/core/audio.py:165: UserWarning: PySoundFile failed. Trying audioread instead.\n",
            "  warnings.warn(\"PySoundFile failed. Trying audioread instead.\")\n"
          ],
          "name": "stderr"
        },
        {
          "output_type": "stream",
          "text": [
            "Data/Sad/2_71.wav\n"
          ],
          "name": "stdout"
        },
        {
          "output_type": "stream",
          "text": [
            "/usr/local/lib/python3.7/dist-packages/librosa/core/audio.py:165: UserWarning: PySoundFile failed. Trying audioread instead.\n",
            "  warnings.warn(\"PySoundFile failed. Trying audioread instead.\")\n"
          ],
          "name": "stderr"
        },
        {
          "output_type": "stream",
          "text": [
            "Data/Sad/2_74.wav\n"
          ],
          "name": "stdout"
        },
        {
          "output_type": "stream",
          "text": [
            "/usr/local/lib/python3.7/dist-packages/librosa/core/audio.py:165: UserWarning: PySoundFile failed. Trying audioread instead.\n",
            "  warnings.warn(\"PySoundFile failed. Trying audioread instead.\")\n"
          ],
          "name": "stderr"
        },
        {
          "output_type": "stream",
          "text": [
            "Data/Sad/2_90.wav\n"
          ],
          "name": "stdout"
        },
        {
          "output_type": "stream",
          "text": [
            "/usr/local/lib/python3.7/dist-packages/librosa/core/audio.py:165: UserWarning: PySoundFile failed. Trying audioread instead.\n",
            "  warnings.warn(\"PySoundFile failed. Trying audioread instead.\")\n"
          ],
          "name": "stderr"
        },
        {
          "output_type": "stream",
          "text": [
            "Data/Sad/2_79.wav\n"
          ],
          "name": "stdout"
        },
        {
          "output_type": "stream",
          "text": [
            "/usr/local/lib/python3.7/dist-packages/librosa/core/audio.py:165: UserWarning: PySoundFile failed. Trying audioread instead.\n",
            "  warnings.warn(\"PySoundFile failed. Trying audioread instead.\")\n"
          ],
          "name": "stderr"
        },
        {
          "output_type": "stream",
          "text": [
            "Data/Sad/2_59.wav\n"
          ],
          "name": "stdout"
        },
        {
          "output_type": "stream",
          "text": [
            "/usr/local/lib/python3.7/dist-packages/librosa/core/audio.py:165: UserWarning: PySoundFile failed. Trying audioread instead.\n",
            "  warnings.warn(\"PySoundFile failed. Trying audioread instead.\")\n"
          ],
          "name": "stderr"
        },
        {
          "output_type": "stream",
          "text": [
            "Data/Sad/2_56.wav\n"
          ],
          "name": "stdout"
        },
        {
          "output_type": "stream",
          "text": [
            "/usr/local/lib/python3.7/dist-packages/librosa/core/audio.py:165: UserWarning: PySoundFile failed. Trying audioread instead.\n",
            "  warnings.warn(\"PySoundFile failed. Trying audioread instead.\")\n"
          ],
          "name": "stderr"
        },
        {
          "output_type": "stream",
          "text": [
            "Data/Sad/2_80.wav\n"
          ],
          "name": "stdout"
        },
        {
          "output_type": "stream",
          "text": [
            "/usr/local/lib/python3.7/dist-packages/librosa/core/audio.py:165: UserWarning: PySoundFile failed. Trying audioread instead.\n",
            "  warnings.warn(\"PySoundFile failed. Trying audioread instead.\")\n"
          ],
          "name": "stderr"
        },
        {
          "output_type": "stream",
          "text": [
            "Data/Sad/2_82.wav\n"
          ],
          "name": "stdout"
        },
        {
          "output_type": "stream",
          "text": [
            "/usr/local/lib/python3.7/dist-packages/librosa/core/audio.py:165: UserWarning: PySoundFile failed. Trying audioread instead.\n",
            "  warnings.warn(\"PySoundFile failed. Trying audioread instead.\")\n"
          ],
          "name": "stderr"
        },
        {
          "output_type": "stream",
          "text": [
            "Data/Sad/2_16.wav\n",
            "Data/Sad/2_70.wav\n"
          ],
          "name": "stdout"
        },
        {
          "output_type": "stream",
          "text": [
            "/usr/local/lib/python3.7/dist-packages/librosa/core/audio.py:165: UserWarning: PySoundFile failed. Trying audioread instead.\n",
            "  warnings.warn(\"PySoundFile failed. Trying audioread instead.\")\n"
          ],
          "name": "stderr"
        },
        {
          "output_type": "stream",
          "text": [
            "Data/Sad/2_64.wav\n"
          ],
          "name": "stdout"
        },
        {
          "output_type": "stream",
          "text": [
            "/usr/local/lib/python3.7/dist-packages/librosa/core/audio.py:165: UserWarning: PySoundFile failed. Trying audioread instead.\n",
            "  warnings.warn(\"PySoundFile failed. Trying audioread instead.\")\n"
          ],
          "name": "stderr"
        },
        {
          "output_type": "stream",
          "text": [
            "Data/Sad/2_50.wav\n"
          ],
          "name": "stdout"
        },
        {
          "output_type": "stream",
          "text": [
            "/usr/local/lib/python3.7/dist-packages/librosa/core/audio.py:165: UserWarning: PySoundFile failed. Trying audioread instead.\n",
            "  warnings.warn(\"PySoundFile failed. Trying audioread instead.\")\n"
          ],
          "name": "stderr"
        },
        {
          "output_type": "stream",
          "text": [
            "Data/Sad/2_89.wav\n"
          ],
          "name": "stdout"
        },
        {
          "output_type": "stream",
          "text": [
            "/usr/local/lib/python3.7/dist-packages/librosa/core/audio.py:165: UserWarning: PySoundFile failed. Trying audioread instead.\n",
            "  warnings.warn(\"PySoundFile failed. Trying audioread instead.\")\n"
          ],
          "name": "stderr"
        },
        {
          "output_type": "stream",
          "text": [
            "Data/Sad/2_78.wav\n"
          ],
          "name": "stdout"
        },
        {
          "output_type": "stream",
          "text": [
            "/usr/local/lib/python3.7/dist-packages/librosa/core/audio.py:165: UserWarning: PySoundFile failed. Trying audioread instead.\n",
            "  warnings.warn(\"PySoundFile failed. Trying audioread instead.\")\n"
          ],
          "name": "stderr"
        },
        {
          "output_type": "stream",
          "text": [
            "Data/Sad/2_26.wav\n"
          ],
          "name": "stdout"
        },
        {
          "output_type": "stream",
          "text": [
            "/usr/local/lib/python3.7/dist-packages/librosa/core/audio.py:165: UserWarning: PySoundFile failed. Trying audioread instead.\n",
            "  warnings.warn(\"PySoundFile failed. Trying audioread instead.\")\n"
          ],
          "name": "stderr"
        },
        {
          "output_type": "stream",
          "text": [
            "Data/Sad/2_23.wav\n",
            "Data/Sad/2_76.wav\n"
          ],
          "name": "stdout"
        },
        {
          "output_type": "stream",
          "text": [
            "/usr/local/lib/python3.7/dist-packages/librosa/core/audio.py:165: UserWarning: PySoundFile failed. Trying audioread instead.\n",
            "  warnings.warn(\"PySoundFile failed. Trying audioread instead.\")\n"
          ],
          "name": "stderr"
        },
        {
          "output_type": "stream",
          "text": [
            "Data/Sad/2_6.wav\n",
            "Data/Sad/2_21.wav\n",
            "Data/Sad/2_85.wav\n"
          ],
          "name": "stdout"
        },
        {
          "output_type": "stream",
          "text": [
            "/usr/local/lib/python3.7/dist-packages/librosa/core/audio.py:165: UserWarning: PySoundFile failed. Trying audioread instead.\n",
            "  warnings.warn(\"PySoundFile failed. Trying audioread instead.\")\n"
          ],
          "name": "stderr"
        },
        {
          "output_type": "stream",
          "text": [
            "Data/Sad/2_65.wav\n"
          ],
          "name": "stdout"
        },
        {
          "output_type": "stream",
          "text": [
            "/usr/local/lib/python3.7/dist-packages/librosa/core/audio.py:165: UserWarning: PySoundFile failed. Trying audioread instead.\n",
            "  warnings.warn(\"PySoundFile failed. Trying audioread instead.\")\n"
          ],
          "name": "stderr"
        },
        {
          "output_type": "stream",
          "text": [
            "Data/Sad/2_14.wav\n",
            "Data/Sad/2_19.wav\n",
            "Data/Sad/2_88.wav\n"
          ],
          "name": "stdout"
        },
        {
          "output_type": "stream",
          "text": [
            "/usr/local/lib/python3.7/dist-packages/librosa/core/audio.py:165: UserWarning: PySoundFile failed. Trying audioread instead.\n",
            "  warnings.warn(\"PySoundFile failed. Trying audioread instead.\")\n"
          ],
          "name": "stderr"
        },
        {
          "output_type": "stream",
          "text": [
            "Data/Sad/2_2.wav\n",
            "Data/Sad/2_13.wav\n",
            "Data/Sad/2_4.wav\n",
            "Data/Sad/2_36.wav\n"
          ],
          "name": "stdout"
        },
        {
          "output_type": "stream",
          "text": [
            "/usr/local/lib/python3.7/dist-packages/librosa/core/audio.py:165: UserWarning: PySoundFile failed. Trying audioread instead.\n",
            "  warnings.warn(\"PySoundFile failed. Trying audioread instead.\")\n"
          ],
          "name": "stderr"
        },
        {
          "output_type": "stream",
          "text": [
            "Data/Sad/2_68.wav\n"
          ],
          "name": "stdout"
        },
        {
          "output_type": "stream",
          "text": [
            "/usr/local/lib/python3.7/dist-packages/librosa/core/audio.py:165: UserWarning: PySoundFile failed. Trying audioread instead.\n",
            "  warnings.warn(\"PySoundFile failed. Trying audioread instead.\")\n"
          ],
          "name": "stderr"
        },
        {
          "output_type": "stream",
          "text": [
            "Data/Sad/2_18.wav\n",
            "Data/Sad/2_52.wav\n"
          ],
          "name": "stdout"
        },
        {
          "output_type": "stream",
          "text": [
            "/usr/local/lib/python3.7/dist-packages/librosa/core/audio.py:165: UserWarning: PySoundFile failed. Trying audioread instead.\n",
            "  warnings.warn(\"PySoundFile failed. Trying audioread instead.\")\n"
          ],
          "name": "stderr"
        },
        {
          "output_type": "stream",
          "text": [
            "Data/Sad/2_38.wav\n"
          ],
          "name": "stdout"
        },
        {
          "output_type": "stream",
          "text": [
            "/usr/local/lib/python3.7/dist-packages/librosa/core/audio.py:165: UserWarning: PySoundFile failed. Trying audioread instead.\n",
            "  warnings.warn(\"PySoundFile failed. Trying audioread instead.\")\n"
          ],
          "name": "stderr"
        },
        {
          "output_type": "stream",
          "text": [
            "Data/Sad/2_47.wav\n"
          ],
          "name": "stdout"
        },
        {
          "output_type": "stream",
          "text": [
            "/usr/local/lib/python3.7/dist-packages/librosa/core/audio.py:165: UserWarning: PySoundFile failed. Trying audioread instead.\n",
            "  warnings.warn(\"PySoundFile failed. Trying audioread instead.\")\n"
          ],
          "name": "stderr"
        },
        {
          "output_type": "stream",
          "text": [
            "Data/Sad/2_45.wav\n"
          ],
          "name": "stdout"
        },
        {
          "output_type": "stream",
          "text": [
            "/usr/local/lib/python3.7/dist-packages/librosa/core/audio.py:165: UserWarning: PySoundFile failed. Trying audioread instead.\n",
            "  warnings.warn(\"PySoundFile failed. Trying audioread instead.\")\n"
          ],
          "name": "stderr"
        },
        {
          "output_type": "stream",
          "text": [
            "Data/Sad/2_48.wav\n"
          ],
          "name": "stdout"
        },
        {
          "output_type": "stream",
          "text": [
            "/usr/local/lib/python3.7/dist-packages/librosa/core/audio.py:165: UserWarning: PySoundFile failed. Trying audioread instead.\n",
            "  warnings.warn(\"PySoundFile failed. Trying audioread instead.\")\n"
          ],
          "name": "stderr"
        },
        {
          "output_type": "stream",
          "text": [
            "Data/Sad/2_49.wav\n"
          ],
          "name": "stdout"
        },
        {
          "output_type": "stream",
          "text": [
            "/usr/local/lib/python3.7/dist-packages/librosa/core/audio.py:165: UserWarning: PySoundFile failed. Trying audioread instead.\n",
            "  warnings.warn(\"PySoundFile failed. Trying audioread instead.\")\n"
          ],
          "name": "stderr"
        },
        {
          "output_type": "stream",
          "text": [
            "Data/Sad/2_33.wav\n"
          ],
          "name": "stdout"
        },
        {
          "output_type": "stream",
          "text": [
            "/usr/local/lib/python3.7/dist-packages/librosa/core/audio.py:165: UserWarning: PySoundFile failed. Trying audioread instead.\n",
            "  warnings.warn(\"PySoundFile failed. Trying audioread instead.\")\n"
          ],
          "name": "stderr"
        },
        {
          "output_type": "stream",
          "text": [
            "Data/Sad/2_46.wav\n"
          ],
          "name": "stdout"
        },
        {
          "output_type": "stream",
          "text": [
            "/usr/local/lib/python3.7/dist-packages/librosa/core/audio.py:165: UserWarning: PySoundFile failed. Trying audioread instead.\n",
            "  warnings.warn(\"PySoundFile failed. Trying audioread instead.\")\n"
          ],
          "name": "stderr"
        },
        {
          "output_type": "stream",
          "text": [
            "Data/Sad/2_100.wav\n"
          ],
          "name": "stdout"
        },
        {
          "output_type": "stream",
          "text": [
            "/usr/local/lib/python3.7/dist-packages/librosa/core/audio.py:165: UserWarning: PySoundFile failed. Trying audioread instead.\n",
            "  warnings.warn(\"PySoundFile failed. Trying audioread instead.\")\n"
          ],
          "name": "stderr"
        },
        {
          "output_type": "stream",
          "text": [
            "Data/Sad/2_28.wav\n"
          ],
          "name": "stdout"
        },
        {
          "output_type": "stream",
          "text": [
            "/usr/local/lib/python3.7/dist-packages/librosa/core/audio.py:165: UserWarning: PySoundFile failed. Trying audioread instead.\n",
            "  warnings.warn(\"PySoundFile failed. Trying audioread instead.\")\n"
          ],
          "name": "stderr"
        },
        {
          "output_type": "stream",
          "text": [
            "Data/Sad/2_22.wav\n",
            "Data/Sad/2_87.wav\n"
          ],
          "name": "stdout"
        },
        {
          "output_type": "stream",
          "text": [
            "/usr/local/lib/python3.7/dist-packages/librosa/core/audio.py:165: UserWarning: PySoundFile failed. Trying audioread instead.\n",
            "  warnings.warn(\"PySoundFile failed. Trying audioread instead.\")\n"
          ],
          "name": "stderr"
        },
        {
          "output_type": "stream",
          "text": [
            "Data/Sad/2_24.wav\n"
          ],
          "name": "stdout"
        }
      ]
    },
    {
      "cell_type": "code",
      "metadata": {
        "id": "WMVpUJ-q-z_t"
      },
      "source": [
        "df3 = pd.DataFrame(df['feature'].values.tolist())"
      ],
      "execution_count": 67,
      "outputs": []
    },
    {
      "cell_type": "code",
      "metadata": {
        "colab": {
          "base_uri": "https://localhost:8080/",
          "height": 437
        },
        "id": "t6iOUQZSKwB7",
        "outputId": "b79c2d66-daf2-4cf2-c83f-89117d3bfe77"
      },
      "source": [
        "df3"
      ],
      "execution_count": 68,
      "outputs": [
        {
          "output_type": "execute_result",
          "data": {
            "text/html": [
              "<div>\n",
              "<style scoped>\n",
              "    .dataframe tbody tr th:only-of-type {\n",
              "        vertical-align: middle;\n",
              "    }\n",
              "\n",
              "    .dataframe tbody tr th {\n",
              "        vertical-align: top;\n",
              "    }\n",
              "\n",
              "    .dataframe thead th {\n",
              "        text-align: right;\n",
              "    }\n",
              "</style>\n",
              "<table border=\"1\" class=\"dataframe\">\n",
              "  <thead>\n",
              "    <tr style=\"text-align: right;\">\n",
              "      <th></th>\n",
              "      <th>0</th>\n",
              "      <th>1</th>\n",
              "      <th>2</th>\n",
              "      <th>3</th>\n",
              "      <th>4</th>\n",
              "      <th>5</th>\n",
              "      <th>6</th>\n",
              "      <th>7</th>\n",
              "      <th>8</th>\n",
              "      <th>9</th>\n",
              "      <th>10</th>\n",
              "      <th>11</th>\n",
              "      <th>12</th>\n",
              "      <th>13</th>\n",
              "      <th>14</th>\n",
              "      <th>15</th>\n",
              "      <th>16</th>\n",
              "      <th>17</th>\n",
              "      <th>18</th>\n",
              "      <th>19</th>\n",
              "      <th>20</th>\n",
              "      <th>21</th>\n",
              "      <th>22</th>\n",
              "      <th>23</th>\n",
              "      <th>24</th>\n",
              "      <th>25</th>\n",
              "      <th>26</th>\n",
              "      <th>27</th>\n",
              "      <th>28</th>\n",
              "      <th>29</th>\n",
              "      <th>30</th>\n",
              "      <th>31</th>\n",
              "      <th>32</th>\n",
              "      <th>33</th>\n",
              "      <th>34</th>\n",
              "      <th>35</th>\n",
              "      <th>36</th>\n",
              "      <th>37</th>\n",
              "      <th>38</th>\n",
              "      <th>39</th>\n",
              "      <th>...</th>\n",
              "      <th>219</th>\n",
              "      <th>220</th>\n",
              "      <th>221</th>\n",
              "      <th>222</th>\n",
              "      <th>223</th>\n",
              "      <th>224</th>\n",
              "      <th>225</th>\n",
              "      <th>226</th>\n",
              "      <th>227</th>\n",
              "      <th>228</th>\n",
              "      <th>229</th>\n",
              "      <th>230</th>\n",
              "      <th>231</th>\n",
              "      <th>232</th>\n",
              "      <th>233</th>\n",
              "      <th>234</th>\n",
              "      <th>235</th>\n",
              "      <th>236</th>\n",
              "      <th>237</th>\n",
              "      <th>238</th>\n",
              "      <th>239</th>\n",
              "      <th>240</th>\n",
              "      <th>241</th>\n",
              "      <th>242</th>\n",
              "      <th>243</th>\n",
              "      <th>244</th>\n",
              "      <th>245</th>\n",
              "      <th>246</th>\n",
              "      <th>247</th>\n",
              "      <th>248</th>\n",
              "      <th>249</th>\n",
              "      <th>250</th>\n",
              "      <th>251</th>\n",
              "      <th>252</th>\n",
              "      <th>253</th>\n",
              "      <th>254</th>\n",
              "      <th>255</th>\n",
              "      <th>256</th>\n",
              "      <th>257</th>\n",
              "      <th>258</th>\n",
              "    </tr>\n",
              "  </thead>\n",
              "  <tbody>\n",
              "    <tr>\n",
              "      <th>0</th>\n",
              "      <td>-10.243323</td>\n",
              "      <td>-12.615479</td>\n",
              "      <td>-17.851021</td>\n",
              "      <td>-17.689714</td>\n",
              "      <td>-15.701584</td>\n",
              "      <td>-15.067063</td>\n",
              "      <td>-13.309368</td>\n",
              "      <td>-11.836576</td>\n",
              "      <td>-13.461333</td>\n",
              "      <td>-15.271927</td>\n",
              "      <td>-17.084007</td>\n",
              "      <td>-17.134188</td>\n",
              "      <td>-18.392599</td>\n",
              "      <td>-18.098806</td>\n",
              "      <td>-16.752119</td>\n",
              "      <td>-16.145920</td>\n",
              "      <td>-15.112289</td>\n",
              "      <td>-13.671880</td>\n",
              "      <td>-12.729267</td>\n",
              "      <td>-9.134816</td>\n",
              "      <td>-10.499593</td>\n",
              "      <td>-14.753387</td>\n",
              "      <td>-19.094511</td>\n",
              "      <td>-17.953831</td>\n",
              "      <td>-16.760725</td>\n",
              "      <td>-16.963665</td>\n",
              "      <td>-19.364452</td>\n",
              "      <td>-18.994637</td>\n",
              "      <td>-17.392366</td>\n",
              "      <td>-16.460701</td>\n",
              "      <td>-16.323969</td>\n",
              "      <td>-15.990026</td>\n",
              "      <td>-18.012098</td>\n",
              "      <td>-20.371307</td>\n",
              "      <td>-20.796434</td>\n",
              "      <td>-17.624353</td>\n",
              "      <td>-15.697602</td>\n",
              "      <td>-14.835107</td>\n",
              "      <td>-16.379717</td>\n",
              "      <td>-17.449162</td>\n",
              "      <td>...</td>\n",
              "      <td>-27.190748</td>\n",
              "      <td>-26.203413</td>\n",
              "      <td>-26.341366</td>\n",
              "      <td>-26.368526</td>\n",
              "      <td>-25.279663</td>\n",
              "      <td>-23.251629</td>\n",
              "      <td>-20.946774</td>\n",
              "      <td>-20.392427</td>\n",
              "      <td>-15.652359</td>\n",
              "      <td>-15.841237</td>\n",
              "      <td>-20.360380</td>\n",
              "      <td>-24.027340</td>\n",
              "      <td>-20.450317</td>\n",
              "      <td>-19.332550</td>\n",
              "      <td>-17.943102</td>\n",
              "      <td>-18.105110</td>\n",
              "      <td>-18.923677</td>\n",
              "      <td>-17.211647</td>\n",
              "      <td>-16.829567</td>\n",
              "      <td>-19.206335</td>\n",
              "      <td>-21.487301</td>\n",
              "      <td>-22.241880</td>\n",
              "      <td>-21.101009</td>\n",
              "      <td>-20.251982</td>\n",
              "      <td>-18.625055</td>\n",
              "      <td>-16.915903</td>\n",
              "      <td>-16.349503</td>\n",
              "      <td>-17.711956</td>\n",
              "      <td>-19.071058</td>\n",
              "      <td>-18.952078</td>\n",
              "      <td>-19.238008</td>\n",
              "      <td>-20.157650</td>\n",
              "      <td>-21.638714</td>\n",
              "      <td>-23.141232</td>\n",
              "      <td>-24.266571</td>\n",
              "      <td>-23.656487</td>\n",
              "      <td>-24.086773</td>\n",
              "      <td>-25.027554</td>\n",
              "      <td>-25.755066</td>\n",
              "      <td>-22.200029</td>\n",
              "    </tr>\n",
              "    <tr>\n",
              "      <th>1</th>\n",
              "      <td>-25.535357</td>\n",
              "      <td>-27.289289</td>\n",
              "      <td>-30.718842</td>\n",
              "      <td>-32.091225</td>\n",
              "      <td>-31.001169</td>\n",
              "      <td>-30.684330</td>\n",
              "      <td>-30.114143</td>\n",
              "      <td>-30.829258</td>\n",
              "      <td>-32.391167</td>\n",
              "      <td>-29.404640</td>\n",
              "      <td>-28.820555</td>\n",
              "      <td>-28.803608</td>\n",
              "      <td>-27.236767</td>\n",
              "      <td>-22.793522</td>\n",
              "      <td>-19.876513</td>\n",
              "      <td>-18.980217</td>\n",
              "      <td>-17.873943</td>\n",
              "      <td>-16.966408</td>\n",
              "      <td>-16.991318</td>\n",
              "      <td>-17.131910</td>\n",
              "      <td>-15.500300</td>\n",
              "      <td>-16.139767</td>\n",
              "      <td>-12.616924</td>\n",
              "      <td>-13.463795</td>\n",
              "      <td>-14.322997</td>\n",
              "      <td>-15.861243</td>\n",
              "      <td>-16.156237</td>\n",
              "      <td>-15.379520</td>\n",
              "      <td>-14.870975</td>\n",
              "      <td>-17.436134</td>\n",
              "      <td>-17.249434</td>\n",
              "      <td>-18.748924</td>\n",
              "      <td>-19.564840</td>\n",
              "      <td>-22.452559</td>\n",
              "      <td>-21.147539</td>\n",
              "      <td>-20.521639</td>\n",
              "      <td>-21.598541</td>\n",
              "      <td>-20.897121</td>\n",
              "      <td>-20.128448</td>\n",
              "      <td>-21.171570</td>\n",
              "      <td>...</td>\n",
              "      <td>-15.715287</td>\n",
              "      <td>-17.725609</td>\n",
              "      <td>-17.490742</td>\n",
              "      <td>-16.540895</td>\n",
              "      <td>-18.080004</td>\n",
              "      <td>-16.581957</td>\n",
              "      <td>-16.008385</td>\n",
              "      <td>-15.796467</td>\n",
              "      <td>-14.994902</td>\n",
              "      <td>-16.859272</td>\n",
              "      <td>-16.954077</td>\n",
              "      <td>-18.533632</td>\n",
              "      <td>-20.423704</td>\n",
              "      <td>-18.014994</td>\n",
              "      <td>-18.634642</td>\n",
              "      <td>-21.345503</td>\n",
              "      <td>-20.810575</td>\n",
              "      <td>-19.003853</td>\n",
              "      <td>-16.959240</td>\n",
              "      <td>-16.720543</td>\n",
              "      <td>-17.904501</td>\n",
              "      <td>-16.971640</td>\n",
              "      <td>-17.474211</td>\n",
              "      <td>-16.024641</td>\n",
              "      <td>-15.303674</td>\n",
              "      <td>-16.205589</td>\n",
              "      <td>-16.826704</td>\n",
              "      <td>-16.171310</td>\n",
              "      <td>-15.099131</td>\n",
              "      <td>-14.398561</td>\n",
              "      <td>-13.119946</td>\n",
              "      <td>-14.533736</td>\n",
              "      <td>-16.230602</td>\n",
              "      <td>-19.389009</td>\n",
              "      <td>-23.459106</td>\n",
              "      <td>-22.972759</td>\n",
              "      <td>-21.874577</td>\n",
              "      <td>-22.746695</td>\n",
              "      <td>-21.191242</td>\n",
              "      <td>-18.892189</td>\n",
              "    </tr>\n",
              "    <tr>\n",
              "      <th>2</th>\n",
              "      <td>-1.928406</td>\n",
              "      <td>-1.855620</td>\n",
              "      <td>-2.203659</td>\n",
              "      <td>-1.777735</td>\n",
              "      <td>-3.443797</td>\n",
              "      <td>-4.400910</td>\n",
              "      <td>-4.558938</td>\n",
              "      <td>-2.249003</td>\n",
              "      <td>-0.362050</td>\n",
              "      <td>-1.615511</td>\n",
              "      <td>-2.015850</td>\n",
              "      <td>-2.191663</td>\n",
              "      <td>-1.581378</td>\n",
              "      <td>-3.025991</td>\n",
              "      <td>-4.611562</td>\n",
              "      <td>-4.409635</td>\n",
              "      <td>-4.607491</td>\n",
              "      <td>-3.592398</td>\n",
              "      <td>-3.656293</td>\n",
              "      <td>-5.710714</td>\n",
              "      <td>-4.723919</td>\n",
              "      <td>-4.752924</td>\n",
              "      <td>-4.244796</td>\n",
              "      <td>-2.096331</td>\n",
              "      <td>-3.041289</td>\n",
              "      <td>-4.083590</td>\n",
              "      <td>-6.023306</td>\n",
              "      <td>-6.025675</td>\n",
              "      <td>-4.134553</td>\n",
              "      <td>-3.214624</td>\n",
              "      <td>-5.921738</td>\n",
              "      <td>-4.643127</td>\n",
              "      <td>-4.453395</td>\n",
              "      <td>-5.711237</td>\n",
              "      <td>-4.895679</td>\n",
              "      <td>-5.299958</td>\n",
              "      <td>-6.881368</td>\n",
              "      <td>-7.828221</td>\n",
              "      <td>-8.028169</td>\n",
              "      <td>-7.739830</td>\n",
              "      <td>...</td>\n",
              "      <td>-8.868179</td>\n",
              "      <td>-10.785278</td>\n",
              "      <td>-11.088442</td>\n",
              "      <td>-11.577417</td>\n",
              "      <td>-12.657104</td>\n",
              "      <td>-12.465358</td>\n",
              "      <td>-11.273780</td>\n",
              "      <td>-10.675401</td>\n",
              "      <td>-11.047841</td>\n",
              "      <td>-8.264701</td>\n",
              "      <td>-7.552634</td>\n",
              "      <td>-8.012271</td>\n",
              "      <td>-8.624324</td>\n",
              "      <td>-7.405656</td>\n",
              "      <td>-4.008111</td>\n",
              "      <td>-4.337635</td>\n",
              "      <td>-4.777668</td>\n",
              "      <td>-4.446354</td>\n",
              "      <td>-2.692052</td>\n",
              "      <td>-3.740742</td>\n",
              "      <td>-5.264765</td>\n",
              "      <td>-4.880756</td>\n",
              "      <td>-5.185527</td>\n",
              "      <td>-3.859713</td>\n",
              "      <td>-4.742769</td>\n",
              "      <td>-4.526763</td>\n",
              "      <td>-3.774453</td>\n",
              "      <td>-3.939603</td>\n",
              "      <td>-5.188954</td>\n",
              "      <td>-7.451023</td>\n",
              "      <td>-7.333833</td>\n",
              "      <td>-8.370215</td>\n",
              "      <td>-8.231769</td>\n",
              "      <td>-8.072993</td>\n",
              "      <td>-8.972785</td>\n",
              "      <td>-9.186881</td>\n",
              "      <td>-9.136392</td>\n",
              "      <td>-8.915087</td>\n",
              "      <td>-7.137025</td>\n",
              "      <td>-1.799409</td>\n",
              "    </tr>\n",
              "    <tr>\n",
              "      <th>3</th>\n",
              "      <td>-5.148818</td>\n",
              "      <td>-9.136763</td>\n",
              "      <td>-18.621670</td>\n",
              "      <td>-16.734150</td>\n",
              "      <td>-16.912111</td>\n",
              "      <td>-16.476482</td>\n",
              "      <td>-17.400530</td>\n",
              "      <td>-18.362286</td>\n",
              "      <td>-19.007818</td>\n",
              "      <td>-18.258953</td>\n",
              "      <td>-19.294077</td>\n",
              "      <td>-18.595398</td>\n",
              "      <td>-18.291113</td>\n",
              "      <td>-17.498055</td>\n",
              "      <td>-18.007193</td>\n",
              "      <td>-17.719961</td>\n",
              "      <td>-16.052494</td>\n",
              "      <td>-13.704524</td>\n",
              "      <td>-14.538691</td>\n",
              "      <td>-15.135097</td>\n",
              "      <td>-16.272491</td>\n",
              "      <td>-14.963332</td>\n",
              "      <td>-15.574381</td>\n",
              "      <td>-15.981892</td>\n",
              "      <td>-20.293339</td>\n",
              "      <td>-20.394766</td>\n",
              "      <td>-18.959661</td>\n",
              "      <td>-18.200624</td>\n",
              "      <td>-19.057659</td>\n",
              "      <td>-19.555351</td>\n",
              "      <td>-19.595501</td>\n",
              "      <td>-22.411690</td>\n",
              "      <td>-21.287659</td>\n",
              "      <td>-23.553398</td>\n",
              "      <td>-24.797148</td>\n",
              "      <td>-24.645155</td>\n",
              "      <td>-22.862064</td>\n",
              "      <td>-19.927305</td>\n",
              "      <td>-20.548893</td>\n",
              "      <td>-19.291515</td>\n",
              "      <td>...</td>\n",
              "      <td>NaN</td>\n",
              "      <td>NaN</td>\n",
              "      <td>NaN</td>\n",
              "      <td>NaN</td>\n",
              "      <td>NaN</td>\n",
              "      <td>NaN</td>\n",
              "      <td>NaN</td>\n",
              "      <td>NaN</td>\n",
              "      <td>NaN</td>\n",
              "      <td>NaN</td>\n",
              "      <td>NaN</td>\n",
              "      <td>NaN</td>\n",
              "      <td>NaN</td>\n",
              "      <td>NaN</td>\n",
              "      <td>NaN</td>\n",
              "      <td>NaN</td>\n",
              "      <td>NaN</td>\n",
              "      <td>NaN</td>\n",
              "      <td>NaN</td>\n",
              "      <td>NaN</td>\n",
              "      <td>NaN</td>\n",
              "      <td>NaN</td>\n",
              "      <td>NaN</td>\n",
              "      <td>NaN</td>\n",
              "      <td>NaN</td>\n",
              "      <td>NaN</td>\n",
              "      <td>NaN</td>\n",
              "      <td>NaN</td>\n",
              "      <td>NaN</td>\n",
              "      <td>NaN</td>\n",
              "      <td>NaN</td>\n",
              "      <td>NaN</td>\n",
              "      <td>NaN</td>\n",
              "      <td>NaN</td>\n",
              "      <td>NaN</td>\n",
              "      <td>NaN</td>\n",
              "      <td>NaN</td>\n",
              "      <td>NaN</td>\n",
              "      <td>NaN</td>\n",
              "      <td>NaN</td>\n",
              "    </tr>\n",
              "    <tr>\n",
              "      <th>4</th>\n",
              "      <td>-11.432728</td>\n",
              "      <td>-8.955170</td>\n",
              "      <td>-8.142177</td>\n",
              "      <td>-9.730004</td>\n",
              "      <td>-12.162080</td>\n",
              "      <td>-12.841806</td>\n",
              "      <td>-13.577404</td>\n",
              "      <td>-17.125364</td>\n",
              "      <td>-18.818911</td>\n",
              "      <td>-19.299793</td>\n",
              "      <td>-18.721987</td>\n",
              "      <td>-17.428730</td>\n",
              "      <td>-18.002939</td>\n",
              "      <td>-20.648306</td>\n",
              "      <td>-22.393864</td>\n",
              "      <td>-17.704762</td>\n",
              "      <td>-15.401528</td>\n",
              "      <td>-17.464520</td>\n",
              "      <td>-24.717827</td>\n",
              "      <td>-25.860252</td>\n",
              "      <td>-26.192030</td>\n",
              "      <td>-28.114746</td>\n",
              "      <td>-28.733091</td>\n",
              "      <td>-29.773682</td>\n",
              "      <td>-29.573030</td>\n",
              "      <td>-28.488911</td>\n",
              "      <td>-27.240602</td>\n",
              "      <td>-28.897148</td>\n",
              "      <td>-29.410196</td>\n",
              "      <td>-31.145193</td>\n",
              "      <td>-30.498909</td>\n",
              "      <td>-27.420799</td>\n",
              "      <td>-26.940657</td>\n",
              "      <td>-26.188631</td>\n",
              "      <td>-27.158506</td>\n",
              "      <td>-26.849352</td>\n",
              "      <td>-25.499502</td>\n",
              "      <td>-24.598427</td>\n",
              "      <td>-25.270784</td>\n",
              "      <td>-28.953657</td>\n",
              "      <td>...</td>\n",
              "      <td>-29.686480</td>\n",
              "      <td>-29.647062</td>\n",
              "      <td>-30.087215</td>\n",
              "      <td>-29.286442</td>\n",
              "      <td>-29.749798</td>\n",
              "      <td>-31.985334</td>\n",
              "      <td>-30.824587</td>\n",
              "      <td>-29.306292</td>\n",
              "      <td>-28.668541</td>\n",
              "      <td>-28.770647</td>\n",
              "      <td>-30.655659</td>\n",
              "      <td>-33.054867</td>\n",
              "      <td>-33.750748</td>\n",
              "      <td>-32.821098</td>\n",
              "      <td>-32.634415</td>\n",
              "      <td>-30.687792</td>\n",
              "      <td>-27.974468</td>\n",
              "      <td>-25.582802</td>\n",
              "      <td>-24.369345</td>\n",
              "      <td>-24.805952</td>\n",
              "      <td>-25.325918</td>\n",
              "      <td>-27.411837</td>\n",
              "      <td>-28.006989</td>\n",
              "      <td>-30.022295</td>\n",
              "      <td>-29.934090</td>\n",
              "      <td>-28.123810</td>\n",
              "      <td>-26.872936</td>\n",
              "      <td>-23.919615</td>\n",
              "      <td>-23.752789</td>\n",
              "      <td>-22.799610</td>\n",
              "      <td>-21.871016</td>\n",
              "      <td>-21.127672</td>\n",
              "      <td>-22.004597</td>\n",
              "      <td>-23.732557</td>\n",
              "      <td>-22.847200</td>\n",
              "      <td>-23.646130</td>\n",
              "      <td>-24.961102</td>\n",
              "      <td>-26.963219</td>\n",
              "      <td>-16.035114</td>\n",
              "      <td>-6.508455</td>\n",
              "    </tr>\n",
              "    <tr>\n",
              "      <th>...</th>\n",
              "      <td>...</td>\n",
              "      <td>...</td>\n",
              "      <td>...</td>\n",
              "      <td>...</td>\n",
              "      <td>...</td>\n",
              "      <td>...</td>\n",
              "      <td>...</td>\n",
              "      <td>...</td>\n",
              "      <td>...</td>\n",
              "      <td>...</td>\n",
              "      <td>...</td>\n",
              "      <td>...</td>\n",
              "      <td>...</td>\n",
              "      <td>...</td>\n",
              "      <td>...</td>\n",
              "      <td>...</td>\n",
              "      <td>...</td>\n",
              "      <td>...</td>\n",
              "      <td>...</td>\n",
              "      <td>...</td>\n",
              "      <td>...</td>\n",
              "      <td>...</td>\n",
              "      <td>...</td>\n",
              "      <td>...</td>\n",
              "      <td>...</td>\n",
              "      <td>...</td>\n",
              "      <td>...</td>\n",
              "      <td>...</td>\n",
              "      <td>...</td>\n",
              "      <td>...</td>\n",
              "      <td>...</td>\n",
              "      <td>...</td>\n",
              "      <td>...</td>\n",
              "      <td>...</td>\n",
              "      <td>...</td>\n",
              "      <td>...</td>\n",
              "      <td>...</td>\n",
              "      <td>...</td>\n",
              "      <td>...</td>\n",
              "      <td>...</td>\n",
              "      <td>...</td>\n",
              "      <td>...</td>\n",
              "      <td>...</td>\n",
              "      <td>...</td>\n",
              "      <td>...</td>\n",
              "      <td>...</td>\n",
              "      <td>...</td>\n",
              "      <td>...</td>\n",
              "      <td>...</td>\n",
              "      <td>...</td>\n",
              "      <td>...</td>\n",
              "      <td>...</td>\n",
              "      <td>...</td>\n",
              "      <td>...</td>\n",
              "      <td>...</td>\n",
              "      <td>...</td>\n",
              "      <td>...</td>\n",
              "      <td>...</td>\n",
              "      <td>...</td>\n",
              "      <td>...</td>\n",
              "      <td>...</td>\n",
              "      <td>...</td>\n",
              "      <td>...</td>\n",
              "      <td>...</td>\n",
              "      <td>...</td>\n",
              "      <td>...</td>\n",
              "      <td>...</td>\n",
              "      <td>...</td>\n",
              "      <td>...</td>\n",
              "      <td>...</td>\n",
              "      <td>...</td>\n",
              "      <td>...</td>\n",
              "      <td>...</td>\n",
              "      <td>...</td>\n",
              "      <td>...</td>\n",
              "      <td>...</td>\n",
              "      <td>...</td>\n",
              "      <td>...</td>\n",
              "      <td>...</td>\n",
              "      <td>...</td>\n",
              "      <td>...</td>\n",
              "    </tr>\n",
              "    <tr>\n",
              "      <th>395</th>\n",
              "      <td>-13.752459</td>\n",
              "      <td>-12.231353</td>\n",
              "      <td>-11.592890</td>\n",
              "      <td>-10.890473</td>\n",
              "      <td>-10.952536</td>\n",
              "      <td>-11.958077</td>\n",
              "      <td>-11.042315</td>\n",
              "      <td>-10.290466</td>\n",
              "      <td>-9.962190</td>\n",
              "      <td>-9.945494</td>\n",
              "      <td>-9.728393</td>\n",
              "      <td>-11.437307</td>\n",
              "      <td>-12.054036</td>\n",
              "      <td>-12.158823</td>\n",
              "      <td>-9.781867</td>\n",
              "      <td>-9.243954</td>\n",
              "      <td>-10.591309</td>\n",
              "      <td>-13.287691</td>\n",
              "      <td>-12.888998</td>\n",
              "      <td>-11.553806</td>\n",
              "      <td>-9.781572</td>\n",
              "      <td>-9.823584</td>\n",
              "      <td>-9.144387</td>\n",
              "      <td>-8.672836</td>\n",
              "      <td>-7.737068</td>\n",
              "      <td>-5.982702</td>\n",
              "      <td>-7.462237</td>\n",
              "      <td>-10.204388</td>\n",
              "      <td>-9.042227</td>\n",
              "      <td>-8.173979</td>\n",
              "      <td>-8.237057</td>\n",
              "      <td>-10.282418</td>\n",
              "      <td>-9.735317</td>\n",
              "      <td>-10.179454</td>\n",
              "      <td>-10.588180</td>\n",
              "      <td>-9.564141</td>\n",
              "      <td>-9.829687</td>\n",
              "      <td>-11.667958</td>\n",
              "      <td>-8.529456</td>\n",
              "      <td>-8.763852</td>\n",
              "      <td>...</td>\n",
              "      <td>-12.735617</td>\n",
              "      <td>-12.580265</td>\n",
              "      <td>-12.174469</td>\n",
              "      <td>-14.553440</td>\n",
              "      <td>-14.184422</td>\n",
              "      <td>-14.913965</td>\n",
              "      <td>-15.130347</td>\n",
              "      <td>-16.687950</td>\n",
              "      <td>-17.231073</td>\n",
              "      <td>-15.749293</td>\n",
              "      <td>-16.722918</td>\n",
              "      <td>-19.619337</td>\n",
              "      <td>-19.045465</td>\n",
              "      <td>-14.471338</td>\n",
              "      <td>-13.142014</td>\n",
              "      <td>-17.215641</td>\n",
              "      <td>-17.177883</td>\n",
              "      <td>-14.743483</td>\n",
              "      <td>-15.581171</td>\n",
              "      <td>-15.655919</td>\n",
              "      <td>-17.910891</td>\n",
              "      <td>-17.784910</td>\n",
              "      <td>-16.620848</td>\n",
              "      <td>-19.404900</td>\n",
              "      <td>-19.425566</td>\n",
              "      <td>-20.793669</td>\n",
              "      <td>-20.596218</td>\n",
              "      <td>-18.532104</td>\n",
              "      <td>-18.342918</td>\n",
              "      <td>-20.169798</td>\n",
              "      <td>-17.390633</td>\n",
              "      <td>-17.131857</td>\n",
              "      <td>-16.147919</td>\n",
              "      <td>-15.927896</td>\n",
              "      <td>-15.621516</td>\n",
              "      <td>-16.395805</td>\n",
              "      <td>-16.855335</td>\n",
              "      <td>-18.651638</td>\n",
              "      <td>-14.051778</td>\n",
              "      <td>-6.101388</td>\n",
              "    </tr>\n",
              "    <tr>\n",
              "      <th>396</th>\n",
              "      <td>2.500506</td>\n",
              "      <td>-1.472511</td>\n",
              "      <td>-10.415994</td>\n",
              "      <td>-9.102418</td>\n",
              "      <td>-7.437742</td>\n",
              "      <td>-8.533563</td>\n",
              "      <td>-9.729198</td>\n",
              "      <td>-9.728369</td>\n",
              "      <td>-9.174864</td>\n",
              "      <td>-10.107183</td>\n",
              "      <td>-9.809727</td>\n",
              "      <td>-9.264934</td>\n",
              "      <td>-8.528162</td>\n",
              "      <td>-9.472905</td>\n",
              "      <td>-9.488458</td>\n",
              "      <td>-9.324042</td>\n",
              "      <td>-9.322122</td>\n",
              "      <td>-9.965014</td>\n",
              "      <td>-7.246135</td>\n",
              "      <td>-4.398109</td>\n",
              "      <td>-4.965467</td>\n",
              "      <td>-3.584418</td>\n",
              "      <td>-2.067914</td>\n",
              "      <td>-4.533382</td>\n",
              "      <td>-5.665247</td>\n",
              "      <td>-1.625748</td>\n",
              "      <td>0.234345</td>\n",
              "      <td>0.605799</td>\n",
              "      <td>-0.559842</td>\n",
              "      <td>-2.560336</td>\n",
              "      <td>-4.024837</td>\n",
              "      <td>-6.153205</td>\n",
              "      <td>-5.882186</td>\n",
              "      <td>-4.160412</td>\n",
              "      <td>-4.826590</td>\n",
              "      <td>-6.091993</td>\n",
              "      <td>-6.143519</td>\n",
              "      <td>-7.885007</td>\n",
              "      <td>-8.067313</td>\n",
              "      <td>-8.379814</td>\n",
              "      <td>...</td>\n",
              "      <td>-10.853007</td>\n",
              "      <td>-11.703477</td>\n",
              "      <td>-10.454667</td>\n",
              "      <td>-10.281302</td>\n",
              "      <td>-12.091524</td>\n",
              "      <td>-11.944778</td>\n",
              "      <td>-13.805833</td>\n",
              "      <td>-14.603592</td>\n",
              "      <td>-15.479854</td>\n",
              "      <td>-14.665545</td>\n",
              "      <td>-9.558839</td>\n",
              "      <td>-7.963140</td>\n",
              "      <td>-5.160331</td>\n",
              "      <td>-4.169464</td>\n",
              "      <td>-4.255415</td>\n",
              "      <td>-4.808601</td>\n",
              "      <td>-6.620475</td>\n",
              "      <td>-7.366731</td>\n",
              "      <td>-10.866138</td>\n",
              "      <td>-9.295325</td>\n",
              "      <td>-10.252511</td>\n",
              "      <td>-10.594381</td>\n",
              "      <td>-10.429655</td>\n",
              "      <td>-11.090495</td>\n",
              "      <td>-10.942968</td>\n",
              "      <td>-10.522398</td>\n",
              "      <td>-7.711838</td>\n",
              "      <td>-5.008007</td>\n",
              "      <td>-4.998573</td>\n",
              "      <td>-5.391063</td>\n",
              "      <td>-5.602770</td>\n",
              "      <td>-7.292268</td>\n",
              "      <td>-8.455255</td>\n",
              "      <td>-9.350985</td>\n",
              "      <td>-9.023623</td>\n",
              "      <td>-10.021587</td>\n",
              "      <td>-9.555405</td>\n",
              "      <td>-9.866515</td>\n",
              "      <td>-7.021364</td>\n",
              "      <td>0.650950</td>\n",
              "    </tr>\n",
              "    <tr>\n",
              "      <th>397</th>\n",
              "      <td>-9.334823</td>\n",
              "      <td>-10.141585</td>\n",
              "      <td>-12.753134</td>\n",
              "      <td>-14.764633</td>\n",
              "      <td>-14.097288</td>\n",
              "      <td>-12.699793</td>\n",
              "      <td>-13.547521</td>\n",
              "      <td>-13.110147</td>\n",
              "      <td>-11.917633</td>\n",
              "      <td>-12.776887</td>\n",
              "      <td>-15.421072</td>\n",
              "      <td>-14.993194</td>\n",
              "      <td>-15.352280</td>\n",
              "      <td>-15.037058</td>\n",
              "      <td>-16.598955</td>\n",
              "      <td>-18.664127</td>\n",
              "      <td>-14.707038</td>\n",
              "      <td>-13.836864</td>\n",
              "      <td>-15.403421</td>\n",
              "      <td>-15.977871</td>\n",
              "      <td>-15.266137</td>\n",
              "      <td>-13.638033</td>\n",
              "      <td>-12.994747</td>\n",
              "      <td>-13.512477</td>\n",
              "      <td>-14.488627</td>\n",
              "      <td>-15.994117</td>\n",
              "      <td>-14.219759</td>\n",
              "      <td>-12.139311</td>\n",
              "      <td>-14.570456</td>\n",
              "      <td>-15.810167</td>\n",
              "      <td>-17.408688</td>\n",
              "      <td>-14.960679</td>\n",
              "      <td>-15.616821</td>\n",
              "      <td>-16.037340</td>\n",
              "      <td>-15.143139</td>\n",
              "      <td>-13.578303</td>\n",
              "      <td>-15.163921</td>\n",
              "      <td>-15.765188</td>\n",
              "      <td>-15.249563</td>\n",
              "      <td>-16.314423</td>\n",
              "      <td>...</td>\n",
              "      <td>-17.174791</td>\n",
              "      <td>-18.589840</td>\n",
              "      <td>-18.988737</td>\n",
              "      <td>-18.050814</td>\n",
              "      <td>-18.765066</td>\n",
              "      <td>-19.247494</td>\n",
              "      <td>-18.544121</td>\n",
              "      <td>-18.367292</td>\n",
              "      <td>-16.772558</td>\n",
              "      <td>-16.606133</td>\n",
              "      <td>-17.663073</td>\n",
              "      <td>-18.599201</td>\n",
              "      <td>-18.630804</td>\n",
              "      <td>-19.413401</td>\n",
              "      <td>-19.803911</td>\n",
              "      <td>-18.876286</td>\n",
              "      <td>-17.777948</td>\n",
              "      <td>-17.610842</td>\n",
              "      <td>-16.546795</td>\n",
              "      <td>-17.392342</td>\n",
              "      <td>-17.941257</td>\n",
              "      <td>-20.105682</td>\n",
              "      <td>-23.918793</td>\n",
              "      <td>-20.653454</td>\n",
              "      <td>-20.857748</td>\n",
              "      <td>-17.747490</td>\n",
              "      <td>-15.758762</td>\n",
              "      <td>-17.460070</td>\n",
              "      <td>-20.678221</td>\n",
              "      <td>-20.735634</td>\n",
              "      <td>-20.470217</td>\n",
              "      <td>-20.620476</td>\n",
              "      <td>-21.638590</td>\n",
              "      <td>-20.597595</td>\n",
              "      <td>-19.898006</td>\n",
              "      <td>-16.321369</td>\n",
              "      <td>-13.799880</td>\n",
              "      <td>-16.583021</td>\n",
              "      <td>-16.712303</td>\n",
              "      <td>-15.030059</td>\n",
              "    </tr>\n",
              "    <tr>\n",
              "      <th>398</th>\n",
              "      <td>-25.846119</td>\n",
              "      <td>-25.762051</td>\n",
              "      <td>-25.746067</td>\n",
              "      <td>-27.540436</td>\n",
              "      <td>-27.735710</td>\n",
              "      <td>-28.423738</td>\n",
              "      <td>-29.228140</td>\n",
              "      <td>-28.699467</td>\n",
              "      <td>-28.987928</td>\n",
              "      <td>-27.770842</td>\n",
              "      <td>-24.871683</td>\n",
              "      <td>-23.936035</td>\n",
              "      <td>-25.478794</td>\n",
              "      <td>-25.793427</td>\n",
              "      <td>-24.936951</td>\n",
              "      <td>-24.641733</td>\n",
              "      <td>-25.534376</td>\n",
              "      <td>-25.168720</td>\n",
              "      <td>-25.384075</td>\n",
              "      <td>-24.274595</td>\n",
              "      <td>-24.160238</td>\n",
              "      <td>-24.427204</td>\n",
              "      <td>-25.848061</td>\n",
              "      <td>-27.990120</td>\n",
              "      <td>-25.888954</td>\n",
              "      <td>-25.352587</td>\n",
              "      <td>-23.789936</td>\n",
              "      <td>-22.616488</td>\n",
              "      <td>-20.095144</td>\n",
              "      <td>-18.988945</td>\n",
              "      <td>-19.102711</td>\n",
              "      <td>-17.364613</td>\n",
              "      <td>-16.057207</td>\n",
              "      <td>-17.352821</td>\n",
              "      <td>-20.588930</td>\n",
              "      <td>-20.318930</td>\n",
              "      <td>-21.214708</td>\n",
              "      <td>-20.815523</td>\n",
              "      <td>-21.437073</td>\n",
              "      <td>-21.451979</td>\n",
              "      <td>...</td>\n",
              "      <td>-29.975933</td>\n",
              "      <td>-28.281382</td>\n",
              "      <td>-24.739666</td>\n",
              "      <td>-22.075661</td>\n",
              "      <td>-22.518852</td>\n",
              "      <td>-20.136110</td>\n",
              "      <td>-20.770733</td>\n",
              "      <td>-21.646400</td>\n",
              "      <td>-19.800545</td>\n",
              "      <td>-19.542946</td>\n",
              "      <td>-21.419241</td>\n",
              "      <td>-22.477024</td>\n",
              "      <td>-20.100605</td>\n",
              "      <td>-19.600365</td>\n",
              "      <td>-21.093510</td>\n",
              "      <td>-21.903881</td>\n",
              "      <td>-21.693064</td>\n",
              "      <td>-20.460964</td>\n",
              "      <td>-20.262627</td>\n",
              "      <td>-20.376217</td>\n",
              "      <td>-20.196815</td>\n",
              "      <td>-20.949076</td>\n",
              "      <td>-22.660408</td>\n",
              "      <td>-22.500254</td>\n",
              "      <td>-25.068317</td>\n",
              "      <td>-25.602468</td>\n",
              "      <td>-24.212778</td>\n",
              "      <td>-25.316019</td>\n",
              "      <td>-27.403843</td>\n",
              "      <td>-27.367567</td>\n",
              "      <td>-24.799633</td>\n",
              "      <td>-26.071674</td>\n",
              "      <td>-26.118551</td>\n",
              "      <td>-22.133961</td>\n",
              "      <td>-21.801983</td>\n",
              "      <td>-21.915493</td>\n",
              "      <td>-21.746305</td>\n",
              "      <td>-25.287453</td>\n",
              "      <td>-21.336693</td>\n",
              "      <td>-13.737692</td>\n",
              "    </tr>\n",
              "    <tr>\n",
              "      <th>399</th>\n",
              "      <td>-7.639169</td>\n",
              "      <td>-6.964099</td>\n",
              "      <td>-6.951332</td>\n",
              "      <td>-7.335701</td>\n",
              "      <td>-10.624200</td>\n",
              "      <td>-11.599735</td>\n",
              "      <td>-9.334772</td>\n",
              "      <td>-8.832892</td>\n",
              "      <td>-8.252258</td>\n",
              "      <td>-8.082430</td>\n",
              "      <td>-8.993857</td>\n",
              "      <td>-10.277529</td>\n",
              "      <td>-9.320109</td>\n",
              "      <td>-7.971010</td>\n",
              "      <td>-9.633355</td>\n",
              "      <td>-11.606490</td>\n",
              "      <td>-11.829001</td>\n",
              "      <td>-10.843642</td>\n",
              "      <td>-11.375497</td>\n",
              "      <td>-12.038578</td>\n",
              "      <td>-10.584861</td>\n",
              "      <td>-8.487014</td>\n",
              "      <td>-7.842339</td>\n",
              "      <td>-9.481269</td>\n",
              "      <td>-9.945995</td>\n",
              "      <td>-11.271759</td>\n",
              "      <td>-8.283537</td>\n",
              "      <td>-7.930867</td>\n",
              "      <td>-9.133099</td>\n",
              "      <td>-9.276124</td>\n",
              "      <td>-9.288303</td>\n",
              "      <td>-8.764874</td>\n",
              "      <td>-6.804520</td>\n",
              "      <td>-6.124310</td>\n",
              "      <td>-8.881949</td>\n",
              "      <td>-9.677608</td>\n",
              "      <td>-9.941301</td>\n",
              "      <td>-10.769199</td>\n",
              "      <td>-12.252461</td>\n",
              "      <td>-12.781915</td>\n",
              "      <td>...</td>\n",
              "      <td>-15.997572</td>\n",
              "      <td>-14.841600</td>\n",
              "      <td>-12.883281</td>\n",
              "      <td>-12.451034</td>\n",
              "      <td>-13.419058</td>\n",
              "      <td>-12.611177</td>\n",
              "      <td>-11.347708</td>\n",
              "      <td>-12.221251</td>\n",
              "      <td>-12.541770</td>\n",
              "      <td>-14.795358</td>\n",
              "      <td>-16.042377</td>\n",
              "      <td>-13.986996</td>\n",
              "      <td>-13.495955</td>\n",
              "      <td>-10.812840</td>\n",
              "      <td>-11.769543</td>\n",
              "      <td>-11.359297</td>\n",
              "      <td>-10.788354</td>\n",
              "      <td>-12.571743</td>\n",
              "      <td>-13.053589</td>\n",
              "      <td>-12.828053</td>\n",
              "      <td>-13.657475</td>\n",
              "      <td>-15.275921</td>\n",
              "      <td>-16.339956</td>\n",
              "      <td>-15.522465</td>\n",
              "      <td>-13.004106</td>\n",
              "      <td>-10.016668</td>\n",
              "      <td>-9.292218</td>\n",
              "      <td>-8.825113</td>\n",
              "      <td>-9.029822</td>\n",
              "      <td>-8.207198</td>\n",
              "      <td>-7.012805</td>\n",
              "      <td>-8.896399</td>\n",
              "      <td>-10.528866</td>\n",
              "      <td>-11.191966</td>\n",
              "      <td>-11.975111</td>\n",
              "      <td>-13.222998</td>\n",
              "      <td>-12.593475</td>\n",
              "      <td>-13.757349</td>\n",
              "      <td>-10.961877</td>\n",
              "      <td>-6.635365</td>\n",
              "    </tr>\n",
              "  </tbody>\n",
              "</table>\n",
              "<p>400 rows × 259 columns</p>\n",
              "</div>"
            ],
            "text/plain": [
              "           0          1          2    ...        256        257        258\n",
              "0   -10.243323 -12.615479 -17.851021  ... -25.027554 -25.755066 -22.200029\n",
              "1   -25.535357 -27.289289 -30.718842  ... -22.746695 -21.191242 -18.892189\n",
              "2    -1.928406  -1.855620  -2.203659  ...  -8.915087  -7.137025  -1.799409\n",
              "3    -5.148818  -9.136763 -18.621670  ...        NaN        NaN        NaN\n",
              "4   -11.432728  -8.955170  -8.142177  ... -26.963219 -16.035114  -6.508455\n",
              "..         ...        ...        ...  ...        ...        ...        ...\n",
              "395 -13.752459 -12.231353 -11.592890  ... -18.651638 -14.051778  -6.101388\n",
              "396   2.500506  -1.472511 -10.415994  ...  -9.866515  -7.021364   0.650950\n",
              "397  -9.334823 -10.141585 -12.753134  ... -16.583021 -16.712303 -15.030059\n",
              "398 -25.846119 -25.762051 -25.746067  ... -25.287453 -21.336693 -13.737692\n",
              "399  -7.639169  -6.964099  -6.951332  ... -13.757349 -10.961877  -6.635365\n",
              "\n",
              "[400 rows x 259 columns]"
            ]
          },
          "metadata": {
            "tags": []
          },
          "execution_count": 68
        }
      ]
    },
    {
      "cell_type": "code",
      "metadata": {
        "id": "EkktkRYK-4fn"
      },
      "source": [
        "newdf = pd.concat([df3,labels], axis=1)"
      ],
      "execution_count": 69,
      "outputs": []
    },
    {
      "cell_type": "code",
      "metadata": {
        "id": "WbIMRRq1-6LS"
      },
      "source": [
        "rnewdf = newdf.rename(index=str, columns={\"0\": \"label\"})"
      ],
      "execution_count": 70,
      "outputs": []
    },
    {
      "cell_type": "code",
      "metadata": {
        "colab": {
          "base_uri": "https://localhost:8080/",
          "height": 282
        },
        "id": "ZkC0dHSY-7ga",
        "outputId": "b6a0ac58-d80c-4a26-c888-df1c3ab3f4e6"
      },
      "source": [
        "rnewdf[:6]"
      ],
      "execution_count": 71,
      "outputs": [
        {
          "output_type": "execute_result",
          "data": {
            "text/html": [
              "<div>\n",
              "<style scoped>\n",
              "    .dataframe tbody tr th:only-of-type {\n",
              "        vertical-align: middle;\n",
              "    }\n",
              "\n",
              "    .dataframe tbody tr th {\n",
              "        vertical-align: top;\n",
              "    }\n",
              "\n",
              "    .dataframe thead th {\n",
              "        text-align: right;\n",
              "    }\n",
              "</style>\n",
              "<table border=\"1\" class=\"dataframe\">\n",
              "  <thead>\n",
              "    <tr style=\"text-align: right;\">\n",
              "      <th></th>\n",
              "      <th>0</th>\n",
              "      <th>1</th>\n",
              "      <th>2</th>\n",
              "      <th>3</th>\n",
              "      <th>4</th>\n",
              "      <th>5</th>\n",
              "      <th>6</th>\n",
              "      <th>7</th>\n",
              "      <th>8</th>\n",
              "      <th>9</th>\n",
              "      <th>10</th>\n",
              "      <th>11</th>\n",
              "      <th>12</th>\n",
              "      <th>13</th>\n",
              "      <th>14</th>\n",
              "      <th>15</th>\n",
              "      <th>16</th>\n",
              "      <th>17</th>\n",
              "      <th>18</th>\n",
              "      <th>19</th>\n",
              "      <th>20</th>\n",
              "      <th>21</th>\n",
              "      <th>22</th>\n",
              "      <th>23</th>\n",
              "      <th>24</th>\n",
              "      <th>25</th>\n",
              "      <th>26</th>\n",
              "      <th>27</th>\n",
              "      <th>28</th>\n",
              "      <th>29</th>\n",
              "      <th>30</th>\n",
              "      <th>31</th>\n",
              "      <th>32</th>\n",
              "      <th>33</th>\n",
              "      <th>34</th>\n",
              "      <th>35</th>\n",
              "      <th>36</th>\n",
              "      <th>37</th>\n",
              "      <th>38</th>\n",
              "      <th>39</th>\n",
              "      <th>...</th>\n",
              "      <th>220</th>\n",
              "      <th>221</th>\n",
              "      <th>222</th>\n",
              "      <th>223</th>\n",
              "      <th>224</th>\n",
              "      <th>225</th>\n",
              "      <th>226</th>\n",
              "      <th>227</th>\n",
              "      <th>228</th>\n",
              "      <th>229</th>\n",
              "      <th>230</th>\n",
              "      <th>231</th>\n",
              "      <th>232</th>\n",
              "      <th>233</th>\n",
              "      <th>234</th>\n",
              "      <th>235</th>\n",
              "      <th>236</th>\n",
              "      <th>237</th>\n",
              "      <th>238</th>\n",
              "      <th>239</th>\n",
              "      <th>240</th>\n",
              "      <th>241</th>\n",
              "      <th>242</th>\n",
              "      <th>243</th>\n",
              "      <th>244</th>\n",
              "      <th>245</th>\n",
              "      <th>246</th>\n",
              "      <th>247</th>\n",
              "      <th>248</th>\n",
              "      <th>249</th>\n",
              "      <th>250</th>\n",
              "      <th>251</th>\n",
              "      <th>252</th>\n",
              "      <th>253</th>\n",
              "      <th>254</th>\n",
              "      <th>255</th>\n",
              "      <th>256</th>\n",
              "      <th>257</th>\n",
              "      <th>258</th>\n",
              "      <th>0</th>\n",
              "    </tr>\n",
              "  </thead>\n",
              "  <tbody>\n",
              "    <tr>\n",
              "      <th>0</th>\n",
              "      <td>-10.243323</td>\n",
              "      <td>-12.615479</td>\n",
              "      <td>-17.851021</td>\n",
              "      <td>-17.689714</td>\n",
              "      <td>-15.701584</td>\n",
              "      <td>-15.067063</td>\n",
              "      <td>-13.309368</td>\n",
              "      <td>-11.836576</td>\n",
              "      <td>-13.461333</td>\n",
              "      <td>-15.271927</td>\n",
              "      <td>-17.084007</td>\n",
              "      <td>-17.134188</td>\n",
              "      <td>-18.392599</td>\n",
              "      <td>-18.098806</td>\n",
              "      <td>-16.752119</td>\n",
              "      <td>-16.145920</td>\n",
              "      <td>-15.112289</td>\n",
              "      <td>-13.671880</td>\n",
              "      <td>-12.729267</td>\n",
              "      <td>-9.134816</td>\n",
              "      <td>-10.499593</td>\n",
              "      <td>-14.753387</td>\n",
              "      <td>-19.094511</td>\n",
              "      <td>-17.953831</td>\n",
              "      <td>-16.760725</td>\n",
              "      <td>-16.963665</td>\n",
              "      <td>-19.364452</td>\n",
              "      <td>-18.994637</td>\n",
              "      <td>-17.392366</td>\n",
              "      <td>-16.460701</td>\n",
              "      <td>-16.323969</td>\n",
              "      <td>-15.990026</td>\n",
              "      <td>-18.012098</td>\n",
              "      <td>-20.371307</td>\n",
              "      <td>-20.796434</td>\n",
              "      <td>-17.624353</td>\n",
              "      <td>-15.697602</td>\n",
              "      <td>-14.835107</td>\n",
              "      <td>-16.379717</td>\n",
              "      <td>-17.449162</td>\n",
              "      <td>...</td>\n",
              "      <td>-26.203413</td>\n",
              "      <td>-26.341366</td>\n",
              "      <td>-26.368526</td>\n",
              "      <td>-25.279663</td>\n",
              "      <td>-23.251629</td>\n",
              "      <td>-20.946774</td>\n",
              "      <td>-20.392427</td>\n",
              "      <td>-15.652359</td>\n",
              "      <td>-15.841237</td>\n",
              "      <td>-20.360380</td>\n",
              "      <td>-24.027340</td>\n",
              "      <td>-20.450317</td>\n",
              "      <td>-19.332550</td>\n",
              "      <td>-17.943102</td>\n",
              "      <td>-18.105110</td>\n",
              "      <td>-18.923677</td>\n",
              "      <td>-17.211647</td>\n",
              "      <td>-16.829567</td>\n",
              "      <td>-19.206335</td>\n",
              "      <td>-21.487301</td>\n",
              "      <td>-22.241880</td>\n",
              "      <td>-21.101009</td>\n",
              "      <td>-20.251982</td>\n",
              "      <td>-18.625055</td>\n",
              "      <td>-16.915903</td>\n",
              "      <td>-16.349503</td>\n",
              "      <td>-17.711956</td>\n",
              "      <td>-19.071058</td>\n",
              "      <td>-18.952078</td>\n",
              "      <td>-19.238008</td>\n",
              "      <td>-20.157650</td>\n",
              "      <td>-21.638714</td>\n",
              "      <td>-23.141232</td>\n",
              "      <td>-24.266571</td>\n",
              "      <td>-23.656487</td>\n",
              "      <td>-24.086773</td>\n",
              "      <td>-25.027554</td>\n",
              "      <td>-25.755066</td>\n",
              "      <td>-22.200029</td>\n",
              "      <td>Angry</td>\n",
              "    </tr>\n",
              "    <tr>\n",
              "      <th>1</th>\n",
              "      <td>-25.535357</td>\n",
              "      <td>-27.289289</td>\n",
              "      <td>-30.718842</td>\n",
              "      <td>-32.091225</td>\n",
              "      <td>-31.001169</td>\n",
              "      <td>-30.684330</td>\n",
              "      <td>-30.114143</td>\n",
              "      <td>-30.829258</td>\n",
              "      <td>-32.391167</td>\n",
              "      <td>-29.404640</td>\n",
              "      <td>-28.820555</td>\n",
              "      <td>-28.803608</td>\n",
              "      <td>-27.236767</td>\n",
              "      <td>-22.793522</td>\n",
              "      <td>-19.876513</td>\n",
              "      <td>-18.980217</td>\n",
              "      <td>-17.873943</td>\n",
              "      <td>-16.966408</td>\n",
              "      <td>-16.991318</td>\n",
              "      <td>-17.131910</td>\n",
              "      <td>-15.500300</td>\n",
              "      <td>-16.139767</td>\n",
              "      <td>-12.616924</td>\n",
              "      <td>-13.463795</td>\n",
              "      <td>-14.322997</td>\n",
              "      <td>-15.861243</td>\n",
              "      <td>-16.156237</td>\n",
              "      <td>-15.379520</td>\n",
              "      <td>-14.870975</td>\n",
              "      <td>-17.436134</td>\n",
              "      <td>-17.249434</td>\n",
              "      <td>-18.748924</td>\n",
              "      <td>-19.564840</td>\n",
              "      <td>-22.452559</td>\n",
              "      <td>-21.147539</td>\n",
              "      <td>-20.521639</td>\n",
              "      <td>-21.598541</td>\n",
              "      <td>-20.897121</td>\n",
              "      <td>-20.128448</td>\n",
              "      <td>-21.171570</td>\n",
              "      <td>...</td>\n",
              "      <td>-17.725609</td>\n",
              "      <td>-17.490742</td>\n",
              "      <td>-16.540895</td>\n",
              "      <td>-18.080004</td>\n",
              "      <td>-16.581957</td>\n",
              "      <td>-16.008385</td>\n",
              "      <td>-15.796467</td>\n",
              "      <td>-14.994902</td>\n",
              "      <td>-16.859272</td>\n",
              "      <td>-16.954077</td>\n",
              "      <td>-18.533632</td>\n",
              "      <td>-20.423704</td>\n",
              "      <td>-18.014994</td>\n",
              "      <td>-18.634642</td>\n",
              "      <td>-21.345503</td>\n",
              "      <td>-20.810575</td>\n",
              "      <td>-19.003853</td>\n",
              "      <td>-16.959240</td>\n",
              "      <td>-16.720543</td>\n",
              "      <td>-17.904501</td>\n",
              "      <td>-16.971640</td>\n",
              "      <td>-17.474211</td>\n",
              "      <td>-16.024641</td>\n",
              "      <td>-15.303674</td>\n",
              "      <td>-16.205589</td>\n",
              "      <td>-16.826704</td>\n",
              "      <td>-16.171310</td>\n",
              "      <td>-15.099131</td>\n",
              "      <td>-14.398561</td>\n",
              "      <td>-13.119946</td>\n",
              "      <td>-14.533736</td>\n",
              "      <td>-16.230602</td>\n",
              "      <td>-19.389009</td>\n",
              "      <td>-23.459106</td>\n",
              "      <td>-22.972759</td>\n",
              "      <td>-21.874577</td>\n",
              "      <td>-22.746695</td>\n",
              "      <td>-21.191242</td>\n",
              "      <td>-18.892189</td>\n",
              "      <td>Angry</td>\n",
              "    </tr>\n",
              "    <tr>\n",
              "      <th>2</th>\n",
              "      <td>-1.928406</td>\n",
              "      <td>-1.855620</td>\n",
              "      <td>-2.203659</td>\n",
              "      <td>-1.777735</td>\n",
              "      <td>-3.443797</td>\n",
              "      <td>-4.400910</td>\n",
              "      <td>-4.558938</td>\n",
              "      <td>-2.249003</td>\n",
              "      <td>-0.362050</td>\n",
              "      <td>-1.615511</td>\n",
              "      <td>-2.015850</td>\n",
              "      <td>-2.191663</td>\n",
              "      <td>-1.581378</td>\n",
              "      <td>-3.025991</td>\n",
              "      <td>-4.611562</td>\n",
              "      <td>-4.409635</td>\n",
              "      <td>-4.607491</td>\n",
              "      <td>-3.592398</td>\n",
              "      <td>-3.656293</td>\n",
              "      <td>-5.710714</td>\n",
              "      <td>-4.723919</td>\n",
              "      <td>-4.752924</td>\n",
              "      <td>-4.244796</td>\n",
              "      <td>-2.096331</td>\n",
              "      <td>-3.041289</td>\n",
              "      <td>-4.083590</td>\n",
              "      <td>-6.023306</td>\n",
              "      <td>-6.025675</td>\n",
              "      <td>-4.134553</td>\n",
              "      <td>-3.214624</td>\n",
              "      <td>-5.921738</td>\n",
              "      <td>-4.643127</td>\n",
              "      <td>-4.453395</td>\n",
              "      <td>-5.711237</td>\n",
              "      <td>-4.895679</td>\n",
              "      <td>-5.299958</td>\n",
              "      <td>-6.881368</td>\n",
              "      <td>-7.828221</td>\n",
              "      <td>-8.028169</td>\n",
              "      <td>-7.739830</td>\n",
              "      <td>...</td>\n",
              "      <td>-10.785278</td>\n",
              "      <td>-11.088442</td>\n",
              "      <td>-11.577417</td>\n",
              "      <td>-12.657104</td>\n",
              "      <td>-12.465358</td>\n",
              "      <td>-11.273780</td>\n",
              "      <td>-10.675401</td>\n",
              "      <td>-11.047841</td>\n",
              "      <td>-8.264701</td>\n",
              "      <td>-7.552634</td>\n",
              "      <td>-8.012271</td>\n",
              "      <td>-8.624324</td>\n",
              "      <td>-7.405656</td>\n",
              "      <td>-4.008111</td>\n",
              "      <td>-4.337635</td>\n",
              "      <td>-4.777668</td>\n",
              "      <td>-4.446354</td>\n",
              "      <td>-2.692052</td>\n",
              "      <td>-3.740742</td>\n",
              "      <td>-5.264765</td>\n",
              "      <td>-4.880756</td>\n",
              "      <td>-5.185527</td>\n",
              "      <td>-3.859713</td>\n",
              "      <td>-4.742769</td>\n",
              "      <td>-4.526763</td>\n",
              "      <td>-3.774453</td>\n",
              "      <td>-3.939603</td>\n",
              "      <td>-5.188954</td>\n",
              "      <td>-7.451023</td>\n",
              "      <td>-7.333833</td>\n",
              "      <td>-8.370215</td>\n",
              "      <td>-8.231769</td>\n",
              "      <td>-8.072993</td>\n",
              "      <td>-8.972785</td>\n",
              "      <td>-9.186881</td>\n",
              "      <td>-9.136392</td>\n",
              "      <td>-8.915087</td>\n",
              "      <td>-7.137025</td>\n",
              "      <td>-1.799409</td>\n",
              "      <td>Angry</td>\n",
              "    </tr>\n",
              "    <tr>\n",
              "      <th>3</th>\n",
              "      <td>-5.148818</td>\n",
              "      <td>-9.136763</td>\n",
              "      <td>-18.621670</td>\n",
              "      <td>-16.734150</td>\n",
              "      <td>-16.912111</td>\n",
              "      <td>-16.476482</td>\n",
              "      <td>-17.400530</td>\n",
              "      <td>-18.362286</td>\n",
              "      <td>-19.007818</td>\n",
              "      <td>-18.258953</td>\n",
              "      <td>-19.294077</td>\n",
              "      <td>-18.595398</td>\n",
              "      <td>-18.291113</td>\n",
              "      <td>-17.498055</td>\n",
              "      <td>-18.007193</td>\n",
              "      <td>-17.719961</td>\n",
              "      <td>-16.052494</td>\n",
              "      <td>-13.704524</td>\n",
              "      <td>-14.538691</td>\n",
              "      <td>-15.135097</td>\n",
              "      <td>-16.272491</td>\n",
              "      <td>-14.963332</td>\n",
              "      <td>-15.574381</td>\n",
              "      <td>-15.981892</td>\n",
              "      <td>-20.293339</td>\n",
              "      <td>-20.394766</td>\n",
              "      <td>-18.959661</td>\n",
              "      <td>-18.200624</td>\n",
              "      <td>-19.057659</td>\n",
              "      <td>-19.555351</td>\n",
              "      <td>-19.595501</td>\n",
              "      <td>-22.411690</td>\n",
              "      <td>-21.287659</td>\n",
              "      <td>-23.553398</td>\n",
              "      <td>-24.797148</td>\n",
              "      <td>-24.645155</td>\n",
              "      <td>-22.862064</td>\n",
              "      <td>-19.927305</td>\n",
              "      <td>-20.548893</td>\n",
              "      <td>-19.291515</td>\n",
              "      <td>...</td>\n",
              "      <td>NaN</td>\n",
              "      <td>NaN</td>\n",
              "      <td>NaN</td>\n",
              "      <td>NaN</td>\n",
              "      <td>NaN</td>\n",
              "      <td>NaN</td>\n",
              "      <td>NaN</td>\n",
              "      <td>NaN</td>\n",
              "      <td>NaN</td>\n",
              "      <td>NaN</td>\n",
              "      <td>NaN</td>\n",
              "      <td>NaN</td>\n",
              "      <td>NaN</td>\n",
              "      <td>NaN</td>\n",
              "      <td>NaN</td>\n",
              "      <td>NaN</td>\n",
              "      <td>NaN</td>\n",
              "      <td>NaN</td>\n",
              "      <td>NaN</td>\n",
              "      <td>NaN</td>\n",
              "      <td>NaN</td>\n",
              "      <td>NaN</td>\n",
              "      <td>NaN</td>\n",
              "      <td>NaN</td>\n",
              "      <td>NaN</td>\n",
              "      <td>NaN</td>\n",
              "      <td>NaN</td>\n",
              "      <td>NaN</td>\n",
              "      <td>NaN</td>\n",
              "      <td>NaN</td>\n",
              "      <td>NaN</td>\n",
              "      <td>NaN</td>\n",
              "      <td>NaN</td>\n",
              "      <td>NaN</td>\n",
              "      <td>NaN</td>\n",
              "      <td>NaN</td>\n",
              "      <td>NaN</td>\n",
              "      <td>NaN</td>\n",
              "      <td>NaN</td>\n",
              "      <td>Angry</td>\n",
              "    </tr>\n",
              "    <tr>\n",
              "      <th>4</th>\n",
              "      <td>-11.432728</td>\n",
              "      <td>-8.955170</td>\n",
              "      <td>-8.142177</td>\n",
              "      <td>-9.730004</td>\n",
              "      <td>-12.162080</td>\n",
              "      <td>-12.841806</td>\n",
              "      <td>-13.577404</td>\n",
              "      <td>-17.125364</td>\n",
              "      <td>-18.818911</td>\n",
              "      <td>-19.299793</td>\n",
              "      <td>-18.721987</td>\n",
              "      <td>-17.428730</td>\n",
              "      <td>-18.002939</td>\n",
              "      <td>-20.648306</td>\n",
              "      <td>-22.393864</td>\n",
              "      <td>-17.704762</td>\n",
              "      <td>-15.401528</td>\n",
              "      <td>-17.464520</td>\n",
              "      <td>-24.717827</td>\n",
              "      <td>-25.860252</td>\n",
              "      <td>-26.192030</td>\n",
              "      <td>-28.114746</td>\n",
              "      <td>-28.733091</td>\n",
              "      <td>-29.773682</td>\n",
              "      <td>-29.573030</td>\n",
              "      <td>-28.488911</td>\n",
              "      <td>-27.240602</td>\n",
              "      <td>-28.897148</td>\n",
              "      <td>-29.410196</td>\n",
              "      <td>-31.145193</td>\n",
              "      <td>-30.498909</td>\n",
              "      <td>-27.420799</td>\n",
              "      <td>-26.940657</td>\n",
              "      <td>-26.188631</td>\n",
              "      <td>-27.158506</td>\n",
              "      <td>-26.849352</td>\n",
              "      <td>-25.499502</td>\n",
              "      <td>-24.598427</td>\n",
              "      <td>-25.270784</td>\n",
              "      <td>-28.953657</td>\n",
              "      <td>...</td>\n",
              "      <td>-29.647062</td>\n",
              "      <td>-30.087215</td>\n",
              "      <td>-29.286442</td>\n",
              "      <td>-29.749798</td>\n",
              "      <td>-31.985334</td>\n",
              "      <td>-30.824587</td>\n",
              "      <td>-29.306292</td>\n",
              "      <td>-28.668541</td>\n",
              "      <td>-28.770647</td>\n",
              "      <td>-30.655659</td>\n",
              "      <td>-33.054867</td>\n",
              "      <td>-33.750748</td>\n",
              "      <td>-32.821098</td>\n",
              "      <td>-32.634415</td>\n",
              "      <td>-30.687792</td>\n",
              "      <td>-27.974468</td>\n",
              "      <td>-25.582802</td>\n",
              "      <td>-24.369345</td>\n",
              "      <td>-24.805952</td>\n",
              "      <td>-25.325918</td>\n",
              "      <td>-27.411837</td>\n",
              "      <td>-28.006989</td>\n",
              "      <td>-30.022295</td>\n",
              "      <td>-29.934090</td>\n",
              "      <td>-28.123810</td>\n",
              "      <td>-26.872936</td>\n",
              "      <td>-23.919615</td>\n",
              "      <td>-23.752789</td>\n",
              "      <td>-22.799610</td>\n",
              "      <td>-21.871016</td>\n",
              "      <td>-21.127672</td>\n",
              "      <td>-22.004597</td>\n",
              "      <td>-23.732557</td>\n",
              "      <td>-22.847200</td>\n",
              "      <td>-23.646130</td>\n",
              "      <td>-24.961102</td>\n",
              "      <td>-26.963219</td>\n",
              "      <td>-16.035114</td>\n",
              "      <td>-6.508455</td>\n",
              "      <td>Angry</td>\n",
              "    </tr>\n",
              "    <tr>\n",
              "      <th>5</th>\n",
              "      <td>1.698505</td>\n",
              "      <td>-0.485533</td>\n",
              "      <td>-1.346693</td>\n",
              "      <td>-3.259581</td>\n",
              "      <td>-2.268952</td>\n",
              "      <td>-1.703963</td>\n",
              "      <td>-1.176364</td>\n",
              "      <td>-2.021404</td>\n",
              "      <td>-4.627970</td>\n",
              "      <td>-5.592851</td>\n",
              "      <td>-4.288355</td>\n",
              "      <td>-3.209941</td>\n",
              "      <td>-2.417585</td>\n",
              "      <td>-3.154969</td>\n",
              "      <td>-2.595280</td>\n",
              "      <td>-1.559986</td>\n",
              "      <td>-0.707377</td>\n",
              "      <td>-1.451349</td>\n",
              "      <td>-0.263925</td>\n",
              "      <td>0.203263</td>\n",
              "      <td>-0.813073</td>\n",
              "      <td>-2.962919</td>\n",
              "      <td>-2.099415</td>\n",
              "      <td>-1.114380</td>\n",
              "      <td>-0.329353</td>\n",
              "      <td>0.186860</td>\n",
              "      <td>-0.966500</td>\n",
              "      <td>-3.147677</td>\n",
              "      <td>-2.767090</td>\n",
              "      <td>0.546024</td>\n",
              "      <td>-0.443600</td>\n",
              "      <td>-2.687070</td>\n",
              "      <td>-3.582700</td>\n",
              "      <td>-4.394459</td>\n",
              "      <td>-5.545411</td>\n",
              "      <td>-6.215076</td>\n",
              "      <td>-6.671625</td>\n",
              "      <td>-5.038745</td>\n",
              "      <td>-4.369298</td>\n",
              "      <td>-4.939213</td>\n",
              "      <td>...</td>\n",
              "      <td>-6.579621</td>\n",
              "      <td>-6.005020</td>\n",
              "      <td>-4.848711</td>\n",
              "      <td>-4.192086</td>\n",
              "      <td>-5.372772</td>\n",
              "      <td>-5.948087</td>\n",
              "      <td>-7.708888</td>\n",
              "      <td>-6.704363</td>\n",
              "      <td>-5.831679</td>\n",
              "      <td>-5.256544</td>\n",
              "      <td>-4.264795</td>\n",
              "      <td>-5.157885</td>\n",
              "      <td>-4.670743</td>\n",
              "      <td>-5.018091</td>\n",
              "      <td>-6.429755</td>\n",
              "      <td>-7.592129</td>\n",
              "      <td>-7.811394</td>\n",
              "      <td>-6.808566</td>\n",
              "      <td>-8.449065</td>\n",
              "      <td>NaN</td>\n",
              "      <td>NaN</td>\n",
              "      <td>NaN</td>\n",
              "      <td>NaN</td>\n",
              "      <td>NaN</td>\n",
              "      <td>NaN</td>\n",
              "      <td>NaN</td>\n",
              "      <td>NaN</td>\n",
              "      <td>NaN</td>\n",
              "      <td>NaN</td>\n",
              "      <td>NaN</td>\n",
              "      <td>NaN</td>\n",
              "      <td>NaN</td>\n",
              "      <td>NaN</td>\n",
              "      <td>NaN</td>\n",
              "      <td>NaN</td>\n",
              "      <td>NaN</td>\n",
              "      <td>NaN</td>\n",
              "      <td>NaN</td>\n",
              "      <td>NaN</td>\n",
              "      <td>Angry</td>\n",
              "    </tr>\n",
              "  </tbody>\n",
              "</table>\n",
              "<p>6 rows × 260 columns</p>\n",
              "</div>"
            ],
            "text/plain": [
              "         0          1          2    ...        257        258    0  \n",
              "0 -10.243323 -12.615479 -17.851021  ... -25.755066 -22.200029  Angry\n",
              "1 -25.535357 -27.289289 -30.718842  ... -21.191242 -18.892189  Angry\n",
              "2  -1.928406  -1.855620  -2.203659  ...  -7.137025  -1.799409  Angry\n",
              "3  -5.148818  -9.136763 -18.621670  ...        NaN        NaN  Angry\n",
              "4 -11.432728  -8.955170  -8.142177  ... -16.035114  -6.508455  Angry\n",
              "5   1.698505  -0.485533  -1.346693  ...        NaN        NaN  Angry\n",
              "\n",
              "[6 rows x 260 columns]"
            ]
          },
          "metadata": {
            "tags": []
          },
          "execution_count": 71
        }
      ]
    },
    {
      "cell_type": "code",
      "metadata": {
        "colab": {
          "base_uri": "https://localhost:8080/",
          "height": 437
        },
        "id": "8fV5oPH--9Hb",
        "outputId": "8da4036b-f214-4b2a-8fbc-ec247f319c8e"
      },
      "source": [
        "from sklearn.utils import shuffle\n",
        "rnewdf = shuffle(newdf)\n",
        "rnewdf[:400]"
      ],
      "execution_count": 76,
      "outputs": [
        {
          "output_type": "execute_result",
          "data": {
            "text/html": [
              "<div>\n",
              "<style scoped>\n",
              "    .dataframe tbody tr th:only-of-type {\n",
              "        vertical-align: middle;\n",
              "    }\n",
              "\n",
              "    .dataframe tbody tr th {\n",
              "        vertical-align: top;\n",
              "    }\n",
              "\n",
              "    .dataframe thead th {\n",
              "        text-align: right;\n",
              "    }\n",
              "</style>\n",
              "<table border=\"1\" class=\"dataframe\">\n",
              "  <thead>\n",
              "    <tr style=\"text-align: right;\">\n",
              "      <th></th>\n",
              "      <th>0</th>\n",
              "      <th>1</th>\n",
              "      <th>2</th>\n",
              "      <th>3</th>\n",
              "      <th>4</th>\n",
              "      <th>5</th>\n",
              "      <th>6</th>\n",
              "      <th>7</th>\n",
              "      <th>8</th>\n",
              "      <th>9</th>\n",
              "      <th>10</th>\n",
              "      <th>11</th>\n",
              "      <th>12</th>\n",
              "      <th>13</th>\n",
              "      <th>14</th>\n",
              "      <th>15</th>\n",
              "      <th>16</th>\n",
              "      <th>17</th>\n",
              "      <th>18</th>\n",
              "      <th>19</th>\n",
              "      <th>20</th>\n",
              "      <th>21</th>\n",
              "      <th>22</th>\n",
              "      <th>23</th>\n",
              "      <th>24</th>\n",
              "      <th>25</th>\n",
              "      <th>26</th>\n",
              "      <th>27</th>\n",
              "      <th>28</th>\n",
              "      <th>29</th>\n",
              "      <th>30</th>\n",
              "      <th>31</th>\n",
              "      <th>32</th>\n",
              "      <th>33</th>\n",
              "      <th>34</th>\n",
              "      <th>35</th>\n",
              "      <th>36</th>\n",
              "      <th>37</th>\n",
              "      <th>38</th>\n",
              "      <th>39</th>\n",
              "      <th>...</th>\n",
              "      <th>220</th>\n",
              "      <th>221</th>\n",
              "      <th>222</th>\n",
              "      <th>223</th>\n",
              "      <th>224</th>\n",
              "      <th>225</th>\n",
              "      <th>226</th>\n",
              "      <th>227</th>\n",
              "      <th>228</th>\n",
              "      <th>229</th>\n",
              "      <th>230</th>\n",
              "      <th>231</th>\n",
              "      <th>232</th>\n",
              "      <th>233</th>\n",
              "      <th>234</th>\n",
              "      <th>235</th>\n",
              "      <th>236</th>\n",
              "      <th>237</th>\n",
              "      <th>238</th>\n",
              "      <th>239</th>\n",
              "      <th>240</th>\n",
              "      <th>241</th>\n",
              "      <th>242</th>\n",
              "      <th>243</th>\n",
              "      <th>244</th>\n",
              "      <th>245</th>\n",
              "      <th>246</th>\n",
              "      <th>247</th>\n",
              "      <th>248</th>\n",
              "      <th>249</th>\n",
              "      <th>250</th>\n",
              "      <th>251</th>\n",
              "      <th>252</th>\n",
              "      <th>253</th>\n",
              "      <th>254</th>\n",
              "      <th>255</th>\n",
              "      <th>256</th>\n",
              "      <th>257</th>\n",
              "      <th>258</th>\n",
              "      <th>0</th>\n",
              "    </tr>\n",
              "  </thead>\n",
              "  <tbody>\n",
              "    <tr>\n",
              "      <th>80</th>\n",
              "      <td>-13.242290</td>\n",
              "      <td>-14.008275</td>\n",
              "      <td>-15.082509</td>\n",
              "      <td>-15.077991</td>\n",
              "      <td>-15.784709</td>\n",
              "      <td>-17.860878</td>\n",
              "      <td>-16.237589</td>\n",
              "      <td>-15.805808</td>\n",
              "      <td>-15.875307</td>\n",
              "      <td>-16.041912</td>\n",
              "      <td>-15.943288</td>\n",
              "      <td>-16.758738</td>\n",
              "      <td>-16.356901</td>\n",
              "      <td>-16.415726</td>\n",
              "      <td>-17.063475</td>\n",
              "      <td>-15.110330</td>\n",
              "      <td>-14.375798</td>\n",
              "      <td>-12.483812</td>\n",
              "      <td>-13.301620</td>\n",
              "      <td>-12.726140</td>\n",
              "      <td>-12.207952</td>\n",
              "      <td>-12.049157</td>\n",
              "      <td>-10.683888</td>\n",
              "      <td>-11.282899</td>\n",
              "      <td>-12.315397</td>\n",
              "      <td>-13.068904</td>\n",
              "      <td>-13.219362</td>\n",
              "      <td>-15.358276</td>\n",
              "      <td>-15.867514</td>\n",
              "      <td>-16.980030</td>\n",
              "      <td>-16.081505</td>\n",
              "      <td>-14.396476</td>\n",
              "      <td>-13.903111</td>\n",
              "      <td>-14.780250</td>\n",
              "      <td>-14.868434</td>\n",
              "      <td>-13.882102</td>\n",
              "      <td>-14.101979</td>\n",
              "      <td>-13.811996</td>\n",
              "      <td>-13.946355</td>\n",
              "      <td>-14.151567</td>\n",
              "      <td>...</td>\n",
              "      <td>-19.392488</td>\n",
              "      <td>-17.218861</td>\n",
              "      <td>NaN</td>\n",
              "      <td>NaN</td>\n",
              "      <td>NaN</td>\n",
              "      <td>NaN</td>\n",
              "      <td>NaN</td>\n",
              "      <td>NaN</td>\n",
              "      <td>NaN</td>\n",
              "      <td>NaN</td>\n",
              "      <td>NaN</td>\n",
              "      <td>NaN</td>\n",
              "      <td>NaN</td>\n",
              "      <td>NaN</td>\n",
              "      <td>NaN</td>\n",
              "      <td>NaN</td>\n",
              "      <td>NaN</td>\n",
              "      <td>NaN</td>\n",
              "      <td>NaN</td>\n",
              "      <td>NaN</td>\n",
              "      <td>NaN</td>\n",
              "      <td>NaN</td>\n",
              "      <td>NaN</td>\n",
              "      <td>NaN</td>\n",
              "      <td>NaN</td>\n",
              "      <td>NaN</td>\n",
              "      <td>NaN</td>\n",
              "      <td>NaN</td>\n",
              "      <td>NaN</td>\n",
              "      <td>NaN</td>\n",
              "      <td>NaN</td>\n",
              "      <td>NaN</td>\n",
              "      <td>NaN</td>\n",
              "      <td>NaN</td>\n",
              "      <td>NaN</td>\n",
              "      <td>NaN</td>\n",
              "      <td>NaN</td>\n",
              "      <td>NaN</td>\n",
              "      <td>NaN</td>\n",
              "      <td>Angry</td>\n",
              "    </tr>\n",
              "    <tr>\n",
              "      <th>86</th>\n",
              "      <td>-28.720476</td>\n",
              "      <td>-30.475344</td>\n",
              "      <td>-29.654814</td>\n",
              "      <td>-27.761312</td>\n",
              "      <td>-26.773367</td>\n",
              "      <td>-27.961020</td>\n",
              "      <td>-27.850594</td>\n",
              "      <td>-28.162548</td>\n",
              "      <td>-31.410042</td>\n",
              "      <td>-34.453686</td>\n",
              "      <td>-36.717793</td>\n",
              "      <td>-35.853100</td>\n",
              "      <td>-34.326736</td>\n",
              "      <td>-32.976749</td>\n",
              "      <td>-32.183159</td>\n",
              "      <td>-32.303738</td>\n",
              "      <td>-34.691574</td>\n",
              "      <td>-36.722157</td>\n",
              "      <td>-37.362427</td>\n",
              "      <td>-39.551697</td>\n",
              "      <td>-40.996525</td>\n",
              "      <td>-38.462967</td>\n",
              "      <td>-37.174946</td>\n",
              "      <td>-37.923763</td>\n",
              "      <td>-36.277172</td>\n",
              "      <td>-34.986549</td>\n",
              "      <td>-35.426346</td>\n",
              "      <td>-36.525478</td>\n",
              "      <td>-37.031609</td>\n",
              "      <td>-40.620991</td>\n",
              "      <td>-39.924786</td>\n",
              "      <td>-37.860020</td>\n",
              "      <td>-38.180702</td>\n",
              "      <td>-38.590107</td>\n",
              "      <td>-38.879284</td>\n",
              "      <td>-38.104977</td>\n",
              "      <td>-38.775307</td>\n",
              "      <td>-36.961723</td>\n",
              "      <td>-36.599735</td>\n",
              "      <td>-36.912704</td>\n",
              "      <td>...</td>\n",
              "      <td>-35.942673</td>\n",
              "      <td>-38.536667</td>\n",
              "      <td>-37.533054</td>\n",
              "      <td>-35.662724</td>\n",
              "      <td>-34.617046</td>\n",
              "      <td>-35.465794</td>\n",
              "      <td>-36.184933</td>\n",
              "      <td>-36.663658</td>\n",
              "      <td>-38.322563</td>\n",
              "      <td>-38.937214</td>\n",
              "      <td>-41.235886</td>\n",
              "      <td>-40.749004</td>\n",
              "      <td>-41.983494</td>\n",
              "      <td>-42.512901</td>\n",
              "      <td>-41.099468</td>\n",
              "      <td>-39.643795</td>\n",
              "      <td>-36.246223</td>\n",
              "      <td>-34.442329</td>\n",
              "      <td>-36.228554</td>\n",
              "      <td>-35.746174</td>\n",
              "      <td>-36.164707</td>\n",
              "      <td>-36.477760</td>\n",
              "      <td>-35.124153</td>\n",
              "      <td>-33.989437</td>\n",
              "      <td>-36.413216</td>\n",
              "      <td>-35.093586</td>\n",
              "      <td>-35.193222</td>\n",
              "      <td>-35.440170</td>\n",
              "      <td>-36.364098</td>\n",
              "      <td>-33.211010</td>\n",
              "      <td>-32.305527</td>\n",
              "      <td>-32.483639</td>\n",
              "      <td>-32.652203</td>\n",
              "      <td>-33.717319</td>\n",
              "      <td>-36.370182</td>\n",
              "      <td>-36.771309</td>\n",
              "      <td>-36.362667</td>\n",
              "      <td>-18.367430</td>\n",
              "      <td>-8.641273</td>\n",
              "      <td>Angry</td>\n",
              "    </tr>\n",
              "    <tr>\n",
              "      <th>114</th>\n",
              "      <td>-9.393489</td>\n",
              "      <td>-11.705887</td>\n",
              "      <td>-13.926948</td>\n",
              "      <td>-14.114965</td>\n",
              "      <td>-14.297867</td>\n",
              "      <td>-14.440379</td>\n",
              "      <td>-12.032846</td>\n",
              "      <td>-12.768241</td>\n",
              "      <td>-13.148049</td>\n",
              "      <td>-12.952504</td>\n",
              "      <td>-14.917472</td>\n",
              "      <td>-15.108484</td>\n",
              "      <td>-15.666971</td>\n",
              "      <td>-15.631196</td>\n",
              "      <td>-16.146097</td>\n",
              "      <td>-18.262211</td>\n",
              "      <td>-17.219179</td>\n",
              "      <td>-15.989164</td>\n",
              "      <td>-15.824017</td>\n",
              "      <td>-15.687071</td>\n",
              "      <td>-15.620034</td>\n",
              "      <td>-16.852686</td>\n",
              "      <td>-15.048946</td>\n",
              "      <td>-15.125122</td>\n",
              "      <td>-17.502075</td>\n",
              "      <td>-16.414381</td>\n",
              "      <td>-15.698507</td>\n",
              "      <td>-12.702691</td>\n",
              "      <td>-8.178328</td>\n",
              "      <td>-8.449769</td>\n",
              "      <td>-11.304530</td>\n",
              "      <td>-14.684493</td>\n",
              "      <td>-15.706118</td>\n",
              "      <td>-15.149052</td>\n",
              "      <td>-14.171546</td>\n",
              "      <td>-17.043758</td>\n",
              "      <td>-18.080011</td>\n",
              "      <td>-17.333397</td>\n",
              "      <td>-17.868254</td>\n",
              "      <td>-18.831530</td>\n",
              "      <td>...</td>\n",
              "      <td>-14.070785</td>\n",
              "      <td>-15.502317</td>\n",
              "      <td>-16.118908</td>\n",
              "      <td>-15.156071</td>\n",
              "      <td>-14.751163</td>\n",
              "      <td>-12.205695</td>\n",
              "      <td>-9.740144</td>\n",
              "      <td>-8.663286</td>\n",
              "      <td>-10.841294</td>\n",
              "      <td>-14.104563</td>\n",
              "      <td>-11.964121</td>\n",
              "      <td>-12.922733</td>\n",
              "      <td>-15.081019</td>\n",
              "      <td>-13.520183</td>\n",
              "      <td>-11.792247</td>\n",
              "      <td>-11.672750</td>\n",
              "      <td>-11.228052</td>\n",
              "      <td>-12.189650</td>\n",
              "      <td>-13.463920</td>\n",
              "      <td>-13.932469</td>\n",
              "      <td>-16.009203</td>\n",
              "      <td>-14.982804</td>\n",
              "      <td>-16.756166</td>\n",
              "      <td>-18.382668</td>\n",
              "      <td>-19.303436</td>\n",
              "      <td>-17.212833</td>\n",
              "      <td>-17.483692</td>\n",
              "      <td>-17.380238</td>\n",
              "      <td>-15.444863</td>\n",
              "      <td>-14.451503</td>\n",
              "      <td>-15.851111</td>\n",
              "      <td>-17.899626</td>\n",
              "      <td>-16.475044</td>\n",
              "      <td>-17.757895</td>\n",
              "      <td>-19.616827</td>\n",
              "      <td>-20.721447</td>\n",
              "      <td>-17.905903</td>\n",
              "      <td>-14.555060</td>\n",
              "      <td>-15.609013</td>\n",
              "      <td>Happy</td>\n",
              "    </tr>\n",
              "    <tr>\n",
              "      <th>127</th>\n",
              "      <td>-4.850917</td>\n",
              "      <td>-4.907643</td>\n",
              "      <td>-5.123703</td>\n",
              "      <td>-5.511835</td>\n",
              "      <td>-7.357773</td>\n",
              "      <td>-7.674759</td>\n",
              "      <td>-7.408368</td>\n",
              "      <td>-8.503600</td>\n",
              "      <td>-8.769433</td>\n",
              "      <td>-8.670855</td>\n",
              "      <td>-9.636098</td>\n",
              "      <td>-11.961292</td>\n",
              "      <td>-10.143790</td>\n",
              "      <td>-8.191684</td>\n",
              "      <td>-8.946559</td>\n",
              "      <td>-8.721387</td>\n",
              "      <td>-6.686921</td>\n",
              "      <td>-7.521238</td>\n",
              "      <td>-9.005610</td>\n",
              "      <td>-10.688938</td>\n",
              "      <td>-10.825439</td>\n",
              "      <td>-11.671493</td>\n",
              "      <td>-11.172159</td>\n",
              "      <td>-9.808467</td>\n",
              "      <td>-9.397042</td>\n",
              "      <td>-8.043694</td>\n",
              "      <td>-8.012110</td>\n",
              "      <td>-7.310907</td>\n",
              "      <td>-7.718760</td>\n",
              "      <td>-8.889828</td>\n",
              "      <td>-8.415901</td>\n",
              "      <td>-8.308517</td>\n",
              "      <td>-8.086114</td>\n",
              "      <td>-7.795864</td>\n",
              "      <td>-7.416860</td>\n",
              "      <td>-8.104918</td>\n",
              "      <td>-7.517864</td>\n",
              "      <td>-8.431931</td>\n",
              "      <td>-11.118185</td>\n",
              "      <td>-10.766091</td>\n",
              "      <td>...</td>\n",
              "      <td>-10.684697</td>\n",
              "      <td>-9.886339</td>\n",
              "      <td>-11.931962</td>\n",
              "      <td>-14.787897</td>\n",
              "      <td>-14.338861</td>\n",
              "      <td>-12.644261</td>\n",
              "      <td>-12.776838</td>\n",
              "      <td>-11.112096</td>\n",
              "      <td>-10.663168</td>\n",
              "      <td>-11.870240</td>\n",
              "      <td>-11.107433</td>\n",
              "      <td>-11.719900</td>\n",
              "      <td>-9.718928</td>\n",
              "      <td>-12.221859</td>\n",
              "      <td>-13.656961</td>\n",
              "      <td>-12.597951</td>\n",
              "      <td>-13.050871</td>\n",
              "      <td>-13.874842</td>\n",
              "      <td>-11.197738</td>\n",
              "      <td>-9.984316</td>\n",
              "      <td>-9.884260</td>\n",
              "      <td>-8.028809</td>\n",
              "      <td>-8.961679</td>\n",
              "      <td>-10.577839</td>\n",
              "      <td>-10.119078</td>\n",
              "      <td>-9.419229</td>\n",
              "      <td>-9.435716</td>\n",
              "      <td>-8.563951</td>\n",
              "      <td>-8.645199</td>\n",
              "      <td>-8.997683</td>\n",
              "      <td>-7.403798</td>\n",
              "      <td>-6.568790</td>\n",
              "      <td>-7.208295</td>\n",
              "      <td>-8.087126</td>\n",
              "      <td>-9.248999</td>\n",
              "      <td>-13.199505</td>\n",
              "      <td>-10.624721</td>\n",
              "      <td>-5.849713</td>\n",
              "      <td>0.007341</td>\n",
              "      <td>Happy</td>\n",
              "    </tr>\n",
              "    <tr>\n",
              "      <th>256</th>\n",
              "      <td>-35.518459</td>\n",
              "      <td>-34.209839</td>\n",
              "      <td>-31.869181</td>\n",
              "      <td>-29.133646</td>\n",
              "      <td>-26.929619</td>\n",
              "      <td>-19.480381</td>\n",
              "      <td>-11.076303</td>\n",
              "      <td>-7.610866</td>\n",
              "      <td>-9.073921</td>\n",
              "      <td>-10.014237</td>\n",
              "      <td>-9.193512</td>\n",
              "      <td>-7.332763</td>\n",
              "      <td>-2.301394</td>\n",
              "      <td>-1.477096</td>\n",
              "      <td>-2.374855</td>\n",
              "      <td>-2.169719</td>\n",
              "      <td>-2.965478</td>\n",
              "      <td>-5.106452</td>\n",
              "      <td>-7.909060</td>\n",
              "      <td>-10.026205</td>\n",
              "      <td>-10.915178</td>\n",
              "      <td>-11.342351</td>\n",
              "      <td>-11.299839</td>\n",
              "      <td>-11.715540</td>\n",
              "      <td>-12.737788</td>\n",
              "      <td>-8.705153</td>\n",
              "      <td>-6.035161</td>\n",
              "      <td>-7.134569</td>\n",
              "      <td>-9.468681</td>\n",
              "      <td>-11.365035</td>\n",
              "      <td>-9.281139</td>\n",
              "      <td>-5.289849</td>\n",
              "      <td>-5.444137</td>\n",
              "      <td>-7.891537</td>\n",
              "      <td>-9.446665</td>\n",
              "      <td>-9.635280</td>\n",
              "      <td>-9.818004</td>\n",
              "      <td>-9.712994</td>\n",
              "      <td>-9.815779</td>\n",
              "      <td>-10.536346</td>\n",
              "      <td>...</td>\n",
              "      <td>-29.552673</td>\n",
              "      <td>-27.796312</td>\n",
              "      <td>-27.094646</td>\n",
              "      <td>-25.842400</td>\n",
              "      <td>-25.936354</td>\n",
              "      <td>-27.824602</td>\n",
              "      <td>-29.673500</td>\n",
              "      <td>-28.869778</td>\n",
              "      <td>-27.935061</td>\n",
              "      <td>-27.382771</td>\n",
              "      <td>-27.922667</td>\n",
              "      <td>-28.233793</td>\n",
              "      <td>NaN</td>\n",
              "      <td>NaN</td>\n",
              "      <td>NaN</td>\n",
              "      <td>NaN</td>\n",
              "      <td>NaN</td>\n",
              "      <td>NaN</td>\n",
              "      <td>NaN</td>\n",
              "      <td>NaN</td>\n",
              "      <td>NaN</td>\n",
              "      <td>NaN</td>\n",
              "      <td>NaN</td>\n",
              "      <td>NaN</td>\n",
              "      <td>NaN</td>\n",
              "      <td>NaN</td>\n",
              "      <td>NaN</td>\n",
              "      <td>NaN</td>\n",
              "      <td>NaN</td>\n",
              "      <td>NaN</td>\n",
              "      <td>NaN</td>\n",
              "      <td>NaN</td>\n",
              "      <td>NaN</td>\n",
              "      <td>NaN</td>\n",
              "      <td>NaN</td>\n",
              "      <td>NaN</td>\n",
              "      <td>NaN</td>\n",
              "      <td>NaN</td>\n",
              "      <td>NaN</td>\n",
              "      <td>Neutral</td>\n",
              "    </tr>\n",
              "    <tr>\n",
              "      <th>...</th>\n",
              "      <td>...</td>\n",
              "      <td>...</td>\n",
              "      <td>...</td>\n",
              "      <td>...</td>\n",
              "      <td>...</td>\n",
              "      <td>...</td>\n",
              "      <td>...</td>\n",
              "      <td>...</td>\n",
              "      <td>...</td>\n",
              "      <td>...</td>\n",
              "      <td>...</td>\n",
              "      <td>...</td>\n",
              "      <td>...</td>\n",
              "      <td>...</td>\n",
              "      <td>...</td>\n",
              "      <td>...</td>\n",
              "      <td>...</td>\n",
              "      <td>...</td>\n",
              "      <td>...</td>\n",
              "      <td>...</td>\n",
              "      <td>...</td>\n",
              "      <td>...</td>\n",
              "      <td>...</td>\n",
              "      <td>...</td>\n",
              "      <td>...</td>\n",
              "      <td>...</td>\n",
              "      <td>...</td>\n",
              "      <td>...</td>\n",
              "      <td>...</td>\n",
              "      <td>...</td>\n",
              "      <td>...</td>\n",
              "      <td>...</td>\n",
              "      <td>...</td>\n",
              "      <td>...</td>\n",
              "      <td>...</td>\n",
              "      <td>...</td>\n",
              "      <td>...</td>\n",
              "      <td>...</td>\n",
              "      <td>...</td>\n",
              "      <td>...</td>\n",
              "      <td>...</td>\n",
              "      <td>...</td>\n",
              "      <td>...</td>\n",
              "      <td>...</td>\n",
              "      <td>...</td>\n",
              "      <td>...</td>\n",
              "      <td>...</td>\n",
              "      <td>...</td>\n",
              "      <td>...</td>\n",
              "      <td>...</td>\n",
              "      <td>...</td>\n",
              "      <td>...</td>\n",
              "      <td>...</td>\n",
              "      <td>...</td>\n",
              "      <td>...</td>\n",
              "      <td>...</td>\n",
              "      <td>...</td>\n",
              "      <td>...</td>\n",
              "      <td>...</td>\n",
              "      <td>...</td>\n",
              "      <td>...</td>\n",
              "      <td>...</td>\n",
              "      <td>...</td>\n",
              "      <td>...</td>\n",
              "      <td>...</td>\n",
              "      <td>...</td>\n",
              "      <td>...</td>\n",
              "      <td>...</td>\n",
              "      <td>...</td>\n",
              "      <td>...</td>\n",
              "      <td>...</td>\n",
              "      <td>...</td>\n",
              "      <td>...</td>\n",
              "      <td>...</td>\n",
              "      <td>...</td>\n",
              "      <td>...</td>\n",
              "      <td>...</td>\n",
              "      <td>...</td>\n",
              "      <td>...</td>\n",
              "      <td>...</td>\n",
              "      <td>...</td>\n",
              "    </tr>\n",
              "    <tr>\n",
              "      <th>77</th>\n",
              "      <td>-0.640311</td>\n",
              "      <td>-0.673350</td>\n",
              "      <td>-2.611986</td>\n",
              "      <td>-4.796918</td>\n",
              "      <td>-6.196943</td>\n",
              "      <td>-6.517038</td>\n",
              "      <td>-7.738698</td>\n",
              "      <td>-5.971688</td>\n",
              "      <td>-2.463855</td>\n",
              "      <td>-0.924174</td>\n",
              "      <td>-0.750635</td>\n",
              "      <td>-4.199459</td>\n",
              "      <td>-2.467932</td>\n",
              "      <td>-1.964564</td>\n",
              "      <td>-2.031229</td>\n",
              "      <td>-2.788485</td>\n",
              "      <td>-7.083102</td>\n",
              "      <td>-9.915490</td>\n",
              "      <td>-8.417546</td>\n",
              "      <td>-9.000332</td>\n",
              "      <td>-11.222454</td>\n",
              "      <td>-11.243999</td>\n",
              "      <td>-10.827764</td>\n",
              "      <td>-11.432713</td>\n",
              "      <td>-11.502707</td>\n",
              "      <td>-11.963408</td>\n",
              "      <td>-11.626856</td>\n",
              "      <td>-12.787985</td>\n",
              "      <td>-14.926241</td>\n",
              "      <td>-14.094854</td>\n",
              "      <td>-14.382570</td>\n",
              "      <td>-13.337718</td>\n",
              "      <td>-14.011693</td>\n",
              "      <td>-14.920595</td>\n",
              "      <td>-15.405630</td>\n",
              "      <td>-14.589381</td>\n",
              "      <td>-12.630271</td>\n",
              "      <td>-10.133657</td>\n",
              "      <td>-7.855992</td>\n",
              "      <td>-5.859598</td>\n",
              "      <td>...</td>\n",
              "      <td>-7.039408</td>\n",
              "      <td>-9.664571</td>\n",
              "      <td>-6.769981</td>\n",
              "      <td>-5.988548</td>\n",
              "      <td>-6.201086</td>\n",
              "      <td>-6.042636</td>\n",
              "      <td>-5.363809</td>\n",
              "      <td>-6.065412</td>\n",
              "      <td>-6.428126</td>\n",
              "      <td>-6.556148</td>\n",
              "      <td>-9.503449</td>\n",
              "      <td>-11.702790</td>\n",
              "      <td>-11.580044</td>\n",
              "      <td>-12.087374</td>\n",
              "      <td>-12.290477</td>\n",
              "      <td>-14.825314</td>\n",
              "      <td>-16.445652</td>\n",
              "      <td>-16.386721</td>\n",
              "      <td>-17.811069</td>\n",
              "      <td>-16.186512</td>\n",
              "      <td>-12.476294</td>\n",
              "      <td>-10.214309</td>\n",
              "      <td>-8.948858</td>\n",
              "      <td>-5.734077</td>\n",
              "      <td>-4.625623</td>\n",
              "      <td>-7.642348</td>\n",
              "      <td>-6.534632</td>\n",
              "      <td>-5.795416</td>\n",
              "      <td>-7.192721</td>\n",
              "      <td>-6.507217</td>\n",
              "      <td>-7.299768</td>\n",
              "      <td>-8.750818</td>\n",
              "      <td>-9.449533</td>\n",
              "      <td>-9.559227</td>\n",
              "      <td>-6.813119</td>\n",
              "      <td>-3.905093</td>\n",
              "      <td>-1.794452</td>\n",
              "      <td>-1.401970</td>\n",
              "      <td>0.927241</td>\n",
              "      <td>Angry</td>\n",
              "    </tr>\n",
              "    <tr>\n",
              "      <th>68</th>\n",
              "      <td>-31.269346</td>\n",
              "      <td>-35.354641</td>\n",
              "      <td>-43.100956</td>\n",
              "      <td>-43.010250</td>\n",
              "      <td>-40.500999</td>\n",
              "      <td>-40.690468</td>\n",
              "      <td>-39.468033</td>\n",
              "      <td>-39.407780</td>\n",
              "      <td>-41.678810</td>\n",
              "      <td>-44.127151</td>\n",
              "      <td>-42.899906</td>\n",
              "      <td>-43.041733</td>\n",
              "      <td>-41.759407</td>\n",
              "      <td>-40.419827</td>\n",
              "      <td>-39.902767</td>\n",
              "      <td>-39.782009</td>\n",
              "      <td>-39.838387</td>\n",
              "      <td>-41.103069</td>\n",
              "      <td>-44.149349</td>\n",
              "      <td>-40.339886</td>\n",
              "      <td>-38.371967</td>\n",
              "      <td>-35.993279</td>\n",
              "      <td>-36.332146</td>\n",
              "      <td>-37.220078</td>\n",
              "      <td>-37.651737</td>\n",
              "      <td>-37.346386</td>\n",
              "      <td>-34.978058</td>\n",
              "      <td>-34.426292</td>\n",
              "      <td>-35.455612</td>\n",
              "      <td>-36.315464</td>\n",
              "      <td>-36.689167</td>\n",
              "      <td>-36.306099</td>\n",
              "      <td>-35.563679</td>\n",
              "      <td>-37.205433</td>\n",
              "      <td>-37.846054</td>\n",
              "      <td>-38.292564</td>\n",
              "      <td>-38.056545</td>\n",
              "      <td>-36.257446</td>\n",
              "      <td>-36.634323</td>\n",
              "      <td>-39.932518</td>\n",
              "      <td>...</td>\n",
              "      <td>-42.914169</td>\n",
              "      <td>-41.593121</td>\n",
              "      <td>-42.509502</td>\n",
              "      <td>-41.869732</td>\n",
              "      <td>-40.332424</td>\n",
              "      <td>-42.114216</td>\n",
              "      <td>-41.298454</td>\n",
              "      <td>-38.646381</td>\n",
              "      <td>-39.005650</td>\n",
              "      <td>-40.674274</td>\n",
              "      <td>-39.104374</td>\n",
              "      <td>-37.936855</td>\n",
              "      <td>-37.993000</td>\n",
              "      <td>-36.863911</td>\n",
              "      <td>-37.654106</td>\n",
              "      <td>-36.504410</td>\n",
              "      <td>-36.243549</td>\n",
              "      <td>-35.497807</td>\n",
              "      <td>-34.886196</td>\n",
              "      <td>-37.655716</td>\n",
              "      <td>-41.265568</td>\n",
              "      <td>-42.485683</td>\n",
              "      <td>-42.755276</td>\n",
              "      <td>-41.121929</td>\n",
              "      <td>-39.185871</td>\n",
              "      <td>-36.965687</td>\n",
              "      <td>-36.312939</td>\n",
              "      <td>-36.843819</td>\n",
              "      <td>-36.998154</td>\n",
              "      <td>-37.554550</td>\n",
              "      <td>-36.068916</td>\n",
              "      <td>-36.912838</td>\n",
              "      <td>-38.129868</td>\n",
              "      <td>-38.352951</td>\n",
              "      <td>-36.711082</td>\n",
              "      <td>-34.268890</td>\n",
              "      <td>-34.629002</td>\n",
              "      <td>-37.105801</td>\n",
              "      <td>-31.220879</td>\n",
              "      <td>Angry</td>\n",
              "    </tr>\n",
              "    <tr>\n",
              "      <th>269</th>\n",
              "      <td>-23.721504</td>\n",
              "      <td>-22.613777</td>\n",
              "      <td>-22.373533</td>\n",
              "      <td>-22.875425</td>\n",
              "      <td>-20.846231</td>\n",
              "      <td>-21.958475</td>\n",
              "      <td>-20.340221</td>\n",
              "      <td>-20.582176</td>\n",
              "      <td>-22.348814</td>\n",
              "      <td>-21.459042</td>\n",
              "      <td>-19.315594</td>\n",
              "      <td>-17.470156</td>\n",
              "      <td>-16.078997</td>\n",
              "      <td>-15.117024</td>\n",
              "      <td>-15.067890</td>\n",
              "      <td>-13.659392</td>\n",
              "      <td>-11.479793</td>\n",
              "      <td>-12.991088</td>\n",
              "      <td>-13.024035</td>\n",
              "      <td>-11.761738</td>\n",
              "      <td>-10.829299</td>\n",
              "      <td>-11.136982</td>\n",
              "      <td>-12.757849</td>\n",
              "      <td>-12.206440</td>\n",
              "      <td>-12.532815</td>\n",
              "      <td>-12.379251</td>\n",
              "      <td>-13.761705</td>\n",
              "      <td>-13.572158</td>\n",
              "      <td>-11.668786</td>\n",
              "      <td>-12.952967</td>\n",
              "      <td>-14.911274</td>\n",
              "      <td>-15.644578</td>\n",
              "      <td>-13.939795</td>\n",
              "      <td>-13.969482</td>\n",
              "      <td>-14.400860</td>\n",
              "      <td>-14.852079</td>\n",
              "      <td>-15.864996</td>\n",
              "      <td>-14.326473</td>\n",
              "      <td>-13.125855</td>\n",
              "      <td>-11.612270</td>\n",
              "      <td>...</td>\n",
              "      <td>-19.283285</td>\n",
              "      <td>-19.671951</td>\n",
              "      <td>-20.512285</td>\n",
              "      <td>-19.983250</td>\n",
              "      <td>-18.816401</td>\n",
              "      <td>-10.651918</td>\n",
              "      <td>-2.719423</td>\n",
              "      <td>-3.263405</td>\n",
              "      <td>-8.947765</td>\n",
              "      <td>-14.177526</td>\n",
              "      <td>-17.073063</td>\n",
              "      <td>-13.628359</td>\n",
              "      <td>-13.150171</td>\n",
              "      <td>-15.892038</td>\n",
              "      <td>-17.525158</td>\n",
              "      <td>-18.662558</td>\n",
              "      <td>-17.642494</td>\n",
              "      <td>-16.563196</td>\n",
              "      <td>-16.749794</td>\n",
              "      <td>-18.037502</td>\n",
              "      <td>-16.936287</td>\n",
              "      <td>-16.453768</td>\n",
              "      <td>-17.337742</td>\n",
              "      <td>-18.172009</td>\n",
              "      <td>-19.112968</td>\n",
              "      <td>-18.516264</td>\n",
              "      <td>-18.290745</td>\n",
              "      <td>-19.370741</td>\n",
              "      <td>-20.549858</td>\n",
              "      <td>-21.726980</td>\n",
              "      <td>-20.665688</td>\n",
              "      <td>-20.398708</td>\n",
              "      <td>-22.649097</td>\n",
              "      <td>-23.196999</td>\n",
              "      <td>-22.163078</td>\n",
              "      <td>-22.949375</td>\n",
              "      <td>-23.467915</td>\n",
              "      <td>-22.458300</td>\n",
              "      <td>-22.431253</td>\n",
              "      <td>Neutral</td>\n",
              "    </tr>\n",
              "    <tr>\n",
              "      <th>220</th>\n",
              "      <td>-26.009356</td>\n",
              "      <td>-24.465376</td>\n",
              "      <td>-26.975344</td>\n",
              "      <td>-26.284685</td>\n",
              "      <td>-24.043831</td>\n",
              "      <td>-21.291431</td>\n",
              "      <td>-15.591290</td>\n",
              "      <td>-12.770483</td>\n",
              "      <td>-11.366954</td>\n",
              "      <td>-10.545669</td>\n",
              "      <td>-10.767925</td>\n",
              "      <td>-9.681870</td>\n",
              "      <td>-8.918281</td>\n",
              "      <td>-8.194251</td>\n",
              "      <td>-8.191260</td>\n",
              "      <td>-8.776870</td>\n",
              "      <td>-8.064851</td>\n",
              "      <td>-8.970490</td>\n",
              "      <td>-8.528949</td>\n",
              "      <td>-5.987987</td>\n",
              "      <td>-7.366847</td>\n",
              "      <td>-14.737104</td>\n",
              "      <td>-20.855591</td>\n",
              "      <td>-22.949341</td>\n",
              "      <td>-24.439604</td>\n",
              "      <td>-24.530525</td>\n",
              "      <td>-18.620487</td>\n",
              "      <td>-14.140501</td>\n",
              "      <td>-9.332665</td>\n",
              "      <td>-8.937425</td>\n",
              "      <td>-9.728925</td>\n",
              "      <td>-9.250685</td>\n",
              "      <td>-8.555961</td>\n",
              "      <td>-7.464076</td>\n",
              "      <td>-9.724570</td>\n",
              "      <td>-13.618429</td>\n",
              "      <td>-12.570845</td>\n",
              "      <td>-13.136809</td>\n",
              "      <td>-13.349583</td>\n",
              "      <td>-12.271611</td>\n",
              "      <td>...</td>\n",
              "      <td>-12.697982</td>\n",
              "      <td>-12.337653</td>\n",
              "      <td>-11.590170</td>\n",
              "      <td>-11.339108</td>\n",
              "      <td>-12.133411</td>\n",
              "      <td>-11.222189</td>\n",
              "      <td>-10.851072</td>\n",
              "      <td>-10.338552</td>\n",
              "      <td>-10.371253</td>\n",
              "      <td>-11.765003</td>\n",
              "      <td>-12.595570</td>\n",
              "      <td>-14.131536</td>\n",
              "      <td>-14.362540</td>\n",
              "      <td>-15.258970</td>\n",
              "      <td>-17.022202</td>\n",
              "      <td>-17.395393</td>\n",
              "      <td>-17.479475</td>\n",
              "      <td>-19.349585</td>\n",
              "      <td>-20.522997</td>\n",
              "      <td>-20.175520</td>\n",
              "      <td>-20.545448</td>\n",
              "      <td>-21.371941</td>\n",
              "      <td>-22.186033</td>\n",
              "      <td>-24.594292</td>\n",
              "      <td>-27.231899</td>\n",
              "      <td>-29.008999</td>\n",
              "      <td>-28.144888</td>\n",
              "      <td>-28.631001</td>\n",
              "      <td>-28.426077</td>\n",
              "      <td>-31.311918</td>\n",
              "      <td>-27.869566</td>\n",
              "      <td>-25.192677</td>\n",
              "      <td>-23.960592</td>\n",
              "      <td>-23.125078</td>\n",
              "      <td>-23.539633</td>\n",
              "      <td>-23.057432</td>\n",
              "      <td>-24.366905</td>\n",
              "      <td>-24.117079</td>\n",
              "      <td>-24.699018</td>\n",
              "      <td>Neutral</td>\n",
              "    </tr>\n",
              "    <tr>\n",
              "      <th>387</th>\n",
              "      <td>-12.257491</td>\n",
              "      <td>-12.785564</td>\n",
              "      <td>-15.001725</td>\n",
              "      <td>-15.335979</td>\n",
              "      <td>-15.882421</td>\n",
              "      <td>-16.930212</td>\n",
              "      <td>-17.189156</td>\n",
              "      <td>-17.171436</td>\n",
              "      <td>-16.702375</td>\n",
              "      <td>-17.734489</td>\n",
              "      <td>-19.240322</td>\n",
              "      <td>-21.042999</td>\n",
              "      <td>-18.576044</td>\n",
              "      <td>-16.111134</td>\n",
              "      <td>-17.921434</td>\n",
              "      <td>-15.344418</td>\n",
              "      <td>-14.528580</td>\n",
              "      <td>-16.158163</td>\n",
              "      <td>-15.532053</td>\n",
              "      <td>-15.493081</td>\n",
              "      <td>-16.008205</td>\n",
              "      <td>-15.660817</td>\n",
              "      <td>-14.507559</td>\n",
              "      <td>-14.434278</td>\n",
              "      <td>-14.609502</td>\n",
              "      <td>-14.883801</td>\n",
              "      <td>-14.190456</td>\n",
              "      <td>-14.145225</td>\n",
              "      <td>-14.009981</td>\n",
              "      <td>-14.494242</td>\n",
              "      <td>-15.579182</td>\n",
              "      <td>-16.900005</td>\n",
              "      <td>-17.495283</td>\n",
              "      <td>-18.518658</td>\n",
              "      <td>-18.836040</td>\n",
              "      <td>-19.038288</td>\n",
              "      <td>-20.281761</td>\n",
              "      <td>-19.467772</td>\n",
              "      <td>-21.829628</td>\n",
              "      <td>-19.615742</td>\n",
              "      <td>...</td>\n",
              "      <td>-20.184092</td>\n",
              "      <td>-17.014696</td>\n",
              "      <td>-17.205000</td>\n",
              "      <td>-16.315573</td>\n",
              "      <td>-15.636336</td>\n",
              "      <td>-17.010275</td>\n",
              "      <td>-17.873129</td>\n",
              "      <td>-18.352095</td>\n",
              "      <td>-19.450428</td>\n",
              "      <td>-17.624998</td>\n",
              "      <td>-17.773115</td>\n",
              "      <td>-18.886623</td>\n",
              "      <td>-21.702705</td>\n",
              "      <td>-17.942635</td>\n",
              "      <td>-16.584379</td>\n",
              "      <td>-17.128147</td>\n",
              "      <td>-16.081573</td>\n",
              "      <td>-17.475279</td>\n",
              "      <td>-17.226158</td>\n",
              "      <td>-15.732223</td>\n",
              "      <td>-16.085588</td>\n",
              "      <td>-16.253498</td>\n",
              "      <td>-16.885687</td>\n",
              "      <td>-17.348106</td>\n",
              "      <td>-15.444253</td>\n",
              "      <td>-15.070403</td>\n",
              "      <td>-15.215048</td>\n",
              "      <td>-15.994900</td>\n",
              "      <td>-15.779434</td>\n",
              "      <td>-15.241078</td>\n",
              "      <td>-15.599870</td>\n",
              "      <td>-16.002146</td>\n",
              "      <td>-15.665168</td>\n",
              "      <td>-15.606431</td>\n",
              "      <td>-16.214664</td>\n",
              "      <td>-15.834311</td>\n",
              "      <td>-15.708782</td>\n",
              "      <td>-14.697230</td>\n",
              "      <td>-12.711760</td>\n",
              "      <td>Sad</td>\n",
              "    </tr>\n",
              "  </tbody>\n",
              "</table>\n",
              "<p>400 rows × 260 columns</p>\n",
              "</div>"
            ],
            "text/plain": [
              "           0          1          2    ...        257        258      0  \n",
              "80  -13.242290 -14.008275 -15.082509  ...        NaN        NaN    Angry\n",
              "86  -28.720476 -30.475344 -29.654814  ... -18.367430  -8.641273    Angry\n",
              "114  -9.393489 -11.705887 -13.926948  ... -14.555060 -15.609013    Happy\n",
              "127  -4.850917  -4.907643  -5.123703  ...  -5.849713   0.007341    Happy\n",
              "256 -35.518459 -34.209839 -31.869181  ...        NaN        NaN  Neutral\n",
              "..         ...        ...        ...  ...        ...        ...      ...\n",
              "77   -0.640311  -0.673350  -2.611986  ...  -1.401970   0.927241    Angry\n",
              "68  -31.269346 -35.354641 -43.100956  ... -37.105801 -31.220879    Angry\n",
              "269 -23.721504 -22.613777 -22.373533  ... -22.458300 -22.431253  Neutral\n",
              "220 -26.009356 -24.465376 -26.975344  ... -24.117079 -24.699018  Neutral\n",
              "387 -12.257491 -12.785564 -15.001725  ... -14.697230 -12.711760      Sad\n",
              "\n",
              "[400 rows x 260 columns]"
            ]
          },
          "metadata": {
            "tags": []
          },
          "execution_count": 76
        }
      ]
    },
    {
      "cell_type": "code",
      "metadata": {
        "id": "3Mi6VB_i_Az0"
      },
      "source": [
        "rnewdf=rnewdf.fillna(0)"
      ],
      "execution_count": 77,
      "outputs": []
    },
    {
      "cell_type": "code",
      "metadata": {
        "id": "kROXu0i-cDtU",
        "outputId": "6330e7af-1214-4549-e013-1986a03e6e4b",
        "colab": {
          "base_uri": "https://localhost:8080/",
          "height": 437
        }
      },
      "source": [
        "rnewdf[:400]"
      ],
      "execution_count": 78,
      "outputs": [
        {
          "output_type": "execute_result",
          "data": {
            "text/html": [
              "<div>\n",
              "<style scoped>\n",
              "    .dataframe tbody tr th:only-of-type {\n",
              "        vertical-align: middle;\n",
              "    }\n",
              "\n",
              "    .dataframe tbody tr th {\n",
              "        vertical-align: top;\n",
              "    }\n",
              "\n",
              "    .dataframe thead th {\n",
              "        text-align: right;\n",
              "    }\n",
              "</style>\n",
              "<table border=\"1\" class=\"dataframe\">\n",
              "  <thead>\n",
              "    <tr style=\"text-align: right;\">\n",
              "      <th></th>\n",
              "      <th>0</th>\n",
              "      <th>1</th>\n",
              "      <th>2</th>\n",
              "      <th>3</th>\n",
              "      <th>4</th>\n",
              "      <th>5</th>\n",
              "      <th>6</th>\n",
              "      <th>7</th>\n",
              "      <th>8</th>\n",
              "      <th>9</th>\n",
              "      <th>10</th>\n",
              "      <th>11</th>\n",
              "      <th>12</th>\n",
              "      <th>13</th>\n",
              "      <th>14</th>\n",
              "      <th>15</th>\n",
              "      <th>16</th>\n",
              "      <th>17</th>\n",
              "      <th>18</th>\n",
              "      <th>19</th>\n",
              "      <th>20</th>\n",
              "      <th>21</th>\n",
              "      <th>22</th>\n",
              "      <th>23</th>\n",
              "      <th>24</th>\n",
              "      <th>25</th>\n",
              "      <th>26</th>\n",
              "      <th>27</th>\n",
              "      <th>28</th>\n",
              "      <th>29</th>\n",
              "      <th>30</th>\n",
              "      <th>31</th>\n",
              "      <th>32</th>\n",
              "      <th>33</th>\n",
              "      <th>34</th>\n",
              "      <th>35</th>\n",
              "      <th>36</th>\n",
              "      <th>37</th>\n",
              "      <th>38</th>\n",
              "      <th>39</th>\n",
              "      <th>...</th>\n",
              "      <th>220</th>\n",
              "      <th>221</th>\n",
              "      <th>222</th>\n",
              "      <th>223</th>\n",
              "      <th>224</th>\n",
              "      <th>225</th>\n",
              "      <th>226</th>\n",
              "      <th>227</th>\n",
              "      <th>228</th>\n",
              "      <th>229</th>\n",
              "      <th>230</th>\n",
              "      <th>231</th>\n",
              "      <th>232</th>\n",
              "      <th>233</th>\n",
              "      <th>234</th>\n",
              "      <th>235</th>\n",
              "      <th>236</th>\n",
              "      <th>237</th>\n",
              "      <th>238</th>\n",
              "      <th>239</th>\n",
              "      <th>240</th>\n",
              "      <th>241</th>\n",
              "      <th>242</th>\n",
              "      <th>243</th>\n",
              "      <th>244</th>\n",
              "      <th>245</th>\n",
              "      <th>246</th>\n",
              "      <th>247</th>\n",
              "      <th>248</th>\n",
              "      <th>249</th>\n",
              "      <th>250</th>\n",
              "      <th>251</th>\n",
              "      <th>252</th>\n",
              "      <th>253</th>\n",
              "      <th>254</th>\n",
              "      <th>255</th>\n",
              "      <th>256</th>\n",
              "      <th>257</th>\n",
              "      <th>258</th>\n",
              "      <th>0</th>\n",
              "    </tr>\n",
              "  </thead>\n",
              "  <tbody>\n",
              "    <tr>\n",
              "      <th>80</th>\n",
              "      <td>-13.242290</td>\n",
              "      <td>-14.008275</td>\n",
              "      <td>-15.082509</td>\n",
              "      <td>-15.077991</td>\n",
              "      <td>-15.784709</td>\n",
              "      <td>-17.860878</td>\n",
              "      <td>-16.237589</td>\n",
              "      <td>-15.805808</td>\n",
              "      <td>-15.875307</td>\n",
              "      <td>-16.041912</td>\n",
              "      <td>-15.943288</td>\n",
              "      <td>-16.758738</td>\n",
              "      <td>-16.356901</td>\n",
              "      <td>-16.415726</td>\n",
              "      <td>-17.063475</td>\n",
              "      <td>-15.110330</td>\n",
              "      <td>-14.375798</td>\n",
              "      <td>-12.483812</td>\n",
              "      <td>-13.301620</td>\n",
              "      <td>-12.726140</td>\n",
              "      <td>-12.207952</td>\n",
              "      <td>-12.049157</td>\n",
              "      <td>-10.683888</td>\n",
              "      <td>-11.282899</td>\n",
              "      <td>-12.315397</td>\n",
              "      <td>-13.068904</td>\n",
              "      <td>-13.219362</td>\n",
              "      <td>-15.358276</td>\n",
              "      <td>-15.867514</td>\n",
              "      <td>-16.980030</td>\n",
              "      <td>-16.081505</td>\n",
              "      <td>-14.396476</td>\n",
              "      <td>-13.903111</td>\n",
              "      <td>-14.780250</td>\n",
              "      <td>-14.868434</td>\n",
              "      <td>-13.882102</td>\n",
              "      <td>-14.101979</td>\n",
              "      <td>-13.811996</td>\n",
              "      <td>-13.946355</td>\n",
              "      <td>-14.151567</td>\n",
              "      <td>...</td>\n",
              "      <td>-19.392488</td>\n",
              "      <td>-17.218861</td>\n",
              "      <td>0.000000</td>\n",
              "      <td>0.000000</td>\n",
              "      <td>0.000000</td>\n",
              "      <td>0.000000</td>\n",
              "      <td>0.000000</td>\n",
              "      <td>0.000000</td>\n",
              "      <td>0.000000</td>\n",
              "      <td>0.000000</td>\n",
              "      <td>0.000000</td>\n",
              "      <td>0.000000</td>\n",
              "      <td>0.000000</td>\n",
              "      <td>0.000000</td>\n",
              "      <td>0.000000</td>\n",
              "      <td>0.000000</td>\n",
              "      <td>0.000000</td>\n",
              "      <td>0.000000</td>\n",
              "      <td>0.000000</td>\n",
              "      <td>0.000000</td>\n",
              "      <td>0.000000</td>\n",
              "      <td>0.000000</td>\n",
              "      <td>0.000000</td>\n",
              "      <td>0.000000</td>\n",
              "      <td>0.000000</td>\n",
              "      <td>0.000000</td>\n",
              "      <td>0.000000</td>\n",
              "      <td>0.000000</td>\n",
              "      <td>0.000000</td>\n",
              "      <td>0.000000</td>\n",
              "      <td>0.000000</td>\n",
              "      <td>0.000000</td>\n",
              "      <td>0.000000</td>\n",
              "      <td>0.000000</td>\n",
              "      <td>0.000000</td>\n",
              "      <td>0.000000</td>\n",
              "      <td>0.000000</td>\n",
              "      <td>0.000000</td>\n",
              "      <td>0.000000</td>\n",
              "      <td>Angry</td>\n",
              "    </tr>\n",
              "    <tr>\n",
              "      <th>86</th>\n",
              "      <td>-28.720476</td>\n",
              "      <td>-30.475344</td>\n",
              "      <td>-29.654814</td>\n",
              "      <td>-27.761312</td>\n",
              "      <td>-26.773367</td>\n",
              "      <td>-27.961020</td>\n",
              "      <td>-27.850594</td>\n",
              "      <td>-28.162548</td>\n",
              "      <td>-31.410042</td>\n",
              "      <td>-34.453686</td>\n",
              "      <td>-36.717793</td>\n",
              "      <td>-35.853100</td>\n",
              "      <td>-34.326736</td>\n",
              "      <td>-32.976749</td>\n",
              "      <td>-32.183159</td>\n",
              "      <td>-32.303738</td>\n",
              "      <td>-34.691574</td>\n",
              "      <td>-36.722157</td>\n",
              "      <td>-37.362427</td>\n",
              "      <td>-39.551697</td>\n",
              "      <td>-40.996525</td>\n",
              "      <td>-38.462967</td>\n",
              "      <td>-37.174946</td>\n",
              "      <td>-37.923763</td>\n",
              "      <td>-36.277172</td>\n",
              "      <td>-34.986549</td>\n",
              "      <td>-35.426346</td>\n",
              "      <td>-36.525478</td>\n",
              "      <td>-37.031609</td>\n",
              "      <td>-40.620991</td>\n",
              "      <td>-39.924786</td>\n",
              "      <td>-37.860020</td>\n",
              "      <td>-38.180702</td>\n",
              "      <td>-38.590107</td>\n",
              "      <td>-38.879284</td>\n",
              "      <td>-38.104977</td>\n",
              "      <td>-38.775307</td>\n",
              "      <td>-36.961723</td>\n",
              "      <td>-36.599735</td>\n",
              "      <td>-36.912704</td>\n",
              "      <td>...</td>\n",
              "      <td>-35.942673</td>\n",
              "      <td>-38.536667</td>\n",
              "      <td>-37.533054</td>\n",
              "      <td>-35.662724</td>\n",
              "      <td>-34.617046</td>\n",
              "      <td>-35.465794</td>\n",
              "      <td>-36.184933</td>\n",
              "      <td>-36.663658</td>\n",
              "      <td>-38.322563</td>\n",
              "      <td>-38.937214</td>\n",
              "      <td>-41.235886</td>\n",
              "      <td>-40.749004</td>\n",
              "      <td>-41.983494</td>\n",
              "      <td>-42.512901</td>\n",
              "      <td>-41.099468</td>\n",
              "      <td>-39.643795</td>\n",
              "      <td>-36.246223</td>\n",
              "      <td>-34.442329</td>\n",
              "      <td>-36.228554</td>\n",
              "      <td>-35.746174</td>\n",
              "      <td>-36.164707</td>\n",
              "      <td>-36.477760</td>\n",
              "      <td>-35.124153</td>\n",
              "      <td>-33.989437</td>\n",
              "      <td>-36.413216</td>\n",
              "      <td>-35.093586</td>\n",
              "      <td>-35.193222</td>\n",
              "      <td>-35.440170</td>\n",
              "      <td>-36.364098</td>\n",
              "      <td>-33.211010</td>\n",
              "      <td>-32.305527</td>\n",
              "      <td>-32.483639</td>\n",
              "      <td>-32.652203</td>\n",
              "      <td>-33.717319</td>\n",
              "      <td>-36.370182</td>\n",
              "      <td>-36.771309</td>\n",
              "      <td>-36.362667</td>\n",
              "      <td>-18.367430</td>\n",
              "      <td>-8.641273</td>\n",
              "      <td>Angry</td>\n",
              "    </tr>\n",
              "    <tr>\n",
              "      <th>114</th>\n",
              "      <td>-9.393489</td>\n",
              "      <td>-11.705887</td>\n",
              "      <td>-13.926948</td>\n",
              "      <td>-14.114965</td>\n",
              "      <td>-14.297867</td>\n",
              "      <td>-14.440379</td>\n",
              "      <td>-12.032846</td>\n",
              "      <td>-12.768241</td>\n",
              "      <td>-13.148049</td>\n",
              "      <td>-12.952504</td>\n",
              "      <td>-14.917472</td>\n",
              "      <td>-15.108484</td>\n",
              "      <td>-15.666971</td>\n",
              "      <td>-15.631196</td>\n",
              "      <td>-16.146097</td>\n",
              "      <td>-18.262211</td>\n",
              "      <td>-17.219179</td>\n",
              "      <td>-15.989164</td>\n",
              "      <td>-15.824017</td>\n",
              "      <td>-15.687071</td>\n",
              "      <td>-15.620034</td>\n",
              "      <td>-16.852686</td>\n",
              "      <td>-15.048946</td>\n",
              "      <td>-15.125122</td>\n",
              "      <td>-17.502075</td>\n",
              "      <td>-16.414381</td>\n",
              "      <td>-15.698507</td>\n",
              "      <td>-12.702691</td>\n",
              "      <td>-8.178328</td>\n",
              "      <td>-8.449769</td>\n",
              "      <td>-11.304530</td>\n",
              "      <td>-14.684493</td>\n",
              "      <td>-15.706118</td>\n",
              "      <td>-15.149052</td>\n",
              "      <td>-14.171546</td>\n",
              "      <td>-17.043758</td>\n",
              "      <td>-18.080011</td>\n",
              "      <td>-17.333397</td>\n",
              "      <td>-17.868254</td>\n",
              "      <td>-18.831530</td>\n",
              "      <td>...</td>\n",
              "      <td>-14.070785</td>\n",
              "      <td>-15.502317</td>\n",
              "      <td>-16.118908</td>\n",
              "      <td>-15.156071</td>\n",
              "      <td>-14.751163</td>\n",
              "      <td>-12.205695</td>\n",
              "      <td>-9.740144</td>\n",
              "      <td>-8.663286</td>\n",
              "      <td>-10.841294</td>\n",
              "      <td>-14.104563</td>\n",
              "      <td>-11.964121</td>\n",
              "      <td>-12.922733</td>\n",
              "      <td>-15.081019</td>\n",
              "      <td>-13.520183</td>\n",
              "      <td>-11.792247</td>\n",
              "      <td>-11.672750</td>\n",
              "      <td>-11.228052</td>\n",
              "      <td>-12.189650</td>\n",
              "      <td>-13.463920</td>\n",
              "      <td>-13.932469</td>\n",
              "      <td>-16.009203</td>\n",
              "      <td>-14.982804</td>\n",
              "      <td>-16.756166</td>\n",
              "      <td>-18.382668</td>\n",
              "      <td>-19.303436</td>\n",
              "      <td>-17.212833</td>\n",
              "      <td>-17.483692</td>\n",
              "      <td>-17.380238</td>\n",
              "      <td>-15.444863</td>\n",
              "      <td>-14.451503</td>\n",
              "      <td>-15.851111</td>\n",
              "      <td>-17.899626</td>\n",
              "      <td>-16.475044</td>\n",
              "      <td>-17.757895</td>\n",
              "      <td>-19.616827</td>\n",
              "      <td>-20.721447</td>\n",
              "      <td>-17.905903</td>\n",
              "      <td>-14.555060</td>\n",
              "      <td>-15.609013</td>\n",
              "      <td>Happy</td>\n",
              "    </tr>\n",
              "    <tr>\n",
              "      <th>127</th>\n",
              "      <td>-4.850917</td>\n",
              "      <td>-4.907643</td>\n",
              "      <td>-5.123703</td>\n",
              "      <td>-5.511835</td>\n",
              "      <td>-7.357773</td>\n",
              "      <td>-7.674759</td>\n",
              "      <td>-7.408368</td>\n",
              "      <td>-8.503600</td>\n",
              "      <td>-8.769433</td>\n",
              "      <td>-8.670855</td>\n",
              "      <td>-9.636098</td>\n",
              "      <td>-11.961292</td>\n",
              "      <td>-10.143790</td>\n",
              "      <td>-8.191684</td>\n",
              "      <td>-8.946559</td>\n",
              "      <td>-8.721387</td>\n",
              "      <td>-6.686921</td>\n",
              "      <td>-7.521238</td>\n",
              "      <td>-9.005610</td>\n",
              "      <td>-10.688938</td>\n",
              "      <td>-10.825439</td>\n",
              "      <td>-11.671493</td>\n",
              "      <td>-11.172159</td>\n",
              "      <td>-9.808467</td>\n",
              "      <td>-9.397042</td>\n",
              "      <td>-8.043694</td>\n",
              "      <td>-8.012110</td>\n",
              "      <td>-7.310907</td>\n",
              "      <td>-7.718760</td>\n",
              "      <td>-8.889828</td>\n",
              "      <td>-8.415901</td>\n",
              "      <td>-8.308517</td>\n",
              "      <td>-8.086114</td>\n",
              "      <td>-7.795864</td>\n",
              "      <td>-7.416860</td>\n",
              "      <td>-8.104918</td>\n",
              "      <td>-7.517864</td>\n",
              "      <td>-8.431931</td>\n",
              "      <td>-11.118185</td>\n",
              "      <td>-10.766091</td>\n",
              "      <td>...</td>\n",
              "      <td>-10.684697</td>\n",
              "      <td>-9.886339</td>\n",
              "      <td>-11.931962</td>\n",
              "      <td>-14.787897</td>\n",
              "      <td>-14.338861</td>\n",
              "      <td>-12.644261</td>\n",
              "      <td>-12.776838</td>\n",
              "      <td>-11.112096</td>\n",
              "      <td>-10.663168</td>\n",
              "      <td>-11.870240</td>\n",
              "      <td>-11.107433</td>\n",
              "      <td>-11.719900</td>\n",
              "      <td>-9.718928</td>\n",
              "      <td>-12.221859</td>\n",
              "      <td>-13.656961</td>\n",
              "      <td>-12.597951</td>\n",
              "      <td>-13.050871</td>\n",
              "      <td>-13.874842</td>\n",
              "      <td>-11.197738</td>\n",
              "      <td>-9.984316</td>\n",
              "      <td>-9.884260</td>\n",
              "      <td>-8.028809</td>\n",
              "      <td>-8.961679</td>\n",
              "      <td>-10.577839</td>\n",
              "      <td>-10.119078</td>\n",
              "      <td>-9.419229</td>\n",
              "      <td>-9.435716</td>\n",
              "      <td>-8.563951</td>\n",
              "      <td>-8.645199</td>\n",
              "      <td>-8.997683</td>\n",
              "      <td>-7.403798</td>\n",
              "      <td>-6.568790</td>\n",
              "      <td>-7.208295</td>\n",
              "      <td>-8.087126</td>\n",
              "      <td>-9.248999</td>\n",
              "      <td>-13.199505</td>\n",
              "      <td>-10.624721</td>\n",
              "      <td>-5.849713</td>\n",
              "      <td>0.007341</td>\n",
              "      <td>Happy</td>\n",
              "    </tr>\n",
              "    <tr>\n",
              "      <th>256</th>\n",
              "      <td>-35.518459</td>\n",
              "      <td>-34.209839</td>\n",
              "      <td>-31.869181</td>\n",
              "      <td>-29.133646</td>\n",
              "      <td>-26.929619</td>\n",
              "      <td>-19.480381</td>\n",
              "      <td>-11.076303</td>\n",
              "      <td>-7.610866</td>\n",
              "      <td>-9.073921</td>\n",
              "      <td>-10.014237</td>\n",
              "      <td>-9.193512</td>\n",
              "      <td>-7.332763</td>\n",
              "      <td>-2.301394</td>\n",
              "      <td>-1.477096</td>\n",
              "      <td>-2.374855</td>\n",
              "      <td>-2.169719</td>\n",
              "      <td>-2.965478</td>\n",
              "      <td>-5.106452</td>\n",
              "      <td>-7.909060</td>\n",
              "      <td>-10.026205</td>\n",
              "      <td>-10.915178</td>\n",
              "      <td>-11.342351</td>\n",
              "      <td>-11.299839</td>\n",
              "      <td>-11.715540</td>\n",
              "      <td>-12.737788</td>\n",
              "      <td>-8.705153</td>\n",
              "      <td>-6.035161</td>\n",
              "      <td>-7.134569</td>\n",
              "      <td>-9.468681</td>\n",
              "      <td>-11.365035</td>\n",
              "      <td>-9.281139</td>\n",
              "      <td>-5.289849</td>\n",
              "      <td>-5.444137</td>\n",
              "      <td>-7.891537</td>\n",
              "      <td>-9.446665</td>\n",
              "      <td>-9.635280</td>\n",
              "      <td>-9.818004</td>\n",
              "      <td>-9.712994</td>\n",
              "      <td>-9.815779</td>\n",
              "      <td>-10.536346</td>\n",
              "      <td>...</td>\n",
              "      <td>-29.552673</td>\n",
              "      <td>-27.796312</td>\n",
              "      <td>-27.094646</td>\n",
              "      <td>-25.842400</td>\n",
              "      <td>-25.936354</td>\n",
              "      <td>-27.824602</td>\n",
              "      <td>-29.673500</td>\n",
              "      <td>-28.869778</td>\n",
              "      <td>-27.935061</td>\n",
              "      <td>-27.382771</td>\n",
              "      <td>-27.922667</td>\n",
              "      <td>-28.233793</td>\n",
              "      <td>0.000000</td>\n",
              "      <td>0.000000</td>\n",
              "      <td>0.000000</td>\n",
              "      <td>0.000000</td>\n",
              "      <td>0.000000</td>\n",
              "      <td>0.000000</td>\n",
              "      <td>0.000000</td>\n",
              "      <td>0.000000</td>\n",
              "      <td>0.000000</td>\n",
              "      <td>0.000000</td>\n",
              "      <td>0.000000</td>\n",
              "      <td>0.000000</td>\n",
              "      <td>0.000000</td>\n",
              "      <td>0.000000</td>\n",
              "      <td>0.000000</td>\n",
              "      <td>0.000000</td>\n",
              "      <td>0.000000</td>\n",
              "      <td>0.000000</td>\n",
              "      <td>0.000000</td>\n",
              "      <td>0.000000</td>\n",
              "      <td>0.000000</td>\n",
              "      <td>0.000000</td>\n",
              "      <td>0.000000</td>\n",
              "      <td>0.000000</td>\n",
              "      <td>0.000000</td>\n",
              "      <td>0.000000</td>\n",
              "      <td>0.000000</td>\n",
              "      <td>Neutral</td>\n",
              "    </tr>\n",
              "    <tr>\n",
              "      <th>...</th>\n",
              "      <td>...</td>\n",
              "      <td>...</td>\n",
              "      <td>...</td>\n",
              "      <td>...</td>\n",
              "      <td>...</td>\n",
              "      <td>...</td>\n",
              "      <td>...</td>\n",
              "      <td>...</td>\n",
              "      <td>...</td>\n",
              "      <td>...</td>\n",
              "      <td>...</td>\n",
              "      <td>...</td>\n",
              "      <td>...</td>\n",
              "      <td>...</td>\n",
              "      <td>...</td>\n",
              "      <td>...</td>\n",
              "      <td>...</td>\n",
              "      <td>...</td>\n",
              "      <td>...</td>\n",
              "      <td>...</td>\n",
              "      <td>...</td>\n",
              "      <td>...</td>\n",
              "      <td>...</td>\n",
              "      <td>...</td>\n",
              "      <td>...</td>\n",
              "      <td>...</td>\n",
              "      <td>...</td>\n",
              "      <td>...</td>\n",
              "      <td>...</td>\n",
              "      <td>...</td>\n",
              "      <td>...</td>\n",
              "      <td>...</td>\n",
              "      <td>...</td>\n",
              "      <td>...</td>\n",
              "      <td>...</td>\n",
              "      <td>...</td>\n",
              "      <td>...</td>\n",
              "      <td>...</td>\n",
              "      <td>...</td>\n",
              "      <td>...</td>\n",
              "      <td>...</td>\n",
              "      <td>...</td>\n",
              "      <td>...</td>\n",
              "      <td>...</td>\n",
              "      <td>...</td>\n",
              "      <td>...</td>\n",
              "      <td>...</td>\n",
              "      <td>...</td>\n",
              "      <td>...</td>\n",
              "      <td>...</td>\n",
              "      <td>...</td>\n",
              "      <td>...</td>\n",
              "      <td>...</td>\n",
              "      <td>...</td>\n",
              "      <td>...</td>\n",
              "      <td>...</td>\n",
              "      <td>...</td>\n",
              "      <td>...</td>\n",
              "      <td>...</td>\n",
              "      <td>...</td>\n",
              "      <td>...</td>\n",
              "      <td>...</td>\n",
              "      <td>...</td>\n",
              "      <td>...</td>\n",
              "      <td>...</td>\n",
              "      <td>...</td>\n",
              "      <td>...</td>\n",
              "      <td>...</td>\n",
              "      <td>...</td>\n",
              "      <td>...</td>\n",
              "      <td>...</td>\n",
              "      <td>...</td>\n",
              "      <td>...</td>\n",
              "      <td>...</td>\n",
              "      <td>...</td>\n",
              "      <td>...</td>\n",
              "      <td>...</td>\n",
              "      <td>...</td>\n",
              "      <td>...</td>\n",
              "      <td>...</td>\n",
              "      <td>...</td>\n",
              "    </tr>\n",
              "    <tr>\n",
              "      <th>77</th>\n",
              "      <td>-0.640311</td>\n",
              "      <td>-0.673350</td>\n",
              "      <td>-2.611986</td>\n",
              "      <td>-4.796918</td>\n",
              "      <td>-6.196943</td>\n",
              "      <td>-6.517038</td>\n",
              "      <td>-7.738698</td>\n",
              "      <td>-5.971688</td>\n",
              "      <td>-2.463855</td>\n",
              "      <td>-0.924174</td>\n",
              "      <td>-0.750635</td>\n",
              "      <td>-4.199459</td>\n",
              "      <td>-2.467932</td>\n",
              "      <td>-1.964564</td>\n",
              "      <td>-2.031229</td>\n",
              "      <td>-2.788485</td>\n",
              "      <td>-7.083102</td>\n",
              "      <td>-9.915490</td>\n",
              "      <td>-8.417546</td>\n",
              "      <td>-9.000332</td>\n",
              "      <td>-11.222454</td>\n",
              "      <td>-11.243999</td>\n",
              "      <td>-10.827764</td>\n",
              "      <td>-11.432713</td>\n",
              "      <td>-11.502707</td>\n",
              "      <td>-11.963408</td>\n",
              "      <td>-11.626856</td>\n",
              "      <td>-12.787985</td>\n",
              "      <td>-14.926241</td>\n",
              "      <td>-14.094854</td>\n",
              "      <td>-14.382570</td>\n",
              "      <td>-13.337718</td>\n",
              "      <td>-14.011693</td>\n",
              "      <td>-14.920595</td>\n",
              "      <td>-15.405630</td>\n",
              "      <td>-14.589381</td>\n",
              "      <td>-12.630271</td>\n",
              "      <td>-10.133657</td>\n",
              "      <td>-7.855992</td>\n",
              "      <td>-5.859598</td>\n",
              "      <td>...</td>\n",
              "      <td>-7.039408</td>\n",
              "      <td>-9.664571</td>\n",
              "      <td>-6.769981</td>\n",
              "      <td>-5.988548</td>\n",
              "      <td>-6.201086</td>\n",
              "      <td>-6.042636</td>\n",
              "      <td>-5.363809</td>\n",
              "      <td>-6.065412</td>\n",
              "      <td>-6.428126</td>\n",
              "      <td>-6.556148</td>\n",
              "      <td>-9.503449</td>\n",
              "      <td>-11.702790</td>\n",
              "      <td>-11.580044</td>\n",
              "      <td>-12.087374</td>\n",
              "      <td>-12.290477</td>\n",
              "      <td>-14.825314</td>\n",
              "      <td>-16.445652</td>\n",
              "      <td>-16.386721</td>\n",
              "      <td>-17.811069</td>\n",
              "      <td>-16.186512</td>\n",
              "      <td>-12.476294</td>\n",
              "      <td>-10.214309</td>\n",
              "      <td>-8.948858</td>\n",
              "      <td>-5.734077</td>\n",
              "      <td>-4.625623</td>\n",
              "      <td>-7.642348</td>\n",
              "      <td>-6.534632</td>\n",
              "      <td>-5.795416</td>\n",
              "      <td>-7.192721</td>\n",
              "      <td>-6.507217</td>\n",
              "      <td>-7.299768</td>\n",
              "      <td>-8.750818</td>\n",
              "      <td>-9.449533</td>\n",
              "      <td>-9.559227</td>\n",
              "      <td>-6.813119</td>\n",
              "      <td>-3.905093</td>\n",
              "      <td>-1.794452</td>\n",
              "      <td>-1.401970</td>\n",
              "      <td>0.927241</td>\n",
              "      <td>Angry</td>\n",
              "    </tr>\n",
              "    <tr>\n",
              "      <th>68</th>\n",
              "      <td>-31.269346</td>\n",
              "      <td>-35.354641</td>\n",
              "      <td>-43.100956</td>\n",
              "      <td>-43.010250</td>\n",
              "      <td>-40.500999</td>\n",
              "      <td>-40.690468</td>\n",
              "      <td>-39.468033</td>\n",
              "      <td>-39.407780</td>\n",
              "      <td>-41.678810</td>\n",
              "      <td>-44.127151</td>\n",
              "      <td>-42.899906</td>\n",
              "      <td>-43.041733</td>\n",
              "      <td>-41.759407</td>\n",
              "      <td>-40.419827</td>\n",
              "      <td>-39.902767</td>\n",
              "      <td>-39.782009</td>\n",
              "      <td>-39.838387</td>\n",
              "      <td>-41.103069</td>\n",
              "      <td>-44.149349</td>\n",
              "      <td>-40.339886</td>\n",
              "      <td>-38.371967</td>\n",
              "      <td>-35.993279</td>\n",
              "      <td>-36.332146</td>\n",
              "      <td>-37.220078</td>\n",
              "      <td>-37.651737</td>\n",
              "      <td>-37.346386</td>\n",
              "      <td>-34.978058</td>\n",
              "      <td>-34.426292</td>\n",
              "      <td>-35.455612</td>\n",
              "      <td>-36.315464</td>\n",
              "      <td>-36.689167</td>\n",
              "      <td>-36.306099</td>\n",
              "      <td>-35.563679</td>\n",
              "      <td>-37.205433</td>\n",
              "      <td>-37.846054</td>\n",
              "      <td>-38.292564</td>\n",
              "      <td>-38.056545</td>\n",
              "      <td>-36.257446</td>\n",
              "      <td>-36.634323</td>\n",
              "      <td>-39.932518</td>\n",
              "      <td>...</td>\n",
              "      <td>-42.914169</td>\n",
              "      <td>-41.593121</td>\n",
              "      <td>-42.509502</td>\n",
              "      <td>-41.869732</td>\n",
              "      <td>-40.332424</td>\n",
              "      <td>-42.114216</td>\n",
              "      <td>-41.298454</td>\n",
              "      <td>-38.646381</td>\n",
              "      <td>-39.005650</td>\n",
              "      <td>-40.674274</td>\n",
              "      <td>-39.104374</td>\n",
              "      <td>-37.936855</td>\n",
              "      <td>-37.993000</td>\n",
              "      <td>-36.863911</td>\n",
              "      <td>-37.654106</td>\n",
              "      <td>-36.504410</td>\n",
              "      <td>-36.243549</td>\n",
              "      <td>-35.497807</td>\n",
              "      <td>-34.886196</td>\n",
              "      <td>-37.655716</td>\n",
              "      <td>-41.265568</td>\n",
              "      <td>-42.485683</td>\n",
              "      <td>-42.755276</td>\n",
              "      <td>-41.121929</td>\n",
              "      <td>-39.185871</td>\n",
              "      <td>-36.965687</td>\n",
              "      <td>-36.312939</td>\n",
              "      <td>-36.843819</td>\n",
              "      <td>-36.998154</td>\n",
              "      <td>-37.554550</td>\n",
              "      <td>-36.068916</td>\n",
              "      <td>-36.912838</td>\n",
              "      <td>-38.129868</td>\n",
              "      <td>-38.352951</td>\n",
              "      <td>-36.711082</td>\n",
              "      <td>-34.268890</td>\n",
              "      <td>-34.629002</td>\n",
              "      <td>-37.105801</td>\n",
              "      <td>-31.220879</td>\n",
              "      <td>Angry</td>\n",
              "    </tr>\n",
              "    <tr>\n",
              "      <th>269</th>\n",
              "      <td>-23.721504</td>\n",
              "      <td>-22.613777</td>\n",
              "      <td>-22.373533</td>\n",
              "      <td>-22.875425</td>\n",
              "      <td>-20.846231</td>\n",
              "      <td>-21.958475</td>\n",
              "      <td>-20.340221</td>\n",
              "      <td>-20.582176</td>\n",
              "      <td>-22.348814</td>\n",
              "      <td>-21.459042</td>\n",
              "      <td>-19.315594</td>\n",
              "      <td>-17.470156</td>\n",
              "      <td>-16.078997</td>\n",
              "      <td>-15.117024</td>\n",
              "      <td>-15.067890</td>\n",
              "      <td>-13.659392</td>\n",
              "      <td>-11.479793</td>\n",
              "      <td>-12.991088</td>\n",
              "      <td>-13.024035</td>\n",
              "      <td>-11.761738</td>\n",
              "      <td>-10.829299</td>\n",
              "      <td>-11.136982</td>\n",
              "      <td>-12.757849</td>\n",
              "      <td>-12.206440</td>\n",
              "      <td>-12.532815</td>\n",
              "      <td>-12.379251</td>\n",
              "      <td>-13.761705</td>\n",
              "      <td>-13.572158</td>\n",
              "      <td>-11.668786</td>\n",
              "      <td>-12.952967</td>\n",
              "      <td>-14.911274</td>\n",
              "      <td>-15.644578</td>\n",
              "      <td>-13.939795</td>\n",
              "      <td>-13.969482</td>\n",
              "      <td>-14.400860</td>\n",
              "      <td>-14.852079</td>\n",
              "      <td>-15.864996</td>\n",
              "      <td>-14.326473</td>\n",
              "      <td>-13.125855</td>\n",
              "      <td>-11.612270</td>\n",
              "      <td>...</td>\n",
              "      <td>-19.283285</td>\n",
              "      <td>-19.671951</td>\n",
              "      <td>-20.512285</td>\n",
              "      <td>-19.983250</td>\n",
              "      <td>-18.816401</td>\n",
              "      <td>-10.651918</td>\n",
              "      <td>-2.719423</td>\n",
              "      <td>-3.263405</td>\n",
              "      <td>-8.947765</td>\n",
              "      <td>-14.177526</td>\n",
              "      <td>-17.073063</td>\n",
              "      <td>-13.628359</td>\n",
              "      <td>-13.150171</td>\n",
              "      <td>-15.892038</td>\n",
              "      <td>-17.525158</td>\n",
              "      <td>-18.662558</td>\n",
              "      <td>-17.642494</td>\n",
              "      <td>-16.563196</td>\n",
              "      <td>-16.749794</td>\n",
              "      <td>-18.037502</td>\n",
              "      <td>-16.936287</td>\n",
              "      <td>-16.453768</td>\n",
              "      <td>-17.337742</td>\n",
              "      <td>-18.172009</td>\n",
              "      <td>-19.112968</td>\n",
              "      <td>-18.516264</td>\n",
              "      <td>-18.290745</td>\n",
              "      <td>-19.370741</td>\n",
              "      <td>-20.549858</td>\n",
              "      <td>-21.726980</td>\n",
              "      <td>-20.665688</td>\n",
              "      <td>-20.398708</td>\n",
              "      <td>-22.649097</td>\n",
              "      <td>-23.196999</td>\n",
              "      <td>-22.163078</td>\n",
              "      <td>-22.949375</td>\n",
              "      <td>-23.467915</td>\n",
              "      <td>-22.458300</td>\n",
              "      <td>-22.431253</td>\n",
              "      <td>Neutral</td>\n",
              "    </tr>\n",
              "    <tr>\n",
              "      <th>220</th>\n",
              "      <td>-26.009356</td>\n",
              "      <td>-24.465376</td>\n",
              "      <td>-26.975344</td>\n",
              "      <td>-26.284685</td>\n",
              "      <td>-24.043831</td>\n",
              "      <td>-21.291431</td>\n",
              "      <td>-15.591290</td>\n",
              "      <td>-12.770483</td>\n",
              "      <td>-11.366954</td>\n",
              "      <td>-10.545669</td>\n",
              "      <td>-10.767925</td>\n",
              "      <td>-9.681870</td>\n",
              "      <td>-8.918281</td>\n",
              "      <td>-8.194251</td>\n",
              "      <td>-8.191260</td>\n",
              "      <td>-8.776870</td>\n",
              "      <td>-8.064851</td>\n",
              "      <td>-8.970490</td>\n",
              "      <td>-8.528949</td>\n",
              "      <td>-5.987987</td>\n",
              "      <td>-7.366847</td>\n",
              "      <td>-14.737104</td>\n",
              "      <td>-20.855591</td>\n",
              "      <td>-22.949341</td>\n",
              "      <td>-24.439604</td>\n",
              "      <td>-24.530525</td>\n",
              "      <td>-18.620487</td>\n",
              "      <td>-14.140501</td>\n",
              "      <td>-9.332665</td>\n",
              "      <td>-8.937425</td>\n",
              "      <td>-9.728925</td>\n",
              "      <td>-9.250685</td>\n",
              "      <td>-8.555961</td>\n",
              "      <td>-7.464076</td>\n",
              "      <td>-9.724570</td>\n",
              "      <td>-13.618429</td>\n",
              "      <td>-12.570845</td>\n",
              "      <td>-13.136809</td>\n",
              "      <td>-13.349583</td>\n",
              "      <td>-12.271611</td>\n",
              "      <td>...</td>\n",
              "      <td>-12.697982</td>\n",
              "      <td>-12.337653</td>\n",
              "      <td>-11.590170</td>\n",
              "      <td>-11.339108</td>\n",
              "      <td>-12.133411</td>\n",
              "      <td>-11.222189</td>\n",
              "      <td>-10.851072</td>\n",
              "      <td>-10.338552</td>\n",
              "      <td>-10.371253</td>\n",
              "      <td>-11.765003</td>\n",
              "      <td>-12.595570</td>\n",
              "      <td>-14.131536</td>\n",
              "      <td>-14.362540</td>\n",
              "      <td>-15.258970</td>\n",
              "      <td>-17.022202</td>\n",
              "      <td>-17.395393</td>\n",
              "      <td>-17.479475</td>\n",
              "      <td>-19.349585</td>\n",
              "      <td>-20.522997</td>\n",
              "      <td>-20.175520</td>\n",
              "      <td>-20.545448</td>\n",
              "      <td>-21.371941</td>\n",
              "      <td>-22.186033</td>\n",
              "      <td>-24.594292</td>\n",
              "      <td>-27.231899</td>\n",
              "      <td>-29.008999</td>\n",
              "      <td>-28.144888</td>\n",
              "      <td>-28.631001</td>\n",
              "      <td>-28.426077</td>\n",
              "      <td>-31.311918</td>\n",
              "      <td>-27.869566</td>\n",
              "      <td>-25.192677</td>\n",
              "      <td>-23.960592</td>\n",
              "      <td>-23.125078</td>\n",
              "      <td>-23.539633</td>\n",
              "      <td>-23.057432</td>\n",
              "      <td>-24.366905</td>\n",
              "      <td>-24.117079</td>\n",
              "      <td>-24.699018</td>\n",
              "      <td>Neutral</td>\n",
              "    </tr>\n",
              "    <tr>\n",
              "      <th>387</th>\n",
              "      <td>-12.257491</td>\n",
              "      <td>-12.785564</td>\n",
              "      <td>-15.001725</td>\n",
              "      <td>-15.335979</td>\n",
              "      <td>-15.882421</td>\n",
              "      <td>-16.930212</td>\n",
              "      <td>-17.189156</td>\n",
              "      <td>-17.171436</td>\n",
              "      <td>-16.702375</td>\n",
              "      <td>-17.734489</td>\n",
              "      <td>-19.240322</td>\n",
              "      <td>-21.042999</td>\n",
              "      <td>-18.576044</td>\n",
              "      <td>-16.111134</td>\n",
              "      <td>-17.921434</td>\n",
              "      <td>-15.344418</td>\n",
              "      <td>-14.528580</td>\n",
              "      <td>-16.158163</td>\n",
              "      <td>-15.532053</td>\n",
              "      <td>-15.493081</td>\n",
              "      <td>-16.008205</td>\n",
              "      <td>-15.660817</td>\n",
              "      <td>-14.507559</td>\n",
              "      <td>-14.434278</td>\n",
              "      <td>-14.609502</td>\n",
              "      <td>-14.883801</td>\n",
              "      <td>-14.190456</td>\n",
              "      <td>-14.145225</td>\n",
              "      <td>-14.009981</td>\n",
              "      <td>-14.494242</td>\n",
              "      <td>-15.579182</td>\n",
              "      <td>-16.900005</td>\n",
              "      <td>-17.495283</td>\n",
              "      <td>-18.518658</td>\n",
              "      <td>-18.836040</td>\n",
              "      <td>-19.038288</td>\n",
              "      <td>-20.281761</td>\n",
              "      <td>-19.467772</td>\n",
              "      <td>-21.829628</td>\n",
              "      <td>-19.615742</td>\n",
              "      <td>...</td>\n",
              "      <td>-20.184092</td>\n",
              "      <td>-17.014696</td>\n",
              "      <td>-17.205000</td>\n",
              "      <td>-16.315573</td>\n",
              "      <td>-15.636336</td>\n",
              "      <td>-17.010275</td>\n",
              "      <td>-17.873129</td>\n",
              "      <td>-18.352095</td>\n",
              "      <td>-19.450428</td>\n",
              "      <td>-17.624998</td>\n",
              "      <td>-17.773115</td>\n",
              "      <td>-18.886623</td>\n",
              "      <td>-21.702705</td>\n",
              "      <td>-17.942635</td>\n",
              "      <td>-16.584379</td>\n",
              "      <td>-17.128147</td>\n",
              "      <td>-16.081573</td>\n",
              "      <td>-17.475279</td>\n",
              "      <td>-17.226158</td>\n",
              "      <td>-15.732223</td>\n",
              "      <td>-16.085588</td>\n",
              "      <td>-16.253498</td>\n",
              "      <td>-16.885687</td>\n",
              "      <td>-17.348106</td>\n",
              "      <td>-15.444253</td>\n",
              "      <td>-15.070403</td>\n",
              "      <td>-15.215048</td>\n",
              "      <td>-15.994900</td>\n",
              "      <td>-15.779434</td>\n",
              "      <td>-15.241078</td>\n",
              "      <td>-15.599870</td>\n",
              "      <td>-16.002146</td>\n",
              "      <td>-15.665168</td>\n",
              "      <td>-15.606431</td>\n",
              "      <td>-16.214664</td>\n",
              "      <td>-15.834311</td>\n",
              "      <td>-15.708782</td>\n",
              "      <td>-14.697230</td>\n",
              "      <td>-12.711760</td>\n",
              "      <td>Sad</td>\n",
              "    </tr>\n",
              "  </tbody>\n",
              "</table>\n",
              "<p>400 rows × 260 columns</p>\n",
              "</div>"
            ],
            "text/plain": [
              "           0          1          2    ...        257        258      0  \n",
              "80  -13.242290 -14.008275 -15.082509  ...   0.000000   0.000000    Angry\n",
              "86  -28.720476 -30.475344 -29.654814  ... -18.367430  -8.641273    Angry\n",
              "114  -9.393489 -11.705887 -13.926948  ... -14.555060 -15.609013    Happy\n",
              "127  -4.850917  -4.907643  -5.123703  ...  -5.849713   0.007341    Happy\n",
              "256 -35.518459 -34.209839 -31.869181  ...   0.000000   0.000000  Neutral\n",
              "..         ...        ...        ...  ...        ...        ...      ...\n",
              "77   -0.640311  -0.673350  -2.611986  ...  -1.401970   0.927241    Angry\n",
              "68  -31.269346 -35.354641 -43.100956  ... -37.105801 -31.220879    Angry\n",
              "269 -23.721504 -22.613777 -22.373533  ... -22.458300 -22.431253  Neutral\n",
              "220 -26.009356 -24.465376 -26.975344  ... -24.117079 -24.699018  Neutral\n",
              "387 -12.257491 -12.785564 -15.001725  ... -14.697230 -12.711760      Sad\n",
              "\n",
              "[400 rows x 260 columns]"
            ]
          },
          "metadata": {
            "tags": []
          },
          "execution_count": 78
        }
      ]
    },
    {
      "cell_type": "code",
      "metadata": {
        "id": "u7faKa8H_a7m"
      },
      "source": [
        "newdf1 = np.random.rand(len(rnewdf)) < 0.75\n",
        "train = rnewdf[newdf1]\n",
        "test = rnewdf[~newdf1]"
      ],
      "execution_count": 79,
      "outputs": []
    },
    {
      "cell_type": "code",
      "metadata": {
        "id": "RpljWjkU_eK9"
      },
      "source": [
        "trainfeatures = train.iloc[:, :-1]"
      ],
      "execution_count": 80,
      "outputs": []
    },
    {
      "cell_type": "code",
      "metadata": {
        "id": "9f-WSzt3_gjx"
      },
      "source": [
        "trainlabel = train.iloc[:, -1:]"
      ],
      "execution_count": 81,
      "outputs": []
    },
    {
      "cell_type": "code",
      "metadata": {
        "id": "TZal-4wr_iG8"
      },
      "source": [
        "testfeatures = test.iloc[:, :-1]"
      ],
      "execution_count": 82,
      "outputs": []
    },
    {
      "cell_type": "code",
      "metadata": {
        "id": "GpObcbEA_jSY"
      },
      "source": [
        "testlabel = test.iloc[:, -1:]"
      ],
      "execution_count": 83,
      "outputs": []
    },
    {
      "cell_type": "code",
      "metadata": {
        "colab": {
          "base_uri": "https://localhost:8080/"
        },
        "id": "FfueCKK8_kgF",
        "outputId": "b03dfb13-3792-42b8-b15c-e018e51c75e5"
      },
      "source": [
        "from keras.utils import np_utils\n",
        "from sklearn.preprocessing import LabelEncoder\n",
        "\n",
        "X_train = np.array(trainfeatures)\n",
        "y_train = np.array(trainlabel)\n",
        "X_test = np.array(testfeatures)\n",
        "y_test = np.array(testlabel)\n",
        "\n",
        "lb = LabelEncoder()\n",
        "\n",
        "y_train = np_utils.to_categorical(lb.fit_transform(y_train))\n",
        "y_test = np_utils.to_categorical(lb.fit_transform(y_test))"
      ],
      "execution_count": 84,
      "outputs": [
        {
          "output_type": "stream",
          "text": [
            "/usr/local/lib/python3.7/dist-packages/sklearn/preprocessing/_label.py:251: DataConversionWarning: A column-vector y was passed when a 1d array was expected. Please change the shape of y to (n_samples, ), for example using ravel().\n",
            "  y = column_or_1d(y, warn=True)\n"
          ],
          "name": "stderr"
        }
      ]
    },
    {
      "cell_type": "code",
      "metadata": {
        "colab": {
          "base_uri": "https://localhost:8080/"
        },
        "id": "WPTuxG9c_n2x",
        "outputId": "74b344e6-f1da-48d7-8cae-2f831cde2d5b"
      },
      "source": [
        "print(X_train.shape)\n",
        "print(X_test.shape)"
      ],
      "execution_count": 85,
      "outputs": [
        {
          "output_type": "stream",
          "text": [
            "(313, 259)\n",
            "(87, 259)\n"
          ],
          "name": "stdout"
        }
      ]
    },
    {
      "cell_type": "code",
      "metadata": {
        "id": "kJtAJVZi_qF1"
      },
      "source": [
        "x_traincnn =np.expand_dims(X_train, axis=2)\n",
        "x_testcnn= np.expand_dims(X_test, axis=2)"
      ],
      "execution_count": 86,
      "outputs": []
    },
    {
      "cell_type": "code",
      "metadata": {
        "id": "eQLfYClMAI5q"
      },
      "source": [
        "\n",
        "import librosa\n",
        "import librosa.display\n",
        "import numpy as np\n",
        "import matplotlib.pyplot as plt\n",
        "import tensorflow as tf\n",
        "from matplotlib.pyplot import specgram\n",
        "import keras\n",
        "from keras.preprocessing import sequence\n",
        "from keras.models import Sequential\n",
        "from keras.layers import Dense, Embedding\n",
        "from keras.layers import LSTM\n",
        "from keras.preprocessing.text import Tokenizer\n",
        "from keras.preprocessing.sequence import pad_sequences\n",
        "from keras.layers import Input, Flatten, Dropout, Activation\n",
        "from keras.layers import Conv1D, MaxPooling1D, AveragePooling1D\n",
        "from keras.models import Model\n",
        "from keras.callbacks import ModelCheckpoint\n",
        "from sklearn.metrics import confusion_matrix"
      ],
      "execution_count": 87,
      "outputs": []
    },
    {
      "cell_type": "code",
      "metadata": {
        "colab": {
          "base_uri": "https://localhost:8080/"
        },
        "id": "d24vBFEF_rrx",
        "outputId": "f1e51381-4049-4d60-cae5-04f388a92bd3"
      },
      "source": [
        "from keras.models import Sequential\n",
        "model = Sequential()\n",
        "\n",
        "model.add(Conv1D(256, 5,padding='same',\n",
        "                 input_shape=(259,1)))\n",
        "model.add(Activation('relu'))\n",
        "model.add(Conv1D(128, 5,padding='same'))\n",
        "model.add(Activation('relu'))\n",
        "model.add(Dropout(0.1))\n",
        "model.add(MaxPooling1D(pool_size=(8)))\n",
        "model.add(Conv1D(128, 5,padding='same',))\n",
        "model.add(Activation('relu'))\n",
        "#model.add(Conv1D(128, 5,padding='same',))\n",
        "#model.add(Activation('relu'))\n",
        "#model.add(Conv1D(128, 5,padding='same',))\n",
        "#model.add(Activation('relu'))\n",
        "#model.add(Dropout(0.2))\n",
        "model.add(Conv1D(128, 5,padding='same',))\n",
        "model.add(Activation('relu'))\n",
        "model.add(Flatten())\n",
        "model.add(Dense(4))\n",
        "model.add(Activation('softmax'))\n",
        "opt = keras.optimizers.RMSprop(lr=0.00001, decay=1e-6)"
      ],
      "execution_count": 88,
      "outputs": [
        {
          "output_type": "stream",
          "text": [
            "/usr/local/lib/python3.7/dist-packages/tensorflow/python/keras/optimizer_v2/optimizer_v2.py:375: UserWarning: The `lr` argument is deprecated, use `learning_rate` instead.\n",
            "  \"The `lr` argument is deprecated, use `learning_rate` instead.\")\n"
          ],
          "name": "stderr"
        }
      ]
    },
    {
      "cell_type": "code",
      "metadata": {
        "colab": {
          "base_uri": "https://localhost:8080/"
        },
        "id": "VXw41iA2JdwF",
        "outputId": "635016d5-3912-4755-877c-9fdb7c96b4f0"
      },
      "source": [
        "model.summary()"
      ],
      "execution_count": 89,
      "outputs": [
        {
          "output_type": "stream",
          "text": [
            "Model: \"sequential_3\"\n",
            "_________________________________________________________________\n",
            "Layer (type)                 Output Shape              Param #   \n",
            "=================================================================\n",
            "conv1d_12 (Conv1D)           (None, 259, 256)          1536      \n",
            "_________________________________________________________________\n",
            "activation_15 (Activation)   (None, 259, 256)          0         \n",
            "_________________________________________________________________\n",
            "conv1d_13 (Conv1D)           (None, 259, 128)          163968    \n",
            "_________________________________________________________________\n",
            "activation_16 (Activation)   (None, 259, 128)          0         \n",
            "_________________________________________________________________\n",
            "dropout_3 (Dropout)          (None, 259, 128)          0         \n",
            "_________________________________________________________________\n",
            "max_pooling1d_3 (MaxPooling1 (None, 32, 128)           0         \n",
            "_________________________________________________________________\n",
            "conv1d_14 (Conv1D)           (None, 32, 128)           82048     \n",
            "_________________________________________________________________\n",
            "activation_17 (Activation)   (None, 32, 128)           0         \n",
            "_________________________________________________________________\n",
            "conv1d_15 (Conv1D)           (None, 32, 128)           82048     \n",
            "_________________________________________________________________\n",
            "activation_18 (Activation)   (None, 32, 128)           0         \n",
            "_________________________________________________________________\n",
            "flatten_3 (Flatten)          (None, 4096)              0         \n",
            "_________________________________________________________________\n",
            "dense_3 (Dense)              (None, 4)                 16388     \n",
            "_________________________________________________________________\n",
            "activation_19 (Activation)   (None, 4)                 0         \n",
            "=================================================================\n",
            "Total params: 345,988\n",
            "Trainable params: 345,988\n",
            "Non-trainable params: 0\n",
            "_________________________________________________________________\n"
          ],
          "name": "stdout"
        }
      ]
    },
    {
      "cell_type": "code",
      "metadata": {
        "id": "zkRO_Tjz_805"
      },
      "source": [
        "model.compile(loss='categorical_crossentropy', optimizer=opt,metrics=['accuracy'])"
      ],
      "execution_count": 90,
      "outputs": []
    },
    {
      "cell_type": "code",
      "metadata": {
        "id": "L_ybpUc4AXuY"
      },
      "source": [
        "cnnhistory=model.fit(x_traincnn, y_train, batch_size=16, epochs=200, validation_data=(x_testcnn, y_test))"
      ],
      "execution_count": null,
      "outputs": []
    },
    {
      "cell_type": "code",
      "metadata": {
        "id": "G-3sOQMh362k"
      },
      "source": [
        "from sklearn.neural_network import MLPClassifier\n",
        "model_MLP=MLPClassifier(alpha=0.01, batch_size=256, epsilon=1e-08, hidden_layer_sizes=(300,), learning_rate='adaptive', max_iter=500)"
      ],
      "execution_count": 117,
      "outputs": []
    },
    {
      "cell_type": "code",
      "metadata": {
        "id": "POW_Nn3y6mR5",
        "outputId": "5c09dc93-af94-42e4-c682-b45c1d513137",
        "colab": {
          "base_uri": "https://localhost:8080/"
        }
      },
      "source": [
        "X_train.shape"
      ],
      "execution_count": 129,
      "outputs": [
        {
          "output_type": "execute_result",
          "data": {
            "text/plain": [
              "(313, 259)"
            ]
          },
          "metadata": {
            "tags": []
          },
          "execution_count": 129
        }
      ]
    },
    {
      "cell_type": "code",
      "metadata": {
        "id": "TPjs7Ilb3_LG",
        "outputId": "ff620340-dbe1-4960-d413-391f3d211256",
        "colab": {
          "base_uri": "https://localhost:8080/"
        }
      },
      "source": [
        "model_MLP.fit(X_train,y_train)"
      ],
      "execution_count": 118,
      "outputs": [
        {
          "output_type": "execute_result",
          "data": {
            "text/plain": [
              "MLPClassifier(activation='relu', alpha=0.01, batch_size=256, beta_1=0.9,\n",
              "              beta_2=0.999, early_stopping=False, epsilon=1e-08,\n",
              "              hidden_layer_sizes=(300,), learning_rate='adaptive',\n",
              "              learning_rate_init=0.001, max_fun=15000, max_iter=500,\n",
              "              momentum=0.9, n_iter_no_change=10, nesterovs_momentum=True,\n",
              "              power_t=0.5, random_state=None, shuffle=True, solver='adam',\n",
              "              tol=0.0001, validation_fraction=0.1, verbose=False,\n",
              "              warm_start=False)"
            ]
          },
          "metadata": {
            "tags": []
          },
          "execution_count": 118
        }
      ]
    },
    {
      "cell_type": "code",
      "metadata": {
        "id": "gPc4iXEz5_K9"
      },
      "source": [
        "y_pred=model_MLP.predict(X_test)"
      ],
      "execution_count": 121,
      "outputs": []
    },
    {
      "cell_type": "code",
      "metadata": {
        "id": "sQ43QPKt6HE0",
        "outputId": "9437c0df-547f-4b5f-a3f4-fdd7aaf02731",
        "colab": {
          "base_uri": "https://localhost:8080/"
        }
      },
      "source": [
        "from sklearn.metrics import accuracy_score\n",
        "accuracy=accuracy_score(y_true=y_test, y_pred=y_pred)\n",
        "# Print the accuracy\n",
        "print(\"Accuracy: {:.2f}%\".format(accuracy*100))"
      ],
      "execution_count": 123,
      "outputs": [
        {
          "output_type": "stream",
          "text": [
            "Accuracy: 21.84%\n"
          ],
          "name": "stdout"
        }
      ]
    },
    {
      "cell_type": "code",
      "metadata": {
        "id": "sMCI2IV73ZzM"
      },
      "source": [
        "from sklearn.neural_network import MLPClassifier\n",
        "from sklearn.metrics import accuracy_score"
      ],
      "execution_count": null,
      "outputs": []
    },
    {
      "cell_type": "code",
      "metadata": {
        "colab": {
          "base_uri": "https://localhost:8080/",
          "height": 295
        },
        "id": "rxgWuGBsAZGx",
        "outputId": "c0aed979-956f-46ed-a32e-1042cac4195a"
      },
      "source": [
        "plt.plot(cnnhistory.history['loss'])\n",
        "plt.plot(cnnhistory.history['val_loss'])\n",
        "plt.title('model loss')\n",
        "plt.ylabel('loss')\n",
        "plt.xlabel('epoch')\n",
        "plt.legend(['train', 'test'], loc='upper left')\n",
        "plt.show()"
      ],
      "execution_count": 97,
      "outputs": [
        {
          "output_type": "display_data",
          "data": {
            "image/png": "[encoded data removed]",
            "text/plain": [
              "<Figure size 432x288 with 1 Axes>"
            ]
          },
          "metadata": {
            "tags": [],
            "needs_background": "light"
          }
        }
      ]
    },
    {
      "cell_type": "code",
      "metadata": {
        "colab": {
          "base_uri": "https://localhost:8080/"
        },
        "id": "7YCUBRf4Eo_W",
        "outputId": "5660a97f-11db-488f-c693-c13ab642048f"
      },
      "source": [
        "model_name = 'Emotion_Voice_Detection_Model.h5'\n",
        "save_dir = os.path.join(os.getcwd(), 'saved_models')\n",
        "# Save model and weights\n",
        "if not os.path.isdir(save_dir):\n",
        "    os.makedirs(save_dir)\n",
        "model_path = os.path.join(save_dir, model_name)\n",
        "model.save(model_path)\n",
        "print('Saved trained model at %s ' % model_path)"
      ],
      "execution_count": 98,
      "outputs": [
        {
          "output_type": "stream",
          "text": [
            "Saved trained model at /content/saved_models/Emotion_Voice_Detection_Model.h5 \n"
          ],
          "name": "stdout"
        }
      ]
    },
    {
      "cell_type": "code",
      "metadata": {
        "id": "sac3SB1dOYzI"
      },
      "source": [
        "import json\n",
        "model_json = model.to_json()\n",
        "with open(\"model.json\", \"w\") as json_file:\n",
        "    json_file.write(model_json)"
      ],
      "execution_count": 99,
      "outputs": []
    },
    {
      "cell_type": "code",
      "metadata": {
        "colab": {
          "base_uri": "https://localhost:8080/"
        },
        "id": "HkII046tOdDM",
        "outputId": "3d42ea48-6051-42d2-9cad-cf1ac2202624"
      },
      "source": [
        "\n",
        "# loading json and creating model\n",
        "from keras.models import model_from_json\n",
        "json_file = open('model.json', 'r')\n",
        "loaded_model_json = json_file.read()\n",
        "json_file.close()\n",
        "loaded_model = model_from_json(loaded_model_json)\n",
        "# load weights into new model\n",
        "loaded_model.load_weights(\"saved_models/Emotion_Voice_Detection_Model.h5\")\n",
        "print(\"Loaded model from disk\")\n",
        " \n",
        "# evaluate loaded model on test data\n",
        "loaded_model.compile(loss='categorical_crossentropy', optimizer=opt, metrics=['accuracy'])\n",
        "score = loaded_model.evaluate(x_testcnn, y_test, verbose=0)\n",
        "print(\"%s: %.2f%%\" % (loaded_model.metrics_names[1], score[1]*100))"
      ],
      "execution_count": 100,
      "outputs": [
        {
          "output_type": "stream",
          "text": [
            "Loaded model from disk\n",
            "accuracy: 44.83%\n"
          ],
          "name": "stdout"
        }
      ]
    },
    {
      "cell_type": "code",
      "metadata": {
        "colab": {
          "base_uri": "https://localhost:8080/"
        },
        "id": "VPU_IIssOeZW",
        "outputId": "7c11feef-d9d5-41bc-e4da-bca1707aa2d5"
      },
      "source": [
        "preds = loaded_model.predict(x_testcnn, \n",
        "                         batch_size=32, \n",
        "                         verbose=1)"
      ],
      "execution_count": 65,
      "outputs": [
        {
          "output_type": "stream",
          "text": [
            "3/3 [==============================] - 1s 54ms/step\n"
          ],
          "name": "stdout"
        }
      ]
    },
    {
      "cell_type": "code",
      "metadata": {
        "id": "mW8LjGeHOg6x"
      },
      "source": [
        "preds1=preds.argmax(axis=1)"
      ],
      "execution_count": null,
      "outputs": []
    },
    {
      "cell_type": "code",
      "metadata": {
        "id": "6dSa_hYjOi6d"
      },
      "source": [
        "abc = preds1.astype(int).flatten()"
      ],
      "execution_count": null,
      "outputs": []
    },
    {
      "cell_type": "code",
      "metadata": {
        "id": "Lu4KqAZmOlp_"
      },
      "source": [
        "predictions = (lb.inverse_transform((abc)))"
      ],
      "execution_count": null,
      "outputs": []
    },
    {
      "cell_type": "code",
      "metadata": {
        "id": "fS654FdIOmmy"
      },
      "source": [
        "preddf = pd.DataFrame({'predictedvalues': predictions})"
      ],
      "execution_count": null,
      "outputs": []
    },
    {
      "cell_type": "code",
      "metadata": {
        "id": "7L7HyE8hOn5g"
      },
      "source": [
        "preddf"
      ],
      "execution_count": null,
      "outputs": []
    },
    {
      "cell_type": "code",
      "metadata": {
        "id": "B6LjySVVOow6"
      },
      "source": [
        "actual=y_test.argmax(axis=1)\n",
        "abc123 = actual.astype(int).flatten()\n",
        "actualvalues = (lb.inverse_transform((abc123)))"
      ],
      "execution_count": null,
      "outputs": []
    },
    {
      "cell_type": "code",
      "metadata": {
        "id": "q2zXPHZZOuV9"
      },
      "source": [
        "actualdf = pd.DataFrame({'actualvalues': actualvalues})\n",
        "actualdf[:10]"
      ],
      "execution_count": null,
      "outputs": []
    },
    {
      "cell_type": "code",
      "metadata": {
        "id": "m0NRY0U7OvYo"
      },
      "source": [
        "finaldf = actualdf.join(preddf)"
      ],
      "execution_count": null,
      "outputs": []
    },
    {
      "cell_type": "code",
      "metadata": {
        "id": "W7m_M3UNOwli"
      },
      "source": [
        "finaldf\n"
      ],
      "execution_count": null,
      "outputs": []
    },
    {
      "cell_type": "code",
      "metadata": {
        "id": "TZzWQBKgOxfI"
      },
      "source": [
        ""
      ],
      "execution_count": null,
      "outputs": []
    }
  ]
}